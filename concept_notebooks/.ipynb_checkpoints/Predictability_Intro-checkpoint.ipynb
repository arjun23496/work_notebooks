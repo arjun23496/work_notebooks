{
 "cells": [
  {
   "cell_type": "code",
   "execution_count": 39,
   "metadata": {},
   "outputs": [
    {
     "data": {
      "text/html": [
       "\n",
       "    <div class=\"bk-root\">\n",
       "        <a href=\"https://bokeh.org\" target=\"_blank\" class=\"bk-logo bk-logo-small bk-logo-notebook\"></a>\n",
       "        <span id=\"7189\">Loading BokehJS ...</span>\n",
       "    </div>"
      ]
     },
     "metadata": {},
     "output_type": "display_data"
    },
    {
     "data": {
      "application/javascript": [
       "\n",
       "(function(root) {\n",
       "  function now() {\n",
       "    return new Date();\n",
       "  }\n",
       "\n",
       "  var force = true;\n",
       "\n",
       "  if (typeof root._bokeh_onload_callbacks === \"undefined\" || force === true) {\n",
       "    root._bokeh_onload_callbacks = [];\n",
       "    root._bokeh_is_loading = undefined;\n",
       "  }\n",
       "\n",
       "  var JS_MIME_TYPE = 'application/javascript';\n",
       "  var HTML_MIME_TYPE = 'text/html';\n",
       "  var EXEC_MIME_TYPE = 'application/vnd.bokehjs_exec.v0+json';\n",
       "  var CLASS_NAME = 'output_bokeh rendered_html';\n",
       "\n",
       "  /**\n",
       "   * Render data to the DOM node\n",
       "   */\n",
       "  function render(props, node) {\n",
       "    var script = document.createElement(\"script\");\n",
       "    node.appendChild(script);\n",
       "  }\n",
       "\n",
       "  /**\n",
       "   * Handle when an output is cleared or removed\n",
       "   */\n",
       "  function handleClearOutput(event, handle) {\n",
       "    var cell = handle.cell;\n",
       "\n",
       "    var id = cell.output_area._bokeh_element_id;\n",
       "    var server_id = cell.output_area._bokeh_server_id;\n",
       "    // Clean up Bokeh references\n",
       "    if (id != null && id in Bokeh.index) {\n",
       "      Bokeh.index[id].model.document.clear();\n",
       "      delete Bokeh.index[id];\n",
       "    }\n",
       "\n",
       "    if (server_id !== undefined) {\n",
       "      // Clean up Bokeh references\n",
       "      var cmd = \"from bokeh.io.state import curstate; print(curstate().uuid_to_server['\" + server_id + \"'].get_sessions()[0].document.roots[0]._id)\";\n",
       "      cell.notebook.kernel.execute(cmd, {\n",
       "        iopub: {\n",
       "          output: function(msg) {\n",
       "            var id = msg.content.text.trim();\n",
       "            if (id in Bokeh.index) {\n",
       "              Bokeh.index[id].model.document.clear();\n",
       "              delete Bokeh.index[id];\n",
       "            }\n",
       "          }\n",
       "        }\n",
       "      });\n",
       "      // Destroy server and session\n",
       "      var cmd = \"import bokeh.io.notebook as ion; ion.destroy_server('\" + server_id + \"')\";\n",
       "      cell.notebook.kernel.execute(cmd);\n",
       "    }\n",
       "  }\n",
       "\n",
       "  /**\n",
       "   * Handle when a new output is added\n",
       "   */\n",
       "  function handleAddOutput(event, handle) {\n",
       "    var output_area = handle.output_area;\n",
       "    var output = handle.output;\n",
       "\n",
       "    // limit handleAddOutput to display_data with EXEC_MIME_TYPE content only\n",
       "    if ((output.output_type != \"display_data\") || (!output.data.hasOwnProperty(EXEC_MIME_TYPE))) {\n",
       "      return\n",
       "    }\n",
       "\n",
       "    var toinsert = output_area.element.find(\".\" + CLASS_NAME.split(' ')[0]);\n",
       "\n",
       "    if (output.metadata[EXEC_MIME_TYPE][\"id\"] !== undefined) {\n",
       "      toinsert[toinsert.length - 1].firstChild.textContent = output.data[JS_MIME_TYPE];\n",
       "      // store reference to embed id on output_area\n",
       "      output_area._bokeh_element_id = output.metadata[EXEC_MIME_TYPE][\"id\"];\n",
       "    }\n",
       "    if (output.metadata[EXEC_MIME_TYPE][\"server_id\"] !== undefined) {\n",
       "      var bk_div = document.createElement(\"div\");\n",
       "      bk_div.innerHTML = output.data[HTML_MIME_TYPE];\n",
       "      var script_attrs = bk_div.children[0].attributes;\n",
       "      for (var i = 0; i < script_attrs.length; i++) {\n",
       "        toinsert[toinsert.length - 1].firstChild.setAttribute(script_attrs[i].name, script_attrs[i].value);\n",
       "        toinsert[toinsert.length - 1].firstChild.textContent = bk_div.children[0].textContent\n",
       "      }\n",
       "      // store reference to server id on output_area\n",
       "      output_area._bokeh_server_id = output.metadata[EXEC_MIME_TYPE][\"server_id\"];\n",
       "    }\n",
       "  }\n",
       "\n",
       "  function register_renderer(events, OutputArea) {\n",
       "\n",
       "    function append_mime(data, metadata, element) {\n",
       "      // create a DOM node to render to\n",
       "      var toinsert = this.create_output_subarea(\n",
       "        metadata,\n",
       "        CLASS_NAME,\n",
       "        EXEC_MIME_TYPE\n",
       "      );\n",
       "      this.keyboard_manager.register_events(toinsert);\n",
       "      // Render to node\n",
       "      var props = {data: data, metadata: metadata[EXEC_MIME_TYPE]};\n",
       "      render(props, toinsert[toinsert.length - 1]);\n",
       "      element.append(toinsert);\n",
       "      return toinsert\n",
       "    }\n",
       "\n",
       "    /* Handle when an output is cleared or removed */\n",
       "    events.on('clear_output.CodeCell', handleClearOutput);\n",
       "    events.on('delete.Cell', handleClearOutput);\n",
       "\n",
       "    /* Handle when a new output is added */\n",
       "    events.on('output_added.OutputArea', handleAddOutput);\n",
       "\n",
       "    /**\n",
       "     * Register the mime type and append_mime function with output_area\n",
       "     */\n",
       "    OutputArea.prototype.register_mime_type(EXEC_MIME_TYPE, append_mime, {\n",
       "      /* Is output safe? */\n",
       "      safe: true,\n",
       "      /* Index of renderer in `output_area.display_order` */\n",
       "      index: 0\n",
       "    });\n",
       "  }\n",
       "\n",
       "  // register the mime type if in Jupyter Notebook environment and previously unregistered\n",
       "  if (root.Jupyter !== undefined) {\n",
       "    var events = require('base/js/events');\n",
       "    var OutputArea = require('notebook/js/outputarea').OutputArea;\n",
       "\n",
       "    if (OutputArea.prototype.mime_types().indexOf(EXEC_MIME_TYPE) == -1) {\n",
       "      register_renderer(events, OutputArea);\n",
       "    }\n",
       "  }\n",
       "\n",
       "  \n",
       "  if (typeof (root._bokeh_timeout) === \"undefined\" || force === true) {\n",
       "    root._bokeh_timeout = Date.now() + 5000;\n",
       "    root._bokeh_failed_load = false;\n",
       "  }\n",
       "\n",
       "  var NB_LOAD_WARNING = {'data': {'text/html':\n",
       "     \"<div style='background-color: #fdd'>\\n\"+\n",
       "     \"<p>\\n\"+\n",
       "     \"BokehJS does not appear to have successfully loaded. If loading BokehJS from CDN, this \\n\"+\n",
       "     \"may be due to a slow or bad network connection. Possible fixes:\\n\"+\n",
       "     \"</p>\\n\"+\n",
       "     \"<ul>\\n\"+\n",
       "     \"<li>re-rerun `output_notebook()` to attempt to load from CDN again, or</li>\\n\"+\n",
       "     \"<li>use INLINE resources instead, as so:</li>\\n\"+\n",
       "     \"</ul>\\n\"+\n",
       "     \"<code>\\n\"+\n",
       "     \"from bokeh.resources import INLINE\\n\"+\n",
       "     \"output_notebook(resources=INLINE)\\n\"+\n",
       "     \"</code>\\n\"+\n",
       "     \"</div>\"}};\n",
       "\n",
       "  function display_loaded() {\n",
       "    var el = document.getElementById(\"7189\");\n",
       "    if (el != null) {\n",
       "      el.textContent = \"BokehJS is loading...\";\n",
       "    }\n",
       "    if (root.Bokeh !== undefined) {\n",
       "      if (el != null) {\n",
       "        el.textContent = \"BokehJS \" + root.Bokeh.version + \" successfully loaded.\";\n",
       "      }\n",
       "    } else if (Date.now() < root._bokeh_timeout) {\n",
       "      setTimeout(display_loaded, 100)\n",
       "    }\n",
       "  }\n",
       "\n",
       "\n",
       "  function run_callbacks() {\n",
       "    try {\n",
       "      root._bokeh_onload_callbacks.forEach(function(callback) {\n",
       "        if (callback != null)\n",
       "          callback();\n",
       "      });\n",
       "    } finally {\n",
       "      delete root._bokeh_onload_callbacks\n",
       "    }\n",
       "    console.debug(\"Bokeh: all callbacks have finished\");\n",
       "  }\n",
       "\n",
       "  function load_libs(css_urls, js_urls, callback) {\n",
       "    if (css_urls == null) css_urls = [];\n",
       "    if (js_urls == null) js_urls = [];\n",
       "\n",
       "    root._bokeh_onload_callbacks.push(callback);\n",
       "    if (root._bokeh_is_loading > 0) {\n",
       "      console.debug(\"Bokeh: BokehJS is being loaded, scheduling callback at\", now());\n",
       "      return null;\n",
       "    }\n",
       "    if (js_urls == null || js_urls.length === 0) {\n",
       "      run_callbacks();\n",
       "      return null;\n",
       "    }\n",
       "    console.debug(\"Bokeh: BokehJS not loaded, scheduling load and callback at\", now());\n",
       "    root._bokeh_is_loading = css_urls.length + js_urls.length;\n",
       "\n",
       "    function on_load() {\n",
       "      root._bokeh_is_loading--;\n",
       "      if (root._bokeh_is_loading === 0) {\n",
       "        console.debug(\"Bokeh: all BokehJS libraries/stylesheets loaded\");\n",
       "        run_callbacks()\n",
       "      }\n",
       "    }\n",
       "\n",
       "    function on_error() {\n",
       "      console.error(\"failed to load \" + url);\n",
       "    }\n",
       "\n",
       "    for (var i = 0; i < css_urls.length; i++) {\n",
       "      var url = css_urls[i];\n",
       "      const element = document.createElement(\"link\");\n",
       "      element.onload = on_load;\n",
       "      element.onerror = on_error;\n",
       "      element.rel = \"stylesheet\";\n",
       "      element.type = \"text/css\";\n",
       "      element.href = url;\n",
       "      console.debug(\"Bokeh: injecting link tag for BokehJS stylesheet: \", url);\n",
       "      document.body.appendChild(element);\n",
       "    }\n",
       "\n",
       "    const hashes = {\"https://cdn.bokeh.org/bokeh/release/bokeh-2.2.3.min.js\": \"T2yuo9Oe71Cz/I4X9Ac5+gpEa5a8PpJCDlqKYO0CfAuEszu1JrXLl8YugMqYe3sM\", \"https://cdn.bokeh.org/bokeh/release/bokeh-widgets-2.2.3.min.js\": \"98GDGJ0kOMCUMUePhksaQ/GYgB3+NH9h996V88sh3aOiUNX3N+fLXAtry6xctSZ6\", \"https://cdn.bokeh.org/bokeh/release/bokeh-tables-2.2.3.min.js\": \"89bArO+nlbP3sgakeHjCo1JYxYR5wufVgA3IbUvDY+K7w4zyxJqssu7wVnfeKCq8\"};\n",
       "\n",
       "    for (var i = 0; i < js_urls.length; i++) {\n",
       "      var url = js_urls[i];\n",
       "      var element = document.createElement('script');\n",
       "      element.onload = on_load;\n",
       "      element.onerror = on_error;\n",
       "      element.async = false;\n",
       "      element.src = url;\n",
       "      if (url in hashes) {\n",
       "        element.crossOrigin = \"anonymous\";\n",
       "        element.integrity = \"sha384-\" + hashes[url];\n",
       "      }\n",
       "      console.debug(\"Bokeh: injecting script tag for BokehJS library: \", url);\n",
       "      document.head.appendChild(element);\n",
       "    }\n",
       "  };\n",
       "\n",
       "  function inject_raw_css(css) {\n",
       "    const element = document.createElement(\"style\");\n",
       "    element.appendChild(document.createTextNode(css));\n",
       "    document.body.appendChild(element);\n",
       "  }\n",
       "\n",
       "  \n",
       "  var js_urls = [\"https://cdn.bokeh.org/bokeh/release/bokeh-2.2.3.min.js\", \"https://cdn.bokeh.org/bokeh/release/bokeh-widgets-2.2.3.min.js\", \"https://cdn.bokeh.org/bokeh/release/bokeh-tables-2.2.3.min.js\"];\n",
       "  var css_urls = [];\n",
       "  \n",
       "\n",
       "  var inline_js = [\n",
       "    function(Bokeh) {\n",
       "      Bokeh.set_log_level(\"info\");\n",
       "    },\n",
       "    function(Bokeh) {\n",
       "    \n",
       "    \n",
       "    }\n",
       "  ];\n",
       "\n",
       "  function run_inline_js() {\n",
       "    \n",
       "    if (root.Bokeh !== undefined || force === true) {\n",
       "      \n",
       "    for (var i = 0; i < inline_js.length; i++) {\n",
       "      inline_js[i].call(root, root.Bokeh);\n",
       "    }\n",
       "    if (force === true) {\n",
       "        display_loaded();\n",
       "      }} else if (Date.now() < root._bokeh_timeout) {\n",
       "      setTimeout(run_inline_js, 100);\n",
       "    } else if (!root._bokeh_failed_load) {\n",
       "      console.log(\"Bokeh: BokehJS failed to load within specified timeout.\");\n",
       "      root._bokeh_failed_load = true;\n",
       "    } else if (force !== true) {\n",
       "      var cell = $(document.getElementById(\"7189\")).parents('.cell').data().cell;\n",
       "      cell.output_area.append_execute_result(NB_LOAD_WARNING)\n",
       "    }\n",
       "\n",
       "  }\n",
       "\n",
       "  if (root._bokeh_is_loading === 0) {\n",
       "    console.debug(\"Bokeh: BokehJS loaded, going straight to plotting\");\n",
       "    run_inline_js();\n",
       "  } else {\n",
       "    load_libs(css_urls, js_urls, function() {\n",
       "      console.debug(\"Bokeh: BokehJS plotting callback run at\", now());\n",
       "      run_inline_js();\n",
       "    });\n",
       "  }\n",
       "}(window));"
      ],
      "application/vnd.bokehjs_load.v0+json": "\n(function(root) {\n  function now() {\n    return new Date();\n  }\n\n  var force = true;\n\n  if (typeof root._bokeh_onload_callbacks === \"undefined\" || force === true) {\n    root._bokeh_onload_callbacks = [];\n    root._bokeh_is_loading = undefined;\n  }\n\n  \n\n  \n  if (typeof (root._bokeh_timeout) === \"undefined\" || force === true) {\n    root._bokeh_timeout = Date.now() + 5000;\n    root._bokeh_failed_load = false;\n  }\n\n  var NB_LOAD_WARNING = {'data': {'text/html':\n     \"<div style='background-color: #fdd'>\\n\"+\n     \"<p>\\n\"+\n     \"BokehJS does not appear to have successfully loaded. If loading BokehJS from CDN, this \\n\"+\n     \"may be due to a slow or bad network connection. Possible fixes:\\n\"+\n     \"</p>\\n\"+\n     \"<ul>\\n\"+\n     \"<li>re-rerun `output_notebook()` to attempt to load from CDN again, or</li>\\n\"+\n     \"<li>use INLINE resources instead, as so:</li>\\n\"+\n     \"</ul>\\n\"+\n     \"<code>\\n\"+\n     \"from bokeh.resources import INLINE\\n\"+\n     \"output_notebook(resources=INLINE)\\n\"+\n     \"</code>\\n\"+\n     \"</div>\"}};\n\n  function display_loaded() {\n    var el = document.getElementById(\"7189\");\n    if (el != null) {\n      el.textContent = \"BokehJS is loading...\";\n    }\n    if (root.Bokeh !== undefined) {\n      if (el != null) {\n        el.textContent = \"BokehJS \" + root.Bokeh.version + \" successfully loaded.\";\n      }\n    } else if (Date.now() < root._bokeh_timeout) {\n      setTimeout(display_loaded, 100)\n    }\n  }\n\n\n  function run_callbacks() {\n    try {\n      root._bokeh_onload_callbacks.forEach(function(callback) {\n        if (callback != null)\n          callback();\n      });\n    } finally {\n      delete root._bokeh_onload_callbacks\n    }\n    console.debug(\"Bokeh: all callbacks have finished\");\n  }\n\n  function load_libs(css_urls, js_urls, callback) {\n    if (css_urls == null) css_urls = [];\n    if (js_urls == null) js_urls = [];\n\n    root._bokeh_onload_callbacks.push(callback);\n    if (root._bokeh_is_loading > 0) {\n      console.debug(\"Bokeh: BokehJS is being loaded, scheduling callback at\", now());\n      return null;\n    }\n    if (js_urls == null || js_urls.length === 0) {\n      run_callbacks();\n      return null;\n    }\n    console.debug(\"Bokeh: BokehJS not loaded, scheduling load and callback at\", now());\n    root._bokeh_is_loading = css_urls.length + js_urls.length;\n\n    function on_load() {\n      root._bokeh_is_loading--;\n      if (root._bokeh_is_loading === 0) {\n        console.debug(\"Bokeh: all BokehJS libraries/stylesheets loaded\");\n        run_callbacks()\n      }\n    }\n\n    function on_error() {\n      console.error(\"failed to load \" + url);\n    }\n\n    for (var i = 0; i < css_urls.length; i++) {\n      var url = css_urls[i];\n      const element = document.createElement(\"link\");\n      element.onload = on_load;\n      element.onerror = on_error;\n      element.rel = \"stylesheet\";\n      element.type = \"text/css\";\n      element.href = url;\n      console.debug(\"Bokeh: injecting link tag for BokehJS stylesheet: \", url);\n      document.body.appendChild(element);\n    }\n\n    const hashes = {\"https://cdn.bokeh.org/bokeh/release/bokeh-2.2.3.min.js\": \"T2yuo9Oe71Cz/I4X9Ac5+gpEa5a8PpJCDlqKYO0CfAuEszu1JrXLl8YugMqYe3sM\", \"https://cdn.bokeh.org/bokeh/release/bokeh-widgets-2.2.3.min.js\": \"98GDGJ0kOMCUMUePhksaQ/GYgB3+NH9h996V88sh3aOiUNX3N+fLXAtry6xctSZ6\", \"https://cdn.bokeh.org/bokeh/release/bokeh-tables-2.2.3.min.js\": \"89bArO+nlbP3sgakeHjCo1JYxYR5wufVgA3IbUvDY+K7w4zyxJqssu7wVnfeKCq8\"};\n\n    for (var i = 0; i < js_urls.length; i++) {\n      var url = js_urls[i];\n      var element = document.createElement('script');\n      element.onload = on_load;\n      element.onerror = on_error;\n      element.async = false;\n      element.src = url;\n      if (url in hashes) {\n        element.crossOrigin = \"anonymous\";\n        element.integrity = \"sha384-\" + hashes[url];\n      }\n      console.debug(\"Bokeh: injecting script tag for BokehJS library: \", url);\n      document.head.appendChild(element);\n    }\n  };\n\n  function inject_raw_css(css) {\n    const element = document.createElement(\"style\");\n    element.appendChild(document.createTextNode(css));\n    document.body.appendChild(element);\n  }\n\n  \n  var js_urls = [\"https://cdn.bokeh.org/bokeh/release/bokeh-2.2.3.min.js\", \"https://cdn.bokeh.org/bokeh/release/bokeh-widgets-2.2.3.min.js\", \"https://cdn.bokeh.org/bokeh/release/bokeh-tables-2.2.3.min.js\"];\n  var css_urls = [];\n  \n\n  var inline_js = [\n    function(Bokeh) {\n      Bokeh.set_log_level(\"info\");\n    },\n    function(Bokeh) {\n    \n    \n    }\n  ];\n\n  function run_inline_js() {\n    \n    if (root.Bokeh !== undefined || force === true) {\n      \n    for (var i = 0; i < inline_js.length; i++) {\n      inline_js[i].call(root, root.Bokeh);\n    }\n    if (force === true) {\n        display_loaded();\n      }} else if (Date.now() < root._bokeh_timeout) {\n      setTimeout(run_inline_js, 100);\n    } else if (!root._bokeh_failed_load) {\n      console.log(\"Bokeh: BokehJS failed to load within specified timeout.\");\n      root._bokeh_failed_load = true;\n    } else if (force !== true) {\n      var cell = $(document.getElementById(\"7189\")).parents('.cell').data().cell;\n      cell.output_area.append_execute_result(NB_LOAD_WARNING)\n    }\n\n  }\n\n  if (root._bokeh_is_loading === 0) {\n    console.debug(\"Bokeh: BokehJS loaded, going straight to plotting\");\n    run_inline_js();\n  } else {\n    load_libs(css_urls, js_urls, function() {\n      console.debug(\"Bokeh: BokehJS plotting callback run at\", now());\n      run_inline_js();\n    });\n  }\n}(window));"
     },
     "metadata": {},
     "output_type": "display_data"
    }
   ],
   "source": [
    "import numpy as np\n",
    "import scipy as sp\n",
    "import pandas as pd\n",
    "\n",
    "from pybdm import BDM\n",
    "from pybdm import PartitionIgnore\n",
    "from pyinform.blockentropy import block_entropy\n",
    "from compress import Compressor\n",
    "\n",
    "from misc.database import Database\n",
    "\n",
    "# plotting tools\n",
    "from bokeh.io import output_notebook, show\n",
    "from bokeh.layouts import gridplot\n",
    "from bokeh.plotting import figure\n",
    "from bokeh.models import CustomJS, Slider, ColumnDataSource, Whisker, HoverTool\n",
    "\n",
    "output_notebook()"
   ]
  },
  {
   "cell_type": "code",
   "execution_count": 53,
   "metadata": {},
   "outputs": [],
   "source": [
    "class BokehHistogram():\n",
    "\n",
    "    def __init__(self, colors=[\"SteelBlue\", \"Tan\"], height=600, width=600):\n",
    "        self.colors = colors\n",
    "        self.height = height\n",
    "        self.width = width\n",
    "\n",
    "    def hist_hover(self, dataframe, column, bins=30, log_scale=False, show_plot=True):\n",
    "        hist, edges = np.histogram(dataframe[column].dropna(), bins = bins)\n",
    "        hist_df = pd.DataFrame({column: hist,\n",
    "                                 \"left\": edges[:-1],\n",
    "                                 \"right\": edges[1:]})\n",
    "        hist_df[\"interval\"] = [\"%d to %d\" % (left, right) for left, \n",
    "                               right in zip(hist_df[\"left\"], hist_df[\"right\"])]\n",
    "\n",
    "        if log_scale == True:\n",
    "            hist_df[\"log\"] = np.log(hist_df[column])\n",
    "            src = ColumnDataSource(hist_df)\n",
    "            plot = figure(plot_height = self.height, plot_width = self.width,\n",
    "                  title = \"Histogram of {}\".format(column.capitalize()),\n",
    "                  x_axis_label = column.capitalize(),\n",
    "                  y_axis_label = \"Log Count\")    \n",
    "            plot.quad(bottom = 0, top = \"log\",left = \"left\", \n",
    "                right = \"right\", source = src, fill_color = self.colors[0], \n",
    "                line_color = \"black\", fill_alpha = 0.7,\n",
    "                hover_fill_alpha = 1.0, hover_fill_color = self.colors[1])\n",
    "        else:\n",
    "            src = ColumnDataSource(hist_df)\n",
    "            plot = figure(plot_height = self.height, plot_width = self.width,\n",
    "                  title = \"Histogram of {}\".format(column.capitalize()),\n",
    "                  x_axis_label = column.capitalize(),\n",
    "                  y_axis_label = \"Count\")    \n",
    "            plot.quad(bottom = 0, top = column,left = \"left\", \n",
    "                right = \"right\", source = src, fill_color = self.colors[0], \n",
    "                line_color = \"black\", fill_alpha = 0.7,\n",
    "                hover_fill_alpha = 1.0, hover_fill_color = self.colors[1])\n",
    "\n",
    "        hover = HoverTool(tooltips = [('Interval', '@interval'),\n",
    "                                  ('Count', str(\"@\" + column))])\n",
    "        plot.add_tools(hover)\n",
    "\n",
    "        if show_plot == True:\n",
    "            show(plot)\n",
    "        else:\n",
    "            return plot\n",
    "\n",
    "    def histotabs(self, dataframe, features, log_scale=False, show_plot=False):\n",
    "        hists = []\n",
    "        for f in features:\n",
    "            h = self.hist_hover(dataframe, f, log_scale=log_scale, show_plot=show_plot)\n",
    "            p = Panel(child=h, title=f.capitalize())\n",
    "            hists.append(p)\n",
    "        t = Tabs(tabs=hists)\n",
    "        show(t)\n",
    "\n",
    "    def filtered_histotabs(self, dataframe, feature, filter_feature, log_scale=False, show_plot=False):\n",
    "        hists = []\n",
    "        for col in dataframe[filter_feature].unique():\n",
    "            sub_df = dataframe[dataframe[filter_feature] == col]\n",
    "            histo = self.hist_hover(sub_df, feature, log_scale=log_scale, show_plot=show_plot)\n",
    "            p = Panel(child = histo, title=col)\n",
    "            hists.append(p)\n",
    "        t = Tabs(tabs=hists)\n",
    "        show(t)"
   ]
  },
  {
   "cell_type": "markdown",
   "metadata": {},
   "source": [
    "In this notebook we will try to study the relative mathematical randomness in some strings and relate it to the actual number of parameters required for a machine learning model to produce that string in practice.\n",
    "\n",
    "Useful links:\n",
    "\n",
    "pybdm: [https://pybdm-docs.readthedocs.io/en/latest/index.html](https://pybdm-docs.readthedocs.io/en/latest/index.html)\n",
    "\n",
    "pyinform: [https://elife-asu.github.io/PyInform/index.html](https://elife-asu.github.io/PyInform/index.html)\n",
    "\n",
    "compress: [https://pypi.org/project/compress/](https://pypi.org/project/compress/)\n",
    "\n",
    "bokeh: [https://docs.bokeh.org/en/latest/index.html](https://docs.bokeh.org/en/latest/index.html)\n",
    "\n",
    "\n",
    "For plotting use the following code. Make sure to label all plots properly\n",
    "\n",
    "```\n",
    "plot_options = dict(width=450,\n",
    "                    plot_height=250,\n",
    "                    tools='pan,wheel_zoom,reset,save')\n",
    "\n",
    "bent_plot = figure(**plot_options)\n",
    "bent_plot.line(<x_data>,\n",
    "                <y_data>,\n",
    "                line_width=2)\n",
    "\n",
    "bent_plot.xaxis.axis_label = '<xlabel>'\n",
    "bent_plot.yaxis.axis_label = '<ylabel>'\n",
    "\n",
    "show(bent_plot)\n",
    "\n",
    "```"
   ]
  },
  {
   "cell_type": "code",
   "execution_count": 2,
   "metadata": {},
   "outputs": [],
   "source": [
    "## Set of strings\n",
    "strings = [\n",
    "    [ 1, 0, 1, 0, 1, 0, 1, 0, 1, 0, 1, 0 ], # String 1\n",
    "    [ 1, 0, 1, 0, 1, 0, 0, 1, 0, 1, 0, 1 ], # String 2\n",
    "    [ 0, 0, 0, 0, 0, 0, 1, 1, 1, 1, 1, 1 ], # String 3\n",
    "    [ 1, 1, 0, 1, 0, 0, 0, 1, 0, 0, 1, 1 ], # String 4\n",
    "    [ 1, 1, 0, 1, 0, 1, 0, 0, 0, 0, 1, 1 ], # String 5\n",
    "    [ 1, 1, 1, 0, 0, 0, 0, 0, 1, 0, 1, 1 ], # String 6\n",
    "    [ 1, 1, 1, 0, 1, 1, 0, 0, 1, 0, 0, 0 ], # String 7\n",
    "    [ 0, 0, 0, 1, 0, 0, 1, 1, 0, 1, 1, 1 ]  # String 8\n",
    "]"
   ]
  },
  {
   "cell_type": "code",
   "execution_count": 3,
   "metadata": {},
   "outputs": [],
   "source": [
    "## These are values taken from actual experiments \n",
    "## on the minimum number of parameters required to \n",
    "## obtain the corresponding string as output from a machine learning\n",
    "## model(a sequence generation LSTM)\n",
    "lstm_min_nparams = [ 185, 379, 460, 602, 632, 637, 581, 601 ]"
   ]
  },
  {
   "cell_type": "code",
   "execution_count": 4,
   "metadata": {},
   "outputs": [
    {
     "data": {
      "text/html": [
       "\n",
       "\n",
       "\n",
       "\n",
       "\n",
       "\n",
       "  <div class=\"bk-root\" id=\"980afc25-8e8a-42cf-95c6-e63057b0b642\" data-root-id=\"1002\"></div>\n"
      ]
     },
     "metadata": {},
     "output_type": "display_data"
    },
    {
     "data": {
      "application/javascript": [
       "(function(root) {\n",
       "  function embed_document(root) {\n",
       "    \n",
       "  var docs_json = {\"4906533a-d8ea-4f40-adc5-6f77de9cf7b0\":{\"roots\":{\"references\":[{\"attributes\":{\"below\":[{\"id\":\"1011\"}],\"center\":[{\"id\":\"1014\"},{\"id\":\"1018\"}],\"left\":[{\"id\":\"1015\"}],\"plot_height\":250,\"plot_width\":450,\"renderers\":[{\"id\":\"1031\"}],\"title\":{\"id\":\"1033\"},\"toolbar\":{\"id\":\"1023\"},\"x_range\":{\"id\":\"1003\"},\"x_scale\":{\"id\":\"1007\"},\"y_range\":{\"id\":\"1005\"},\"y_scale\":{\"id\":\"1009\"}},\"id\":\"1002\",\"subtype\":\"Figure\",\"type\":\"Plot\"},{\"attributes\":{},\"id\":\"1040\",\"type\":\"Selection\"},{\"attributes\":{},\"id\":\"1019\",\"type\":\"PanTool\"},{\"attributes\":{},\"id\":\"1038\",\"type\":\"BasicTickFormatter\"},{\"attributes\":{},\"id\":\"1020\",\"type\":\"WheelZoomTool\"},{\"attributes\":{},\"id\":\"1021\",\"type\":\"ResetTool\"},{\"attributes\":{\"source\":{\"id\":\"1028\"}},\"id\":\"1032\",\"type\":\"CDSView\"},{\"attributes\":{},\"id\":\"1022\",\"type\":\"SaveTool\"},{\"attributes\":{\"line_color\":\"#1f77b4\",\"line_width\":2,\"x\":{\"field\":\"x\"},\"y\":{\"field\":\"y\"}},\"id\":\"1029\",\"type\":\"Line\"},{\"attributes\":{},\"id\":\"1007\",\"type\":\"LinearScale\"},{\"attributes\":{},\"id\":\"1041\",\"type\":\"UnionRenderers\"},{\"attributes\":{},\"id\":\"1036\",\"type\":\"BasicTickFormatter\"},{\"attributes\":{},\"id\":\"1009\",\"type\":\"LinearScale\"},{\"attributes\":{\"data_source\":{\"id\":\"1028\"},\"glyph\":{\"id\":\"1029\"},\"hover_glyph\":null,\"muted_glyph\":null,\"nonselection_glyph\":{\"id\":\"1030\"},\"selection_glyph\":null,\"view\":{\"id\":\"1032\"}},\"id\":\"1031\",\"type\":\"GlyphRenderer\"},{\"attributes\":{\"line_alpha\":0.1,\"line_color\":\"#1f77b4\",\"line_width\":2,\"x\":{\"field\":\"x\"},\"y\":{\"field\":\"y\"}},\"id\":\"1030\",\"type\":\"Line\"},{\"attributes\":{\"axis_label\":\"string index\",\"formatter\":{\"id\":\"1038\"},\"ticker\":{\"id\":\"1012\"}},\"id\":\"1011\",\"type\":\"LinearAxis\"},{\"attributes\":{},\"id\":\"1016\",\"type\":\"BasicTicker\"},{\"attributes\":{},\"id\":\"1012\",\"type\":\"BasicTicker\"},{\"attributes\":{\"axis\":{\"id\":\"1011\"},\"ticker\":null},\"id\":\"1014\",\"type\":\"Grid\"},{\"attributes\":{\"axis\":{\"id\":\"1015\"},\"dimension\":1,\"ticker\":null},\"id\":\"1018\",\"type\":\"Grid\"},{\"attributes\":{\"axis_label\":\"lstm minimum number of parameters\",\"formatter\":{\"id\":\"1036\"},\"ticker\":{\"id\":\"1016\"}},\"id\":\"1015\",\"type\":\"LinearAxis\"},{\"attributes\":{},\"id\":\"1003\",\"type\":\"DataRange1d\"},{\"attributes\":{\"active_drag\":\"auto\",\"active_inspect\":\"auto\",\"active_multi\":null,\"active_scroll\":\"auto\",\"active_tap\":\"auto\",\"tools\":[{\"id\":\"1019\"},{\"id\":\"1020\"},{\"id\":\"1021\"},{\"id\":\"1022\"}]},\"id\":\"1023\",\"type\":\"Toolbar\"},{\"attributes\":{},\"id\":\"1005\",\"type\":\"DataRange1d\"},{\"attributes\":{\"text\":\"LSTM Parameter Trend\"},\"id\":\"1033\",\"type\":\"Title\"},{\"attributes\":{\"data\":{\"x\":[0,1,2,3,4,5,6,7],\"y\":[185,379,460,602,632,637,581,601]},\"selected\":{\"id\":\"1040\"},\"selection_policy\":{\"id\":\"1041\"}},\"id\":\"1028\",\"type\":\"ColumnDataSource\"}],\"root_ids\":[\"1002\"]},\"title\":\"Bokeh Application\",\"version\":\"2.2.3\"}};\n",
       "  var render_items = [{\"docid\":\"4906533a-d8ea-4f40-adc5-6f77de9cf7b0\",\"root_ids\":[\"1002\"],\"roots\":{\"1002\":\"980afc25-8e8a-42cf-95c6-e63057b0b642\"}}];\n",
       "  root.Bokeh.embed.embed_items_notebook(docs_json, render_items);\n",
       "\n",
       "  }\n",
       "  if (root.Bokeh !== undefined) {\n",
       "    embed_document(root);\n",
       "  } else {\n",
       "    var attempts = 0;\n",
       "    var timer = setInterval(function(root) {\n",
       "      if (root.Bokeh !== undefined) {\n",
       "        clearInterval(timer);\n",
       "        embed_document(root);\n",
       "      } else {\n",
       "        attempts++;\n",
       "        if (attempts > 100) {\n",
       "          clearInterval(timer);\n",
       "          console.log(\"Bokeh: ERROR: Unable to run BokehJS code because BokehJS library is missing\");\n",
       "        }\n",
       "      }\n",
       "    }, 10, root)\n",
       "  }\n",
       "})(window);"
      ],
      "application/vnd.bokehjs_exec.v0+json": ""
     },
     "metadata": {
      "application/vnd.bokehjs_exec.v0+json": {
       "id": "1002"
      }
     },
     "output_type": "display_data"
    }
   ],
   "source": [
    "plot_options = dict(width=450,\n",
    "                    plot_height=250,\n",
    "                    tools='pan,wheel_zoom,reset,save')\n",
    "\n",
    "lstm_plot = figure(**plot_options)\n",
    "lstm_plot.line(range(len(strings)),\n",
    "                lstm_min_nparams,\n",
    "                line_width=2)\n",
    "lstm_plot.title.text = \"LSTM Parameter Trend\"\n",
    "lstm_plot.xaxis.axis_label = 'string index'\n",
    "lstm_plot.yaxis.axis_label = 'lstm minimum number of parameters'\n",
    "show(lstm_plot)"
   ]
  },
  {
   "cell_type": "markdown",
   "metadata": {},
   "source": [
    "## Shannon Principles\n",
    "\n",
    "First we will check what shannon principles of entropy say about the strings. \n",
    "\n",
    "The question will be how well this corresponds to a source that is generating the strings?\n",
    "\n",
    "- **TASK**: compute and plot `block_entropy`(as a function of block_size) for each of the strings "
   ]
  },
  {
   "cell_type": "code",
   "execution_count": 5,
   "metadata": {
    "scrolled": true
   },
   "outputs": [
    {
     "data": {
      "text/html": [
       "\n",
       "\n",
       "\n",
       "\n",
       "\n",
       "\n",
       "  <div class=\"bk-root\" id=\"c03ca66e-1cd2-4963-98c7-11dbc9964afb\" data-root-id=\"1082\"></div>\n"
      ]
     },
     "metadata": {},
     "output_type": "display_data"
    },
    {
     "data": {
      "application/javascript": [
       "(function(root) {\n",
       "  function embed_document(root) {\n",
       "    \n",
       "  var docs_json = {\"b63db796-0ea5-45f5-a26d-6a1a87e9e1da\":{\"roots\":{\"references\":[{\"attributes\":{\"below\":[{\"id\":\"1091\"}],\"center\":[{\"id\":\"1094\"},{\"id\":\"1098\"}],\"left\":[{\"id\":\"1095\"}],\"plot_height\":250,\"plot_width\":450,\"renderers\":[{\"id\":\"1111\"}],\"title\":{\"id\":\"1122\"},\"toolbar\":{\"id\":\"1103\"},\"x_range\":{\"id\":\"1083\"},\"x_scale\":{\"id\":\"1087\"},\"y_range\":{\"id\":\"1085\"},\"y_scale\":{\"id\":\"1089\"}},\"id\":\"1082\",\"subtype\":\"Figure\",\"type\":\"Plot\"},{\"attributes\":{},\"id\":\"1085\",\"type\":\"DataRange1d\"},{\"attributes\":{\"text\":\"\"},\"id\":\"1122\",\"type\":\"Title\"},{\"attributes\":{},\"id\":\"1099\",\"type\":\"PanTool\"},{\"attributes\":{},\"id\":\"1089\",\"type\":\"LinearScale\"},{\"attributes\":{},\"id\":\"1123\",\"type\":\"BasicTickFormatter\"},{\"attributes\":{},\"id\":\"1125\",\"type\":\"BasicTickFormatter\"},{\"attributes\":{\"data_source\":{\"id\":\"1108\"},\"glyph\":{\"id\":\"1109\"},\"hover_glyph\":null,\"muted_glyph\":null,\"nonselection_glyph\":{\"id\":\"1110\"},\"selection_glyph\":null,\"view\":{\"id\":\"1112\"}},\"id\":\"1111\",\"type\":\"GlyphRenderer\"},{\"attributes\":{},\"id\":\"1092\",\"type\":\"BasicTicker\"},{\"attributes\":{\"line_color\":\"#1f77b4\",\"line_width\":2,\"x\":{\"field\":\"x\"},\"y\":{\"field\":\"y\"}},\"id\":\"1109\",\"type\":\"Line\"},{\"attributes\":{},\"id\":\"1127\",\"type\":\"Selection\"},{\"attributes\":{},\"id\":\"1096\",\"type\":\"BasicTicker\"},{\"attributes\":{\"axis\":{\"id\":\"1095\"},\"dimension\":1,\"ticker\":null},\"id\":\"1098\",\"type\":\"Grid\"},{\"attributes\":{\"axis\":{\"id\":\"1091\"},\"ticker\":null},\"id\":\"1094\",\"type\":\"Grid\"},{\"attributes\":{},\"id\":\"1128\",\"type\":\"UnionRenderers\"},{\"attributes\":{},\"id\":\"1083\",\"type\":\"DataRange1d\"},{\"attributes\":{\"axis_label\":\"block entropy\",\"formatter\":{\"id\":\"1123\"},\"ticker\":{\"id\":\"1096\"}},\"id\":\"1095\",\"type\":\"LinearAxis\"},{\"attributes\":{},\"id\":\"1087\",\"type\":\"LinearScale\"},{\"attributes\":{\"line_alpha\":0.1,\"line_color\":\"#1f77b4\",\"line_width\":2,\"x\":{\"field\":\"x\"},\"y\":{\"field\":\"y\"}},\"id\":\"1110\",\"type\":\"Line\"},{\"attributes\":{},\"id\":\"1101\",\"type\":\"ResetTool\"},{\"attributes\":{},\"id\":\"1102\",\"type\":\"SaveTool\"},{\"attributes\":{\"source\":{\"id\":\"1108\"}},\"id\":\"1112\",\"type\":\"CDSView\"},{\"attributes\":{\"active_drag\":\"auto\",\"active_inspect\":\"auto\",\"active_multi\":null,\"active_scroll\":\"auto\",\"active_tap\":\"auto\",\"tools\":[{\"id\":\"1099\"},{\"id\":\"1100\"},{\"id\":\"1101\"},{\"id\":\"1102\"}]},\"id\":\"1103\",\"type\":\"Toolbar\"},{\"attributes\":{\"axis_label\":\"block size\",\"formatter\":{\"id\":\"1125\"},\"ticker\":{\"id\":\"1092\"}},\"id\":\"1091\",\"type\":\"LinearAxis\"},{\"attributes\":{},\"id\":\"1100\",\"type\":\"WheelZoomTool\"},{\"attributes\":{\"data\":{\"x\":[0,1,2,3,4,5,6,7,8,9,10],\"y\":[1.0,0.9940302114769565,1.0,0.9910760598382222,1.0,0.9852281360342515,1.0,0.9709505944546686,1.0,0.9182958340544896,1.0]},\"selected\":{\"id\":\"1127\"},\"selection_policy\":{\"id\":\"1128\"}},\"id\":\"1108\",\"type\":\"ColumnDataSource\"}],\"root_ids\":[\"1082\"]},\"title\":\"Bokeh Application\",\"version\":\"2.2.3\"}};\n",
       "  var render_items = [{\"docid\":\"b63db796-0ea5-45f5-a26d-6a1a87e9e1da\",\"root_ids\":[\"1082\"],\"roots\":{\"1082\":\"c03ca66e-1cd2-4963-98c7-11dbc9964afb\"}}];\n",
       "  root.Bokeh.embed.embed_items_notebook(docs_json, render_items);\n",
       "\n",
       "  }\n",
       "  if (root.Bokeh !== undefined) {\n",
       "    embed_document(root);\n",
       "  } else {\n",
       "    var attempts = 0;\n",
       "    var timer = setInterval(function(root) {\n",
       "      if (root.Bokeh !== undefined) {\n",
       "        clearInterval(timer);\n",
       "        embed_document(root);\n",
       "      } else {\n",
       "        attempts++;\n",
       "        if (attempts > 100) {\n",
       "          clearInterval(timer);\n",
       "          console.log(\"Bokeh: ERROR: Unable to run BokehJS code because BokehJS library is missing\");\n",
       "        }\n",
       "      }\n",
       "    }, 10, root)\n",
       "  }\n",
       "})(window);"
      ],
      "application/vnd.bokehjs_exec.v0+json": ""
     },
     "metadata": {
      "application/vnd.bokehjs_exec.v0+json": {
       "id": "1082"
      }
     },
     "output_type": "display_data"
    },
    {
     "data": {
      "text/html": [
       "\n",
       "\n",
       "\n",
       "\n",
       "\n",
       "\n",
       "  <div class=\"bk-root\" id=\"5a134cff-a2a2-4be7-baf4-7bd014210356\" data-root-id=\"1169\"></div>\n"
      ]
     },
     "metadata": {},
     "output_type": "display_data"
    },
    {
     "data": {
      "application/javascript": [
       "(function(root) {\n",
       "  function embed_document(root) {\n",
       "    \n",
       "  var docs_json = {\"a14e07cf-85e7-44b9-82fa-50c712ebdfc3\":{\"roots\":{\"references\":[{\"attributes\":{\"below\":[{\"id\":\"1178\"}],\"center\":[{\"id\":\"1181\"},{\"id\":\"1185\"}],\"left\":[{\"id\":\"1182\"}],\"plot_height\":250,\"plot_width\":450,\"renderers\":[{\"id\":\"1198\"}],\"title\":{\"id\":\"1217\"},\"toolbar\":{\"id\":\"1190\"},\"x_range\":{\"id\":\"1170\"},\"x_scale\":{\"id\":\"1174\"},\"y_range\":{\"id\":\"1172\"},\"y_scale\":{\"id\":\"1176\"}},\"id\":\"1169\",\"subtype\":\"Figure\",\"type\":\"Plot\"},{\"attributes\":{\"data\":{\"x\":[0,1,2,3,4,5,6,7,8,9,10],\"y\":[1.0,1.3485878960124222,1.721928094887362,2.113283334294875,2.5,2.807354922057604,2.584962500721156,2.321928094887362,2.0,1.584962500721156,1.0]},\"selected\":{\"id\":\"1222\"},\"selection_policy\":{\"id\":\"1223\"}},\"id\":\"1195\",\"type\":\"ColumnDataSource\"},{\"attributes\":{\"axis\":{\"id\":\"1182\"},\"dimension\":1,\"ticker\":null},\"id\":\"1185\",\"type\":\"Grid\"},{\"attributes\":{\"axis\":{\"id\":\"1178\"},\"ticker\":null},\"id\":\"1181\",\"type\":\"Grid\"},{\"attributes\":{},\"id\":\"1222\",\"type\":\"Selection\"},{\"attributes\":{},\"id\":\"1179\",\"type\":\"BasicTicker\"},{\"attributes\":{},\"id\":\"1183\",\"type\":\"BasicTicker\"},{\"attributes\":{},\"id\":\"1176\",\"type\":\"LinearScale\"},{\"attributes\":{\"axis_label\":\"block size\",\"formatter\":{\"id\":\"1220\"},\"ticker\":{\"id\":\"1179\"}},\"id\":\"1178\",\"type\":\"LinearAxis\"},{\"attributes\":{\"source\":{\"id\":\"1195\"}},\"id\":\"1199\",\"type\":\"CDSView\"},{\"attributes\":{\"text\":\"\"},\"id\":\"1217\",\"type\":\"Title\"},{\"attributes\":{},\"id\":\"1218\",\"type\":\"BasicTickFormatter\"},{\"attributes\":{},\"id\":\"1174\",\"type\":\"LinearScale\"},{\"attributes\":{},\"id\":\"1220\",\"type\":\"BasicTickFormatter\"},{\"attributes\":{\"line_alpha\":0.1,\"line_color\":\"#1f77b4\",\"line_width\":2,\"x\":{\"field\":\"x\"},\"y\":{\"field\":\"y\"}},\"id\":\"1197\",\"type\":\"Line\"},{\"attributes\":{},\"id\":\"1172\",\"type\":\"DataRange1d\"},{\"attributes\":{},\"id\":\"1187\",\"type\":\"WheelZoomTool\"},{\"attributes\":{},\"id\":\"1188\",\"type\":\"ResetTool\"},{\"attributes\":{},\"id\":\"1223\",\"type\":\"UnionRenderers\"},{\"attributes\":{},\"id\":\"1170\",\"type\":\"DataRange1d\"},{\"attributes\":{\"active_drag\":\"auto\",\"active_inspect\":\"auto\",\"active_multi\":null,\"active_scroll\":\"auto\",\"active_tap\":\"auto\",\"tools\":[{\"id\":\"1186\"},{\"id\":\"1187\"},{\"id\":\"1188\"},{\"id\":\"1189\"}]},\"id\":\"1190\",\"type\":\"Toolbar\"},{\"attributes\":{},\"id\":\"1189\",\"type\":\"SaveTool\"},{\"attributes\":{},\"id\":\"1186\",\"type\":\"PanTool\"},{\"attributes\":{\"line_color\":\"#1f77b4\",\"line_width\":2,\"x\":{\"field\":\"x\"},\"y\":{\"field\":\"y\"}},\"id\":\"1196\",\"type\":\"Line\"},{\"attributes\":{\"axis_label\":\"block entropy\",\"formatter\":{\"id\":\"1218\"},\"ticker\":{\"id\":\"1183\"}},\"id\":\"1182\",\"type\":\"LinearAxis\"},{\"attributes\":{\"data_source\":{\"id\":\"1195\"},\"glyph\":{\"id\":\"1196\"},\"hover_glyph\":null,\"muted_glyph\":null,\"nonselection_glyph\":{\"id\":\"1197\"},\"selection_glyph\":null,\"view\":{\"id\":\"1199\"}},\"id\":\"1198\",\"type\":\"GlyphRenderer\"}],\"root_ids\":[\"1169\"]},\"title\":\"Bokeh Application\",\"version\":\"2.2.3\"}};\n",
       "  var render_items = [{\"docid\":\"a14e07cf-85e7-44b9-82fa-50c712ebdfc3\",\"root_ids\":[\"1169\"],\"roots\":{\"1169\":\"5a134cff-a2a2-4be7-baf4-7bd014210356\"}}];\n",
       "  root.Bokeh.embed.embed_items_notebook(docs_json, render_items);\n",
       "\n",
       "  }\n",
       "  if (root.Bokeh !== undefined) {\n",
       "    embed_document(root);\n",
       "  } else {\n",
       "    var attempts = 0;\n",
       "    var timer = setInterval(function(root) {\n",
       "      if (root.Bokeh !== undefined) {\n",
       "        clearInterval(timer);\n",
       "        embed_document(root);\n",
       "      } else {\n",
       "        attempts++;\n",
       "        if (attempts > 100) {\n",
       "          clearInterval(timer);\n",
       "          console.log(\"Bokeh: ERROR: Unable to run BokehJS code because BokehJS library is missing\");\n",
       "        }\n",
       "      }\n",
       "    }, 10, root)\n",
       "  }\n",
       "})(window);"
      ],
      "application/vnd.bokehjs_exec.v0+json": ""
     },
     "metadata": {
      "application/vnd.bokehjs_exec.v0+json": {
       "id": "1169"
      }
     },
     "output_type": "display_data"
    },
    {
     "data": {
      "text/html": [
       "\n",
       "\n",
       "\n",
       "\n",
       "\n",
       "\n",
       "  <div class=\"bk-root\" id=\"8674f936-6b37-410a-9e16-a0e652bd6d7e\" data-root-id=\"1264\"></div>\n"
      ]
     },
     "metadata": {},
     "output_type": "display_data"
    },
    {
     "data": {
      "application/javascript": [
       "(function(root) {\n",
       "  function embed_document(root) {\n",
       "    \n",
       "  var docs_json = {\"390217bf-9ac3-4cc9-b9c8-38fb0d9d3e8c\":{\"roots\":{\"references\":[{\"attributes\":{\"below\":[{\"id\":\"1273\"}],\"center\":[{\"id\":\"1276\"},{\"id\":\"1280\"}],\"left\":[{\"id\":\"1277\"}],\"plot_height\":250,\"plot_width\":450,\"renderers\":[{\"id\":\"1293\"}],\"title\":{\"id\":\"1320\"},\"toolbar\":{\"id\":\"1285\"},\"x_range\":{\"id\":\"1265\"},\"x_scale\":{\"id\":\"1269\"},\"y_range\":{\"id\":\"1267\"},\"y_scale\":{\"id\":\"1271\"}},\"id\":\"1264\",\"subtype\":\"Figure\",\"type\":\"Plot\"},{\"attributes\":{\"axis\":{\"id\":\"1273\"},\"ticker\":null},\"id\":\"1276\",\"type\":\"Grid\"},{\"attributes\":{\"line_alpha\":0.1,\"line_color\":\"#1f77b4\",\"line_width\":2,\"x\":{\"field\":\"x\"},\"y\":{\"field\":\"y\"}},\"id\":\"1292\",\"type\":\"Line\"},{\"attributes\":{},\"id\":\"1265\",\"type\":\"DataRange1d\"},{\"attributes\":{},\"id\":\"1325\",\"type\":\"Selection\"},{\"attributes\":{},\"id\":\"1267\",\"type\":\"DataRange1d\"},{\"attributes\":{},\"id\":\"1282\",\"type\":\"WheelZoomTool\"},{\"attributes\":{\"data\":{\"x\":[0,1,2,3,4,5,6,7,8,9,10],\"y\":[1.0,1.3485878960124222,1.721928094887362,2.113283334294875,2.5,2.807354922057604,2.584962500721156,2.321928094887362,2.0,1.584962500721156,1.0]},\"selected\":{\"id\":\"1325\"},\"selection_policy\":{\"id\":\"1326\"}},\"id\":\"1290\",\"type\":\"ColumnDataSource\"},{\"attributes\":{},\"id\":\"1281\",\"type\":\"PanTool\"},{\"attributes\":{\"data_source\":{\"id\":\"1290\"},\"glyph\":{\"id\":\"1291\"},\"hover_glyph\":null,\"muted_glyph\":null,\"nonselection_glyph\":{\"id\":\"1292\"},\"selection_glyph\":null,\"view\":{\"id\":\"1294\"}},\"id\":\"1293\",\"type\":\"GlyphRenderer\"},{\"attributes\":{\"source\":{\"id\":\"1290\"}},\"id\":\"1294\",\"type\":\"CDSView\"},{\"attributes\":{},\"id\":\"1323\",\"type\":\"BasicTickFormatter\"},{\"attributes\":{\"text\":\"\"},\"id\":\"1320\",\"type\":\"Title\"},{\"attributes\":{},\"id\":\"1284\",\"type\":\"SaveTool\"},{\"attributes\":{},\"id\":\"1321\",\"type\":\"BasicTickFormatter\"},{\"attributes\":{},\"id\":\"1278\",\"type\":\"BasicTicker\"},{\"attributes\":{},\"id\":\"1283\",\"type\":\"ResetTool\"},{\"attributes\":{\"axis\":{\"id\":\"1277\"},\"dimension\":1,\"ticker\":null},\"id\":\"1280\",\"type\":\"Grid\"},{\"attributes\":{\"axis_label\":\"block entropy\",\"formatter\":{\"id\":\"1321\"},\"ticker\":{\"id\":\"1278\"}},\"id\":\"1277\",\"type\":\"LinearAxis\"},{\"attributes\":{\"active_drag\":\"auto\",\"active_inspect\":\"auto\",\"active_multi\":null,\"active_scroll\":\"auto\",\"active_tap\":\"auto\",\"tools\":[{\"id\":\"1281\"},{\"id\":\"1282\"},{\"id\":\"1283\"},{\"id\":\"1284\"}]},\"id\":\"1285\",\"type\":\"Toolbar\"},{\"attributes\":{},\"id\":\"1274\",\"type\":\"BasicTicker\"},{\"attributes\":{},\"id\":\"1271\",\"type\":\"LinearScale\"},{\"attributes\":{\"line_color\":\"#1f77b4\",\"line_width\":2,\"x\":{\"field\":\"x\"},\"y\":{\"field\":\"y\"}},\"id\":\"1291\",\"type\":\"Line\"},{\"attributes\":{\"axis_label\":\"block size\",\"formatter\":{\"id\":\"1323\"},\"ticker\":{\"id\":\"1274\"}},\"id\":\"1273\",\"type\":\"LinearAxis\"},{\"attributes\":{},\"id\":\"1269\",\"type\":\"LinearScale\"},{\"attributes\":{},\"id\":\"1326\",\"type\":\"UnionRenderers\"}],\"root_ids\":[\"1264\"]},\"title\":\"Bokeh Application\",\"version\":\"2.2.3\"}};\n",
       "  var render_items = [{\"docid\":\"390217bf-9ac3-4cc9-b9c8-38fb0d9d3e8c\",\"root_ids\":[\"1264\"],\"roots\":{\"1264\":\"8674f936-6b37-410a-9e16-a0e652bd6d7e\"}}];\n",
       "  root.Bokeh.embed.embed_items_notebook(docs_json, render_items);\n",
       "\n",
       "  }\n",
       "  if (root.Bokeh !== undefined) {\n",
       "    embed_document(root);\n",
       "  } else {\n",
       "    var attempts = 0;\n",
       "    var timer = setInterval(function(root) {\n",
       "      if (root.Bokeh !== undefined) {\n",
       "        clearInterval(timer);\n",
       "        embed_document(root);\n",
       "      } else {\n",
       "        attempts++;\n",
       "        if (attempts > 100) {\n",
       "          clearInterval(timer);\n",
       "          console.log(\"Bokeh: ERROR: Unable to run BokehJS code because BokehJS library is missing\");\n",
       "        }\n",
       "      }\n",
       "    }, 10, root)\n",
       "  }\n",
       "})(window);"
      ],
      "application/vnd.bokehjs_exec.v0+json": ""
     },
     "metadata": {
      "application/vnd.bokehjs_exec.v0+json": {
       "id": "1264"
      }
     },
     "output_type": "display_data"
    },
    {
     "data": {
      "text/html": [
       "\n",
       "\n",
       "\n",
       "\n",
       "\n",
       "\n",
       "  <div class=\"bk-root\" id=\"5d2f8714-de88-42ea-bf3a-a8e15912fede\" data-root-id=\"1367\"></div>\n"
      ]
     },
     "metadata": {},
     "output_type": "display_data"
    },
    {
     "data": {
      "application/javascript": [
       "(function(root) {\n",
       "  function embed_document(root) {\n",
       "    \n",
       "  var docs_json = {\"91cd5e59-2628-48f3-bbc3-1b1216a8039b\":{\"roots\":{\"references\":[{\"attributes\":{\"below\":[{\"id\":\"1376\"}],\"center\":[{\"id\":\"1379\"},{\"id\":\"1383\"}],\"left\":[{\"id\":\"1380\"}],\"plot_height\":250,\"plot_width\":450,\"renderers\":[{\"id\":\"1396\"}],\"title\":{\"id\":\"1431\"},\"toolbar\":{\"id\":\"1388\"},\"x_range\":{\"id\":\"1368\"},\"x_scale\":{\"id\":\"1372\"},\"y_range\":{\"id\":\"1370\"},\"y_scale\":{\"id\":\"1374\"}},\"id\":\"1367\",\"subtype\":\"Figure\",\"type\":\"Plot\"},{\"attributes\":{\"source\":{\"id\":\"1393\"}},\"id\":\"1397\",\"type\":\"CDSView\"},{\"attributes\":{},\"id\":\"1384\",\"type\":\"PanTool\"},{\"attributes\":{},\"id\":\"1377\",\"type\":\"BasicTicker\"},{\"attributes\":{},\"id\":\"1386\",\"type\":\"ResetTool\"},{\"attributes\":{\"text\":\"\"},\"id\":\"1431\",\"type\":\"Title\"},{\"attributes\":{},\"id\":\"1385\",\"type\":\"WheelZoomTool\"},{\"attributes\":{},\"id\":\"1434\",\"type\":\"BasicTickFormatter\"},{\"attributes\":{},\"id\":\"1432\",\"type\":\"BasicTickFormatter\"},{\"attributes\":{},\"id\":\"1437\",\"type\":\"UnionRenderers\"},{\"attributes\":{},\"id\":\"1436\",\"type\":\"Selection\"},{\"attributes\":{},\"id\":\"1374\",\"type\":\"LinearScale\"},{\"attributes\":{},\"id\":\"1387\",\"type\":\"SaveTool\"},{\"attributes\":{\"axis\":{\"id\":\"1376\"},\"ticker\":null},\"id\":\"1379\",\"type\":\"Grid\"},{\"attributes\":{\"line_alpha\":0.1,\"line_color\":\"#1f77b4\",\"line_width\":2,\"x\":{\"field\":\"x\"},\"y\":{\"field\":\"y\"}},\"id\":\"1395\",\"type\":\"Line\"},{\"attributes\":{\"active_drag\":\"auto\",\"active_inspect\":\"auto\",\"active_multi\":null,\"active_scroll\":\"auto\",\"active_tap\":\"auto\",\"tools\":[{\"id\":\"1384\"},{\"id\":\"1385\"},{\"id\":\"1386\"},{\"id\":\"1387\"}]},\"id\":\"1388\",\"type\":\"Toolbar\"},{\"attributes\":{\"data\":{\"x\":[0,1,2,3,4,5,6,7,8,9,10],\"y\":[1.0,1.9808259362290785,2.721928094887362,2.94770277922009,3.0,2.807354922057604,2.584962500721156,2.321928094887362,2.0,1.584962500721156,1.0]},\"selected\":{\"id\":\"1436\"},\"selection_policy\":{\"id\":\"1437\"}},\"id\":\"1393\",\"type\":\"ColumnDataSource\"},{\"attributes\":{},\"id\":\"1372\",\"type\":\"LinearScale\"},{\"attributes\":{\"axis\":{\"id\":\"1380\"},\"dimension\":1,\"ticker\":null},\"id\":\"1383\",\"type\":\"Grid\"},{\"attributes\":{\"line_color\":\"#1f77b4\",\"line_width\":2,\"x\":{\"field\":\"x\"},\"y\":{\"field\":\"y\"}},\"id\":\"1394\",\"type\":\"Line\"},{\"attributes\":{\"axis_label\":\"block size\",\"formatter\":{\"id\":\"1434\"},\"ticker\":{\"id\":\"1377\"}},\"id\":\"1376\",\"type\":\"LinearAxis\"},{\"attributes\":{\"axis_label\":\"block entropy\",\"formatter\":{\"id\":\"1432\"},\"ticker\":{\"id\":\"1381\"}},\"id\":\"1380\",\"type\":\"LinearAxis\"},{\"attributes\":{},\"id\":\"1368\",\"type\":\"DataRange1d\"},{\"attributes\":{\"data_source\":{\"id\":\"1393\"},\"glyph\":{\"id\":\"1394\"},\"hover_glyph\":null,\"muted_glyph\":null,\"nonselection_glyph\":{\"id\":\"1395\"},\"selection_glyph\":null,\"view\":{\"id\":\"1397\"}},\"id\":\"1396\",\"type\":\"GlyphRenderer\"},{\"attributes\":{},\"id\":\"1381\",\"type\":\"BasicTicker\"},{\"attributes\":{},\"id\":\"1370\",\"type\":\"DataRange1d\"}],\"root_ids\":[\"1367\"]},\"title\":\"Bokeh Application\",\"version\":\"2.2.3\"}};\n",
       "  var render_items = [{\"docid\":\"91cd5e59-2628-48f3-bbc3-1b1216a8039b\",\"root_ids\":[\"1367\"],\"roots\":{\"1367\":\"5d2f8714-de88-42ea-bf3a-a8e15912fede\"}}];\n",
       "  root.Bokeh.embed.embed_items_notebook(docs_json, render_items);\n",
       "\n",
       "  }\n",
       "  if (root.Bokeh !== undefined) {\n",
       "    embed_document(root);\n",
       "  } else {\n",
       "    var attempts = 0;\n",
       "    var timer = setInterval(function(root) {\n",
       "      if (root.Bokeh !== undefined) {\n",
       "        clearInterval(timer);\n",
       "        embed_document(root);\n",
       "      } else {\n",
       "        attempts++;\n",
       "        if (attempts > 100) {\n",
       "          clearInterval(timer);\n",
       "          console.log(\"Bokeh: ERROR: Unable to run BokehJS code because BokehJS library is missing\");\n",
       "        }\n",
       "      }\n",
       "    }, 10, root)\n",
       "  }\n",
       "})(window);"
      ],
      "application/vnd.bokehjs_exec.v0+json": ""
     },
     "metadata": {
      "application/vnd.bokehjs_exec.v0+json": {
       "id": "1367"
      }
     },
     "output_type": "display_data"
    },
    {
     "data": {
      "text/html": [
       "\n",
       "\n",
       "\n",
       "\n",
       "\n",
       "\n",
       "  <div class=\"bk-root\" id=\"31f6d3c7-bfd2-4cd6-8520-90c3616284bd\" data-root-id=\"1478\"></div>\n"
      ]
     },
     "metadata": {},
     "output_type": "display_data"
    },
    {
     "data": {
      "application/javascript": [
       "(function(root) {\n",
       "  function embed_document(root) {\n",
       "    \n",
       "  var docs_json = {\"8c7f566f-dc8b-4657-86fc-3ae92f274431\":{\"roots\":{\"references\":[{\"attributes\":{\"below\":[{\"id\":\"1487\"}],\"center\":[{\"id\":\"1490\"},{\"id\":\"1494\"}],\"left\":[{\"id\":\"1491\"}],\"plot_height\":250,\"plot_width\":450,\"renderers\":[{\"id\":\"1507\"}],\"title\":{\"id\":\"1550\"},\"toolbar\":{\"id\":\"1499\"},\"x_range\":{\"id\":\"1479\"},\"x_scale\":{\"id\":\"1483\"},\"y_range\":{\"id\":\"1481\"},\"y_scale\":{\"id\":\"1485\"}},\"id\":\"1478\",\"subtype\":\"Figure\",\"type\":\"Plot\"},{\"attributes\":{\"axis_label\":\"block size\",\"formatter\":{\"id\":\"1553\"},\"ticker\":{\"id\":\"1488\"}},\"id\":\"1487\",\"type\":\"LinearAxis\"},{\"attributes\":{},\"id\":\"1492\",\"type\":\"BasicTicker\"},{\"attributes\":{\"line_alpha\":0.1,\"line_color\":\"#1f77b4\",\"line_width\":2,\"x\":{\"field\":\"x\"},\"y\":{\"field\":\"y\"}},\"id\":\"1506\",\"type\":\"Line\"},{\"attributes\":{\"axis\":{\"id\":\"1487\"},\"ticker\":null},\"id\":\"1490\",\"type\":\"Grid\"},{\"attributes\":{},\"id\":\"1556\",\"type\":\"UnionRenderers\"},{\"attributes\":{\"axis\":{\"id\":\"1491\"},\"dimension\":1,\"ticker\":null},\"id\":\"1494\",\"type\":\"Grid\"},{\"attributes\":{\"axis_label\":\"block entropy\",\"formatter\":{\"id\":\"1551\"},\"ticker\":{\"id\":\"1492\"}},\"id\":\"1491\",\"type\":\"LinearAxis\"},{\"attributes\":{\"active_drag\":\"auto\",\"active_inspect\":\"auto\",\"active_multi\":null,\"active_scroll\":\"auto\",\"active_tap\":\"auto\",\"tools\":[{\"id\":\"1495\"},{\"id\":\"1496\"},{\"id\":\"1497\"},{\"id\":\"1498\"}]},\"id\":\"1499\",\"type\":\"Toolbar\"},{\"attributes\":{},\"id\":\"1555\",\"type\":\"Selection\"},{\"attributes\":{},\"id\":\"1551\",\"type\":\"BasicTickFormatter\"},{\"attributes\":{},\"id\":\"1553\",\"type\":\"BasicTickFormatter\"},{\"attributes\":{\"data\":{\"x\":[0,1,2,3,4,5,6,7,8,9,10],\"y\":[1.0,1.9808259362290785,2.7219280948873625,2.9477027792200903,3.0,2.807354922057604,2.584962500721156,2.321928094887362,2.0,1.584962500721156,1.0]},\"selected\":{\"id\":\"1555\"},\"selection_policy\":{\"id\":\"1556\"}},\"id\":\"1504\",\"type\":\"ColumnDataSource\"},{\"attributes\":{},\"id\":\"1495\",\"type\":\"PanTool\"},{\"attributes\":{},\"id\":\"1485\",\"type\":\"LinearScale\"},{\"attributes\":{},\"id\":\"1496\",\"type\":\"WheelZoomTool\"},{\"attributes\":{},\"id\":\"1497\",\"type\":\"ResetTool\"},{\"attributes\":{},\"id\":\"1483\",\"type\":\"LinearScale\"},{\"attributes\":{},\"id\":\"1498\",\"type\":\"SaveTool\"},{\"attributes\":{\"data_source\":{\"id\":\"1504\"},\"glyph\":{\"id\":\"1505\"},\"hover_glyph\":null,\"muted_glyph\":null,\"nonselection_glyph\":{\"id\":\"1506\"},\"selection_glyph\":null,\"view\":{\"id\":\"1508\"}},\"id\":\"1507\",\"type\":\"GlyphRenderer\"},{\"attributes\":{},\"id\":\"1488\",\"type\":\"BasicTicker\"},{\"attributes\":{\"source\":{\"id\":\"1504\"}},\"id\":\"1508\",\"type\":\"CDSView\"},{\"attributes\":{\"text\":\"\"},\"id\":\"1550\",\"type\":\"Title\"},{\"attributes\":{\"line_color\":\"#1f77b4\",\"line_width\":2,\"x\":{\"field\":\"x\"},\"y\":{\"field\":\"y\"}},\"id\":\"1505\",\"type\":\"Line\"},{\"attributes\":{},\"id\":\"1479\",\"type\":\"DataRange1d\"},{\"attributes\":{},\"id\":\"1481\",\"type\":\"DataRange1d\"}],\"root_ids\":[\"1478\"]},\"title\":\"Bokeh Application\",\"version\":\"2.2.3\"}};\n",
       "  var render_items = [{\"docid\":\"8c7f566f-dc8b-4657-86fc-3ae92f274431\",\"root_ids\":[\"1478\"],\"roots\":{\"1478\":\"31f6d3c7-bfd2-4cd6-8520-90c3616284bd\"}}];\n",
       "  root.Bokeh.embed.embed_items_notebook(docs_json, render_items);\n",
       "\n",
       "  }\n",
       "  if (root.Bokeh !== undefined) {\n",
       "    embed_document(root);\n",
       "  } else {\n",
       "    var attempts = 0;\n",
       "    var timer = setInterval(function(root) {\n",
       "      if (root.Bokeh !== undefined) {\n",
       "        clearInterval(timer);\n",
       "        embed_document(root);\n",
       "      } else {\n",
       "        attempts++;\n",
       "        if (attempts > 100) {\n",
       "          clearInterval(timer);\n",
       "          console.log(\"Bokeh: ERROR: Unable to run BokehJS code because BokehJS library is missing\");\n",
       "        }\n",
       "      }\n",
       "    }, 10, root)\n",
       "  }\n",
       "})(window);"
      ],
      "application/vnd.bokehjs_exec.v0+json": ""
     },
     "metadata": {
      "application/vnd.bokehjs_exec.v0+json": {
       "id": "1478"
      }
     },
     "output_type": "display_data"
    },
    {
     "data": {
      "text/html": [
       "\n",
       "\n",
       "\n",
       "\n",
       "\n",
       "\n",
       "  <div class=\"bk-root\" id=\"e8d19353-bdb3-42cd-b8d4-5a87adfdc7d7\" data-root-id=\"1597\"></div>\n"
      ]
     },
     "metadata": {},
     "output_type": "display_data"
    },
    {
     "data": {
      "application/javascript": [
       "(function(root) {\n",
       "  function embed_document(root) {\n",
       "    \n",
       "  var docs_json = {\"8e0cacdb-0e2a-4c3c-ac0b-60856d729f00\":{\"roots\":{\"references\":[{\"attributes\":{\"below\":[{\"id\":\"1606\"}],\"center\":[{\"id\":\"1609\"},{\"id\":\"1613\"}],\"left\":[{\"id\":\"1610\"}],\"plot_height\":250,\"plot_width\":450,\"renderers\":[{\"id\":\"1626\"}],\"title\":{\"id\":\"1677\"},\"toolbar\":{\"id\":\"1618\"},\"x_range\":{\"id\":\"1598\"},\"x_scale\":{\"id\":\"1602\"},\"y_range\":{\"id\":\"1600\"},\"y_scale\":{\"id\":\"1604\"}},\"id\":\"1597\",\"subtype\":\"Figure\",\"type\":\"Plot\"},{\"attributes\":{\"axis_label\":\"block entropy\",\"formatter\":{\"id\":\"1678\"},\"ticker\":{\"id\":\"1611\"}},\"id\":\"1610\",\"type\":\"LinearAxis\"},{\"attributes\":{\"data\":{\"x\":[0,1,2,3,4,5,6,7,8,9,10],\"y\":[1.0,1.9362600275315274,2.8464393446710154,2.94770277922009,3.0,2.807354922057604,2.584962500721156,2.321928094887362,2.0,1.584962500721156,1.0]},\"selected\":{\"id\":\"1682\"},\"selection_policy\":{\"id\":\"1683\"}},\"id\":\"1623\",\"type\":\"ColumnDataSource\"},{\"attributes\":{\"axis\":{\"id\":\"1610\"},\"dimension\":1,\"ticker\":null},\"id\":\"1613\",\"type\":\"Grid\"},{\"attributes\":{\"active_drag\":\"auto\",\"active_inspect\":\"auto\",\"active_multi\":null,\"active_scroll\":\"auto\",\"active_tap\":\"auto\",\"tools\":[{\"id\":\"1614\"},{\"id\":\"1615\"},{\"id\":\"1616\"},{\"id\":\"1617\"}]},\"id\":\"1618\",\"type\":\"Toolbar\"},{\"attributes\":{},\"id\":\"1614\",\"type\":\"PanTool\"},{\"attributes\":{\"line_alpha\":0.1,\"line_color\":\"#1f77b4\",\"line_width\":2,\"x\":{\"field\":\"x\"},\"y\":{\"field\":\"y\"}},\"id\":\"1625\",\"type\":\"Line\"},{\"attributes\":{},\"id\":\"1617\",\"type\":\"SaveTool\"},{\"attributes\":{},\"id\":\"1607\",\"type\":\"BasicTicker\"},{\"attributes\":{\"axis_label\":\"block size\",\"formatter\":{\"id\":\"1680\"},\"ticker\":{\"id\":\"1607\"}},\"id\":\"1606\",\"type\":\"LinearAxis\"},{\"attributes\":{\"text\":\"\"},\"id\":\"1677\",\"type\":\"Title\"},{\"attributes\":{},\"id\":\"1604\",\"type\":\"LinearScale\"},{\"attributes\":{\"source\":{\"id\":\"1623\"}},\"id\":\"1627\",\"type\":\"CDSView\"},{\"attributes\":{},\"id\":\"1598\",\"type\":\"DataRange1d\"},{\"attributes\":{},\"id\":\"1678\",\"type\":\"BasicTickFormatter\"},{\"attributes\":{\"line_color\":\"#1f77b4\",\"line_width\":2,\"x\":{\"field\":\"x\"},\"y\":{\"field\":\"y\"}},\"id\":\"1624\",\"type\":\"Line\"},{\"attributes\":{\"data_source\":{\"id\":\"1623\"},\"glyph\":{\"id\":\"1624\"},\"hover_glyph\":null,\"muted_glyph\":null,\"nonselection_glyph\":{\"id\":\"1625\"},\"selection_glyph\":null,\"view\":{\"id\":\"1627\"}},\"id\":\"1626\",\"type\":\"GlyphRenderer\"},{\"attributes\":{},\"id\":\"1682\",\"type\":\"Selection\"},{\"attributes\":{},\"id\":\"1615\",\"type\":\"WheelZoomTool\"},{\"attributes\":{\"axis\":{\"id\":\"1606\"},\"ticker\":null},\"id\":\"1609\",\"type\":\"Grid\"},{\"attributes\":{},\"id\":\"1600\",\"type\":\"DataRange1d\"},{\"attributes\":{},\"id\":\"1680\",\"type\":\"BasicTickFormatter\"},{\"attributes\":{},\"id\":\"1602\",\"type\":\"LinearScale\"},{\"attributes\":{},\"id\":\"1611\",\"type\":\"BasicTicker\"},{\"attributes\":{},\"id\":\"1683\",\"type\":\"UnionRenderers\"},{\"attributes\":{},\"id\":\"1616\",\"type\":\"ResetTool\"}],\"root_ids\":[\"1597\"]},\"title\":\"Bokeh Application\",\"version\":\"2.2.3\"}};\n",
       "  var render_items = [{\"docid\":\"8e0cacdb-0e2a-4c3c-ac0b-60856d729f00\",\"root_ids\":[\"1597\"],\"roots\":{\"1597\":\"e8d19353-bdb3-42cd-b8d4-5a87adfdc7d7\"}}];\n",
       "  root.Bokeh.embed.embed_items_notebook(docs_json, render_items);\n",
       "\n",
       "  }\n",
       "  if (root.Bokeh !== undefined) {\n",
       "    embed_document(root);\n",
       "  } else {\n",
       "    var attempts = 0;\n",
       "    var timer = setInterval(function(root) {\n",
       "      if (root.Bokeh !== undefined) {\n",
       "        clearInterval(timer);\n",
       "        embed_document(root);\n",
       "      } else {\n",
       "        attempts++;\n",
       "        if (attempts > 100) {\n",
       "          clearInterval(timer);\n",
       "          console.log(\"Bokeh: ERROR: Unable to run BokehJS code because BokehJS library is missing\");\n",
       "        }\n",
       "      }\n",
       "    }, 10, root)\n",
       "  }\n",
       "})(window);"
      ],
      "application/vnd.bokehjs_exec.v0+json": ""
     },
     "metadata": {
      "application/vnd.bokehjs_exec.v0+json": {
       "id": "1597"
      }
     },
     "output_type": "display_data"
    },
    {
     "data": {
      "text/html": [
       "\n",
       "\n",
       "\n",
       "\n",
       "\n",
       "\n",
       "  <div class=\"bk-root\" id=\"14e49863-50c0-4761-9c31-422435f637c2\" data-root-id=\"1724\"></div>\n"
      ]
     },
     "metadata": {},
     "output_type": "display_data"
    },
    {
     "data": {
      "application/javascript": [
       "(function(root) {\n",
       "  function embed_document(root) {\n",
       "    \n",
       "  var docs_json = {\"774378f2-fa33-4bdb-9fe8-2915c907635f\":{\"roots\":{\"references\":[{\"attributes\":{\"below\":[{\"id\":\"1733\"}],\"center\":[{\"id\":\"1736\"},{\"id\":\"1740\"}],\"left\":[{\"id\":\"1737\"}],\"plot_height\":250,\"plot_width\":450,\"renderers\":[{\"id\":\"1753\"}],\"title\":{\"id\":\"1812\"},\"toolbar\":{\"id\":\"1745\"},\"x_range\":{\"id\":\"1725\"},\"x_scale\":{\"id\":\"1729\"},\"y_range\":{\"id\":\"1727\"},\"y_scale\":{\"id\":\"1731\"}},\"id\":\"1724\",\"subtype\":\"Figure\",\"type\":\"Plot\"},{\"attributes\":{},\"id\":\"1738\",\"type\":\"BasicTicker\"},{\"attributes\":{\"source\":{\"id\":\"1750\"}},\"id\":\"1754\",\"type\":\"CDSView\"},{\"attributes\":{\"axis_label\":\"block entropy\",\"formatter\":{\"id\":\"1813\"},\"ticker\":{\"id\":\"1738\"}},\"id\":\"1737\",\"type\":\"LinearAxis\"},{\"attributes\":{\"axis_label\":\"block size\",\"formatter\":{\"id\":\"1815\"},\"ticker\":{\"id\":\"1734\"}},\"id\":\"1733\",\"type\":\"LinearAxis\"},{\"attributes\":{},\"id\":\"1731\",\"type\":\"LinearScale\"},{\"attributes\":{\"data_source\":{\"id\":\"1750\"},\"glyph\":{\"id\":\"1751\"},\"hover_glyph\":null,\"muted_glyph\":null,\"nonselection_glyph\":{\"id\":\"1752\"},\"selection_glyph\":null,\"view\":{\"id\":\"1754\"}},\"id\":\"1753\",\"type\":\"GlyphRenderer\"},{\"attributes\":{\"text\":\"\"},\"id\":\"1812\",\"type\":\"Title\"},{\"attributes\":{},\"id\":\"1725\",\"type\":\"DataRange1d\"},{\"attributes\":{\"data\":{\"x\":[0,1,2,3,4,5,6,7,8,9,10],\"y\":[1.0,1.9808259362290785,2.9219280948873623,3.169925001442312,3.0,2.807354922057604,2.584962500721156,2.321928094887362,2.0,1.584962500721156,1.0]},\"selected\":{\"id\":\"1817\"},\"selection_policy\":{\"id\":\"1818\"}},\"id\":\"1750\",\"type\":\"ColumnDataSource\"},{\"attributes\":{},\"id\":\"1729\",\"type\":\"LinearScale\"},{\"attributes\":{\"axis\":{\"id\":\"1733\"},\"ticker\":null},\"id\":\"1736\",\"type\":\"Grid\"},{\"attributes\":{},\"id\":\"1813\",\"type\":\"BasicTickFormatter\"},{\"attributes\":{},\"id\":\"1815\",\"type\":\"BasicTickFormatter\"},{\"attributes\":{\"line_alpha\":0.1,\"line_color\":\"#1f77b4\",\"line_width\":2,\"x\":{\"field\":\"x\"},\"y\":{\"field\":\"y\"}},\"id\":\"1752\",\"type\":\"Line\"},{\"attributes\":{},\"id\":\"1817\",\"type\":\"Selection\"},{\"attributes\":{},\"id\":\"1727\",\"type\":\"DataRange1d\"},{\"attributes\":{},\"id\":\"1818\",\"type\":\"UnionRenderers\"},{\"attributes\":{},\"id\":\"1744\",\"type\":\"SaveTool\"},{\"attributes\":{},\"id\":\"1742\",\"type\":\"WheelZoomTool\"},{\"attributes\":{},\"id\":\"1743\",\"type\":\"ResetTool\"},{\"attributes\":{\"line_color\":\"#1f77b4\",\"line_width\":2,\"x\":{\"field\":\"x\"},\"y\":{\"field\":\"y\"}},\"id\":\"1751\",\"type\":\"Line\"},{\"attributes\":{},\"id\":\"1741\",\"type\":\"PanTool\"},{\"attributes\":{\"active_drag\":\"auto\",\"active_inspect\":\"auto\",\"active_multi\":null,\"active_scroll\":\"auto\",\"active_tap\":\"auto\",\"tools\":[{\"id\":\"1741\"},{\"id\":\"1742\"},{\"id\":\"1743\"},{\"id\":\"1744\"}]},\"id\":\"1745\",\"type\":\"Toolbar\"},{\"attributes\":{\"axis\":{\"id\":\"1737\"},\"dimension\":1,\"ticker\":null},\"id\":\"1740\",\"type\":\"Grid\"},{\"attributes\":{},\"id\":\"1734\",\"type\":\"BasicTicker\"}],\"root_ids\":[\"1724\"]},\"title\":\"Bokeh Application\",\"version\":\"2.2.3\"}};\n",
       "  var render_items = [{\"docid\":\"774378f2-fa33-4bdb-9fe8-2915c907635f\",\"root_ids\":[\"1724\"],\"roots\":{\"1724\":\"14e49863-50c0-4761-9c31-422435f637c2\"}}];\n",
       "  root.Bokeh.embed.embed_items_notebook(docs_json, render_items);\n",
       "\n",
       "  }\n",
       "  if (root.Bokeh !== undefined) {\n",
       "    embed_document(root);\n",
       "  } else {\n",
       "    var attempts = 0;\n",
       "    var timer = setInterval(function(root) {\n",
       "      if (root.Bokeh !== undefined) {\n",
       "        clearInterval(timer);\n",
       "        embed_document(root);\n",
       "      } else {\n",
       "        attempts++;\n",
       "        if (attempts > 100) {\n",
       "          clearInterval(timer);\n",
       "          console.log(\"Bokeh: ERROR: Unable to run BokehJS code because BokehJS library is missing\");\n",
       "        }\n",
       "      }\n",
       "    }, 10, root)\n",
       "  }\n",
       "})(window);"
      ],
      "application/vnd.bokehjs_exec.v0+json": ""
     },
     "metadata": {
      "application/vnd.bokehjs_exec.v0+json": {
       "id": "1724"
      }
     },
     "output_type": "display_data"
    },
    {
     "data": {
      "text/html": [
       "\n",
       "\n",
       "\n",
       "\n",
       "\n",
       "\n",
       "  <div class=\"bk-root\" id=\"03095a11-919a-4d77-a245-f881c58e96f4\" data-root-id=\"1859\"></div>\n"
      ]
     },
     "metadata": {},
     "output_type": "display_data"
    },
    {
     "data": {
      "application/javascript": [
       "(function(root) {\n",
       "  function embed_document(root) {\n",
       "    \n",
       "  var docs_json = {\"1683c86c-9522-4102-9e18-76c6baee0297\":{\"roots\":{\"references\":[{\"attributes\":{\"below\":[{\"id\":\"1868\"}],\"center\":[{\"id\":\"1871\"},{\"id\":\"1875\"}],\"left\":[{\"id\":\"1872\"}],\"plot_height\":250,\"plot_width\":450,\"renderers\":[{\"id\":\"1888\"}],\"title\":{\"id\":\"1955\"},\"toolbar\":{\"id\":\"1880\"},\"x_range\":{\"id\":\"1860\"},\"x_scale\":{\"id\":\"1864\"},\"y_range\":{\"id\":\"1862\"},\"y_scale\":{\"id\":\"1866\"}},\"id\":\"1859\",\"subtype\":\"Figure\",\"type\":\"Plot\"},{\"attributes\":{},\"id\":\"1879\",\"type\":\"SaveTool\"},{\"attributes\":{},\"id\":\"1958\",\"type\":\"BasicTickFormatter\"},{\"attributes\":{},\"id\":\"1878\",\"type\":\"ResetTool\"},{\"attributes\":{},\"id\":\"1876\",\"type\":\"PanTool\"},{\"attributes\":{},\"id\":\"1961\",\"type\":\"UnionRenderers\"},{\"attributes\":{},\"id\":\"1877\",\"type\":\"WheelZoomTool\"},{\"attributes\":{\"axis_label\":\"block size\",\"formatter\":{\"id\":\"1958\"},\"ticker\":{\"id\":\"1869\"}},\"id\":\"1868\",\"type\":\"LinearAxis\"},{\"attributes\":{\"data\":{\"x\":[0,1,2,3,4,5,6,7,8,9,10],\"y\":[1.0,1.9808259362290785,2.9219280948873623,3.169925001442312,3.0,2.807354922057604,2.584962500721156,2.321928094887362,2.0,1.584962500721156,1.0]},\"selected\":{\"id\":\"1960\"},\"selection_policy\":{\"id\":\"1961\"}},\"id\":\"1885\",\"type\":\"ColumnDataSource\"},{\"attributes\":{\"text\":\"\"},\"id\":\"1955\",\"type\":\"Title\"},{\"attributes\":{\"axis_label\":\"block entropy\",\"formatter\":{\"id\":\"1956\"},\"ticker\":{\"id\":\"1873\"}},\"id\":\"1872\",\"type\":\"LinearAxis\"},{\"attributes\":{\"axis\":{\"id\":\"1872\"},\"dimension\":1,\"ticker\":null},\"id\":\"1875\",\"type\":\"Grid\"},{\"attributes\":{\"axis\":{\"id\":\"1868\"},\"ticker\":null},\"id\":\"1871\",\"type\":\"Grid\"},{\"attributes\":{\"data_source\":{\"id\":\"1885\"},\"glyph\":{\"id\":\"1886\"},\"hover_glyph\":null,\"muted_glyph\":null,\"nonselection_glyph\":{\"id\":\"1887\"},\"selection_glyph\":null,\"view\":{\"id\":\"1889\"}},\"id\":\"1888\",\"type\":\"GlyphRenderer\"},{\"attributes\":{},\"id\":\"1873\",\"type\":\"BasicTicker\"},{\"attributes\":{},\"id\":\"1960\",\"type\":\"Selection\"},{\"attributes\":{\"line_color\":\"#1f77b4\",\"line_width\":2,\"x\":{\"field\":\"x\"},\"y\":{\"field\":\"y\"}},\"id\":\"1886\",\"type\":\"Line\"},{\"attributes\":{},\"id\":\"1864\",\"type\":\"LinearScale\"},{\"attributes\":{},\"id\":\"1860\",\"type\":\"DataRange1d\"},{\"attributes\":{\"source\":{\"id\":\"1885\"}},\"id\":\"1889\",\"type\":\"CDSView\"},{\"attributes\":{},\"id\":\"1869\",\"type\":\"BasicTicker\"},{\"attributes\":{},\"id\":\"1866\",\"type\":\"LinearScale\"},{\"attributes\":{},\"id\":\"1862\",\"type\":\"DataRange1d\"},{\"attributes\":{\"line_alpha\":0.1,\"line_color\":\"#1f77b4\",\"line_width\":2,\"x\":{\"field\":\"x\"},\"y\":{\"field\":\"y\"}},\"id\":\"1887\",\"type\":\"Line\"},{\"attributes\":{\"active_drag\":\"auto\",\"active_inspect\":\"auto\",\"active_multi\":null,\"active_scroll\":\"auto\",\"active_tap\":\"auto\",\"tools\":[{\"id\":\"1876\"},{\"id\":\"1877\"},{\"id\":\"1878\"},{\"id\":\"1879\"}]},\"id\":\"1880\",\"type\":\"Toolbar\"},{\"attributes\":{},\"id\":\"1956\",\"type\":\"BasicTickFormatter\"}],\"root_ids\":[\"1859\"]},\"title\":\"Bokeh Application\",\"version\":\"2.2.3\"}};\n",
       "  var render_items = [{\"docid\":\"1683c86c-9522-4102-9e18-76c6baee0297\",\"root_ids\":[\"1859\"],\"roots\":{\"1859\":\"03095a11-919a-4d77-a245-f881c58e96f4\"}}];\n",
       "  root.Bokeh.embed.embed_items_notebook(docs_json, render_items);\n",
       "\n",
       "  }\n",
       "  if (root.Bokeh !== undefined) {\n",
       "    embed_document(root);\n",
       "  } else {\n",
       "    var attempts = 0;\n",
       "    var timer = setInterval(function(root) {\n",
       "      if (root.Bokeh !== undefined) {\n",
       "        clearInterval(timer);\n",
       "        embed_document(root);\n",
       "      } else {\n",
       "        attempts++;\n",
       "        if (attempts > 100) {\n",
       "          clearInterval(timer);\n",
       "          console.log(\"Bokeh: ERROR: Unable to run BokehJS code because BokehJS library is missing\");\n",
       "        }\n",
       "      }\n",
       "    }, 10, root)\n",
       "  }\n",
       "})(window);"
      ],
      "application/vnd.bokehjs_exec.v0+json": ""
     },
     "metadata": {
      "application/vnd.bokehjs_exec.v0+json": {
       "id": "1859"
      }
     },
     "output_type": "display_data"
    }
   ],
   "source": [
    "min_b_ent = []\n",
    "\n",
    "for string in strings:\n",
    "    b_ent = []\n",
    "    for i in range(len(string)-1):\n",
    "        b_ent.append(block_entropy(string, k=i+1))\n",
    "    \n",
    "    min_b_ent.append(np.min(b_ent))\n",
    "    \n",
    "    bent_plot = figure(**plot_options)\n",
    "    bent_plot.line(range(len(string)-1),\n",
    "                    b_ent,\n",
    "                    line_width=2)\n",
    "    bent_plot.xaxis.axis_label = 'block size'\n",
    "    bent_plot.yaxis.axis_label = 'block entropy'\n",
    "    show(bent_plot)"
   ]
  },
  {
   "cell_type": "markdown",
   "metadata": {},
   "source": [
    "Did you notice something informative in the actual values of entropy calculated?\n",
    "\n",
    "```If you notice, the strings are chosen in such a way that they have consistently high entropy/block entropy except for the first string```"
   ]
  },
  {
   "cell_type": "markdown",
   "metadata": {},
   "source": [
    "**TASK** We now have block entropy as a function of block size - choose the block size that gives minimum block entropy as the block entropy of a string, plot the obtained minimum against the index of the string in the same order."
   ]
  },
  {
   "cell_type": "code",
   "execution_count": 6,
   "metadata": {},
   "outputs": [
    {
     "data": {
      "text/html": [
       "\n",
       "\n",
       "\n",
       "\n",
       "\n",
       "\n",
       "  <div class=\"bk-root\" id=\"b057d430-bd26-4d70-be05-f6cffd7c76da\" data-root-id=\"2002\"></div>\n"
      ]
     },
     "metadata": {},
     "output_type": "display_data"
    },
    {
     "data": {
      "application/javascript": [
       "(function(root) {\n",
       "  function embed_document(root) {\n",
       "    \n",
       "  var docs_json = {\"79b05ef5-acfb-498b-92e7-a44980072612\":{\"roots\":{\"references\":[{\"attributes\":{\"below\":[{\"id\":\"2011\"}],\"center\":[{\"id\":\"2014\"},{\"id\":\"2018\"}],\"left\":[{\"id\":\"2015\"}],\"plot_height\":250,\"plot_width\":450,\"renderers\":[{\"id\":\"2031\"}],\"title\":{\"id\":\"2106\"},\"toolbar\":{\"id\":\"2023\"},\"x_range\":{\"id\":\"2003\"},\"x_scale\":{\"id\":\"2007\"},\"y_range\":{\"id\":\"2005\"},\"y_scale\":{\"id\":\"2009\"}},\"id\":\"2002\",\"subtype\":\"Figure\",\"type\":\"Plot\"},{\"attributes\":{},\"id\":\"2007\",\"type\":\"LinearScale\"},{\"attributes\":{},\"id\":\"2021\",\"type\":\"ResetTool\"},{\"attributes\":{},\"id\":\"2005\",\"type\":\"DataRange1d\"},{\"attributes\":{\"text\":\"\"},\"id\":\"2106\",\"type\":\"Title\"},{\"attributes\":{\"line_alpha\":0.1,\"line_color\":\"#1f77b4\",\"line_width\":2,\"x\":{\"field\":\"x\"},\"y\":{\"field\":\"y\"}},\"id\":\"2030\",\"type\":\"Line\"},{\"attributes\":{\"line_color\":\"#1f77b4\",\"line_width\":2,\"x\":{\"field\":\"x\"},\"y\":{\"field\":\"y\"}},\"id\":\"2029\",\"type\":\"Line\"},{\"attributes\":{},\"id\":\"2003\",\"type\":\"DataRange1d\"},{\"attributes\":{\"data\":{\"x\":[0,1,2,3,4,5,6,7],\"y\":[0.9182958340544896,1.0,1.0,1.0,1.0,1.0,1.0,1.0]},\"selected\":{\"id\":\"2111\"},\"selection_policy\":{\"id\":\"2112\"}},\"id\":\"2028\",\"type\":\"ColumnDataSource\"},{\"attributes\":{},\"id\":\"2019\",\"type\":\"PanTool\"},{\"attributes\":{\"axis\":{\"id\":\"2015\"},\"dimension\":1,\"ticker\":null},\"id\":\"2018\",\"type\":\"Grid\"},{\"attributes\":{\"axis_label\":\"entropy\",\"formatter\":{\"id\":\"2107\"},\"ticker\":{\"id\":\"2016\"}},\"id\":\"2015\",\"type\":\"LinearAxis\"},{\"attributes\":{\"axis\":{\"id\":\"2011\"},\"ticker\":null},\"id\":\"2014\",\"type\":\"Grid\"},{\"attributes\":{},\"id\":\"2107\",\"type\":\"BasicTickFormatter\"},{\"attributes\":{},\"id\":\"2109\",\"type\":\"BasicTickFormatter\"},{\"attributes\":{},\"id\":\"2112\",\"type\":\"UnionRenderers\"},{\"attributes\":{},\"id\":\"2016\",\"type\":\"BasicTicker\"},{\"attributes\":{},\"id\":\"2012\",\"type\":\"BasicTicker\"},{\"attributes\":{\"axis_label\":\"string_index\",\"formatter\":{\"id\":\"2109\"},\"ticker\":{\"id\":\"2012\"}},\"id\":\"2011\",\"type\":\"LinearAxis\"},{\"attributes\":{\"source\":{\"id\":\"2028\"}},\"id\":\"2032\",\"type\":\"CDSView\"},{\"attributes\":{},\"id\":\"2022\",\"type\":\"SaveTool\"},{\"attributes\":{},\"id\":\"2009\",\"type\":\"LinearScale\"},{\"attributes\":{},\"id\":\"2020\",\"type\":\"WheelZoomTool\"},{\"attributes\":{},\"id\":\"2111\",\"type\":\"Selection\"},{\"attributes\":{\"active_drag\":\"auto\",\"active_inspect\":\"auto\",\"active_multi\":null,\"active_scroll\":\"auto\",\"active_tap\":\"auto\",\"tools\":[{\"id\":\"2019\"},{\"id\":\"2020\"},{\"id\":\"2021\"},{\"id\":\"2022\"}]},\"id\":\"2023\",\"type\":\"Toolbar\"},{\"attributes\":{\"data_source\":{\"id\":\"2028\"},\"glyph\":{\"id\":\"2029\"},\"hover_glyph\":null,\"muted_glyph\":null,\"nonselection_glyph\":{\"id\":\"2030\"},\"selection_glyph\":null,\"view\":{\"id\":\"2032\"}},\"id\":\"2031\",\"type\":\"GlyphRenderer\"}],\"root_ids\":[\"2002\"]},\"title\":\"Bokeh Application\",\"version\":\"2.2.3\"}};\n",
       "  var render_items = [{\"docid\":\"79b05ef5-acfb-498b-92e7-a44980072612\",\"root_ids\":[\"2002\"],\"roots\":{\"2002\":\"b057d430-bd26-4d70-be05-f6cffd7c76da\"}}];\n",
       "  root.Bokeh.embed.embed_items_notebook(docs_json, render_items);\n",
       "\n",
       "  }\n",
       "  if (root.Bokeh !== undefined) {\n",
       "    embed_document(root);\n",
       "  } else {\n",
       "    var attempts = 0;\n",
       "    var timer = setInterval(function(root) {\n",
       "      if (root.Bokeh !== undefined) {\n",
       "        clearInterval(timer);\n",
       "        embed_document(root);\n",
       "      } else {\n",
       "        attempts++;\n",
       "        if (attempts > 100) {\n",
       "          clearInterval(timer);\n",
       "          console.log(\"Bokeh: ERROR: Unable to run BokehJS code because BokehJS library is missing\");\n",
       "        }\n",
       "      }\n",
       "    }, 10, root)\n",
       "  }\n",
       "})(window);"
      ],
      "application/vnd.bokehjs_exec.v0+json": ""
     },
     "metadata": {
      "application/vnd.bokehjs_exec.v0+json": {
       "id": "2002"
      }
     },
     "output_type": "display_data"
    }
   ],
   "source": [
    "bent_plot = figure(**plot_options)\n",
    "bent_plot.line(range(len(strings)),\n",
    "                min_b_ent,\n",
    "                line_width=2)\n",
    "\n",
    "bent_plot.xaxis.axis_label = 'string_index'\n",
    "bent_plot.yaxis.axis_label = 'entropy'\n",
    "show(bent_plot)"
   ]
  },
  {
   "cell_type": "markdown",
   "metadata": {},
   "source": [
    "What do you observe in the trend? what do you think it says about the relative randomness among strings? which strings are the least and most random? How well does this correlate to `LSTM Parameter Trend` plot\n",
    "\n",
    "```Except the first string, all the other strings have high entropy and hence shannon block entropy is saying that except first string all the other strings have the same entropy(high). The string with the least amount of information is the first string. This is in contrast to the parameter trend plot of the LSTM which we precomputed, when Shannon entropy says that the strings 1-8 have the same randomness, LSTM does not follow that trend```"
   ]
  },
  {
   "cell_type": "markdown",
   "metadata": {},
   "source": [
    "## Compression schemes\n",
    "\n",
    "There is an alternate way to measure randomness in strings - which is by using compression algorithms on the strings, the size after compression tells something about the regularities present in the input"
   ]
  },
  {
   "cell_type": "code",
   "execution_count": 7,
   "metadata": {},
   "outputs": [
    {
     "data": {
      "text/html": [
       "\n",
       "\n",
       "\n",
       "\n",
       "\n",
       "\n",
       "  <div class=\"bk-root\" id=\"c46e3c14-25b4-41e8-a1b6-409b6752d58a\" data-root-id=\"2153\"></div>\n"
      ]
     },
     "metadata": {},
     "output_type": "display_data"
    },
    {
     "data": {
      "application/javascript": [
       "(function(root) {\n",
       "  function embed_document(root) {\n",
       "    \n",
       "  var docs_json = {\"dfeb2f5f-dece-4922-9def-bcd1b3bbb5f8\":{\"roots\":{\"references\":[{\"attributes\":{\"below\":[{\"id\":\"2162\"}],\"center\":[{\"id\":\"2165\"},{\"id\":\"2169\"},{\"id\":\"2192\"}],\"left\":[{\"id\":\"2166\"}],\"plot_height\":250,\"plot_width\":450,\"renderers\":[{\"id\":\"2182\"},{\"id\":\"2197\"},{\"id\":\"2213\"}],\"title\":{\"id\":\"2185\"},\"toolbar\":{\"id\":\"2174\"},\"x_range\":{\"id\":\"2154\"},\"x_scale\":{\"id\":\"2158\"},\"y_range\":{\"id\":\"2156\"},\"y_scale\":{\"id\":\"2160\"}},\"id\":\"2153\",\"subtype\":\"Figure\",\"type\":\"Plot\"},{\"attributes\":{\"axis_label\":\"compressed length\",\"formatter\":{\"id\":\"2186\"},\"ticker\":{\"id\":\"2167\"}},\"id\":\"2166\",\"type\":\"LinearAxis\"},{\"attributes\":{\"line_alpha\":0.1,\"line_color\":\"green\",\"line_width\":2,\"x\":{\"field\":\"x\"},\"y\":{\"field\":\"y\"}},\"id\":\"2196\",\"type\":\"Line\"},{\"attributes\":{},\"id\":\"2207\",\"type\":\"Selection\"},{\"attributes\":{\"label\":{\"value\":\"bz2\"},\"renderers\":[{\"id\":\"2197\"}]},\"id\":\"2209\",\"type\":\"LegendItem\"},{\"attributes\":{\"data\":{\"x\":[0,1,2,3,4,5,6,7],\"y\":[12,15,14,17,16,17,17,17]},\"selected\":{\"id\":\"2190\"},\"selection_policy\":{\"id\":\"2191\"}},\"id\":\"2179\",\"type\":\"ColumnDataSource\"},{\"attributes\":{\"line_color\":\"green\",\"line_width\":2,\"x\":{\"field\":\"x\"},\"y\":{\"field\":\"y\"}},\"id\":\"2195\",\"type\":\"Line\"},{\"attributes\":{},\"id\":\"2208\",\"type\":\"UnionRenderers\"},{\"attributes\":{\"data\":{\"x\":[0,1,2,3,4,5,6,7],\"y\":[68,72,68,68,68,68,68,68]},\"selected\":{\"id\":\"2225\"},\"selection_policy\":{\"id\":\"2226\"}},\"id\":\"2210\",\"type\":\"ColumnDataSource\"},{\"attributes\":{\"text\":\"\"},\"id\":\"2185\",\"type\":\"Title\"},{\"attributes\":{\"line_alpha\":0.1,\"line_color\":\"blue\",\"line_width\":2,\"x\":{\"field\":\"x\"},\"y\":{\"field\":\"y\"}},\"id\":\"2212\",\"type\":\"Line\"},{\"attributes\":{\"data_source\":{\"id\":\"2179\"},\"glyph\":{\"id\":\"2180\"},\"hover_glyph\":null,\"muted_glyph\":null,\"nonselection_glyph\":{\"id\":\"2181\"},\"selection_glyph\":null,\"view\":{\"id\":\"2183\"}},\"id\":\"2182\",\"type\":\"GlyphRenderer\"},{\"attributes\":{},\"id\":\"2170\",\"type\":\"PanTool\"},{\"attributes\":{\"line_color\":\"red\",\"line_width\":2,\"x\":{\"field\":\"x\"},\"y\":{\"field\":\"y\"}},\"id\":\"2180\",\"type\":\"Line\"},{\"attributes\":{},\"id\":\"2171\",\"type\":\"WheelZoomTool\"},{\"attributes\":{\"source\":{\"id\":\"2179\"}},\"id\":\"2183\",\"type\":\"CDSView\"},{\"attributes\":{},\"id\":\"2154\",\"type\":\"DataRange1d\"},{\"attributes\":{\"click_policy\":\"hide\",\"items\":[{\"id\":\"2193\"},{\"id\":\"2209\"},{\"id\":\"2227\"}]},\"id\":\"2192\",\"type\":\"Legend\"},{\"attributes\":{\"data_source\":{\"id\":\"2194\"},\"glyph\":{\"id\":\"2195\"},\"hover_glyph\":null,\"muted_glyph\":null,\"nonselection_glyph\":{\"id\":\"2196\"},\"selection_glyph\":null,\"view\":{\"id\":\"2198\"}},\"id\":\"2197\",\"type\":\"GlyphRenderer\"},{\"attributes\":{},\"id\":\"2172\",\"type\":\"ResetTool\"},{\"attributes\":{\"source\":{\"id\":\"2210\"}},\"id\":\"2214\",\"type\":\"CDSView\"},{\"attributes\":{},\"id\":\"2186\",\"type\":\"BasicTickFormatter\"},{\"attributes\":{},\"id\":\"2173\",\"type\":\"SaveTool\"},{\"attributes\":{\"data_source\":{\"id\":\"2210\"},\"glyph\":{\"id\":\"2211\"},\"hover_glyph\":null,\"muted_glyph\":null,\"nonselection_glyph\":{\"id\":\"2212\"},\"selection_glyph\":null,\"view\":{\"id\":\"2214\"}},\"id\":\"2213\",\"type\":\"GlyphRenderer\"},{\"attributes\":{},\"id\":\"2158\",\"type\":\"LinearScale\"},{\"attributes\":{\"active_drag\":\"auto\",\"active_inspect\":\"auto\",\"active_multi\":null,\"active_scroll\":\"auto\",\"active_tap\":\"auto\",\"tools\":[{\"id\":\"2170\"},{\"id\":\"2171\"},{\"id\":\"2172\"},{\"id\":\"2173\"}]},\"id\":\"2174\",\"type\":\"Toolbar\"},{\"attributes\":{},\"id\":\"2156\",\"type\":\"DataRange1d\"},{\"attributes\":{},\"id\":\"2188\",\"type\":\"BasicTickFormatter\"},{\"attributes\":{\"line_color\":\"blue\",\"line_width\":2,\"x\":{\"field\":\"x\"},\"y\":{\"field\":\"y\"}},\"id\":\"2211\",\"type\":\"Line\"},{\"attributes\":{},\"id\":\"2225\",\"type\":\"Selection\"},{\"attributes\":{\"label\":{\"value\":\"lzma\"},\"renderers\":[{\"id\":\"2213\"}]},\"id\":\"2227\",\"type\":\"LegendItem\"},{\"attributes\":{},\"id\":\"2190\",\"type\":\"Selection\"},{\"attributes\":{},\"id\":\"2160\",\"type\":\"LinearScale\"},{\"attributes\":{},\"id\":\"2191\",\"type\":\"UnionRenderers\"},{\"attributes\":{},\"id\":\"2226\",\"type\":\"UnionRenderers\"},{\"attributes\":{\"data\":{\"x\":[0,1,2,3,4,5,6,7],\"y\":[38,40,42,40,43,42,40,40]},\"selected\":{\"id\":\"2207\"},\"selection_policy\":{\"id\":\"2208\"}},\"id\":\"2194\",\"type\":\"ColumnDataSource\"},{\"attributes\":{\"label\":{\"value\":\"zlib\"},\"renderers\":[{\"id\":\"2182\"}]},\"id\":\"2193\",\"type\":\"LegendItem\"},{\"attributes\":{\"axis_label\":\"string_index\",\"formatter\":{\"id\":\"2188\"},\"ticker\":{\"id\":\"2163\"}},\"id\":\"2162\",\"type\":\"LinearAxis\"},{\"attributes\":{},\"id\":\"2167\",\"type\":\"BasicTicker\"},{\"attributes\":{},\"id\":\"2163\",\"type\":\"BasicTicker\"},{\"attributes\":{\"source\":{\"id\":\"2194\"}},\"id\":\"2198\",\"type\":\"CDSView\"},{\"attributes\":{\"axis\":{\"id\":\"2162\"},\"ticker\":null},\"id\":\"2165\",\"type\":\"Grid\"},{\"attributes\":{\"line_alpha\":0.1,\"line_color\":\"red\",\"line_width\":2,\"x\":{\"field\":\"x\"},\"y\":{\"field\":\"y\"}},\"id\":\"2181\",\"type\":\"Line\"},{\"attributes\":{\"axis\":{\"id\":\"2166\"},\"dimension\":1,\"ticker\":null},\"id\":\"2169\",\"type\":\"Grid\"}],\"root_ids\":[\"2153\"]},\"title\":\"Bokeh Application\",\"version\":\"2.2.3\"}};\n",
       "  var render_items = [{\"docid\":\"dfeb2f5f-dece-4922-9def-bcd1b3bbb5f8\",\"root_ids\":[\"2153\"],\"roots\":{\"2153\":\"c46e3c14-25b4-41e8-a1b6-409b6752d58a\"}}];\n",
       "  root.Bokeh.embed.embed_items_notebook(docs_json, render_items);\n",
       "\n",
       "  }\n",
       "  if (root.Bokeh !== undefined) {\n",
       "    embed_document(root);\n",
       "  } else {\n",
       "    var attempts = 0;\n",
       "    var timer = setInterval(function(root) {\n",
       "      if (root.Bokeh !== undefined) {\n",
       "        clearInterval(timer);\n",
       "        embed_document(root);\n",
       "      } else {\n",
       "        attempts++;\n",
       "        if (attempts > 100) {\n",
       "          clearInterval(timer);\n",
       "          console.log(\"Bokeh: ERROR: Unable to run BokehJS code because BokehJS library is missing\");\n",
       "        }\n",
       "      }\n",
       "    }, 10, root)\n",
       "  }\n",
       "})(window);"
      ],
      "application/vnd.bokehjs_exec.v0+json": ""
     },
     "metadata": {
      "application/vnd.bokehjs_exec.v0+json": {
       "id": "2153"
      }
     },
     "output_type": "display_data"
    }
   ],
   "source": [
    "## Use the compression module create one plot with each of the following compressors\n",
    "## zlib, bz2, lzma\n",
    "## Each line should be distinguished by different colors\n",
    "## TASK: string vs compressed length plot\n",
    "\n",
    "z_lib = []\n",
    "bz2 = []\n",
    "lzma = []\n",
    "\n",
    "def bitstring_to_bytes(s):\n",
    "    return int(s).to_bytes(len(s) // 8, byteorder='big')\n",
    "\n",
    "c = Compressor()\n",
    "\n",
    "for string in strings:\n",
    "    string = [ str(val) for val in string ]\n",
    "    string = ''.join(string)\n",
    "    \n",
    "    c.use_zlib()\n",
    "    z_lib.append(len(c.compress(string.encode('utf-8'))))\n",
    "    \n",
    "    c.use_bz2()\n",
    "    bz2.append(len(c.compress(string.encode('utf-8'))))\n",
    "    \n",
    "    c.use_lzma()\n",
    "    lzma.append(len(c.compress(string.encode('utf-8'))))\n",
    "\n",
    "comp_plot = figure(**plot_options)\n",
    "comp_plot.line(range(len(strings)),\n",
    "                z_lib,\n",
    "                legend_label=\"zlib\",\n",
    "                line_color='red',\n",
    "                line_width=2)\n",
    "comp_plot.line(range(len(strings)),\n",
    "                bz2,\n",
    "                legend_label=\"bz2\",\n",
    "                line_color='green',\n",
    "                line_width=2)\n",
    "comp_plot.line(range(len(strings)),\n",
    "                lzma,\n",
    "                legend_label=\"lzma\",\n",
    "                line_color='blue',\n",
    "                line_width=2)\n",
    "\n",
    "comp_plot.legend.click_policy=\"hide\"\n",
    "comp_plot.xaxis.axis_label = 'string_index'\n",
    "comp_plot.yaxis.axis_label = 'compressed length'\n",
    "show(comp_plot)"
   ]
  },
  {
   "cell_type": "code",
   "execution_count": 8,
   "metadata": {},
   "outputs": [
    {
     "data": {
      "text/html": [
       "\n",
       "\n",
       "\n",
       "\n",
       "\n",
       "\n",
       "  <div class=\"bk-root\" id=\"40c37ab2-64d2-427a-8ee9-af57679ec5db\" data-root-id=\"2380\"></div>\n"
      ]
     },
     "metadata": {},
     "output_type": "display_data"
    },
    {
     "data": {
      "application/javascript": [
       "(function(root) {\n",
       "  function embed_document(root) {\n",
       "    \n",
       "  var docs_json = {\"7934a84f-4ff9-4872-87cf-9e11aa496548\":{\"roots\":{\"references\":[{\"attributes\":{\"below\":[{\"id\":\"2389\"}],\"center\":[{\"id\":\"2392\"},{\"id\":\"2396\"},{\"id\":\"2419\"}],\"left\":[{\"id\":\"2393\"}],\"plot_height\":250,\"plot_width\":450,\"renderers\":[{\"id\":\"2409\"}],\"title\":{\"id\":\"2412\"},\"toolbar\":{\"id\":\"2401\"},\"x_range\":{\"id\":\"2381\"},\"x_scale\":{\"id\":\"2385\"},\"y_range\":{\"id\":\"2383\"},\"y_scale\":{\"id\":\"2387\"}},\"id\":\"2380\",\"subtype\":\"Figure\",\"type\":\"Plot\"},{\"attributes\":{\"click_policy\":\"hide\",\"items\":[{\"id\":\"2420\"}]},\"id\":\"2419\",\"type\":\"Legend\"},{\"attributes\":{\"axis\":{\"id\":\"2393\"},\"dimension\":1,\"ticker\":null},\"id\":\"2396\",\"type\":\"Grid\"},{\"attributes\":{},\"id\":\"2400\",\"type\":\"SaveTool\"},{\"attributes\":{\"axis_label\":\"compressed length\",\"formatter\":{\"id\":\"2413\"},\"ticker\":{\"id\":\"2394\"}},\"id\":\"2393\",\"type\":\"LinearAxis\"},{\"attributes\":{},\"id\":\"2413\",\"type\":\"BasicTickFormatter\"},{\"attributes\":{},\"id\":\"2387\",\"type\":\"LinearScale\"},{\"attributes\":{\"line_alpha\":0.1,\"line_color\":\"red\",\"line_width\":2,\"x\":{\"field\":\"x\"},\"y\":{\"field\":\"y\"}},\"id\":\"2408\",\"type\":\"Line\"},{\"attributes\":{},\"id\":\"2415\",\"type\":\"BasicTickFormatter\"},{\"attributes\":{\"data\":{\"x\":[0,1,2,3,4,5,6,7],\"y\":[12,15,14,17,16,17,17,17]},\"selected\":{\"id\":\"2417\"},\"selection_policy\":{\"id\":\"2418\"}},\"id\":\"2406\",\"type\":\"ColumnDataSource\"},{\"attributes\":{\"line_color\":\"red\",\"line_width\":2,\"x\":{\"field\":\"x\"},\"y\":{\"field\":\"y\"}},\"id\":\"2407\",\"type\":\"Line\"},{\"attributes\":{},\"id\":\"2417\",\"type\":\"Selection\"},{\"attributes\":{},\"id\":\"2418\",\"type\":\"UnionRenderers\"},{\"attributes\":{},\"id\":\"2381\",\"type\":\"DataRange1d\"},{\"attributes\":{\"label\":{\"value\":\"zlib\"},\"renderers\":[{\"id\":\"2409\"}]},\"id\":\"2420\",\"type\":\"LegendItem\"},{\"attributes\":{},\"id\":\"2383\",\"type\":\"DataRange1d\"},{\"attributes\":{},\"id\":\"2385\",\"type\":\"LinearScale\"},{\"attributes\":{},\"id\":\"2398\",\"type\":\"WheelZoomTool\"},{\"attributes\":{\"axis\":{\"id\":\"2389\"},\"ticker\":null},\"id\":\"2392\",\"type\":\"Grid\"},{\"attributes\":{},\"id\":\"2394\",\"type\":\"BasicTicker\"},{\"attributes\":{},\"id\":\"2397\",\"type\":\"PanTool\"},{\"attributes\":{\"axis_label\":\"string_index\",\"formatter\":{\"id\":\"2415\"},\"ticker\":{\"id\":\"2390\"}},\"id\":\"2389\",\"type\":\"LinearAxis\"},{\"attributes\":{\"active_drag\":\"auto\",\"active_inspect\":\"auto\",\"active_multi\":null,\"active_scroll\":\"auto\",\"active_tap\":\"auto\",\"tools\":[{\"id\":\"2397\"},{\"id\":\"2398\"},{\"id\":\"2399\"},{\"id\":\"2400\"}]},\"id\":\"2401\",\"type\":\"Toolbar\"},{\"attributes\":{\"text\":\"\"},\"id\":\"2412\",\"type\":\"Title\"},{\"attributes\":{\"data_source\":{\"id\":\"2406\"},\"glyph\":{\"id\":\"2407\"},\"hover_glyph\":null,\"muted_glyph\":null,\"nonselection_glyph\":{\"id\":\"2408\"},\"selection_glyph\":null,\"view\":{\"id\":\"2410\"}},\"id\":\"2409\",\"type\":\"GlyphRenderer\"},{\"attributes\":{},\"id\":\"2399\",\"type\":\"ResetTool\"},{\"attributes\":{\"source\":{\"id\":\"2406\"}},\"id\":\"2410\",\"type\":\"CDSView\"},{\"attributes\":{},\"id\":\"2390\",\"type\":\"BasicTicker\"}],\"root_ids\":[\"2380\"]},\"title\":\"Bokeh Application\",\"version\":\"2.2.3\"}};\n",
       "  var render_items = [{\"docid\":\"7934a84f-4ff9-4872-87cf-9e11aa496548\",\"root_ids\":[\"2380\"],\"roots\":{\"2380\":\"40c37ab2-64d2-427a-8ee9-af57679ec5db\"}}];\n",
       "  root.Bokeh.embed.embed_items_notebook(docs_json, render_items);\n",
       "\n",
       "  }\n",
       "  if (root.Bokeh !== undefined) {\n",
       "    embed_document(root);\n",
       "  } else {\n",
       "    var attempts = 0;\n",
       "    var timer = setInterval(function(root) {\n",
       "      if (root.Bokeh !== undefined) {\n",
       "        clearInterval(timer);\n",
       "        embed_document(root);\n",
       "      } else {\n",
       "        attempts++;\n",
       "        if (attempts > 100) {\n",
       "          clearInterval(timer);\n",
       "          console.log(\"Bokeh: ERROR: Unable to run BokehJS code because BokehJS library is missing\");\n",
       "        }\n",
       "      }\n",
       "    }, 10, root)\n",
       "  }\n",
       "})(window);"
      ],
      "application/vnd.bokehjs_exec.v0+json": ""
     },
     "metadata": {
      "application/vnd.bokehjs_exec.v0+json": {
       "id": "2380"
      }
     },
     "output_type": "display_data"
    }
   ],
   "source": [
    "## Plot **only** the best compression algorithm here\n",
    "comp_plot = figure(**plot_options)\n",
    "comp_plot.line(range(len(strings)),\n",
    "                z_lib,\n",
    "                legend_label=\"zlib\",\n",
    "                line_color='red',\n",
    "                line_width=2)\n",
    "\n",
    "comp_plot.legend.click_policy=\"hide\"\n",
    "comp_plot.xaxis.axis_label = 'string_index'\n",
    "comp_plot.yaxis.axis_label = 'compressed length'\n",
    "show(comp_plot)"
   ]
  },
  {
   "cell_type": "markdown",
   "metadata": {},
   "source": [
    "Which compression scheme performs the best? What do you observe in the trend? what do you think it says about the relative randomness among strings? which strings are the least and most random? How well does this correlate to `LSTM Parameter Trend` plot\n",
    "\n",
    "```The increase in the size needed to encode is not regular but exhibit patterns although in general the average can be thought of as going up. The compression scheme zlib which gave the minimum compression says that string 2 is less random than string 1. There are some irregularities in the overall trend.```\n",
    "\n",
    "Now that you have seen statistical randomness prediction techniques, what do you think about using these to tell something about the predictability of strings? What advantages/disadvantages do you observe in them?"
   ]
  },
  {
   "cell_type": "markdown",
   "metadata": {},
   "source": [
    "## CTM\n",
    "\n",
    "Now let us see another alternate definition to randomness in string which is connected to Kolmogorov Algorithmic information theory. This theory is founded on the grounds of Turing machines hence it is universal-in the sense that I do not need to make any assumptions on the data in order get these values. Such a powerful theory obviously has some drawbacks in terms of practical usability. The Kolmgorov Complexity values are even theoretically proved to be uncomputable in general - But for small strings we can find pretty tight upper bounds. That is something nice to have in a very general theory.\n",
    "\n",
    "The method used to compute this is called CTM(Coding Theorem Method). The papers are a nice read about how exactly this is calculated but on a high level the upper bound is found by enumerating all possible Turing machines and finding if it produces the string or not."
   ]
  },
  {
   "cell_type": "markdown",
   "metadata": {},
   "source": [
    "**TASK**: Compute and plot the CTM values of the strings similar to what we have been doing. You can use the `BDM`(Block Decomposition Method) class from `pybdm` module to do this. `BDM` is a generalization of `CTM` method - when you set the `ndim=12` CTM is activated. "
   ]
  },
  {
   "cell_type": "code",
   "execution_count": 9,
   "metadata": {},
   "outputs": [
    {
     "data": {
      "text/html": [
       "\n",
       "\n",
       "\n",
       "\n",
       "\n",
       "\n",
       "  <div class=\"bk-root\" id=\"57ce3087-a374-46c5-9723-799e5a048b1c\" data-root-id=\"2561\"></div>\n"
      ]
     },
     "metadata": {},
     "output_type": "display_data"
    },
    {
     "data": {
      "application/javascript": [
       "(function(root) {\n",
       "  function embed_document(root) {\n",
       "    \n",
       "  var docs_json = {\"0b564956-fd33-49eb-b6f0-cabc80997ff1\":{\"roots\":{\"references\":[{\"attributes\":{\"below\":[{\"id\":\"2570\"}],\"center\":[{\"id\":\"2573\"},{\"id\":\"2577\"}],\"left\":[{\"id\":\"2574\"}],\"plot_height\":250,\"plot_width\":450,\"renderers\":[{\"id\":\"2590\"}],\"title\":{\"id\":\"2693\"},\"toolbar\":{\"id\":\"2582\"},\"x_range\":{\"id\":\"2562\"},\"x_scale\":{\"id\":\"2566\"},\"y_range\":{\"id\":\"2564\"},\"y_scale\":{\"id\":\"2568\"}},\"id\":\"2561\",\"subtype\":\"Figure\",\"type\":\"Plot\"},{\"attributes\":{\"axis_label\":\"block size\",\"formatter\":{\"id\":\"2696\"},\"ticker\":{\"id\":\"2571\"}},\"id\":\"2570\",\"type\":\"LinearAxis\"},{\"attributes\":{},\"id\":\"2699\",\"type\":\"UnionRenderers\"},{\"attributes\":{},\"id\":\"2568\",\"type\":\"LinearScale\"},{\"attributes\":{},\"id\":\"2575\",\"type\":\"BasicTicker\"},{\"attributes\":{\"text\":\"\"},\"id\":\"2693\",\"type\":\"Title\"},{\"attributes\":{},\"id\":\"2566\",\"type\":\"LinearScale\"},{\"attributes\":{},\"id\":\"2564\",\"type\":\"DataRange1d\"},{\"attributes\":{\"source\":{\"id\":\"2587\"}},\"id\":\"2591\",\"type\":\"CDSView\"},{\"attributes\":{},\"id\":\"2696\",\"type\":\"BasicTickFormatter\"},{\"attributes\":{},\"id\":\"2562\",\"type\":\"DataRange1d\"},{\"attributes\":{},\"id\":\"2694\",\"type\":\"BasicTickFormatter\"},{\"attributes\":{},\"id\":\"2571\",\"type\":\"BasicTicker\"},{\"attributes\":{},\"id\":\"2698\",\"type\":\"Selection\"},{\"attributes\":{\"axis\":{\"id\":\"2570\"},\"ticker\":null},\"id\":\"2573\",\"type\":\"Grid\"},{\"attributes\":{\"axis\":{\"id\":\"2574\"},\"dimension\":1,\"ticker\":null},\"id\":\"2577\",\"type\":\"Grid\"},{\"attributes\":{\"active_drag\":\"auto\",\"active_inspect\":\"auto\",\"active_multi\":null,\"active_scroll\":\"auto\",\"active_tap\":\"auto\",\"tools\":[{\"id\":\"2578\"},{\"id\":\"2579\"},{\"id\":\"2580\"},{\"id\":\"2581\"}]},\"id\":\"2582\",\"type\":\"Toolbar\"},{\"attributes\":{\"axis_label\":\"Kolmogorov Complexity(bits)\",\"formatter\":{\"id\":\"2694\"},\"ticker\":{\"id\":\"2575\"}},\"id\":\"2574\",\"type\":\"LinearAxis\"},{\"attributes\":{\"data_source\":{\"id\":\"2587\"},\"glyph\":{\"id\":\"2588\"},\"hover_glyph\":null,\"muted_glyph\":null,\"nonselection_glyph\":{\"id\":\"2589\"},\"selection_glyph\":null,\"view\":{\"id\":\"2591\"}},\"id\":\"2590\",\"type\":\"GlyphRenderer\"},{\"attributes\":{\"line_color\":\"#1f77b4\",\"line_width\":2,\"x\":{\"field\":\"x\"},\"y\":{\"field\":\"y\"}},\"id\":\"2588\",\"type\":\"Line\"},{\"attributes\":{\"data\":{\"x\":[0,1,2,3,4,5,6,7],\"y\":[26.99072664916141,29.0926552491871,31.420342613363147,33.3093113009744,33.5723457068082,34.157308207529354,36.06419880313787,36.06419880313787]},\"selected\":{\"id\":\"2698\"},\"selection_policy\":{\"id\":\"2699\"}},\"id\":\"2587\",\"type\":\"ColumnDataSource\"},{\"attributes\":{\"line_alpha\":0.1,\"line_color\":\"#1f77b4\",\"line_width\":2,\"x\":{\"field\":\"x\"},\"y\":{\"field\":\"y\"}},\"id\":\"2589\",\"type\":\"Line\"},{\"attributes\":{},\"id\":\"2578\",\"type\":\"PanTool\"},{\"attributes\":{},\"id\":\"2579\",\"type\":\"WheelZoomTool\"},{\"attributes\":{},\"id\":\"2581\",\"type\":\"SaveTool\"},{\"attributes\":{},\"id\":\"2580\",\"type\":\"ResetTool\"}],\"root_ids\":[\"2561\"]},\"title\":\"Bokeh Application\",\"version\":\"2.2.3\"}};\n",
       "  var render_items = [{\"docid\":\"0b564956-fd33-49eb-b6f0-cabc80997ff1\",\"root_ids\":[\"2561\"],\"roots\":{\"2561\":\"57ce3087-a374-46c5-9723-799e5a048b1c\"}}];\n",
       "  root.Bokeh.embed.embed_items_notebook(docs_json, render_items);\n",
       "\n",
       "  }\n",
       "  if (root.Bokeh !== undefined) {\n",
       "    embed_document(root);\n",
       "  } else {\n",
       "    var attempts = 0;\n",
       "    var timer = setInterval(function(root) {\n",
       "      if (root.Bokeh !== undefined) {\n",
       "        clearInterval(timer);\n",
       "        embed_document(root);\n",
       "      } else {\n",
       "        attempts++;\n",
       "        if (attempts > 100) {\n",
       "          clearInterval(timer);\n",
       "          console.log(\"Bokeh: ERROR: Unable to run BokehJS code because BokehJS library is missing\");\n",
       "        }\n",
       "      }\n",
       "    }, 10, root)\n",
       "  }\n",
       "})(window);"
      ],
      "application/vnd.bokehjs_exec.v0+json": ""
     },
     "metadata": {
      "application/vnd.bokehjs_exec.v0+json": {
       "id": "2561"
      }
     },
     "output_type": "display_data"
    }
   ],
   "source": [
    "plot_options = dict(width=450,\n",
    "                    plot_height=250,\n",
    "                    tools='pan,wheel_zoom,reset,save')\n",
    "ctm = []\n",
    "\n",
    "bdm = BDM(ndim=1, partition=PartitionIgnore)\n",
    "for string in strings:\n",
    "    b_ent = []\n",
    "    ctm.append(bdm.bdm(np.array(string)))\n",
    "    \n",
    "ctm_plot = figure(**plot_options)\n",
    "ctm_plot.line(range(len(strings)),\n",
    "                ctm,\n",
    "                line_width=2)\n",
    "ctm_plot.xaxis.axis_label = 'block size'\n",
    "ctm_plot.yaxis.axis_label = 'Kolmogorov Complexity(bits)'\n",
    "show(ctm_plot)"
   ]
  },
  {
   "cell_type": "markdown",
   "metadata": {},
   "source": [
    "What do you observe in the trend? what do you think it says about the relative randomness among strings? which strings are the least and most random? How well does this correlate to `LSTM Parameter Trend` plot?\n",
    "\n",
    "```CTM plot shows an increasing trend in the amount of mathematical randomness in the strings. The randomness seems to be correlated with the number of parameters in the LSTM model. At this point it is unsure what this means but this warrants further exploration.```"
   ]
  },
  {
   "cell_type": "markdown",
   "metadata": {},
   "source": [
    "Now that we explored 3 different methods, it is time to compare them. Plot all the three(block entropy, compression technique, kolmogorov complexity) in the same plot(Note that the actual values are different for each method - you will need to normalize the values to get the relative randomness in range \\[0, 1\\])"
   ]
  },
  {
   "cell_type": "code",
   "execution_count": 10,
   "metadata": {},
   "outputs": [
    {
     "data": {
      "text/html": [
       "\n",
       "\n",
       "\n",
       "\n",
       "\n",
       "\n",
       "  <div class=\"bk-root\" id=\"3e3a1c6d-688a-4561-b516-7ac9d9159dca\" data-root-id=\"2740\"></div>\n"
      ]
     },
     "metadata": {},
     "output_type": "display_data"
    },
    {
     "data": {
      "application/javascript": [
       "(function(root) {\n",
       "  function embed_document(root) {\n",
       "    \n",
       "  var docs_json = {\"cc5ff584-d6d7-4498-8fdd-21beb63ae944\":{\"roots\":{\"references\":[{\"attributes\":{\"below\":[{\"id\":\"2749\"}],\"center\":[{\"id\":\"2752\"},{\"id\":\"2756\"},{\"id\":\"2779\"}],\"left\":[{\"id\":\"2753\"}],\"plot_height\":300,\"plot_width\":550,\"renderers\":[{\"id\":\"2769\"},{\"id\":\"2784\"},{\"id\":\"2800\"},{\"id\":\"2818\"}],\"title\":{\"id\":\"2772\"},\"toolbar\":{\"id\":\"2761\"},\"x_range\":{\"id\":\"2741\"},\"x_scale\":{\"id\":\"2745\"},\"y_range\":{\"id\":\"2743\"},\"y_scale\":{\"id\":\"2747\"}},\"id\":\"2740\",\"subtype\":\"Figure\",\"type\":\"Plot\"},{\"attributes\":{\"data_source\":{\"id\":\"2797\"},\"glyph\":{\"id\":\"2798\"},\"hover_glyph\":null,\"muted_glyph\":null,\"nonselection_glyph\":{\"id\":\"2799\"},\"selection_glyph\":null,\"view\":{\"id\":\"2801\"}},\"id\":\"2800\",\"type\":\"GlyphRenderer\"},{\"attributes\":{},\"id\":\"2757\",\"type\":\"PanTool\"},{\"attributes\":{\"label\":{\"value\":\"ctm\"},\"renderers\":[{\"id\":\"2769\"}]},\"id\":\"2780\",\"type\":\"LegendItem\"},{\"attributes\":{},\"id\":\"2758\",\"type\":\"WheelZoomTool\"},{\"attributes\":{\"line_alpha\":0.1,\"line_color\":\"blue\",\"line_width\":2,\"x\":{\"field\":\"x\"},\"y\":{\"field\":\"y\"}},\"id\":\"2799\",\"type\":\"Line\"},{\"attributes\":{\"text\":\"\"},\"id\":\"2772\",\"type\":\"Title\"},{\"attributes\":{},\"id\":\"2759\",\"type\":\"ResetTool\"},{\"attributes\":{},\"id\":\"2777\",\"type\":\"Selection\"},{\"attributes\":{},\"id\":\"2812\",\"type\":\"Selection\"},{\"attributes\":{},\"id\":\"2741\",\"type\":\"DataRange1d\"},{\"attributes\":{},\"id\":\"2760\",\"type\":\"SaveTool\"},{\"attributes\":{},\"id\":\"2745\",\"type\":\"LinearScale\"},{\"attributes\":{\"source\":{\"id\":\"2797\"}},\"id\":\"2801\",\"type\":\"CDSView\"},{\"attributes\":{\"data\":{\"x\":[0,1,2,3,4,5,6,7],\"y\":{\"__ndarray__\":\"AAAAAAAAAAAAAAAAAADwPwAAAAAAAPA/AAAAAAAA8D8AAAAAAADwPwAAAAAAAPA/AAAAAAAA8D8AAAAAAADwPw==\",\"dtype\":\"float64\",\"order\":\"little\",\"shape\":[8]}},\"selected\":{\"id\":\"2812\"},\"selection_policy\":{\"id\":\"2813\"}},\"id\":\"2797\",\"type\":\"ColumnDataSource\"},{\"attributes\":{},\"id\":\"2743\",\"type\":\"DataRange1d\"},{\"attributes\":{\"label\":{\"value\":\"block entropy\"},\"renderers\":[{\"id\":\"2800\"}]},\"id\":\"2814\",\"type\":\"LegendItem\"},{\"attributes\":{\"source\":{\"id\":\"2766\"}},\"id\":\"2770\",\"type\":\"CDSView\"},{\"attributes\":{},\"id\":\"2813\",\"type\":\"UnionRenderers\"},{\"attributes\":{\"data_source\":{\"id\":\"2766\"},\"glyph\":{\"id\":\"2767\"},\"hover_glyph\":null,\"muted_glyph\":null,\"nonselection_glyph\":{\"id\":\"2768\"},\"selection_glyph\":null,\"view\":{\"id\":\"2770\"}},\"id\":\"2769\",\"type\":\"GlyphRenderer\"},{\"attributes\":{\"data_source\":{\"id\":\"2781\"},\"glyph\":{\"id\":\"2782\"},\"hover_glyph\":null,\"muted_glyph\":null,\"nonselection_glyph\":{\"id\":\"2783\"},\"selection_glyph\":null,\"view\":{\"id\":\"2785\"}},\"id\":\"2784\",\"type\":\"GlyphRenderer\"},{\"attributes\":{\"data\":{\"x\":[0,1,2,3,4,5,6,7],\"y\":{\"__ndarray__\":\"AAAAAAAAAAAigbcfEnjbPyKBtx8SeOM/n1pY6amF7T8XVnpqYaXvPwAAAAAAAPA//pDA2w8J7D+jONcxinPtPw==\",\"dtype\":\"float64\",\"order\":\"little\",\"shape\":[8]}},\"selected\":{\"id\":\"2832\"},\"selection_policy\":{\"id\":\"2833\"}},\"id\":\"2815\",\"type\":\"ColumnDataSource\"},{\"attributes\":{\"line_color\":\"blue\",\"line_width\":2,\"x\":{\"field\":\"x\"},\"y\":{\"field\":\"y\"}},\"id\":\"2798\",\"type\":\"Line\"},{\"attributes\":{\"line_alpha\":0.1,\"line_color\":\"orange\",\"line_width\":2,\"x\":{\"field\":\"x\"},\"y\":{\"field\":\"y\"}},\"id\":\"2817\",\"type\":\"Line\"},{\"attributes\":{},\"id\":\"2773\",\"type\":\"BasicTickFormatter\"},{\"attributes\":{\"line_alpha\":0.1,\"line_color\":\"green\",\"line_width\":2,\"x\":{\"field\":\"x\"},\"y\":{\"field\":\"y\"}},\"id\":\"2783\",\"type\":\"Line\"},{\"attributes\":{},\"id\":\"2747\",\"type\":\"LinearScale\"},{\"attributes\":{\"source\":{\"id\":\"2781\"}},\"id\":\"2785\",\"type\":\"CDSView\"},{\"attributes\":{\"line_alpha\":0.1,\"line_color\":\"red\",\"line_width\":2,\"x\":{\"field\":\"x\"},\"y\":{\"field\":\"y\"}},\"id\":\"2768\",\"type\":\"Line\"},{\"attributes\":{\"axis_label\":\"string index\",\"formatter\":{\"id\":\"2775\"},\"ticker\":{\"id\":\"2750\"}},\"id\":\"2749\",\"type\":\"LinearAxis\"},{\"attributes\":{\"data\":{\"x\":[0,1,2,3,4,5,6,7],\"y\":{\"__ndarray__\":\"AAAAAAAAAAAzMzMzMzPjP5qZmZmZmdk/AAAAAAAA8D+amZmZmZnpPwAAAAAAAPA/AAAAAAAA8D8AAAAAAADwPw==\",\"dtype\":\"float64\",\"order\":\"little\",\"shape\":[8]}},\"selected\":{\"id\":\"2794\"},\"selection_policy\":{\"id\":\"2795\"}},\"id\":\"2781\",\"type\":\"ColumnDataSource\"},{\"attributes\":{\"source\":{\"id\":\"2815\"}},\"id\":\"2819\",\"type\":\"CDSView\"},{\"attributes\":{},\"id\":\"2754\",\"type\":\"BasicTicker\"},{\"attributes\":{\"label\":{\"value\":\"zlib\"},\"renderers\":[{\"id\":\"2784\"}]},\"id\":\"2796\",\"type\":\"LegendItem\"},{\"attributes\":{},\"id\":\"2750\",\"type\":\"BasicTicker\"},{\"attributes\":{\"axis\":{\"id\":\"2749\"},\"ticker\":null},\"id\":\"2752\",\"type\":\"Grid\"},{\"attributes\":{\"data_source\":{\"id\":\"2815\"},\"glyph\":{\"id\":\"2816\"},\"hover_glyph\":null,\"muted_glyph\":null,\"nonselection_glyph\":{\"id\":\"2817\"},\"selection_glyph\":null,\"view\":{\"id\":\"2819\"}},\"id\":\"2818\",\"type\":\"GlyphRenderer\"},{\"attributes\":{},\"id\":\"2795\",\"type\":\"UnionRenderers\"},{\"attributes\":{\"axis\":{\"id\":\"2753\"},\"dimension\":1,\"ticker\":null},\"id\":\"2756\",\"type\":\"Grid\"},{\"attributes\":{},\"id\":\"2775\",\"type\":\"BasicTickFormatter\"},{\"attributes\":{\"line_color\":\"orange\",\"line_width\":2,\"x\":{\"field\":\"x\"},\"y\":{\"field\":\"y\"}},\"id\":\"2816\",\"type\":\"Line\"},{\"attributes\":{},\"id\":\"2832\",\"type\":\"Selection\"},{\"attributes\":{\"axis_label\":\"Randomness Estimation\",\"formatter\":{\"id\":\"2773\"},\"ticker\":{\"id\":\"2754\"}},\"id\":\"2753\",\"type\":\"LinearAxis\"},{\"attributes\":{\"label\":{\"value\":\"LSTM\"},\"renderers\":[{\"id\":\"2818\"}]},\"id\":\"2834\",\"type\":\"LegendItem\"},{\"attributes\":{},\"id\":\"2778\",\"type\":\"UnionRenderers\"},{\"attributes\":{\"click_policy\":\"hide\",\"items\":[{\"id\":\"2780\"},{\"id\":\"2796\"},{\"id\":\"2814\"},{\"id\":\"2834\"}],\"location\":\"bottom_right\"},\"id\":\"2779\",\"type\":\"Legend\"},{\"attributes\":{\"active_drag\":\"auto\",\"active_inspect\":\"auto\",\"active_multi\":null,\"active_scroll\":\"auto\",\"active_tap\":\"auto\",\"tools\":[{\"id\":\"2757\"},{\"id\":\"2758\"},{\"id\":\"2759\"},{\"id\":\"2760\"}]},\"id\":\"2761\",\"type\":\"Toolbar\"},{\"attributes\":{\"data\":{\"x\":[0,1,2,3,4,5,6,7],\"y\":{\"__ndarray__\":\"AAAAAAAAAADpK+Rh66bNPwdxzaWSPt8/v+plvL5I5j8vaaLjOTbnP3IE60tcRuk/AAAAAAAA8D8AAAAAAADwPw==\",\"dtype\":\"float64\",\"order\":\"little\",\"shape\":[8]}},\"selected\":{\"id\":\"2777\"},\"selection_policy\":{\"id\":\"2778\"}},\"id\":\"2766\",\"type\":\"ColumnDataSource\"},{\"attributes\":{},\"id\":\"2794\",\"type\":\"Selection\"},{\"attributes\":{},\"id\":\"2833\",\"type\":\"UnionRenderers\"},{\"attributes\":{\"line_color\":\"green\",\"line_width\":2,\"x\":{\"field\":\"x\"},\"y\":{\"field\":\"y\"}},\"id\":\"2782\",\"type\":\"Line\"},{\"attributes\":{\"line_color\":\"red\",\"line_width\":2,\"x\":{\"field\":\"x\"},\"y\":{\"field\":\"y\"}},\"id\":\"2767\",\"type\":\"Line\"}],\"root_ids\":[\"2740\"]},\"title\":\"Bokeh Application\",\"version\":\"2.2.3\"}};\n",
       "  var render_items = [{\"docid\":\"cc5ff584-d6d7-4498-8fdd-21beb63ae944\",\"root_ids\":[\"2740\"],\"roots\":{\"2740\":\"3e3a1c6d-688a-4561-b516-7ac9d9159dca\"}}];\n",
       "  root.Bokeh.embed.embed_items_notebook(docs_json, render_items);\n",
       "\n",
       "  }\n",
       "  if (root.Bokeh !== undefined) {\n",
       "    embed_document(root);\n",
       "  } else {\n",
       "    var attempts = 0;\n",
       "    var timer = setInterval(function(root) {\n",
       "      if (root.Bokeh !== undefined) {\n",
       "        clearInterval(timer);\n",
       "        embed_document(root);\n",
       "      } else {\n",
       "        attempts++;\n",
       "        if (attempts > 100) {\n",
       "          clearInterval(timer);\n",
       "          console.log(\"Bokeh: ERROR: Unable to run BokehJS code because BokehJS library is missing\");\n",
       "        }\n",
       "      }\n",
       "    }, 10, root)\n",
       "  }\n",
       "})(window);"
      ],
      "application/vnd.bokehjs_exec.v0+json": ""
     },
     "metadata": {
      "application/vnd.bokehjs_exec.v0+json": {
       "id": "2740"
      }
     },
     "output_type": "display_data"
    }
   ],
   "source": [
    "def normalize(a):\n",
    "    a = np.array(a)\n",
    "    return (a - np.min(a))/(np.max(a) - np.min(a))\n",
    "\n",
    "ctm = normalize(ctm)\n",
    "z_lib = normalize(z_lib)\n",
    "min_b_ent = normalize(min_b_ent)\n",
    "lstm_min_nparams = normalize(lstm_min_nparams)\n",
    "\n",
    "plot_options = dict(width=550,\n",
    "                    plot_height=300,\n",
    "                    tools='pan,wheel_zoom,reset,save')\n",
    "\n",
    "ctm_plot = figure(**plot_options)\n",
    "ctm_plot.line(range(len(strings)),\n",
    "              ctm,\n",
    "              line_color=\"red\",\n",
    "              line_width=2,\n",
    "              legend_label=\"ctm\")\n",
    "ctm_plot.line(range(len(strings)),\n",
    "              z_lib,\n",
    "              line_color=\"green\",\n",
    "              line_width=2,\n",
    "              legend_label=\"zlib\")\n",
    "ctm_plot.line(range(len(strings)),\n",
    "              min_b_ent,\n",
    "              line_color=\"blue\",\n",
    "              line_width=2,\n",
    "              legend_label=\"block entropy\")\n",
    "ctm_plot.line(range(len(strings)),\n",
    "              lstm_min_nparams,\n",
    "              line_color=\"orange\",\n",
    "              line_width=2,\n",
    "              legend_label=\"LSTM\")\n",
    "ctm_plot.legend.click_policy=\"hide\"\n",
    "ctm_plot.xaxis.axis_label = 'string index'\n",
    "ctm_plot.legend.location = 'bottom_right'\n",
    "ctm_plot.yaxis.axis_label = 'Randomness Estimation'\n",
    "show(ctm_plot)"
   ]
  },
  {
   "cell_type": "markdown",
   "metadata": {},
   "source": [
    "Which plot do you think approximates relative randomness computed by ctm method well?\n",
    "\n",
    "`LSTM` was able to capture the relative trends in randomness.\n",
    "\n",
    "(BONUS) Create a sequence generation model - with `L0 regularization` and find the minimum number of parameters in the model. Run the model on the given strings and try to obtain our LSTM n_params list."
   ]
  },
  {
   "cell_type": "code",
   "execution_count": 25,
   "metadata": {},
   "outputs": [
    {
     "name": "stderr",
     "output_type": "stream",
     "text": [
      "BokehUserWarning: ColumnDataSource's columns must be of the same length. Current lengths: ('accuracy', 0), ('n_params', 42), ('string_ids', 42)\n"
     ]
    },
    {
     "data": {
      "text/html": [
       "\n",
       "\n",
       "\n",
       "\n",
       "\n",
       "\n",
       "  <div class=\"bk-root\" id=\"0c06699a-15d2-4cbd-8aca-076fbfebe059\" data-root-id=\"6754\"></div>\n"
      ]
     },
     "metadata": {},
     "output_type": "display_data"
    },
    {
     "data": {
      "application/javascript": [
       "(function(root) {\n",
       "  function embed_document(root) {\n",
       "    \n",
       "  var docs_json = {\"922fd8bb-2365-4694-ba23-f1636f329084\":{\"roots\":{\"references\":[{\"attributes\":{\"below\":[{\"id\":\"6763\"}],\"center\":[{\"id\":\"6766\"},{\"id\":\"6770\"},{\"id\":\"6787\"}],\"left\":[{\"id\":\"6767\"}],\"plot_height\":400,\"renderers\":[{\"id\":\"6792\"},{\"id\":\"6797\"}],\"title\":{\"id\":\"7057\"},\"toolbar\":{\"id\":\"6778\"},\"x_range\":{\"id\":\"6755\"},\"x_scale\":{\"id\":\"6759\"},\"y_range\":{\"id\":\"6757\"},\"y_scale\":{\"id\":\"6761\"}},\"id\":\"6754\",\"subtype\":\"Figure\",\"type\":\"Plot\"},{\"attributes\":{},\"id\":\"6768\",\"type\":\"BasicTicker\"},{\"attributes\":{\"data\":{\"x\":[0,1,1,0,0,0,0,0,0,0,0,0,0,0,0,4,0,0,0,6,0,1,0,0,6,0,0,4,0,0,0,0,6,0,0,0,0,0,6,5,0,5,0,4,1,0,0,0,0,0,0,0,0,0,0,0,4,5,0,4,0,0,0,0,0,0,0,6,0,0,0,4,0,0,1,6,0,0,0,0,0,0,6,0,0,6,0,0,0,0,0,0,0,0,0,4,0,6,0,0,1,0,6,1,0,6,0,5,4,4,0,0,0,0,4,0,4,0,6,0,0,0,0,5,0,0,0,7,7,7,7,7,7,7,7,7,7,7,7,7,7,7,7,7,6,7,7,7,7,6,7,7,7,7,7,7,7,7,7,7,7,7,7,7,7,7,7,7,7,7,7,7,7,7,7,7,7,7,7,5,2,4,0,5,0,2,2,0,1,0,2,4,5,1,0,0,6,4,3,7,3,5,1,5,1,5,0,1,6,5,7,0,0,0,0,1,2,0,0,0,2,5,1,2,2,5,2,0,2,1,4,0,1,3,6,7,3,5,4,3,0,0,3,3,1,4,1,5,3,1,4,0,2,4,4,6,1,4,4,0,2,0,1,2,4,4,2,2,0,0,0,2,1,4,1,1,5,4,0,0,3,4,2,2,4,2,5,1,1,2,5,0,1,2,4,0,4,0,4,7,5,0,7,0,3,2,3,2,1,5,2,6,6,2,6,3,4,7,1,6,2,0,1,0,1,3,5,5,5,5,4,3,4,0,7,2,0,5,4,2,7,3,1,5,5,7,1,4,5,4,2,4,3,1,1,2,6,6,4,1,0,5,5,0,0,0,4,7,7,6,5,7,5,3,1,5,6,0,2,6,1,5,0,0,2,0,0,0,0,5,6,0,5,4,2,0,0,6,0,2,1,1,0,2,4,5,1,5,2,0,4,1,5,4,2,4,5,1,7,6,0,0,2,0,0,3,1,4,6,7,1,4,5,2,5,3,1,5,1,3,2,4,1,7,1,6,2,1,2,0,2,5,4,2,5,5,2,6,2,3,5,1,5,7,5,1,0,4,0,6,4,0,1,4,2,2,4,0,5,0,2,2,1,1,4,5,5,5,5,5,1,1,3,5,3,2,1,3,1,3,4,1,0,4,2,5,2,0,5,1,4,5,0,3,5,1,4,0,1,0,3,0,2,3,2,0,2,7,1,5,2,3,7,5,0,5,0,0,1,4,3,7,0,6,0,5,1,2,1,5,6,4,2,3,1,3,7,0,1,7,7,5,4,4,3,7,4,0,3,3,2,7,1,1,4,0,5,1,3,4,0,6,3,0,6,2,1,0,1,4,0,4,1,1,4,1,1,3,1,3,1,5,0,3,7,5,2,7,4,5,2,4,1,0,7,0,5,1,7,0,0,7,2,3,2,0,0,5,7,4,4,5,0,1,1,4,2,4,2,1,5,5,0,0,2,5,4,7,0,1,1,7,7,0,6,1,1,1,1,0,5,6,3,7,5,7,2,1,0,5,4,7,6,5,4,0,0,0,7,1,1,5,0,4,7,0,3,3,1,0,1,5,3,3,4,5,0,6,3,3,5,2,4,2,1,3,0,4,4,2,0,7,1,7,1,1,1,1,3,0,1,6,4,5,2,1,7,5,3,7],\"y\":[268,641,641,559,347,163,384,641,641,265,641,641,179,409,162,612,13,435,617,641,641,494,578,641,641,602,358,370,588,169,243,615,598,162,425,590,474,187,476,638,641,633,641,641,641,362,586,584,249,405,641,641,559,400,441,641,623,635,495,516,413,194,548,388,592,350,367,548,611,479,637,476,454,373,641,591,641,476,154,407,177,322,629,621,641,641,548,641,508,372,525,641,377,275,268,480,63,390,562,316,586,127,441,497,307,427,434,585,625,624,215,351,588,346,608,382,591,450,546,618,460,465,142,622,224,623,294,600,641,513,556,641,529,526,641,117,73,540,570,634,515,578,641,641,119,526,641,631,220,59,630,641,641,632,641,580,233,599,616,545,584,637,597,496,607,641,597,641,621,641,513,600,470,512,536,490,530,641,641,2278,2281,2224,2281,868,53,2234,1640,386,1634,2281,2199,1929,1552,2232,215,200,1492,2246,1979,1543,1802,680,1657,2253,2281,2170,71,1298,1289,2271,2104,245,2281,1461,382,1338,2236,109,69,263,2281,2259,2281,2127,2213,2175,2215,187,2281,1154,2242,653,2225,2281,1857,1654,2192,1171,2281,1255,403,1108,2145,2281,1529,2243,1758,2254,2281,2156,1946,46,2281,2244,1746,1464,1222,2216,2281,857,2281,337,2241,2204,1739,1690,2202,2203,283,1403,1239,2281,921,2000,1591,1568,2269,2142,72,2281,1017,2003,2281,2281,2258,2071,1146,2281,1710,1740,1406,67,2281,32,2281,73,1818,251,1813,2133,2281,1791,2134,103,2189,2281,362,2231,1221,2257,1949,1285,1189,2281,1874,2223,2281,2188,2133,1842,35,2281,1719,430,688,2155,2152,2281,2259,2280,1551,2281,2281,264,2185,2281,2281,1712,2178,2028,1636,2117,1880,2281,2041,1430,1185,2281,2191,2281,2281,1786,2159,2241,1737,2192,1373,2281,2211,2281,704,1195,2281,217,2281,2281,2008,2136,2083,1835,2137,1611,2222,2181,1060,2276,2281,171,2281,1989,2179,1122,91,2281,1755,41,455,41,261,2145,1149,2281,2243,2226,1602,2281,115,1296,182,1854,2281,1123,2281,2281,2281,1406,1828,1100,1666,2281,1958,1218,2266,1980,2097,1947,2239,2141,2138,1210,74,512,1743,89,396,1639,2244,2237,1863,2007,2204,2281,2273,2220,2272,2281,1760,2281,2157,62,2181,1794,2281,2192,2281,1862,1924,940,2281,2281,2281,2281,1754,2281,2281,2271,2281,1966,35,1206,2281,2182,2190,1548,2276,2281,106,2220,1094,1879,2281,976,2170,2136,1762,2134,2237,51,1510,2281,1803,2080,2193,2281,2281,1504,2281,2264,2045,2281,818,2281,1248,2230,2078,1884,928,2151,2281,1673,2211,2239,550,2281,2281,2199,2281,2281,2235,2281,2281,2277,2281,2175,2267,1670,2252,139,2262,815,2281,2279,2281,1823,2281,1221,2281,1642,1798,2281,2214,1582,2076,2269,2241,2281,415,586,1101,2281,1725,1712,2281,2009,57,2281,1457,2018,2248,2255,1741,2226,2240,223,1372,2195,2097,138,1438,2103,1751,2226,2281,1843,2281,2109,2247,59,2281,2194,34,1632,1096,1019,2027,2281,1591,2204,1307,2202,914,1226,1755,2281,1875,2281,1650,2281,2281,2238,141,2198,1006,2274,2188,2281,1398,2208,994,2120,1633,2241,920,1973,2089,1364,2209,2058,2281,2281,2181,2281,1859,273,2128,310,2143,1084,1570,296,2281,1700,1837,2168,2281,2281,2281,972,2112,2019,2281,2279,46,2199,2211,2054,2226,2281,2281,1649,2264,2267,70,843,2281,2191,1727,2081,2281,1380,2281,1565,2083,177,1898,2239,2281,2281,2254,2281,2275,1908,2173,2195,2212,1868,2174,1143,472,2266,2221,1503,1837,560,1683,232,292,2069,2036,2281,2281,2185,1975,2281,2024,378,2107,1437,2174,580,1481,1327,2281,2222,2047,2267,2281,1889,2079,1503,2281,1882,2263,2199,2190,2136,1496,2038,2063,2281,67,2047,897,2013,1064,1575,2221,1764,1840,2281,1999,1877,2189,2082,2281,1179,2053,1142,1705,1866]},\"selected\":{\"id\":\"7067\"},\"selection_policy\":{\"id\":\"7068\"}},\"id\":\"6789\",\"type\":\"ColumnDataSource\"},{\"attributes\":{\"axis\":{\"id\":\"6763\"},\"ticker\":null},\"id\":\"6766\",\"type\":\"Grid\"},{\"attributes\":{},\"id\":\"7060\",\"type\":\"BasicTickFormatter\"},{\"attributes\":{},\"id\":\"6759\",\"type\":\"LinearScale\"},{\"attributes\":{\"level\":\"underlay\",\"size\":10},\"id\":\"7063\",\"type\":\"TeeHead\"},{\"attributes\":{\"fill_alpha\":{\"value\":0.5},\"fill_color\":{\"value\":\"green\"},\"line_alpha\":{\"value\":0.5},\"line_color\":{\"value\":\"green\"},\"size\":{\"units\":\"screen\",\"value\":15},\"x\":{\"field\":\"x\"},\"y\":{\"field\":\"y\"}},\"id\":\"6790\",\"type\":\"X\"},{\"attributes\":{\"formatter\":{\"id\":\"7058\"},\"ticker\":{\"id\":\"6768\"}},\"id\":\"6767\",\"type\":\"LinearAxis\"},{\"attributes\":{},\"id\":\"7064\",\"type\":\"Selection\"},{\"attributes\":{},\"id\":\"7065\",\"type\":\"UnionRenderers\"},{\"attributes\":{\"axis\":{\"id\":\"6767\"},\"dimension\":1,\"ticker\":null},\"id\":\"6770\",\"type\":\"Grid\"},{\"attributes\":{\"fill_color\":{\"value\":\"navy\"},\"line_color\":{\"value\":\"navy\"},\"size\":{\"units\":\"screen\",\"value\":20},\"x\":{\"field\":\"string_ids\"},\"y\":{\"field\":\"n_params\"}},\"id\":\"6795\",\"type\":\"X\"},{\"attributes\":{},\"id\":\"7067\",\"type\":\"Selection\"},{\"attributes\":{\"source\":{\"id\":\"6785\"}},\"id\":\"6798\",\"type\":\"CDSView\"},{\"attributes\":{\"text\":\"\"},\"id\":\"7057\",\"type\":\"Title\"},{\"attributes\":{\"data\":{\"base\":[],\"lower\":[],\"mean\":[],\"upper\":[]},\"selected\":{\"id\":\"7064\"},\"selection_policy\":{\"id\":\"7065\"}},\"id\":\"6786\",\"type\":\"ColumnDataSource\"},{\"attributes\":{},\"id\":\"6776\",\"type\":\"HelpTool\"},{\"attributes\":{},\"id\":\"7068\",\"type\":\"UnionRenderers\"},{\"attributes\":{\"base\":{\"field\":\"base\",\"units\":\"data\"},\"lower\":{\"field\":\"lower\",\"units\":\"data\"},\"lower_head\":{\"id\":\"7063\"},\"source\":{\"id\":\"6786\"},\"upper\":{\"field\":\"upper\",\"units\":\"data\"},\"upper_head\":{\"id\":\"7062\"}},\"id\":\"6787\",\"type\":\"Whisker\"},{\"attributes\":{},\"id\":\"7058\",\"type\":\"BasicTickFormatter\"},{\"attributes\":{},\"id\":\"6757\",\"type\":\"DataRange1d\"},{\"attributes\":{},\"id\":\"6764\",\"type\":\"BasicTicker\"},{\"attributes\":{},\"id\":\"7070\",\"type\":\"UnionRenderers\"},{\"attributes\":{\"source\":{\"id\":\"6789\"}},\"id\":\"6793\",\"type\":\"CDSView\"},{\"attributes\":{},\"id\":\"7069\",\"type\":\"Selection\"},{\"attributes\":{\"fill_alpha\":{\"value\":0.1},\"fill_color\":{\"value\":\"green\"},\"line_alpha\":{\"value\":0.1},\"line_color\":{\"value\":\"green\"},\"size\":{\"units\":\"screen\",\"value\":15},\"x\":{\"field\":\"x\"},\"y\":{\"field\":\"y\"}},\"id\":\"6791\",\"type\":\"X\"},{\"attributes\":{\"active_drag\":\"auto\",\"active_inspect\":\"auto\",\"active_multi\":null,\"active_scroll\":\"auto\",\"active_tap\":\"auto\",\"tools\":[{\"id\":\"6771\"},{\"id\":\"6772\"},{\"id\":\"6773\"},{\"id\":\"6774\"},{\"id\":\"6775\"},{\"id\":\"6776\"}]},\"id\":\"6778\",\"type\":\"Toolbar\"},{\"attributes\":{\"data_source\":{\"id\":\"6789\"},\"glyph\":{\"id\":\"6790\"},\"hover_glyph\":null,\"muted_glyph\":null,\"nonselection_glyph\":{\"id\":\"6791\"},\"selection_glyph\":null,\"view\":{\"id\":\"6793\"}},\"id\":\"6792\",\"type\":\"GlyphRenderer\"},{\"attributes\":{},\"id\":\"6772\",\"type\":\"WheelZoomTool\"},{\"attributes\":{},\"id\":\"6771\",\"type\":\"PanTool\"},{\"attributes\":{\"bottom_units\":\"screen\",\"fill_alpha\":0.5,\"fill_color\":\"lightgrey\",\"left_units\":\"screen\",\"level\":\"overlay\",\"line_alpha\":1.0,\"line_color\":\"black\",\"line_dash\":[4,4],\"line_width\":2,\"right_units\":\"screen\",\"top_units\":\"screen\"},\"id\":\"6777\",\"type\":\"BoxAnnotation\"},{\"attributes\":{\"data\":{\"accuracy\":[],\"n_params\":[13,63,53,71,109,69,46,72,67,73,103,91,41,41,74,89,106,51,57,59,46,70,67,494,586,497,370,119,59,638,633,635,585,622,560,117,73,32,35,35,34,62],\"string_ids\":[0,0,0,0,0,0,0,0,0,0,0,0,0,0,0,0,0,0,0,0,0,0,0,1,1,1,4,6,6,5,5,5,5,5,5,7,7,2,2,2,2,3]},\"selected\":{\"id\":\"7069\"},\"selection_policy\":{\"id\":\"7070\"}},\"id\":\"6785\",\"type\":\"ColumnDataSource\"},{\"attributes\":{},\"id\":\"6761\",\"type\":\"LinearScale\"},{\"attributes\":{},\"id\":\"6755\",\"type\":\"DataRange1d\"},{\"attributes\":{\"level\":\"underlay\",\"size\":10},\"id\":\"7062\",\"type\":\"TeeHead\"},{\"attributes\":{\"overlay\":{\"id\":\"6777\"}},\"id\":\"6773\",\"type\":\"BoxZoomTool\"},{\"attributes\":{},\"id\":\"6774\",\"type\":\"SaveTool\"},{\"attributes\":{\"formatter\":{\"id\":\"7060\"},\"ticker\":{\"id\":\"6764\"}},\"id\":\"6763\",\"type\":\"LinearAxis\"},{\"attributes\":{},\"id\":\"6775\",\"type\":\"ResetTool\"},{\"attributes\":{\"fill_alpha\":{\"value\":0.1},\"fill_color\":{\"value\":\"navy\"},\"line_alpha\":{\"value\":0.1},\"line_color\":{\"value\":\"navy\"},\"size\":{\"units\":\"screen\",\"value\":20},\"x\":{\"field\":\"string_ids\"},\"y\":{\"field\":\"n_params\"}},\"id\":\"6796\",\"type\":\"X\"},{\"attributes\":{\"data_source\":{\"id\":\"6785\"},\"glyph\":{\"id\":\"6795\"},\"hover_glyph\":null,\"muted_glyph\":null,\"nonselection_glyph\":{\"id\":\"6796\"},\"selection_glyph\":null,\"view\":{\"id\":\"6798\"}},\"id\":\"6797\",\"type\":\"GlyphRenderer\"}],\"root_ids\":[\"6754\"]},\"title\":\"Bokeh Application\",\"version\":\"2.2.3\"}};\n",
       "  var render_items = [{\"docid\":\"922fd8bb-2365-4694-ba23-f1636f329084\",\"root_ids\":[\"6754\"],\"roots\":{\"6754\":\"0c06699a-15d2-4cbd-8aca-076fbfebe059\"}}];\n",
       "  root.Bokeh.embed.embed_items_notebook(docs_json, render_items);\n",
       "\n",
       "  }\n",
       "  if (root.Bokeh !== undefined) {\n",
       "    embed_document(root);\n",
       "  } else {\n",
       "    var attempts = 0;\n",
       "    var timer = setInterval(function(root) {\n",
       "      if (root.Bokeh !== undefined) {\n",
       "        clearInterval(timer);\n",
       "        embed_document(root);\n",
       "      } else {\n",
       "        attempts++;\n",
       "        if (attempts > 100) {\n",
       "          clearInterval(timer);\n",
       "          console.log(\"Bokeh: ERROR: Unable to run BokehJS code because BokehJS library is missing\");\n",
       "        }\n",
       "      }\n",
       "    }, 10, root)\n",
       "  }\n",
       "})(window);"
      ],
      "application/vnd.bokehjs_exec.v0+json": ""
     },
     "metadata": {
      "application/vnd.bokehjs_exec.v0+json": {
       "id": "6754"
      }
     },
     "output_type": "display_data"
    }
   ],
   "source": [
    "db_path = \"/home/arjun/result_20.db\"\n",
    "\n",
    "db = Database()\n",
    "db.open(db_path)\n",
    "\n",
    "db.query(\"\"\"SELECT * FROM RESULTS WHERE accuracy=1\"\"\")\n",
    "rows = db.cursor.fetchall()\n",
    "\n",
    "string_ids = []\n",
    "params_list = []\n",
    "l0_list = []\n",
    "result_dict = {}\n",
    "max_l0_dict = {}\n",
    "data_dict = {\n",
    "    \"string_ids\": [],\n",
    "    \"n_params\": [],\n",
    "    \"accuracy\": []\n",
    "}\n",
    "error_dict = {\n",
    "    \"base\": [],\n",
    "    \"upper\": [],\n",
    "    \"lower\": [],\n",
    "    \"mean\": []\n",
    "}\n",
    "\n",
    "for row in rows:\n",
    "    try:\n",
    "        string_idx, seed, n_params, accuracy, l0_reg = row\n",
    "    except Exception:\n",
    "        string_idx, seed, n_params, accuracy = row\n",
    "#     if max_l0_dict[string_idx] == l0_reg:\n",
    "    string_ids.append(string_idx)\n",
    "    params_list.append(n_params)\n",
    "    l0_list.append(n_params)\n",
    "\n",
    "    if string_idx not in result_dict.keys():\n",
    "        result_dict[string_idx] = []\n",
    "\n",
    "    result_dict[string_idx].append(n_params)\n",
    "\n",
    "# Take only low magnitude params that are close to one another\n",
    "for string_id, param_list in result_dict.items():\n",
    "    result_dict[string_id] = [ param for param in param_list \n",
    "                              if param-np.min(param_list) < 100 ]\n",
    "    for param in result_dict[string_id]:\n",
    "        data_dict[\"string_ids\"].append(string_id)\n",
    "        data_dict[\"n_params\"].append(param)\n",
    "    \n",
    "p = figure(plot_width=600, plot_height=400)\n",
    "# add a circle renderer with a size, color, and alpha\n",
    "\n",
    "source_data = ColumnDataSource(data_dict)\n",
    "source_error = ColumnDataSource(error_dict)\n",
    "\n",
    "p.add_layout(\n",
    "    Whisker(source=source_error, base=\"base\", upper=\"upper\", lower=\"lower\")\n",
    ")\n",
    "\n",
    "p.x(string_ids, \n",
    "    params_list,\n",
    "    size=15, color=\"green\", alpha=0.5)\n",
    "\n",
    "p.x(source=source_data, \n",
    "    x=\"string_ids\",\n",
    "    y=\"n_params\",\n",
    "    size=20, color=\"navy\", alpha=1)\n",
    "show(p)"
   ]
  },
  {
   "cell_type": "code",
   "execution_count": 84,
   "metadata": {},
   "outputs": [
    {
     "name": "stdout",
     "output_type": "stream",
     "text": [
      "Index(['0', '1', '4', '6', '5', '7', '2', '3'], dtype='object')\n"
     ]
    },
    {
     "data": {
      "text/html": [
       "\n",
       "\n",
       "\n",
       "\n",
       "\n",
       "\n",
       "  <div class=\"bk-root\" id=\"1bfb3fdc-a5cd-4fb2-8051-7115568af8eb\" data-root-id=\"27911\"></div>\n"
      ]
     },
     "metadata": {},
     "output_type": "display_data"
    },
    {
     "data": {
      "application/javascript": [
       "(function(root) {\n",
       "  function embed_document(root) {\n",
       "    \n",
       "  var docs_json = {\"f256ac5b-4bb5-4bc2-bc3c-ec4c53dd7c0b\":{\"roots\":{\"references\":[{\"attributes\":{\"below\":[{\"id\":\"27922\"}],\"center\":[{\"id\":\"27925\"},{\"id\":\"27929\"}],\"left\":[{\"id\":\"27926\"}],\"renderers\":[{\"id\":\"27948\"}],\"title\":{\"id\":\"27912\"},\"toolbar\":{\"id\":\"27937\"},\"x_range\":{\"id\":\"27914\"},\"x_scale\":{\"id\":\"27918\"},\"y_range\":{\"id\":\"27916\"},\"y_scale\":{\"id\":\"27920\"}},\"id\":\"27911\",\"subtype\":\"Figure\",\"type\":\"Plot\"},{\"attributes\":{\"text\":\"Histogram of 0\"},\"id\":\"27912\",\"type\":\"Title\"},{\"attributes\":{},\"id\":\"27918\",\"type\":\"LinearScale\"},{\"attributes\":{\"callback\":null,\"tooltips\":[[\"Interval\",\"@interval\"],[\"Count\",\"@0\"]]},\"id\":\"27950\",\"type\":\"HoverTool\"},{\"attributes\":{\"overlay\":{\"id\":\"27936\"}},\"id\":\"27932\",\"type\":\"BoxZoomTool\"},{\"attributes\":{\"data\":{\"0\":[18,15,15,18,19,18,8,19,20,1,2,3,1,0,2,1,1,0,1,2,0,0,0,1,0,1,0,1,0,30],\"index\":[0,1,2,3,4,5,6,7,8,9,10,11,12,13,14,15,16,17,18,19,20,21,22,23,24,25,26,27,28,29],\"interval\":[\"13 to 88\",\"88 to 164\",\"164 to 239\",\"239 to 315\",\"315 to 391\",\"391 to 466\",\"466 to 542\",\"542 to 617\",\"617 to 693\",\"693 to 769\",\"769 to 844\",\"844 to 920\",\"920 to 995\",\"995 to 1071\",\"1071 to 1147\",\"1147 to 1222\",\"1222 to 1298\",\"1298 to 1373\",\"1373 to 1449\",\"1449 to 1525\",\"1525 to 1600\",\"1600 to 1676\",\"1676 to 1751\",\"1751 to 1827\",\"1827 to 1902\",\"1902 to 1978\",\"1978 to 2054\",\"2054 to 2129\",\"2129 to 2205\",\"2205 to 2281\"],\"left\":{\"__ndarray__\":\"AAAAAAAAKkBmZmZmZiZWQGZmZmZmhmRAmZmZmZn5bUBmZmZmZrZzQAAAAAAAcHhAmZmZmZkpfUCZmZmZmfGAQGZmZmZmToNAMzMzMzOrhUAAAAAAAAiIQMzMzMzMZIpAmZmZmZnBjEBmZmZmZh6PQJmZmZmZvZBAAAAAAADskUBmZmZmZhqTQMzMzMzMSJRAMzMzMzN3lUCZmZmZmaWWQAAAAAAA1JdAZmZmZmYCmUDMzMzMzDCaQDMzMzMzX5tAmZmZmZmNnED//////7udQGZmZmZm6p5AZmZmZmYMoECZmZmZmaOgQMzMzMzMOqFA\",\"dtype\":\"float64\",\"order\":\"little\",\"shape\":[30]},\"right\":{\"__ndarray__\":\"ZmZmZmYmVkBmZmZmZoZkQJmZmZmZ+W1AZmZmZma2c0AAAAAAAHB4QJmZmZmZKX1AmZmZmZnxgEBmZmZmZk6DQDMzMzMzq4VAAAAAAAAIiEDMzMzMzGSKQJmZmZmZwYxAZmZmZmYej0CZmZmZmb2QQAAAAAAA7JFAZmZmZmYak0DMzMzMzEiUQDMzMzMzd5VAmZmZmZmllkAAAAAAANSXQGZmZmZmAplAzMzMzMwwmkAzMzMzM1+bQJmZmZmZjZxA//////+7nUBmZmZmZuqeQGZmZmZmDKBAmZmZmZmjoEDMzMzMzDqhQAAAAAAA0qFA\",\"dtype\":\"float64\",\"order\":\"little\",\"shape\":[30]}},\"selected\":{\"id\":\"28550\"},\"selection_policy\":{\"id\":\"28551\"}},\"id\":\"27910\",\"type\":\"ColumnDataSource\"},{\"attributes\":{},\"id\":\"27933\",\"type\":\"SaveTool\"},{\"attributes\":{},\"id\":\"27916\",\"type\":\"DataRange1d\"},{\"attributes\":{},\"id\":\"27934\",\"type\":\"ResetTool\"},{\"attributes\":{},\"id\":\"28551\",\"type\":\"UnionRenderers\"},{\"attributes\":{},\"id\":\"28547\",\"type\":\"BasicTickFormatter\"},{\"attributes\":{},\"id\":\"27935\",\"type\":\"HelpTool\"},{\"attributes\":{},\"id\":\"28550\",\"type\":\"Selection\"},{\"attributes\":{},\"id\":\"27920\",\"type\":\"LinearScale\"},{\"attributes\":{\"axis_label\":\"0\",\"formatter\":{\"id\":\"28547\"},\"ticker\":{\"id\":\"27923\"}},\"id\":\"27922\",\"type\":\"LinearAxis\"},{\"attributes\":{\"axis\":{\"id\":\"27926\"},\"dimension\":1,\"ticker\":null},\"id\":\"27929\",\"type\":\"Grid\"},{\"attributes\":{\"bottom\":{\"value\":0},\"fill_alpha\":{\"value\":0.1},\"fill_color\":{\"value\":\"SteelBlue\"},\"left\":{\"field\":\"left\"},\"line_alpha\":{\"value\":0.1},\"right\":{\"field\":\"right\"},\"top\":{\"field\":\"0\"}},\"id\":\"27946\",\"type\":\"Quad\"},{\"attributes\":{},\"id\":\"27923\",\"type\":\"BasicTicker\"},{\"attributes\":{\"axis\":{\"id\":\"27922\"},\"ticker\":null},\"id\":\"27925\",\"type\":\"Grid\"},{\"attributes\":{},\"id\":\"27927\",\"type\":\"BasicTicker\"},{\"attributes\":{\"axis_label\":\"Count\",\"formatter\":{\"id\":\"28545\"},\"ticker\":{\"id\":\"27927\"}},\"id\":\"27926\",\"type\":\"LinearAxis\"},{\"attributes\":{},\"id\":\"28545\",\"type\":\"BasicTickFormatter\"},{\"attributes\":{\"source\":{\"id\":\"27910\"}},\"id\":\"27949\",\"type\":\"CDSView\"},{\"attributes\":{\"data_source\":{\"id\":\"27910\"},\"glyph\":{\"id\":\"27945\"},\"hover_glyph\":{\"id\":\"27947\"},\"muted_glyph\":null,\"nonselection_glyph\":{\"id\":\"27946\"},\"selection_glyph\":null,\"view\":{\"id\":\"27949\"}},\"id\":\"27948\",\"type\":\"GlyphRenderer\"},{\"attributes\":{},\"id\":\"27914\",\"type\":\"DataRange1d\"},{\"attributes\":{\"active_drag\":\"auto\",\"active_inspect\":\"auto\",\"active_multi\":null,\"active_scroll\":\"auto\",\"active_tap\":\"auto\",\"tools\":[{\"id\":\"27930\"},{\"id\":\"27931\"},{\"id\":\"27932\"},{\"id\":\"27933\"},{\"id\":\"27934\"},{\"id\":\"27935\"},{\"id\":\"27950\"}]},\"id\":\"27937\",\"type\":\"Toolbar\"},{\"attributes\":{\"bottom_units\":\"screen\",\"fill_alpha\":0.5,\"fill_color\":\"lightgrey\",\"left_units\":\"screen\",\"level\":\"overlay\",\"line_alpha\":1.0,\"line_color\":\"black\",\"line_dash\":[4,4],\"line_width\":2,\"right_units\":\"screen\",\"top_units\":\"screen\"},\"id\":\"27936\",\"type\":\"BoxAnnotation\"},{\"attributes\":{\"bottom\":{\"value\":0},\"fill_alpha\":{\"value\":0.7},\"fill_color\":{\"value\":\"SteelBlue\"},\"left\":{\"field\":\"left\"},\"right\":{\"field\":\"right\"},\"top\":{\"field\":\"0\"}},\"id\":\"27945\",\"type\":\"Quad\"},{\"attributes\":{\"bottom\":{\"value\":0},\"fill_color\":{\"value\":\"Tan\"},\"left\":{\"field\":\"left\"},\"right\":{\"field\":\"right\"},\"top\":{\"field\":\"0\"}},\"id\":\"27947\",\"type\":\"Quad\"},{\"attributes\":{},\"id\":\"27930\",\"type\":\"PanTool\"},{\"attributes\":{},\"id\":\"27931\",\"type\":\"WheelZoomTool\"}],\"root_ids\":[\"27911\"]},\"title\":\"Bokeh Application\",\"version\":\"2.2.3\"}};\n",
       "  var render_items = [{\"docid\":\"f256ac5b-4bb5-4bc2-bc3c-ec4c53dd7c0b\",\"root_ids\":[\"27911\"],\"roots\":{\"27911\":\"1bfb3fdc-a5cd-4fb2-8051-7115568af8eb\"}}];\n",
       "  root.Bokeh.embed.embed_items_notebook(docs_json, render_items);\n",
       "\n",
       "  }\n",
       "  if (root.Bokeh !== undefined) {\n",
       "    embed_document(root);\n",
       "  } else {\n",
       "    var attempts = 0;\n",
       "    var timer = setInterval(function(root) {\n",
       "      if (root.Bokeh !== undefined) {\n",
       "        clearInterval(timer);\n",
       "        embed_document(root);\n",
       "      } else {\n",
       "        attempts++;\n",
       "        if (attempts > 100) {\n",
       "          clearInterval(timer);\n",
       "          console.log(\"Bokeh: ERROR: Unable to run BokehJS code because BokehJS library is missing\");\n",
       "        }\n",
       "      }\n",
       "    }, 10, root)\n",
       "  }\n",
       "})(window);"
      ],
      "application/vnd.bokehjs_exec.v0+json": ""
     },
     "metadata": {
      "application/vnd.bokehjs_exec.v0+json": {
       "id": "27911"
      }
     },
     "output_type": "display_data"
    },
    {
     "name": "stdout",
     "output_type": "stream",
     "text": [
      "[255, 546, 334, 150, 371, 628, 628, 252, 628, 628, 166, 396, 149, 0, 422, 604, 628, 565, 628, 589, 345, 575, 156, 230, 602, 149, 412, 577, 461, 174, 628, 628, 349, 573, 571, 236, 392, 628, 628, 546, 387, 428, 628, 482, 400, 181, 535, 375, 579, 337, 354, 598, 466, 624, 441, 360, 628, 463, 141, 394, 164, 309, 608, 628, 535, 628, 495, 359, 512, 628, 364, 262, 255, 50, 549, 303, 114, 294, 421, 202, 338, 575, 333, 369, 437, 605, 447, 452, 129, 211, 610, 281, 2268, 40, 373, 2268, 202, 187, 58, 232, 2268, 1448, 369, 96, 56, 250, 174, 640, 390, 1095, 33, 844, 324, 270, 1390, 1226, 59, 2268, 54, 60, 238, 1778, 90, 2268, 417, 251, 2268, 691, 204, 2268, 2268, 158, 78, 2268, 28, 442, 28, 248, 2268, 2268, 102, 169, 2268, 2268, 61, 499, 76, 383, 2268, 93, 1081, 963, 38, 2268, 537, 2268, 2268, 126, 802, 2266, 1208, 2228, 402, 573, 2268, 44, 125, 46, 2268, 901, 2268, 2268, 128, 907, 260, 297, 283, 2268, 2268, 2268, 33, 57, 830, 2268, 164, 2268, 459, 219, 279, 2056, 1962, 365, 567, 2268, 1483, 54, 2268]\n",
      "[147, 147, 0, 147, 147, 92, 3, 1140, 1738, 1163, 1787, 804, 844, 1787, 660, 1731, 1035, 1264, 1662, 728, 1747, 427, 1097, 1074, 1787, 1216, 1787, 727, 1639, 1225, 194, 1386, 691, 1747, 1243, 1787, 566, 1685, 1787, 629, 1334, 724, 1647, 1750, 1710, 1266, 1663, 1787, 1787, 446, 1688, 1787, 1676, 1699, 1787, 324, 1787, 434, 1787, 1745, 1787, 1176, 1768, 1304, 607, 963, 1754, 878, 944, 602, 525, 1710, 1156, 1787, 512, 1780, 1787, 904, 500, 1139, 1365, 590, 1705, 1717, 1155, 886, 1787, 1745, 1787, 1787, 1760, 649, 1787, 1787, 1680, 987, 1696, 403, 570, 1081, 1727, 1270, 1505, 685]\n",
      "[242, 0, 271, 253, 146, 106, 110, 255, 254, 238, 221, 1854, 1559, 1876, 1872, 1911, 1873, 1576, 1874, 1376, 1846, 1911, 1369, 1320, 1630, 1772, 1633, 1888, 1911, 1448, 1443, 1911, 1181, 1911, 1808, 1911, 1911, 1416, 1841, 1638, 1856, 1911, 1588, 1610, 1577, 1867, 1911, 1424, 1384, 1850, 1911, 1766, 1867, 1911, 1841, 1911, 1911, 1882, 1911, 1856, 1911, 1473, 1877, 1657, 1832, 1868, 1828, 1818, 1911, 1911, 1649, 1911, 1684, 1911, 1357, 1851, 1313, 1911, 1677, 1893, 1668, 1693, 1819]\n",
      "[582, 582, 539, 417, 489, 532, 570, 582, 331, 382, 368, 487, 60, 0, 1433, 1230, 1798, 1405, 1226, 1130, 1815, 1783, 1314, 2222, 1776, 2222, 1930, 1090, 1237, 1151, 1804, 1803, 1907, 1820, 1950, 1682, 1167, 1816, 1839, 1849, 1778, 1830, 1818]\n",
      "[78, 73, 75, 25, 62, 1718, 308, 992, 120, 1693, 1610, 1711, 1699, 1615, 611, 1694, 1709, 586, 846, 1721, 1697, 1592, 1721, 1699, 1720, 1152, 1721, 1481, 1631, 635, 1721, 1577, 1662, 1716, 562, 1585, 1683, 846, 540, 1706, 1679, 1713, 1712, 1721, 1721, 1721, 1711, 1721, 1630, 1716, 950, 944, 1721, 1704, 1485, 1721, 1670, 1639, 1675, 1717, 1707, 1721, 1709, 1721, 1721, 1695, 1666, 1031, 1681, 804, 1721, 1583, 412, 1719, 1704, 1707, 1631, 1715, 1652, 1706, 0, 1625, 767, 1707, 1721, 1522, 582]\n",
      "[527, 568, 440, 483, 568, 456, 453, 568, 44, 0, 467, 497, 561, 442, 505, 568, 568, 453, 568, 558, 147, 557, 568, 568, 559, 568, 507, 160, 526, 543, 472, 511, 564, 524, 423, 534, 568, 524, 568, 548, 568, 440, 527, 397, 439, 463, 417, 457, 568, 568, 1470, 2031, 1581, 2060, 2061, 2115, 2112, 1563, 1357, 2063, 2010, 1538, 2065, 1934, 2119, 1475, 1569, 2003, 1639, 2024, 2030, 1678, 2036, 1559, 2016, 1985, 2055, 1497, 1627, 2039, 2008, 1492, 2010, 2122, 1795, 1430, 1963, 1951, 1974, 1940, 1980, 1793]\n",
      "[2249, 2202, 1608, 2167, 2204, 2249, 2095, 2181, 2183, 2249, 2249, 2249, 2172, 2170, 2171, 2249, 2249, 2249, 2039, 1708, 0, 2249, 2199, 1917, 2249, 3, 2249, 1996, 2249, 2160, 2249, 1723, 1570, 1822, 2249, 1634, 2065, 1711, 2188, 2149, 1892, 2249, 2249, 2249, 2249, 3, 1730, 2102, 1771, 2048, 1852, 2249, 2249, 2249, 2249, 2249, 2182, 1986, 2208, 2, 2249, 2177, 2149, 1805, 2249, 2194, 2249, 2249, 2142, 1850, 2167, 2249, 2249]\n",
      "[1917, 1740, 2219, 2130, 1193, 2083, 2219, 2219, 955, 2127, 300, 2161, 2093, 2219, 2055, 2097, 2119, 1577, 2219, 0, 1144, 1186, 2016, 2089, 1611, 2113, 2219, 1761, 1520, 1663, 161, 2133, 2219, 2219, 2132, 1245, 1693, 2146, 2058, 1911, 2106, 2111, 2045, 1375, 2219, 2160, 2017, 1441, 2074, 1778, 1643]\n",
      "{0: 11.848297096147409, 1: 11.743949880535308, 4: 11.757705255603794, 6: 10.892024524616057, 5: 11.685146179584754, 7: 11.531217147442394, 2: 11.888055069282274, 3: 11.427912090643272}\n"
     ]
    }
   ],
   "source": [
    "db_path = \"/home/arjun/result_20.db\"\n",
    "\n",
    "db = Database()\n",
    "db.open(db_path)\n",
    "\n",
    "db.query(\"\"\"SELECT * FROM RESULTS WHERE accuracy=1\"\"\")\n",
    "rows = db.cursor.fetchall()\n",
    "\n",
    "string_ids = []\n",
    "params_list = []\n",
    "l0_list = []\n",
    "result_dict = {}\n",
    "max_l0_dict = {}\n",
    "data_dict = {\n",
    "    \"string_ids\": [],\n",
    "    \"n_params\": [],\n",
    "    \"accuracy\": []\n",
    "}\n",
    "\n",
    "for row in rows:\n",
    "    try:\n",
    "        string_idx, seed, n_params, accuracy, l0_reg = row\n",
    "    except Exception:\n",
    "        string_idx, seed, n_params, accuracy = row\n",
    "#     if max_l0_dict[string_idx] == l0_reg:\n",
    "    string_ids.append(string_idx)\n",
    "    params_list.append(n_params)\n",
    "    l0_list.append(n_params)\n",
    "\n",
    "    if string_idx not in result_dict.keys():\n",
    "        result_dict[string_idx] = []\n",
    "\n",
    "    result_dict[string_idx].append(n_params)\n",
    "\n",
    "df = pd.DataFrame(dict([ (k,pd.Series(v)) for k,v in result_dict.items() ]))\n",
    "h = BokehHistogram()\n",
    "df.columns = [ str(i) for i in df.columns ]\n",
    "print(df.columns)\n",
    "h.hist_hover(df, '0')\n",
    "\n",
    "alg_ent_dict = {}\n",
    "for string_idx in result_dict.keys():\n",
    "    string_params = result_dict[string_idx]\n",
    "    min_val = np.min(string_params)\n",
    "    string_params = [ (val-min_val) for val in string_params ]\n",
    "    print(string_params)\n",
    "    alg_ent_dict[string_idx] = np.log(np.sum(string_params))\n",
    "print(alg_ent_dict)\n",
    "# h.histotabs(, ['nevents', 'ndays_act', 'nchapters'], log_scale=True)"
   ]
  },
  {
   "cell_type": "code",
   "execution_count": 85,
   "metadata": {
    "scrolled": true
   },
   "outputs": [
    {
     "name": "stdout",
     "output_type": "stream",
     "text": [
      "String id: 0\n"
     ]
    },
    {
     "data": {
      "text/html": [
       "\n",
       "\n",
       "\n",
       "\n",
       "\n",
       "\n",
       "  <div class=\"bk-root\" id=\"00b04fb8-cc15-4271-aa23-a97894fdeceb\" data-root-id=\"28592\"></div>\n"
      ]
     },
     "metadata": {},
     "output_type": "display_data"
    },
    {
     "data": {
      "application/javascript": [
       "(function(root) {\n",
       "  function embed_document(root) {\n",
       "    \n",
       "  var docs_json = {\"eb53712b-7be1-4cae-a074-05ad776d52ac\":{\"roots\":{\"references\":[{\"attributes\":{\"below\":[{\"id\":\"28601\"}],\"center\":[{\"id\":\"28604\"},{\"id\":\"28608\"}],\"left\":[{\"id\":\"28605\"}],\"plot_height\":400,\"renderers\":[{\"id\":\"28627\"}],\"title\":{\"id\":\"29230\"},\"toolbar\":{\"id\":\"28616\"},\"x_range\":{\"id\":\"28593\"},\"x_scale\":{\"id\":\"28597\"},\"y_range\":{\"id\":\"28595\"},\"y_scale\":{\"id\":\"28599\"}},\"id\":\"28592\",\"subtype\":\"Figure\",\"type\":\"Plot\"},{\"attributes\":{},\"id\":\"28613\",\"type\":\"ResetTool\"},{\"attributes\":{},\"id\":\"29237\",\"type\":\"UnionRenderers\"},{\"attributes\":{\"fill_color\":{\"value\":\"navy\"},\"line_color\":{\"value\":\"navy\"},\"size\":{\"units\":\"screen\",\"value\":20},\"x\":{\"field\":\"n_params\"},\"y\":{\"field\":\"accuracy\"}},\"id\":\"28625\",\"type\":\"X\"},{\"attributes\":{\"fill_alpha\":{\"value\":0.1},\"fill_color\":{\"value\":\"navy\"},\"line_alpha\":{\"value\":0.1},\"line_color\":{\"value\":\"navy\"},\"size\":{\"units\":\"screen\",\"value\":20},\"x\":{\"field\":\"n_params\"},\"y\":{\"field\":\"accuracy\"}},\"id\":\"28626\",\"type\":\"X\"},{\"attributes\":{\"text\":\"\"},\"id\":\"29230\",\"type\":\"Title\"},{\"attributes\":{},\"id\":\"28612\",\"type\":\"SaveTool\"},{\"attributes\":{},\"id\":\"28606\",\"type\":\"BasicTicker\"},{\"attributes\":{},\"id\":\"28609\",\"type\":\"PanTool\"},{\"attributes\":{},\"id\":\"28595\",\"type\":\"DataRange1d\"},{\"attributes\":{},\"id\":\"29236\",\"type\":\"Selection\"},{\"attributes\":{\"data\":{\"accuracy\":[0.5454545454545454,1,1,0.5454545454545454,1,1,1,0.5454545454545454,1,0.9090909090909091,1,1,1,1,1,1,1,0.5454545454545454,1,1,1,1,1,1,1,0.5454545454545454,1,1,1,1,1,1,1,1,1,1,0.5454545454545454,1,1,1,1,0.5454545454545454,1,1,0.5454545454545454,1,1,1,1,1,1,1,1,1,0.5454545454545454,1,1,1],\"l0_reg\":[0.0001,0.0005,0.0001,1e-05,5e-05,0.0005,0.0001,1e-05,1e-05,1e-05,1e-05,0,0.0001,0.0005,0,0.0001,0,0.001,0,0.0005,0.0005,0,5e-05,0.001,0.0001,0.001,0.0001,1e-05,0,1e-05,0,5e-05,0.0001,0.001,0,1e-05,5e-05,5e-05,5e-05,0.001,0.0001,0,5e-05,0,0.005,0.001,0.0005,0.005,0.001,1e-05,5e-05,0.0005,5e-05,0.0005,0.0001,0.0005,1e-05,0],\"n_params\":[2281,2281,2281,2281,2281,2281,2281,2281,2281,2281,2281,2281,2281,2281,2281,2281,2281,2281,2281,2281,2281,2281,2281,2281,2281,2281,2281,2281,2281,2281,2281,2281,2281,2281,2281,2281,2281,2281,2281,2281,2281,2281,2281,2281,2281,2281,2281,97,2281,2281,2281,2281,2281,2281,2281,2281,2281,2281]},\"selected\":{\"id\":\"29236\"},\"selection_policy\":{\"id\":\"29237\"}},\"id\":\"28623\",\"type\":\"ColumnDataSource\"},{\"attributes\":{\"bottom_units\":\"screen\",\"fill_alpha\":0.5,\"fill_color\":\"lightgrey\",\"left_units\":\"screen\",\"level\":\"overlay\",\"line_alpha\":1.0,\"line_color\":\"black\",\"line_dash\":[4,4],\"line_width\":2,\"right_units\":\"screen\",\"top_units\":\"screen\"},\"id\":\"28615\",\"type\":\"BoxAnnotation\"},{\"attributes\":{\"source\":{\"id\":\"28623\"}},\"id\":\"28628\",\"type\":\"CDSView\"},{\"attributes\":{\"axis\":{\"id\":\"28601\"},\"ticker\":null},\"id\":\"28604\",\"type\":\"Grid\"},{\"attributes\":{},\"id\":\"29231\",\"type\":\"BasicTickFormatter\"},{\"attributes\":{},\"id\":\"29233\",\"type\":\"BasicTickFormatter\"},{\"attributes\":{\"active_drag\":\"auto\",\"active_inspect\":\"auto\",\"active_multi\":null,\"active_scroll\":\"auto\",\"active_tap\":\"auto\",\"tools\":[{\"id\":\"28609\"},{\"id\":\"28610\"},{\"id\":\"28611\"},{\"id\":\"28612\"},{\"id\":\"28613\"},{\"id\":\"28614\"}]},\"id\":\"28616\",\"type\":\"Toolbar\"},{\"attributes\":{\"formatter\":{\"id\":\"29231\"},\"ticker\":{\"id\":\"28606\"}},\"id\":\"28605\",\"type\":\"LinearAxis\"},{\"attributes\":{\"overlay\":{\"id\":\"28615\"}},\"id\":\"28611\",\"type\":\"BoxZoomTool\"},{\"attributes\":{},\"id\":\"28593\",\"type\":\"DataRange1d\"},{\"attributes\":{},\"id\":\"28610\",\"type\":\"WheelZoomTool\"},{\"attributes\":{},\"id\":\"28614\",\"type\":\"HelpTool\"},{\"attributes\":{\"axis\":{\"id\":\"28605\"},\"dimension\":1,\"ticker\":null},\"id\":\"28608\",\"type\":\"Grid\"},{\"attributes\":{},\"id\":\"28602\",\"type\":\"BasicTicker\"},{\"attributes\":{\"formatter\":{\"id\":\"29233\"},\"ticker\":{\"id\":\"28602\"}},\"id\":\"28601\",\"type\":\"LinearAxis\"},{\"attributes\":{},\"id\":\"28599\",\"type\":\"LinearScale\"},{\"attributes\":{},\"id\":\"28597\",\"type\":\"LinearScale\"},{\"attributes\":{\"data_source\":{\"id\":\"28623\"},\"glyph\":{\"id\":\"28625\"},\"hover_glyph\":null,\"muted_glyph\":null,\"nonselection_glyph\":{\"id\":\"28626\"},\"selection_glyph\":null,\"view\":{\"id\":\"28628\"}},\"id\":\"28627\",\"type\":\"GlyphRenderer\"}],\"root_ids\":[\"28592\"]},\"title\":\"Bokeh Application\",\"version\":\"2.2.3\"}};\n",
       "  var render_items = [{\"docid\":\"eb53712b-7be1-4cae-a074-05ad776d52ac\",\"root_ids\":[\"28592\"],\"roots\":{\"28592\":\"00b04fb8-cc15-4271-aa23-a97894fdeceb\"}}];\n",
       "  root.Bokeh.embed.embed_items_notebook(docs_json, render_items);\n",
       "\n",
       "  }\n",
       "  if (root.Bokeh !== undefined) {\n",
       "    embed_document(root);\n",
       "  } else {\n",
       "    var attempts = 0;\n",
       "    var timer = setInterval(function(root) {\n",
       "      if (root.Bokeh !== undefined) {\n",
       "        clearInterval(timer);\n",
       "        embed_document(root);\n",
       "      } else {\n",
       "        attempts++;\n",
       "        if (attempts > 100) {\n",
       "          clearInterval(timer);\n",
       "          console.log(\"Bokeh: ERROR: Unable to run BokehJS code because BokehJS library is missing\");\n",
       "        }\n",
       "      }\n",
       "    }, 10, root)\n",
       "  }\n",
       "})(window);"
      ],
      "application/vnd.bokehjs_exec.v0+json": ""
     },
     "metadata": {
      "application/vnd.bokehjs_exec.v0+json": {
       "id": "28592"
      }
     },
     "output_type": "display_data"
    },
    {
     "name": "stdout",
     "output_type": "stream",
     "text": [
      "String id: 1\n"
     ]
    },
    {
     "data": {
      "text/html": [
       "\n",
       "\n",
       "\n",
       "\n",
       "\n",
       "\n",
       "  <div class=\"bk-root\" id=\"2c467a1a-766b-43ec-ba2e-7a28a560c4e3\" data-root-id=\"29283\"></div>\n"
      ]
     },
     "metadata": {},
     "output_type": "display_data"
    },
    {
     "data": {
      "application/javascript": [
       "(function(root) {\n",
       "  function embed_document(root) {\n",
       "    \n",
       "  var docs_json = {\"bf334b67-96da-4a0c-9074-0d9cac1f9a86\":{\"roots\":{\"references\":[{\"attributes\":{\"below\":[{\"id\":\"29292\"}],\"center\":[{\"id\":\"29295\"},{\"id\":\"29299\"}],\"left\":[{\"id\":\"29296\"}],\"plot_height\":400,\"renderers\":[{\"id\":\"29318\"}],\"title\":{\"id\":\"29930\"},\"toolbar\":{\"id\":\"29307\"},\"x_range\":{\"id\":\"29284\"},\"x_scale\":{\"id\":\"29288\"},\"y_range\":{\"id\":\"29286\"},\"y_scale\":{\"id\":\"29290\"}},\"id\":\"29283\",\"subtype\":\"Figure\",\"type\":\"Plot\"},{\"attributes\":{},\"id\":\"29305\",\"type\":\"HelpTool\"},{\"attributes\":{\"axis\":{\"id\":\"29292\"},\"ticker\":null},\"id\":\"29295\",\"type\":\"Grid\"},{\"attributes\":{},\"id\":\"29303\",\"type\":\"SaveTool\"},{\"attributes\":{},\"id\":\"29304\",\"type\":\"ResetTool\"},{\"attributes\":{\"axis\":{\"id\":\"29296\"},\"dimension\":1,\"ticker\":null},\"id\":\"29299\",\"type\":\"Grid\"},{\"attributes\":{},\"id\":\"29936\",\"type\":\"Selection\"},{\"attributes\":{\"text\":\"\"},\"id\":\"29930\",\"type\":\"Title\"},{\"attributes\":{},\"id\":\"29290\",\"type\":\"LinearScale\"},{\"attributes\":{},\"id\":\"29933\",\"type\":\"BasicTickFormatter\"},{\"attributes\":{\"source\":{\"id\":\"29314\"}},\"id\":\"29319\",\"type\":\"CDSView\"},{\"attributes\":{},\"id\":\"29937\",\"type\":\"UnionRenderers\"},{\"attributes\":{},\"id\":\"29931\",\"type\":\"BasicTickFormatter\"},{\"attributes\":{},\"id\":\"29288\",\"type\":\"LinearScale\"},{\"attributes\":{},\"id\":\"29286\",\"type\":\"DataRange1d\"},{\"attributes\":{\"fill_color\":{\"value\":\"navy\"},\"line_color\":{\"value\":\"navy\"},\"size\":{\"units\":\"screen\",\"value\":20},\"x\":{\"field\":\"n_params\"},\"y\":{\"field\":\"accuracy\"}},\"id\":\"29316\",\"type\":\"X\"},{\"attributes\":{},\"id\":\"29301\",\"type\":\"WheelZoomTool\"},{\"attributes\":{\"overlay\":{\"id\":\"29306\"}},\"id\":\"29302\",\"type\":\"BoxZoomTool\"},{\"attributes\":{\"formatter\":{\"id\":\"29931\"},\"ticker\":{\"id\":\"29297\"}},\"id\":\"29296\",\"type\":\"LinearAxis\"},{\"attributes\":{\"fill_alpha\":{\"value\":0.1},\"fill_color\":{\"value\":\"navy\"},\"line_alpha\":{\"value\":0.1},\"line_color\":{\"value\":\"navy\"},\"size\":{\"units\":\"screen\",\"value\":20},\"x\":{\"field\":\"n_params\"},\"y\":{\"field\":\"accuracy\"}},\"id\":\"29317\",\"type\":\"X\"},{\"attributes\":{\"bottom_units\":\"screen\",\"fill_alpha\":0.5,\"fill_color\":\"lightgrey\",\"left_units\":\"screen\",\"level\":\"overlay\",\"line_alpha\":1.0,\"line_color\":\"black\",\"line_dash\":[4,4],\"line_width\":2,\"right_units\":\"screen\",\"top_units\":\"screen\"},\"id\":\"29306\",\"type\":\"BoxAnnotation\"},{\"attributes\":{},\"id\":\"29300\",\"type\":\"PanTool\"},{\"attributes\":{\"data\":{\"accuracy\":[0.9090909090909091,0.9090909090909091,1,0.5454545454545454,0.9090909090909091,0.5454545454545454,0.9090909090909091,0.8181818181818182,1,1,0.5454545454545454,0.9090909090909091,0.9090909090909091,0.9090909090909091,0.5454545454545454,0.9090909090909091,0.9090909090909091,1,0.9090909090909091,0.9090909090909091,0.5454545454545454,0.9090909090909091,0.9090909090909091],\"l0_reg\":[0.0005,5e-05,1e-05,0.005,1e-05,1e-05,5e-05,1e-05,0,0,0,1e-05,0.001,0.0005,5e-05,0.005,0,0,1e-05,0.005,5e-05,1e-05,0.0005],\"n_params\":[592,2281,2186,2281,2281,2281,2281,2281,2281,2281,2281,2281,163,2281,2281,2281,2281,2281,2281,2281,2281,2281,2281]},\"selected\":{\"id\":\"29936\"},\"selection_policy\":{\"id\":\"29937\"}},\"id\":\"29314\",\"type\":\"ColumnDataSource\"},{\"attributes\":{},\"id\":\"29284\",\"type\":\"DataRange1d\"},{\"attributes\":{},\"id\":\"29297\",\"type\":\"BasicTicker\"},{\"attributes\":{\"formatter\":{\"id\":\"29933\"},\"ticker\":{\"id\":\"29293\"}},\"id\":\"29292\",\"type\":\"LinearAxis\"},{\"attributes\":{},\"id\":\"29293\",\"type\":\"BasicTicker\"},{\"attributes\":{\"active_drag\":\"auto\",\"active_inspect\":\"auto\",\"active_multi\":null,\"active_scroll\":\"auto\",\"active_tap\":\"auto\",\"tools\":[{\"id\":\"29300\"},{\"id\":\"29301\"},{\"id\":\"29302\"},{\"id\":\"29303\"},{\"id\":\"29304\"},{\"id\":\"29305\"}]},\"id\":\"29307\",\"type\":\"Toolbar\"},{\"attributes\":{\"data_source\":{\"id\":\"29314\"},\"glyph\":{\"id\":\"29316\"},\"hover_glyph\":null,\"muted_glyph\":null,\"nonselection_glyph\":{\"id\":\"29317\"},\"selection_glyph\":null,\"view\":{\"id\":\"29319\"}},\"id\":\"29318\",\"type\":\"GlyphRenderer\"}],\"root_ids\":[\"29283\"]},\"title\":\"Bokeh Application\",\"version\":\"2.2.3\"}};\n",
       "  var render_items = [{\"docid\":\"bf334b67-96da-4a0c-9074-0d9cac1f9a86\",\"root_ids\":[\"29283\"],\"roots\":{\"29283\":\"2c467a1a-766b-43ec-ba2e-7a28a560c4e3\"}}];\n",
       "  root.Bokeh.embed.embed_items_notebook(docs_json, render_items);\n",
       "\n",
       "  }\n",
       "  if (root.Bokeh !== undefined) {\n",
       "    embed_document(root);\n",
       "  } else {\n",
       "    var attempts = 0;\n",
       "    var timer = setInterval(function(root) {\n",
       "      if (root.Bokeh !== undefined) {\n",
       "        clearInterval(timer);\n",
       "        embed_document(root);\n",
       "      } else {\n",
       "        attempts++;\n",
       "        if (attempts > 100) {\n",
       "          clearInterval(timer);\n",
       "          console.log(\"Bokeh: ERROR: Unable to run BokehJS code because BokehJS library is missing\");\n",
       "        }\n",
       "      }\n",
       "    }, 10, root)\n",
       "  }\n",
       "})(window);"
      ],
      "application/vnd.bokehjs_exec.v0+json": ""
     },
     "metadata": {
      "application/vnd.bokehjs_exec.v0+json": {
       "id": "29283"
      }
     },
     "output_type": "display_data"
    },
    {
     "name": "stdout",
     "output_type": "stream",
     "text": [
      "String id: 2\n"
     ]
    },
    {
     "data": {
      "text/html": [
       "\n",
       "\n",
       "\n",
       "\n",
       "\n",
       "\n",
       "  <div class=\"bk-root\" id=\"559983e9-ab8f-4e64-8e24-29baf3b40a10\" data-root-id=\"29983\"></div>\n"
      ]
     },
     "metadata": {},
     "output_type": "display_data"
    },
    {
     "data": {
      "application/javascript": [
       "(function(root) {\n",
       "  function embed_document(root) {\n",
       "    \n",
       "  var docs_json = {\"f9f1d763-a8aa-4f40-8d8d-2a3a2fb92e01\":{\"roots\":{\"references\":[{\"attributes\":{\"below\":[{\"id\":\"29992\"}],\"center\":[{\"id\":\"29995\"},{\"id\":\"29999\"}],\"left\":[{\"id\":\"29996\"}],\"plot_height\":400,\"renderers\":[{\"id\":\"30018\"}],\"title\":{\"id\":\"30639\"},\"toolbar\":{\"id\":\"30007\"},\"x_range\":{\"id\":\"29984\"},\"x_scale\":{\"id\":\"29988\"},\"y_range\":{\"id\":\"29986\"},\"y_scale\":{\"id\":\"29990\"}},\"id\":\"29983\",\"subtype\":\"Figure\",\"type\":\"Plot\"},{\"attributes\":{},\"id\":\"29990\",\"type\":\"LinearScale\"},{\"attributes\":{\"data\":{\"accuracy\":[0.5454545454545454,1,1,1,1,1,1,1,1,1,1,1,1,1,1,1,1,1,1,1,1,1,1,1,0.5454545454545454,1,0.5454545454545454,1,1,1,1,1],\"l0_reg\":[0.0001,0,1e-05,0.0001,0,0.001,0.0001,5e-05,0.0005,0.0001,0.001,0.0001,1e-05,1e-05,5e-05,1e-05,0,0.0001,0.0005,0.0005,0,0.0005,0.0001,0.001,0.0005,0.005,0.0001,0.0001,5e-05,0,0.0005,0.005],\"n_params\":[2281,2281,2281,2281,2281,2281,2281,2281,2281,2281,2281,2281,2281,2281,2123,2281,2281,2281,2281,2281,2281,2281,2210,2281,2281,2281,2281,2281,2209,2281,2281,2281]},\"selected\":{\"id\":\"30645\"},\"selection_policy\":{\"id\":\"30646\"}},\"id\":\"30014\",\"type\":\"ColumnDataSource\"},{\"attributes\":{\"source\":{\"id\":\"30014\"}},\"id\":\"30019\",\"type\":\"CDSView\"},{\"attributes\":{},\"id\":\"30645\",\"type\":\"Selection\"},{\"attributes\":{},\"id\":\"29984\",\"type\":\"DataRange1d\"},{\"attributes\":{},\"id\":\"30004\",\"type\":\"ResetTool\"},{\"attributes\":{\"axis\":{\"id\":\"29992\"},\"ticker\":null},\"id\":\"29995\",\"type\":\"Grid\"},{\"attributes\":{},\"id\":\"30646\",\"type\":\"UnionRenderers\"},{\"attributes\":{},\"id\":\"30642\",\"type\":\"BasicTickFormatter\"},{\"attributes\":{\"fill_alpha\":{\"value\":0.1},\"fill_color\":{\"value\":\"navy\"},\"line_alpha\":{\"value\":0.1},\"line_color\":{\"value\":\"navy\"},\"size\":{\"units\":\"screen\",\"value\":20},\"x\":{\"field\":\"n_params\"},\"y\":{\"field\":\"accuracy\"}},\"id\":\"30017\",\"type\":\"X\"},{\"attributes\":{\"active_drag\":\"auto\",\"active_inspect\":\"auto\",\"active_multi\":null,\"active_scroll\":\"auto\",\"active_tap\":\"auto\",\"tools\":[{\"id\":\"30000\"},{\"id\":\"30001\"},{\"id\":\"30002\"},{\"id\":\"30003\"},{\"id\":\"30004\"},{\"id\":\"30005\"}]},\"id\":\"30007\",\"type\":\"Toolbar\"},{\"attributes\":{\"formatter\":{\"id\":\"30640\"},\"ticker\":{\"id\":\"29997\"}},\"id\":\"29996\",\"type\":\"LinearAxis\"},{\"attributes\":{},\"id\":\"29997\",\"type\":\"BasicTicker\"},{\"attributes\":{},\"id\":\"29993\",\"type\":\"BasicTicker\"},{\"attributes\":{},\"id\":\"30005\",\"type\":\"HelpTool\"},{\"attributes\":{\"bottom_units\":\"screen\",\"fill_alpha\":0.5,\"fill_color\":\"lightgrey\",\"left_units\":\"screen\",\"level\":\"overlay\",\"line_alpha\":1.0,\"line_color\":\"black\",\"line_dash\":[4,4],\"line_width\":2,\"right_units\":\"screen\",\"top_units\":\"screen\"},\"id\":\"30006\",\"type\":\"BoxAnnotation\"},{\"attributes\":{},\"id\":\"30003\",\"type\":\"SaveTool\"},{\"attributes\":{},\"id\":\"29988\",\"type\":\"LinearScale\"},{\"attributes\":{\"formatter\":{\"id\":\"30642\"},\"ticker\":{\"id\":\"29993\"}},\"id\":\"29992\",\"type\":\"LinearAxis\"},{\"attributes\":{\"fill_color\":{\"value\":\"navy\"},\"line_color\":{\"value\":\"navy\"},\"size\":{\"units\":\"screen\",\"value\":20},\"x\":{\"field\":\"n_params\"},\"y\":{\"field\":\"accuracy\"}},\"id\":\"30016\",\"type\":\"X\"},{\"attributes\":{\"axis\":{\"id\":\"29996\"},\"dimension\":1,\"ticker\":null},\"id\":\"29999\",\"type\":\"Grid\"},{\"attributes\":{},\"id\":\"30640\",\"type\":\"BasicTickFormatter\"},{\"attributes\":{},\"id\":\"30001\",\"type\":\"WheelZoomTool\"},{\"attributes\":{},\"id\":\"30000\",\"type\":\"PanTool\"},{\"attributes\":{\"overlay\":{\"id\":\"30006\"}},\"id\":\"30002\",\"type\":\"BoxZoomTool\"},{\"attributes\":{},\"id\":\"29986\",\"type\":\"DataRange1d\"},{\"attributes\":{\"data_source\":{\"id\":\"30014\"},\"glyph\":{\"id\":\"30016\"},\"hover_glyph\":null,\"muted_glyph\":null,\"nonselection_glyph\":{\"id\":\"30017\"},\"selection_glyph\":null,\"view\":{\"id\":\"30019\"}},\"id\":\"30018\",\"type\":\"GlyphRenderer\"},{\"attributes\":{\"text\":\"\"},\"id\":\"30639\",\"type\":\"Title\"}],\"root_ids\":[\"29983\"]},\"title\":\"Bokeh Application\",\"version\":\"2.2.3\"}};\n",
       "  var render_items = [{\"docid\":\"f9f1d763-a8aa-4f40-8d8d-2a3a2fb92e01\",\"root_ids\":[\"29983\"],\"roots\":{\"29983\":\"559983e9-ab8f-4e64-8e24-29baf3b40a10\"}}];\n",
       "  root.Bokeh.embed.embed_items_notebook(docs_json, render_items);\n",
       "\n",
       "  }\n",
       "  if (root.Bokeh !== undefined) {\n",
       "    embed_document(root);\n",
       "  } else {\n",
       "    var attempts = 0;\n",
       "    var timer = setInterval(function(root) {\n",
       "      if (root.Bokeh !== undefined) {\n",
       "        clearInterval(timer);\n",
       "        embed_document(root);\n",
       "      } else {\n",
       "        attempts++;\n",
       "        if (attempts > 100) {\n",
       "          clearInterval(timer);\n",
       "          console.log(\"Bokeh: ERROR: Unable to run BokehJS code because BokehJS library is missing\");\n",
       "        }\n",
       "      }\n",
       "    }, 10, root)\n",
       "  }\n",
       "})(window);"
      ],
      "application/vnd.bokehjs_exec.v0+json": ""
     },
     "metadata": {
      "application/vnd.bokehjs_exec.v0+json": {
       "id": "29983"
      }
     },
     "output_type": "display_data"
    },
    {
     "name": "stdout",
     "output_type": "stream",
     "text": [
      "String id: 3\n"
     ]
    },
    {
     "data": {
      "text/html": [
       "\n",
       "\n",
       "\n",
       "\n",
       "\n",
       "\n",
       "  <div class=\"bk-root\" id=\"f0b65f4b-727c-41da-95f9-e310e709640a\" data-root-id=\"30692\"></div>\n"
      ]
     },
     "metadata": {},
     "output_type": "display_data"
    },
    {
     "data": {
      "application/javascript": [
       "(function(root) {\n",
       "  function embed_document(root) {\n",
       "    \n",
       "  var docs_json = {\"87324c81-3a07-4433-ae3d-27fc39d3952e\":{\"roots\":{\"references\":[{\"attributes\":{\"below\":[{\"id\":\"30701\"}],\"center\":[{\"id\":\"30704\"},{\"id\":\"30708\"}],\"left\":[{\"id\":\"30705\"}],\"plot_height\":400,\"renderers\":[{\"id\":\"30727\"}],\"title\":{\"id\":\"31357\"},\"toolbar\":{\"id\":\"30716\"},\"x_range\":{\"id\":\"30693\"},\"x_scale\":{\"id\":\"30697\"},\"y_range\":{\"id\":\"30695\"},\"y_scale\":{\"id\":\"30699\"}},\"id\":\"30692\",\"subtype\":\"Figure\",\"type\":\"Plot\"},{\"attributes\":{},\"id\":\"30709\",\"type\":\"PanTool\"},{\"attributes\":{\"data\":{\"accuracy\":[0.5454545454545454,0.8181818181818182,0.5454545454545454,0.6363636363636364,0.6363636363636364,0.7272727272727273,0.6363636363636364,0.5454545454545454,0.5454545454545454,0.5454545454545454,0.6363636363636364,0.5454545454545454,0.7272727272727273,0.5454545454545454,0.5454545454545454,0.6363636363636364,0.6363636363636364,0.5454545454545454,0.5454545454545454,0.6363636363636364,0.5454545454545454,0.6363636363636364,0.5454545454545454,0.6363636363636364,0.5454545454545454,0.5454545454545454,0.7272727272727273,0.5454545454545454,0.8181818181818182,0.5454545454545454,1,0.5454545454545454,0.5454545454545454,0.6363636363636364,0.5454545454545454,0.5454545454545454,0.5454545454545454],\"l0_reg\":[0.0005,0.0001,0.005,0.0005,0.0001,0.0005,0.0001,0.0001,0.005,0.005,0.0001,0.001,0.001,0.0001,0.005,0.001,0.005,0.005,0.0005,0.005,5e-05,0.005,0.001,0.0005,0.0001,0.0005,0.005,0.0005,1e-05,0.005,0,1e-05,0.005,0.005,0.0005,0.005,0],\"n_params\":[2281,2281,2281,2281,2281,2281,2281,616,2281,2281,2281,24,2281,2281,2281,2281,2281,2281,2281,2281,2281,2281,2281,2281,2281,2281,2281,2281,2165,2281,2281,2281,2281,2281,2281,2281,2281]},\"selected\":{\"id\":\"31363\"},\"selection_policy\":{\"id\":\"31364\"}},\"id\":\"30723\",\"type\":\"ColumnDataSource\"},{\"attributes\":{},\"id\":\"31360\",\"type\":\"BasicTickFormatter\"},{\"attributes\":{\"text\":\"\"},\"id\":\"31357\",\"type\":\"Title\"},{\"attributes\":{\"fill_color\":{\"value\":\"navy\"},\"line_color\":{\"value\":\"navy\"},\"size\":{\"units\":\"screen\",\"value\":20},\"x\":{\"field\":\"n_params\"},\"y\":{\"field\":\"accuracy\"}},\"id\":\"30725\",\"type\":\"X\"},{\"attributes\":{},\"id\":\"30712\",\"type\":\"SaveTool\"},{\"attributes\":{},\"id\":\"31358\",\"type\":\"BasicTickFormatter\"},{\"attributes\":{},\"id\":\"31363\",\"type\":\"Selection\"},{\"attributes\":{},\"id\":\"30697\",\"type\":\"LinearScale\"},{\"attributes\":{\"formatter\":{\"id\":\"31360\"},\"ticker\":{\"id\":\"30702\"}},\"id\":\"30701\",\"type\":\"LinearAxis\"},{\"attributes\":{},\"id\":\"30714\",\"type\":\"HelpTool\"},{\"attributes\":{},\"id\":\"30710\",\"type\":\"WheelZoomTool\"},{\"attributes\":{\"active_drag\":\"auto\",\"active_inspect\":\"auto\",\"active_multi\":null,\"active_scroll\":\"auto\",\"active_tap\":\"auto\",\"tools\":[{\"id\":\"30709\"},{\"id\":\"30710\"},{\"id\":\"30711\"},{\"id\":\"30712\"},{\"id\":\"30713\"},{\"id\":\"30714\"}]},\"id\":\"30716\",\"type\":\"Toolbar\"},{\"attributes\":{},\"id\":\"30699\",\"type\":\"LinearScale\"},{\"attributes\":{},\"id\":\"30693\",\"type\":\"DataRange1d\"},{\"attributes\":{},\"id\":\"31364\",\"type\":\"UnionRenderers\"},{\"attributes\":{\"axis\":{\"id\":\"30705\"},\"dimension\":1,\"ticker\":null},\"id\":\"30708\",\"type\":\"Grid\"},{\"attributes\":{\"formatter\":{\"id\":\"31358\"},\"ticker\":{\"id\":\"30706\"}},\"id\":\"30705\",\"type\":\"LinearAxis\"},{\"attributes\":{},\"id\":\"30695\",\"type\":\"DataRange1d\"},{\"attributes\":{\"bottom_units\":\"screen\",\"fill_alpha\":0.5,\"fill_color\":\"lightgrey\",\"left_units\":\"screen\",\"level\":\"overlay\",\"line_alpha\":1.0,\"line_color\":\"black\",\"line_dash\":[4,4],\"line_width\":2,\"right_units\":\"screen\",\"top_units\":\"screen\"},\"id\":\"30715\",\"type\":\"BoxAnnotation\"},{\"attributes\":{},\"id\":\"30713\",\"type\":\"ResetTool\"},{\"attributes\":{\"fill_alpha\":{\"value\":0.1},\"fill_color\":{\"value\":\"navy\"},\"line_alpha\":{\"value\":0.1},\"line_color\":{\"value\":\"navy\"},\"size\":{\"units\":\"screen\",\"value\":20},\"x\":{\"field\":\"n_params\"},\"y\":{\"field\":\"accuracy\"}},\"id\":\"30726\",\"type\":\"X\"},{\"attributes\":{\"source\":{\"id\":\"30723\"}},\"id\":\"30728\",\"type\":\"CDSView\"},{\"attributes\":{},\"id\":\"30706\",\"type\":\"BasicTicker\"},{\"attributes\":{\"axis\":{\"id\":\"30701\"},\"ticker\":null},\"id\":\"30704\",\"type\":\"Grid\"},{\"attributes\":{},\"id\":\"30702\",\"type\":\"BasicTicker\"},{\"attributes\":{\"data_source\":{\"id\":\"30723\"},\"glyph\":{\"id\":\"30725\"},\"hover_glyph\":null,\"muted_glyph\":null,\"nonselection_glyph\":{\"id\":\"30726\"},\"selection_glyph\":null,\"view\":{\"id\":\"30728\"}},\"id\":\"30727\",\"type\":\"GlyphRenderer\"},{\"attributes\":{\"overlay\":{\"id\":\"30715\"}},\"id\":\"30711\",\"type\":\"BoxZoomTool\"}],\"root_ids\":[\"30692\"]},\"title\":\"Bokeh Application\",\"version\":\"2.2.3\"}};\n",
       "  var render_items = [{\"docid\":\"87324c81-3a07-4433-ae3d-27fc39d3952e\",\"root_ids\":[\"30692\"],\"roots\":{\"30692\":\"f0b65f4b-727c-41da-95f9-e310e709640a\"}}];\n",
       "  root.Bokeh.embed.embed_items_notebook(docs_json, render_items);\n",
       "\n",
       "  }\n",
       "  if (root.Bokeh !== undefined) {\n",
       "    embed_document(root);\n",
       "  } else {\n",
       "    var attempts = 0;\n",
       "    var timer = setInterval(function(root) {\n",
       "      if (root.Bokeh !== undefined) {\n",
       "        clearInterval(timer);\n",
       "        embed_document(root);\n",
       "      } else {\n",
       "        attempts++;\n",
       "        if (attempts > 100) {\n",
       "          clearInterval(timer);\n",
       "          console.log(\"Bokeh: ERROR: Unable to run BokehJS code because BokehJS library is missing\");\n",
       "        }\n",
       "      }\n",
       "    }, 10, root)\n",
       "  }\n",
       "})(window);"
      ],
      "application/vnd.bokehjs_exec.v0+json": ""
     },
     "metadata": {
      "application/vnd.bokehjs_exec.v0+json": {
       "id": "30692"
      }
     },
     "output_type": "display_data"
    },
    {
     "name": "stdout",
     "output_type": "stream",
     "text": [
      "String id: 4\n"
     ]
    },
    {
     "data": {
      "text/html": [
       "\n",
       "\n",
       "\n",
       "\n",
       "\n",
       "\n",
       "  <div class=\"bk-root\" id=\"033574a5-d3d1-4fb1-a961-65387e96dc7e\" data-root-id=\"31410\"></div>\n"
      ]
     },
     "metadata": {},
     "output_type": "display_data"
    },
    {
     "data": {
      "application/javascript": [
       "(function(root) {\n",
       "  function embed_document(root) {\n",
       "    \n",
       "  var docs_json = {\"f9f51502-a8bd-44b4-80d3-1d2468ffad45\":{\"roots\":{\"references\":[{\"attributes\":{\"below\":[{\"id\":\"31419\"}],\"center\":[{\"id\":\"31422\"},{\"id\":\"31426\"}],\"left\":[{\"id\":\"31423\"}],\"plot_height\":400,\"renderers\":[{\"id\":\"31445\"}],\"title\":{\"id\":\"32084\"},\"toolbar\":{\"id\":\"31434\"},\"x_range\":{\"id\":\"31411\"},\"x_scale\":{\"id\":\"31415\"},\"y_range\":{\"id\":\"31413\"},\"y_scale\":{\"id\":\"31417\"}},\"id\":\"31410\",\"subtype\":\"Figure\",\"type\":\"Plot\"},{\"attributes\":{\"formatter\":{\"id\":\"32085\"},\"ticker\":{\"id\":\"31424\"}},\"id\":\"31423\",\"type\":\"LinearAxis\"},{\"attributes\":{\"axis\":{\"id\":\"31423\"},\"dimension\":1,\"ticker\":null},\"id\":\"31426\",\"type\":\"Grid\"},{\"attributes\":{},\"id\":\"32085\",\"type\":\"BasicTickFormatter\"},{\"attributes\":{},\"id\":\"31431\",\"type\":\"ResetTool\"},{\"attributes\":{},\"id\":\"31420\",\"type\":\"BasicTicker\"},{\"attributes\":{\"axis\":{\"id\":\"31419\"},\"ticker\":null},\"id\":\"31422\",\"type\":\"Grid\"},{\"attributes\":{},\"id\":\"31424\",\"type\":\"BasicTicker\"},{\"attributes\":{\"formatter\":{\"id\":\"32087\"},\"ticker\":{\"id\":\"31420\"}},\"id\":\"31419\",\"type\":\"LinearAxis\"},{\"attributes\":{},\"id\":\"31417\",\"type\":\"LinearScale\"},{\"attributes\":{\"text\":\"\"},\"id\":\"32084\",\"type\":\"Title\"},{\"attributes\":{\"bottom_units\":\"screen\",\"fill_alpha\":0.5,\"fill_color\":\"lightgrey\",\"left_units\":\"screen\",\"level\":\"overlay\",\"line_alpha\":1.0,\"line_color\":\"black\",\"line_dash\":[4,4],\"line_width\":2,\"right_units\":\"screen\",\"top_units\":\"screen\"},\"id\":\"31433\",\"type\":\"BoxAnnotation\"},{\"attributes\":{\"active_drag\":\"auto\",\"active_inspect\":\"auto\",\"active_multi\":null,\"active_scroll\":\"auto\",\"active_tap\":\"auto\",\"tools\":[{\"id\":\"31427\"},{\"id\":\"31428\"},{\"id\":\"31429\"},{\"id\":\"31430\"},{\"id\":\"31431\"},{\"id\":\"31432\"}]},\"id\":\"31434\",\"type\":\"Toolbar\"},{\"attributes\":{},\"id\":\"31413\",\"type\":\"DataRange1d\"},{\"attributes\":{},\"id\":\"32091\",\"type\":\"UnionRenderers\"},{\"attributes\":{},\"id\":\"31415\",\"type\":\"LinearScale\"},{\"attributes\":{},\"id\":\"32087\",\"type\":\"BasicTickFormatter\"},{\"attributes\":{},\"id\":\"31432\",\"type\":\"HelpTool\"},{\"attributes\":{},\"id\":\"31427\",\"type\":\"PanTool\"},{\"attributes\":{},\"id\":\"31411\",\"type\":\"DataRange1d\"},{\"attributes\":{\"fill_alpha\":{\"value\":0.1},\"fill_color\":{\"value\":\"navy\"},\"line_alpha\":{\"value\":0.1},\"line_color\":{\"value\":\"navy\"},\"size\":{\"units\":\"screen\",\"value\":20},\"x\":{\"field\":\"n_params\"},\"y\":{\"field\":\"accuracy\"}},\"id\":\"31444\",\"type\":\"X\"},{\"attributes\":{\"data\":{\"accuracy\":[0.6363636363636364,0.6363636363636364,0.45454545454545453,0.5454545454545454,0.5454545454545454,0.8181818181818182,0.6363636363636364,0.45454545454545453,0.6363636363636364,0.5454545454545454,0.8181818181818182,0.5454545454545454,0.5454545454545454,1,0.5454545454545454,0.5454545454545454,0.6363636363636364,0.5454545454545454,0.5454545454545454,0.6363636363636364,0.5454545454545454,0.5454545454545454,0.6363636363636364],\"l0_reg\":[0.001,0.0001,5e-05,0.001,0.0005,0.005,5e-05,0.005,0.0001,5e-05,0.0001,0.0001,0.005,0,0.0005,0.0001,0.0005,0.001,0.0001,0.001,0.005,1e-05,0.0005],\"n_params\":[2281,2281,2281,2281,2281,2281,2281,2281,2281,2281,2281,2281,2281,2281,187,2281,2281,2281,2281,2281,1,2281,2281]},\"selected\":{\"id\":\"32090\"},\"selection_policy\":{\"id\":\"32091\"}},\"id\":\"31441\",\"type\":\"ColumnDataSource\"},{\"attributes\":{\"fill_color\":{\"value\":\"navy\"},\"line_color\":{\"value\":\"navy\"},\"size\":{\"units\":\"screen\",\"value\":20},\"x\":{\"field\":\"n_params\"},\"y\":{\"field\":\"accuracy\"}},\"id\":\"31443\",\"type\":\"X\"},{\"attributes\":{},\"id\":\"31430\",\"type\":\"SaveTool\"},{\"attributes\":{\"source\":{\"id\":\"31441\"}},\"id\":\"31446\",\"type\":\"CDSView\"},{\"attributes\":{},\"id\":\"32090\",\"type\":\"Selection\"},{\"attributes\":{\"data_source\":{\"id\":\"31441\"},\"glyph\":{\"id\":\"31443\"},\"hover_glyph\":null,\"muted_glyph\":null,\"nonselection_glyph\":{\"id\":\"31444\"},\"selection_glyph\":null,\"view\":{\"id\":\"31446\"}},\"id\":\"31445\",\"type\":\"GlyphRenderer\"},{\"attributes\":{},\"id\":\"31428\",\"type\":\"WheelZoomTool\"},{\"attributes\":{\"overlay\":{\"id\":\"31433\"}},\"id\":\"31429\",\"type\":\"BoxZoomTool\"}],\"root_ids\":[\"31410\"]},\"title\":\"Bokeh Application\",\"version\":\"2.2.3\"}};\n",
       "  var render_items = [{\"docid\":\"f9f51502-a8bd-44b4-80d3-1d2468ffad45\",\"root_ids\":[\"31410\"],\"roots\":{\"31410\":\"033574a5-d3d1-4fb1-a961-65387e96dc7e\"}}];\n",
       "  root.Bokeh.embed.embed_items_notebook(docs_json, render_items);\n",
       "\n",
       "  }\n",
       "  if (root.Bokeh !== undefined) {\n",
       "    embed_document(root);\n",
       "  } else {\n",
       "    var attempts = 0;\n",
       "    var timer = setInterval(function(root) {\n",
       "      if (root.Bokeh !== undefined) {\n",
       "        clearInterval(timer);\n",
       "        embed_document(root);\n",
       "      } else {\n",
       "        attempts++;\n",
       "        if (attempts > 100) {\n",
       "          clearInterval(timer);\n",
       "          console.log(\"Bokeh: ERROR: Unable to run BokehJS code because BokehJS library is missing\");\n",
       "        }\n",
       "      }\n",
       "    }, 10, root)\n",
       "  }\n",
       "})(window);"
      ],
      "application/vnd.bokehjs_exec.v0+json": ""
     },
     "metadata": {
      "application/vnd.bokehjs_exec.v0+json": {
       "id": "31410"
      }
     },
     "output_type": "display_data"
    },
    {
     "name": "stdout",
     "output_type": "stream",
     "text": [
      "String id: 5\n"
     ]
    },
    {
     "data": {
      "text/html": [
       "\n",
       "\n",
       "\n",
       "\n",
       "\n",
       "\n",
       "  <div class=\"bk-root\" id=\"6dddf882-7a23-482b-adbd-6bb957da8198\" data-root-id=\"32137\"></div>\n"
      ]
     },
     "metadata": {},
     "output_type": "display_data"
    },
    {
     "data": {
      "application/javascript": [
       "(function(root) {\n",
       "  function embed_document(root) {\n",
       "    \n",
       "  var docs_json = {\"d3446d48-2447-4512-8103-27f3f495bcdb\":{\"roots\":{\"references\":[{\"attributes\":{\"below\":[{\"id\":\"32146\"}],\"center\":[{\"id\":\"32149\"},{\"id\":\"32153\"}],\"left\":[{\"id\":\"32150\"}],\"plot_height\":400,\"renderers\":[{\"id\":\"32172\"}],\"title\":{\"id\":\"32820\"},\"toolbar\":{\"id\":\"32161\"},\"x_range\":{\"id\":\"32138\"},\"x_scale\":{\"id\":\"32142\"},\"y_range\":{\"id\":\"32140\"},\"y_scale\":{\"id\":\"32144\"}},\"id\":\"32137\",\"subtype\":\"Figure\",\"type\":\"Plot\"},{\"attributes\":{},\"id\":\"32826\",\"type\":\"Selection\"},{\"attributes\":{},\"id\":\"32151\",\"type\":\"BasicTicker\"},{\"attributes\":{\"fill_color\":{\"value\":\"navy\"},\"line_color\":{\"value\":\"navy\"},\"size\":{\"units\":\"screen\",\"value\":20},\"x\":{\"field\":\"n_params\"},\"y\":{\"field\":\"accuracy\"}},\"id\":\"32170\",\"type\":\"X\"},{\"attributes\":{},\"id\":\"32158\",\"type\":\"ResetTool\"},{\"attributes\":{},\"id\":\"32144\",\"type\":\"LinearScale\"},{\"attributes\":{\"text\":\"\"},\"id\":\"32820\",\"type\":\"Title\"},{\"attributes\":{},\"id\":\"32827\",\"type\":\"UnionRenderers\"},{\"attributes\":{},\"id\":\"32821\",\"type\":\"BasicTickFormatter\"},{\"attributes\":{\"overlay\":{\"id\":\"32160\"}},\"id\":\"32156\",\"type\":\"BoxZoomTool\"},{\"attributes\":{},\"id\":\"32142\",\"type\":\"LinearScale\"},{\"attributes\":{},\"id\":\"32154\",\"type\":\"PanTool\"},{\"attributes\":{},\"id\":\"32823\",\"type\":\"BasicTickFormatter\"},{\"attributes\":{\"fill_alpha\":{\"value\":0.1},\"fill_color\":{\"value\":\"navy\"},\"line_alpha\":{\"value\":0.1},\"line_color\":{\"value\":\"navy\"},\"size\":{\"units\":\"screen\",\"value\":20},\"x\":{\"field\":\"n_params\"},\"y\":{\"field\":\"accuracy\"}},\"id\":\"32171\",\"type\":\"X\"},{\"attributes\":{\"bottom_units\":\"screen\",\"fill_alpha\":0.5,\"fill_color\":\"lightgrey\",\"left_units\":\"screen\",\"level\":\"overlay\",\"line_alpha\":1.0,\"line_color\":\"black\",\"line_dash\":[4,4],\"line_width\":2,\"right_units\":\"screen\",\"top_units\":\"screen\"},\"id\":\"32160\",\"type\":\"BoxAnnotation\"},{\"attributes\":{},\"id\":\"32159\",\"type\":\"HelpTool\"},{\"attributes\":{},\"id\":\"32155\",\"type\":\"WheelZoomTool\"},{\"attributes\":{\"active_drag\":\"auto\",\"active_inspect\":\"auto\",\"active_multi\":null,\"active_scroll\":\"auto\",\"active_tap\":\"auto\",\"tools\":[{\"id\":\"32154\"},{\"id\":\"32155\"},{\"id\":\"32156\"},{\"id\":\"32157\"},{\"id\":\"32158\"},{\"id\":\"32159\"}]},\"id\":\"32161\",\"type\":\"Toolbar\"},{\"attributes\":{\"source\":{\"id\":\"32168\"}},\"id\":\"32173\",\"type\":\"CDSView\"},{\"attributes\":{},\"id\":\"32157\",\"type\":\"SaveTool\"},{\"attributes\":{},\"id\":\"32138\",\"type\":\"DataRange1d\"},{\"attributes\":{},\"id\":\"32140\",\"type\":\"DataRange1d\"},{\"attributes\":{\"axis\":{\"id\":\"32150\"},\"dimension\":1,\"ticker\":null},\"id\":\"32153\",\"type\":\"Grid\"},{\"attributes\":{\"data_source\":{\"id\":\"32168\"},\"glyph\":{\"id\":\"32170\"},\"hover_glyph\":null,\"muted_glyph\":null,\"nonselection_glyph\":{\"id\":\"32171\"},\"selection_glyph\":null,\"view\":{\"id\":\"32173\"}},\"id\":\"32172\",\"type\":\"GlyphRenderer\"},{\"attributes\":{},\"id\":\"32147\",\"type\":\"BasicTicker\"},{\"attributes\":{\"data\":{\"accuracy\":[0.8181818181818182,1,0.5454545454545454,0.7272727272727273,1,1,0.5454545454545454,1,0.5454545454545454,0.9090909090909091,0.5454545454545454,1,1],\"l0_reg\":[0.0001,0,0.0001,5e-05,0,0.0001,5e-05,1e-05,0.0001,5e-05,5e-05,5e-05,1e-05],\"n_params\":[2281,2281,2281,2281,2281,2117,2281,2266,2281,2281,2281,2187,2281]},\"selected\":{\"id\":\"32826\"},\"selection_policy\":{\"id\":\"32827\"}},\"id\":\"32168\",\"type\":\"ColumnDataSource\"},{\"attributes\":{\"formatter\":{\"id\":\"32821\"},\"ticker\":{\"id\":\"32151\"}},\"id\":\"32150\",\"type\":\"LinearAxis\"},{\"attributes\":{\"axis\":{\"id\":\"32146\"},\"ticker\":null},\"id\":\"32149\",\"type\":\"Grid\"},{\"attributes\":{\"formatter\":{\"id\":\"32823\"},\"ticker\":{\"id\":\"32147\"}},\"id\":\"32146\",\"type\":\"LinearAxis\"}],\"root_ids\":[\"32137\"]},\"title\":\"Bokeh Application\",\"version\":\"2.2.3\"}};\n",
       "  var render_items = [{\"docid\":\"d3446d48-2447-4512-8103-27f3f495bcdb\",\"root_ids\":[\"32137\"],\"roots\":{\"32137\":\"6dddf882-7a23-482b-adbd-6bb957da8198\"}}];\n",
       "  root.Bokeh.embed.embed_items_notebook(docs_json, render_items);\n",
       "\n",
       "  }\n",
       "  if (root.Bokeh !== undefined) {\n",
       "    embed_document(root);\n",
       "  } else {\n",
       "    var attempts = 0;\n",
       "    var timer = setInterval(function(root) {\n",
       "      if (root.Bokeh !== undefined) {\n",
       "        clearInterval(timer);\n",
       "        embed_document(root);\n",
       "      } else {\n",
       "        attempts++;\n",
       "        if (attempts > 100) {\n",
       "          clearInterval(timer);\n",
       "          console.log(\"Bokeh: ERROR: Unable to run BokehJS code because BokehJS library is missing\");\n",
       "        }\n",
       "      }\n",
       "    }, 10, root)\n",
       "  }\n",
       "})(window);"
      ],
      "application/vnd.bokehjs_exec.v0+json": ""
     },
     "metadata": {
      "application/vnd.bokehjs_exec.v0+json": {
       "id": "32137"
      }
     },
     "output_type": "display_data"
    },
    {
     "name": "stdout",
     "output_type": "stream",
     "text": [
      "String id: 6\n"
     ]
    },
    {
     "data": {
      "text/html": [
       "\n",
       "\n",
       "\n",
       "\n",
       "\n",
       "\n",
       "  <div class=\"bk-root\" id=\"79df1282-e1b2-4fd4-b56d-b2eb2d7cb204\" data-root-id=\"32873\"></div>\n"
      ]
     },
     "metadata": {},
     "output_type": "display_data"
    },
    {
     "data": {
      "application/javascript": [
       "(function(root) {\n",
       "  function embed_document(root) {\n",
       "    \n",
       "  var docs_json = {\"973ee151-5a1b-4952-a76c-9e9377f56ba5\":{\"roots\":{\"references\":[{\"attributes\":{\"below\":[{\"id\":\"32882\"}],\"center\":[{\"id\":\"32885\"},{\"id\":\"32889\"}],\"left\":[{\"id\":\"32886\"}],\"plot_height\":400,\"renderers\":[{\"id\":\"32908\"}],\"title\":{\"id\":\"33565\"},\"toolbar\":{\"id\":\"32897\"},\"x_range\":{\"id\":\"32874\"},\"x_scale\":{\"id\":\"32878\"},\"y_range\":{\"id\":\"32876\"},\"y_scale\":{\"id\":\"32880\"}},\"id\":\"32873\",\"subtype\":\"Figure\",\"type\":\"Plot\"},{\"attributes\":{},\"id\":\"32878\",\"type\":\"LinearScale\"},{\"attributes\":{},\"id\":\"32887\",\"type\":\"BasicTicker\"},{\"attributes\":{},\"id\":\"32874\",\"type\":\"DataRange1d\"},{\"attributes\":{\"text\":\"\"},\"id\":\"33565\",\"type\":\"Title\"},{\"attributes\":{},\"id\":\"32883\",\"type\":\"BasicTicker\"},{\"attributes\":{},\"id\":\"32880\",\"type\":\"LinearScale\"},{\"attributes\":{\"formatter\":{\"id\":\"33568\"},\"ticker\":{\"id\":\"32883\"}},\"id\":\"32882\",\"type\":\"LinearAxis\"},{\"attributes\":{\"axis\":{\"id\":\"32882\"},\"ticker\":null},\"id\":\"32885\",\"type\":\"Grid\"},{\"attributes\":{\"data_source\":{\"id\":\"32904\"},\"glyph\":{\"id\":\"32906\"},\"hover_glyph\":null,\"muted_glyph\":null,\"nonselection_glyph\":{\"id\":\"32907\"},\"selection_glyph\":null,\"view\":{\"id\":\"32909\"}},\"id\":\"32908\",\"type\":\"GlyphRenderer\"},{\"attributes\":{\"axis\":{\"id\":\"32886\"},\"dimension\":1,\"ticker\":null},\"id\":\"32889\",\"type\":\"Grid\"},{\"attributes\":{},\"id\":\"33566\",\"type\":\"BasicTickFormatter\"},{\"attributes\":{\"fill_color\":{\"value\":\"navy\"},\"line_color\":{\"value\":\"navy\"},\"size\":{\"units\":\"screen\",\"value\":20},\"x\":{\"field\":\"n_params\"},\"y\":{\"field\":\"accuracy\"}},\"id\":\"32906\",\"type\":\"X\"},{\"attributes\":{},\"id\":\"32891\",\"type\":\"WheelZoomTool\"},{\"attributes\":{},\"id\":\"33571\",\"type\":\"Selection\"},{\"attributes\":{},\"id\":\"33568\",\"type\":\"BasicTickFormatter\"},{\"attributes\":{},\"id\":\"32894\",\"type\":\"ResetTool\"},{\"attributes\":{},\"id\":\"33572\",\"type\":\"UnionRenderers\"},{\"attributes\":{},\"id\":\"32893\",\"type\":\"SaveTool\"},{\"attributes\":{\"overlay\":{\"id\":\"32896\"}},\"id\":\"32892\",\"type\":\"BoxZoomTool\"},{\"attributes\":{},\"id\":\"32890\",\"type\":\"PanTool\"},{\"attributes\":{\"source\":{\"id\":\"32904\"}},\"id\":\"32909\",\"type\":\"CDSView\"},{\"attributes\":{\"data\":{\"accuracy\":[0.7272727272727273,0.5454545454545454,0.8181818181818182,0.8181818181818182,0.6363636363636364,0.8181818181818182,0.7272727272727273,0.8181818181818182,0.7272727272727273,0.8181818181818182,0.8181818181818182,0.7272727272727273,0.8181818181818182,0.8181818181818182],\"l0_reg\":[0.0005,5e-05,1e-05,5e-05,0.0005,0.005,0.005,0.001,0.001,0.0005,5e-05,1e-05,0.0005,5e-05],\"n_params\":[2281,2281,2046,1616,2281,2281,2281,2281,2281,2281,2281,2281,2281,2281]},\"selected\":{\"id\":\"33571\"},\"selection_policy\":{\"id\":\"33572\"}},\"id\":\"32904\",\"type\":\"ColumnDataSource\"},{\"attributes\":{},\"id\":\"32895\",\"type\":\"HelpTool\"},{\"attributes\":{\"formatter\":{\"id\":\"33566\"},\"ticker\":{\"id\":\"32887\"}},\"id\":\"32886\",\"type\":\"LinearAxis\"},{\"attributes\":{\"active_drag\":\"auto\",\"active_inspect\":\"auto\",\"active_multi\":null,\"active_scroll\":\"auto\",\"active_tap\":\"auto\",\"tools\":[{\"id\":\"32890\"},{\"id\":\"32891\"},{\"id\":\"32892\"},{\"id\":\"32893\"},{\"id\":\"32894\"},{\"id\":\"32895\"}]},\"id\":\"32897\",\"type\":\"Toolbar\"},{\"attributes\":{\"fill_alpha\":{\"value\":0.1},\"fill_color\":{\"value\":\"navy\"},\"line_alpha\":{\"value\":0.1},\"line_color\":{\"value\":\"navy\"},\"size\":{\"units\":\"screen\",\"value\":20},\"x\":{\"field\":\"n_params\"},\"y\":{\"field\":\"accuracy\"}},\"id\":\"32907\",\"type\":\"X\"},{\"attributes\":{\"bottom_units\":\"screen\",\"fill_alpha\":0.5,\"fill_color\":\"lightgrey\",\"left_units\":\"screen\",\"level\":\"overlay\",\"line_alpha\":1.0,\"line_color\":\"black\",\"line_dash\":[4,4],\"line_width\":2,\"right_units\":\"screen\",\"top_units\":\"screen\"},\"id\":\"32896\",\"type\":\"BoxAnnotation\"},{\"attributes\":{},\"id\":\"32876\",\"type\":\"DataRange1d\"}],\"root_ids\":[\"32873\"]},\"title\":\"Bokeh Application\",\"version\":\"2.2.3\"}};\n",
       "  var render_items = [{\"docid\":\"973ee151-5a1b-4952-a76c-9e9377f56ba5\",\"root_ids\":[\"32873\"],\"roots\":{\"32873\":\"79df1282-e1b2-4fd4-b56d-b2eb2d7cb204\"}}];\n",
       "  root.Bokeh.embed.embed_items_notebook(docs_json, render_items);\n",
       "\n",
       "  }\n",
       "  if (root.Bokeh !== undefined) {\n",
       "    embed_document(root);\n",
       "  } else {\n",
       "    var attempts = 0;\n",
       "    var timer = setInterval(function(root) {\n",
       "      if (root.Bokeh !== undefined) {\n",
       "        clearInterval(timer);\n",
       "        embed_document(root);\n",
       "      } else {\n",
       "        attempts++;\n",
       "        if (attempts > 100) {\n",
       "          clearInterval(timer);\n",
       "          console.log(\"Bokeh: ERROR: Unable to run BokehJS code because BokehJS library is missing\");\n",
       "        }\n",
       "      }\n",
       "    }, 10, root)\n",
       "  }\n",
       "})(window);"
      ],
      "application/vnd.bokehjs_exec.v0+json": ""
     },
     "metadata": {
      "application/vnd.bokehjs_exec.v0+json": {
       "id": "32873"
      }
     },
     "output_type": "display_data"
    },
    {
     "name": "stdout",
     "output_type": "stream",
     "text": [
      "String id: 7\n"
     ]
    },
    {
     "data": {
      "text/html": [
       "\n",
       "\n",
       "\n",
       "\n",
       "\n",
       "\n",
       "  <div class=\"bk-root\" id=\"03a3ba71-b4ac-4535-bc49-994c882e7375\" data-root-id=\"33618\"></div>\n"
      ]
     },
     "metadata": {},
     "output_type": "display_data"
    },
    {
     "data": {
      "application/javascript": [
       "(function(root) {\n",
       "  function embed_document(root) {\n",
       "    \n",
       "  var docs_json = {\"8a03de3a-b41e-4165-9ee8-061e466e2eec\":{\"roots\":{\"references\":[{\"attributes\":{\"below\":[{\"id\":\"33627\"}],\"center\":[{\"id\":\"33630\"},{\"id\":\"33634\"}],\"left\":[{\"id\":\"33631\"}],\"plot_height\":400,\"renderers\":[{\"id\":\"33653\"}],\"title\":{\"id\":\"34319\"},\"toolbar\":{\"id\":\"33642\"},\"x_range\":{\"id\":\"33619\"},\"x_scale\":{\"id\":\"33623\"},\"y_range\":{\"id\":\"33621\"},\"y_scale\":{\"id\":\"33625\"}},\"id\":\"33618\",\"subtype\":\"Figure\",\"type\":\"Plot\"},{\"attributes\":{},\"id\":\"33621\",\"type\":\"DataRange1d\"},{\"attributes\":{\"formatter\":{\"id\":\"34320\"},\"ticker\":{\"id\":\"33632\"}},\"id\":\"33631\",\"type\":\"LinearAxis\"},{\"attributes\":{\"overlay\":{\"id\":\"33641\"}},\"id\":\"33637\",\"type\":\"BoxZoomTool\"},{\"attributes\":{\"axis\":{\"id\":\"33631\"},\"dimension\":1,\"ticker\":null},\"id\":\"33634\",\"type\":\"Grid\"},{\"attributes\":{\"text\":\"\"},\"id\":\"34319\",\"type\":\"Title\"},{\"attributes\":{},\"id\":\"33628\",\"type\":\"BasicTicker\"},{\"attributes\":{\"axis\":{\"id\":\"33627\"},\"ticker\":null},\"id\":\"33630\",\"type\":\"Grid\"},{\"attributes\":{},\"id\":\"33632\",\"type\":\"BasicTicker\"},{\"attributes\":{},\"id\":\"33625\",\"type\":\"LinearScale\"},{\"attributes\":{\"formatter\":{\"id\":\"34322\"},\"ticker\":{\"id\":\"33628\"}},\"id\":\"33627\",\"type\":\"LinearAxis\"},{\"attributes\":{},\"id\":\"34320\",\"type\":\"BasicTickFormatter\"},{\"attributes\":{},\"id\":\"33623\",\"type\":\"LinearScale\"},{\"attributes\":{},\"id\":\"34322\",\"type\":\"BasicTickFormatter\"},{\"attributes\":{},\"id\":\"33638\",\"type\":\"SaveTool\"},{\"attributes\":{\"bottom_units\":\"screen\",\"fill_alpha\":0.5,\"fill_color\":\"lightgrey\",\"left_units\":\"screen\",\"level\":\"overlay\",\"line_alpha\":1.0,\"line_color\":\"black\",\"line_dash\":[4,4],\"line_width\":2,\"right_units\":\"screen\",\"top_units\":\"screen\"},\"id\":\"33641\",\"type\":\"BoxAnnotation\"},{\"attributes\":{},\"id\":\"34325\",\"type\":\"Selection\"},{\"attributes\":{},\"id\":\"33639\",\"type\":\"ResetTool\"},{\"attributes\":{},\"id\":\"33640\",\"type\":\"HelpTool\"},{\"attributes\":{},\"id\":\"34326\",\"type\":\"UnionRenderers\"},{\"attributes\":{\"fill_color\":{\"value\":\"navy\"},\"line_color\":{\"value\":\"navy\"},\"size\":{\"units\":\"screen\",\"value\":20},\"x\":{\"field\":\"n_params\"},\"y\":{\"field\":\"accuracy\"}},\"id\":\"33651\",\"type\":\"X\"},{\"attributes\":{\"active_drag\":\"auto\",\"active_inspect\":\"auto\",\"active_multi\":null,\"active_scroll\":\"auto\",\"active_tap\":\"auto\",\"tools\":[{\"id\":\"33635\"},{\"id\":\"33636\"},{\"id\":\"33637\"},{\"id\":\"33638\"},{\"id\":\"33639\"},{\"id\":\"33640\"}]},\"id\":\"33642\",\"type\":\"Toolbar\"},{\"attributes\":{},\"id\":\"33635\",\"type\":\"PanTool\"},{\"attributes\":{},\"id\":\"33636\",\"type\":\"WheelZoomTool\"},{\"attributes\":{\"source\":{\"id\":\"33649\"}},\"id\":\"33654\",\"type\":\"CDSView\"},{\"attributes\":{},\"id\":\"33619\",\"type\":\"DataRange1d\"},{\"attributes\":{\"data_source\":{\"id\":\"33649\"},\"glyph\":{\"id\":\"33651\"},\"hover_glyph\":null,\"muted_glyph\":null,\"nonselection_glyph\":{\"id\":\"33652\"},\"selection_glyph\":null,\"view\":{\"id\":\"33654\"}},\"id\":\"33653\",\"type\":\"GlyphRenderer\"},{\"attributes\":{\"fill_alpha\":{\"value\":0.1},\"fill_color\":{\"value\":\"navy\"},\"line_alpha\":{\"value\":0.1},\"line_color\":{\"value\":\"navy\"},\"size\":{\"units\":\"screen\",\"value\":20},\"x\":{\"field\":\"n_params\"},\"y\":{\"field\":\"accuracy\"}},\"id\":\"33652\",\"type\":\"X\"},{\"attributes\":{\"data\":{\"accuracy\":[0.8181818181818182,1,0.5454545454545454,0.7272727272727273],\"l0_reg\":[0.005,0,0.001,0.001],\"n_params\":[2281,2281,2281,2281]},\"selected\":{\"id\":\"34325\"},\"selection_policy\":{\"id\":\"34326\"}},\"id\":\"33649\",\"type\":\"ColumnDataSource\"}],\"root_ids\":[\"33618\"]},\"title\":\"Bokeh Application\",\"version\":\"2.2.3\"}};\n",
       "  var render_items = [{\"docid\":\"8a03de3a-b41e-4165-9ee8-061e466e2eec\",\"root_ids\":[\"33618\"],\"roots\":{\"33618\":\"03a3ba71-b4ac-4535-bc49-994c882e7375\"}}];\n",
       "  root.Bokeh.embed.embed_items_notebook(docs_json, render_items);\n",
       "\n",
       "  }\n",
       "  if (root.Bokeh !== undefined) {\n",
       "    embed_document(root);\n",
       "  } else {\n",
       "    var attempts = 0;\n",
       "    var timer = setInterval(function(root) {\n",
       "      if (root.Bokeh !== undefined) {\n",
       "        clearInterval(timer);\n",
       "        embed_document(root);\n",
       "      } else {\n",
       "        attempts++;\n",
       "        if (attempts > 100) {\n",
       "          clearInterval(timer);\n",
       "          console.log(\"Bokeh: ERROR: Unable to run BokehJS code because BokehJS library is missing\");\n",
       "        }\n",
       "      }\n",
       "    }, 10, root)\n",
       "  }\n",
       "})(window);"
      ],
      "application/vnd.bokehjs_exec.v0+json": ""
     },
     "metadata": {
      "application/vnd.bokehjs_exec.v0+json": {
       "id": "33618"
      }
     },
     "output_type": "display_data"
    },
    {
     "name": "stdout",
     "output_type": "stream",
     "text": [
      "[10, 19, 3, 36, 22, 7, 14, 3]\n"
     ]
    }
   ],
   "source": [
    "db_path = \"/home/arjun/result_lstm_10.db\"\n",
    "\n",
    "db = Database()\n",
    "db.open(db_path)\n",
    "failed_models = []\n",
    "for i in range(8):\n",
    "    print(\"String id: {}\".format(i))\n",
    "    db.query(\"\"\"SELECT * FROM RESULTS WHERE string_idx={}\"\"\".format(i))\n",
    "    rows = db.cursor.fetchall()\n",
    "\n",
    "    accuracy_list = []\n",
    "    params_list = []\n",
    "    l0_reg_list = []\n",
    "    result_dict = {}\n",
    "    data_dict = {\n",
    "        \"n_params\": [],\n",
    "        \"accuracy\": [],\n",
    "        \"l0_reg\": []\n",
    "    }\n",
    "    error_dict = {\n",
    "        \"base\": [],\n",
    "        \"upper\": [],\n",
    "        \"lower\": [],\n",
    "        \"mean\": []\n",
    "    }\n",
    "\n",
    "    for row in rows:\n",
    "        string_idx, seed, n_params, accuracy, l0_reg = row\n",
    "        l0_reg_list.append(l0_reg)\n",
    "        accuracy_list.append(accuracy)\n",
    "        params_list.append(n_params)\n",
    "    \n",
    "    failed_models.append(len(list(filter(lambda x: x<1, accuracy_list))))\n",
    "    data_dict[\"l0_reg\"] = l0_reg_list\n",
    "    data_dict[\"accuracy\"] = accuracy_list\n",
    "    data_dict[\"n_params\"] = params_list\n",
    "    \n",
    "    p = figure(plot_width=600, plot_height=400)\n",
    "    # add a circle renderer with a size, color, and alpha\n",
    "\n",
    "    source_data = ColumnDataSource(data_dict)\n",
    "\n",
    "    p.x(source=source_data, \n",
    "        x=\"n_params\",\n",
    "        y=\"accuracy\",\n",
    "        size=20, color=\"navy\", alpha=1)\n",
    "    show(p)\n",
    "print(failed_models)"
   ]
  },
  {
   "cell_type": "code",
   "execution_count": 86,
   "metadata": {},
   "outputs": [
    {
     "data": {
      "text/html": [
       "\n",
       "\n",
       "\n",
       "\n",
       "\n",
       "\n",
       "  <div class=\"bk-root\" id=\"694bca9a-2716-43ce-9ebc-293230f6f94f\" data-root-id=\"34372\"></div>\n"
      ]
     },
     "metadata": {},
     "output_type": "display_data"
    },
    {
     "data": {
      "application/javascript": [
       "(function(root) {\n",
       "  function embed_document(root) {\n",
       "    \n",
       "  var docs_json = {\"65d82d55-fd1f-4660-95d3-f06bdd462e1f\":{\"roots\":{\"references\":[{\"attributes\":{\"below\":[{\"id\":\"34381\"}],\"center\":[{\"id\":\"34384\"},{\"id\":\"34388\"}],\"left\":[{\"id\":\"34385\"}],\"plot_height\":400,\"renderers\":[{\"id\":\"34406\"}],\"title\":{\"id\":\"35081\"},\"toolbar\":{\"id\":\"34396\"},\"x_range\":{\"id\":\"34373\"},\"x_scale\":{\"id\":\"34377\"},\"y_range\":{\"id\":\"34375\"},\"y_scale\":{\"id\":\"34379\"}},\"id\":\"34372\",\"subtype\":\"Figure\",\"type\":\"Plot\"},{\"attributes\":{},\"id\":\"34390\",\"type\":\"WheelZoomTool\"},{\"attributes\":{},\"id\":\"34379\",\"type\":\"LinearScale\"},{\"attributes\":{\"formatter\":{\"id\":\"35084\"},\"ticker\":{\"id\":\"34382\"}},\"id\":\"34381\",\"type\":\"LinearAxis\"},{\"attributes\":{},\"id\":\"35084\",\"type\":\"BasicTickFormatter\"},{\"attributes\":{\"line_color\":\"#1f77b4\",\"x\":{\"field\":\"x\"},\"y\":{\"field\":\"y\"}},\"id\":\"34404\",\"type\":\"Line\"},{\"attributes\":{},\"id\":\"35088\",\"type\":\"UnionRenderers\"},{\"attributes\":{\"active_drag\":\"auto\",\"active_inspect\":\"auto\",\"active_multi\":null,\"active_scroll\":\"auto\",\"active_tap\":\"auto\",\"tools\":[{\"id\":\"34389\"},{\"id\":\"34390\"},{\"id\":\"34391\"},{\"id\":\"34392\"},{\"id\":\"34393\"},{\"id\":\"34394\"}]},\"id\":\"34396\",\"type\":\"Toolbar\"},{\"attributes\":{},\"id\":\"34375\",\"type\":\"DataRange1d\"},{\"attributes\":{\"bottom_units\":\"screen\",\"fill_alpha\":0.5,\"fill_color\":\"lightgrey\",\"left_units\":\"screen\",\"level\":\"overlay\",\"line_alpha\":1.0,\"line_color\":\"black\",\"line_dash\":[4,4],\"line_width\":2,\"right_units\":\"screen\",\"top_units\":\"screen\"},\"id\":\"34395\",\"type\":\"BoxAnnotation\"},{\"attributes\":{\"axis\":{\"id\":\"34381\"},\"ticker\":null},\"id\":\"34384\",\"type\":\"Grid\"},{\"attributes\":{\"data_source\":{\"id\":\"34403\"},\"glyph\":{\"id\":\"34404\"},\"hover_glyph\":null,\"muted_glyph\":null,\"nonselection_glyph\":{\"id\":\"34405\"},\"selection_glyph\":null,\"view\":{\"id\":\"34407\"}},\"id\":\"34406\",\"type\":\"GlyphRenderer\"},{\"attributes\":{},\"id\":\"34386\",\"type\":\"BasicTicker\"},{\"attributes\":{},\"id\":\"34382\",\"type\":\"BasicTicker\"},{\"attributes\":{\"axis\":{\"id\":\"34385\"},\"dimension\":1,\"ticker\":null},\"id\":\"34388\",\"type\":\"Grid\"},{\"attributes\":{\"overlay\":{\"id\":\"34395\"}},\"id\":\"34391\",\"type\":\"BoxZoomTool\"},{\"attributes\":{},\"id\":\"34393\",\"type\":\"ResetTool\"},{\"attributes\":{},\"id\":\"34392\",\"type\":\"SaveTool\"},{\"attributes\":{},\"id\":\"34373\",\"type\":\"DataRange1d\"},{\"attributes\":{\"source\":{\"id\":\"34403\"}},\"id\":\"34407\",\"type\":\"CDSView\"},{\"attributes\":{\"line_alpha\":0.1,\"line_color\":\"#1f77b4\",\"x\":{\"field\":\"x\"},\"y\":{\"field\":\"y\"}},\"id\":\"34405\",\"type\":\"Line\"},{\"attributes\":{},\"id\":\"34377\",\"type\":\"LinearScale\"},{\"attributes\":{},\"id\":\"34389\",\"type\":\"PanTool\"},{\"attributes\":{},\"id\":\"35087\",\"type\":\"Selection\"},{\"attributes\":{\"text\":\"\"},\"id\":\"35081\",\"type\":\"Title\"},{\"attributes\":{},\"id\":\"34394\",\"type\":\"HelpTool\"},{\"attributes\":{\"formatter\":{\"id\":\"35082\"},\"ticker\":{\"id\":\"34386\"}},\"id\":\"34385\",\"type\":\"LinearAxis\"},{\"attributes\":{\"data\":{\"x\":[0,1,2,3,4,5,6,7],\"y\":[10,19,3,36,22,7,14,3]},\"selected\":{\"id\":\"35087\"},\"selection_policy\":{\"id\":\"35088\"}},\"id\":\"34403\",\"type\":\"ColumnDataSource\"},{\"attributes\":{},\"id\":\"35082\",\"type\":\"BasicTickFormatter\"}],\"root_ids\":[\"34372\"]},\"title\":\"Bokeh Application\",\"version\":\"2.2.3\"}};\n",
       "  var render_items = [{\"docid\":\"65d82d55-fd1f-4660-95d3-f06bdd462e1f\",\"root_ids\":[\"34372\"],\"roots\":{\"34372\":\"694bca9a-2716-43ce-9ebc-293230f6f94f\"}}];\n",
       "  root.Bokeh.embed.embed_items_notebook(docs_json, render_items);\n",
       "\n",
       "  }\n",
       "  if (root.Bokeh !== undefined) {\n",
       "    embed_document(root);\n",
       "  } else {\n",
       "    var attempts = 0;\n",
       "    var timer = setInterval(function(root) {\n",
       "      if (root.Bokeh !== undefined) {\n",
       "        clearInterval(timer);\n",
       "        embed_document(root);\n",
       "      } else {\n",
       "        attempts++;\n",
       "        if (attempts > 100) {\n",
       "          clearInterval(timer);\n",
       "          console.log(\"Bokeh: ERROR: Unable to run BokehJS code because BokehJS library is missing\");\n",
       "        }\n",
       "      }\n",
       "    }, 10, root)\n",
       "  }\n",
       "})(window);"
      ],
      "application/vnd.bokehjs_exec.v0+json": ""
     },
     "metadata": {
      "application/vnd.bokehjs_exec.v0+json": {
       "id": "34372"
      }
     },
     "output_type": "display_data"
    }
   ],
   "source": [
    "p = figure(plot_width=600, plot_height=400)\n",
    "p.line(range(8), failed_models)\n",
    "show(p)"
   ]
  },
  {
   "cell_type": "markdown",
   "metadata": {},
   "source": [
    "Meeting discussion\n",
    "\n",
    "- algorithmic probability in literature is called algorithmic entropy (for long strings/programs) algorithmic entropy is equal to O(1/2^K) which means that a random program chosen for long strings will be dominated by shortest programs\n",
    "- network size 10 may be too small: some of the models with 0 l0_regularization did not give accuracy 1 (run with 20?), gradient clipping?\n",
    "- Although there are smaller programs representing the string, Neural networks are not able to capture this trend - this gives an indication that the language represented by NN may not be universal or it represents only a subset of the whole space of posssible computable functions. Possible solutions - Try different networks? Or go for creating an enumeration of prefix Turing Machines and compute a resource bounded Levin Search? Restrict the computation model? assume a model for neural networks?\n",
    "- Test time, input Tampering? Should we use transformer networks?\n",
    "- use compression algorithms on traces to get an idea of their relative kolmogorov complexity? atleast shannon entropy\n",
    "- should we find predictability for binary data first? cache misses predicted as low/high?\n"
   ]
  },
  {
   "cell_type": "code",
   "execution_count": null,
   "metadata": {},
   "outputs": [],
   "source": []
  },
  {
   "cell_type": "code",
   "execution_count": null,
   "metadata": {},
   "outputs": [],
   "source": []
  },
  {
   "cell_type": "code",
   "execution_count": null,
   "metadata": {},
   "outputs": [],
   "source": []
  },
  {
   "cell_type": "code",
   "execution_count": null,
   "metadata": {},
   "outputs": [],
   "source": []
  },
  {
   "cell_type": "code",
   "execution_count": null,
   "metadata": {},
   "outputs": [],
   "source": []
  },
  {
   "cell_type": "code",
   "execution_count": null,
   "metadata": {},
   "outputs": [],
   "source": []
  },
  {
   "cell_type": "code",
   "execution_count": null,
   "metadata": {},
   "outputs": [],
   "source": []
  },
  {
   "cell_type": "code",
   "execution_count": null,
   "metadata": {},
   "outputs": [],
   "source": []
  },
  {
   "cell_type": "code",
   "execution_count": null,
   "metadata": {},
   "outputs": [],
   "source": []
  },
  {
   "cell_type": "code",
   "execution_count": null,
   "metadata": {},
   "outputs": [],
   "source": []
  },
  {
   "cell_type": "code",
   "execution_count": null,
   "metadata": {},
   "outputs": [],
   "source": []
  },
  {
   "cell_type": "code",
   "execution_count": null,
   "metadata": {},
   "outputs": [],
   "source": []
  },
  {
   "cell_type": "code",
   "execution_count": null,
   "metadata": {},
   "outputs": [],
   "source": []
  },
  {
   "cell_type": "code",
   "execution_count": null,
   "metadata": {},
   "outputs": [],
   "source": []
  },
  {
   "cell_type": "code",
   "execution_count": null,
   "metadata": {},
   "outputs": [],
   "source": []
  },
  {
   "cell_type": "code",
   "execution_count": null,
   "metadata": {},
   "outputs": [],
   "source": []
  },
  {
   "cell_type": "code",
   "execution_count": null,
   "metadata": {},
   "outputs": [],
   "source": []
  },
  {
   "cell_type": "code",
   "execution_count": null,
   "metadata": {},
   "outputs": [],
   "source": []
  },
  {
   "cell_type": "code",
   "execution_count": null,
   "metadata": {},
   "outputs": [],
   "source": []
  },
  {
   "cell_type": "code",
   "execution_count": null,
   "metadata": {},
   "outputs": [],
   "source": []
  },
  {
   "cell_type": "code",
   "execution_count": null,
   "metadata": {},
   "outputs": [],
   "source": []
  },
  {
   "cell_type": "code",
   "execution_count": null,
   "metadata": {},
   "outputs": [],
   "source": []
  },
  {
   "cell_type": "code",
   "execution_count": null,
   "metadata": {},
   "outputs": [],
   "source": []
  },
  {
   "cell_type": "code",
   "execution_count": null,
   "metadata": {},
   "outputs": [],
   "source": []
  },
  {
   "cell_type": "code",
   "execution_count": null,
   "metadata": {},
   "outputs": [],
   "source": []
  },
  {
   "cell_type": "code",
   "execution_count": null,
   "metadata": {},
   "outputs": [],
   "source": []
  },
  {
   "cell_type": "code",
   "execution_count": null,
   "metadata": {},
   "outputs": [],
   "source": []
  },
  {
   "cell_type": "code",
   "execution_count": null,
   "metadata": {},
   "outputs": [],
   "source": []
  },
  {
   "cell_type": "code",
   "execution_count": null,
   "metadata": {},
   "outputs": [],
   "source": []
  },
  {
   "cell_type": "code",
   "execution_count": null,
   "metadata": {},
   "outputs": [],
   "source": []
  },
  {
   "cell_type": "code",
   "execution_count": null,
   "metadata": {},
   "outputs": [],
   "source": []
  },
  {
   "cell_type": "code",
   "execution_count": null,
   "metadata": {},
   "outputs": [],
   "source": []
  },
  {
   "cell_type": "code",
   "execution_count": null,
   "metadata": {},
   "outputs": [],
   "source": []
  },
  {
   "cell_type": "code",
   "execution_count": null,
   "metadata": {},
   "outputs": [],
   "source": []
  },
  {
   "cell_type": "code",
   "execution_count": null,
   "metadata": {},
   "outputs": [],
   "source": []
  },
  {
   "cell_type": "code",
   "execution_count": null,
   "metadata": {},
   "outputs": [],
   "source": []
  },
  {
   "cell_type": "code",
   "execution_count": null,
   "metadata": {},
   "outputs": [],
   "source": []
  },
  {
   "cell_type": "code",
   "execution_count": null,
   "metadata": {},
   "outputs": [],
   "source": []
  },
  {
   "cell_type": "code",
   "execution_count": null,
   "metadata": {},
   "outputs": [],
   "source": []
  },
  {
   "cell_type": "code",
   "execution_count": null,
   "metadata": {},
   "outputs": [],
   "source": []
  },
  {
   "cell_type": "code",
   "execution_count": null,
   "metadata": {},
   "outputs": [],
   "source": []
  },
  {
   "cell_type": "code",
   "execution_count": null,
   "metadata": {},
   "outputs": [],
   "source": []
  },
  {
   "cell_type": "code",
   "execution_count": null,
   "metadata": {},
   "outputs": [],
   "source": []
  },
  {
   "cell_type": "code",
   "execution_count": null,
   "metadata": {},
   "outputs": [],
   "source": []
  },
  {
   "cell_type": "code",
   "execution_count": null,
   "metadata": {},
   "outputs": [],
   "source": []
  },
  {
   "cell_type": "code",
   "execution_count": null,
   "metadata": {},
   "outputs": [],
   "source": []
  },
  {
   "cell_type": "code",
   "execution_count": null,
   "metadata": {},
   "outputs": [],
   "source": []
  },
  {
   "cell_type": "code",
   "execution_count": null,
   "metadata": {},
   "outputs": [],
   "source": []
  },
  {
   "cell_type": "code",
   "execution_count": null,
   "metadata": {},
   "outputs": [],
   "source": []
  },
  {
   "cell_type": "code",
   "execution_count": null,
   "metadata": {},
   "outputs": [],
   "source": []
  },
  {
   "cell_type": "code",
   "execution_count": null,
   "metadata": {},
   "outputs": [],
   "source": []
  },
  {
   "cell_type": "code",
   "execution_count": null,
   "metadata": {},
   "outputs": [],
   "source": []
  },
  {
   "cell_type": "code",
   "execution_count": null,
   "metadata": {},
   "outputs": [],
   "source": []
  },
  {
   "cell_type": "code",
   "execution_count": null,
   "metadata": {},
   "outputs": [],
   "source": []
  },
  {
   "cell_type": "code",
   "execution_count": null,
   "metadata": {},
   "outputs": [],
   "source": []
  },
  {
   "cell_type": "code",
   "execution_count": null,
   "metadata": {},
   "outputs": [],
   "source": []
  },
  {
   "cell_type": "code",
   "execution_count": null,
   "metadata": {},
   "outputs": [],
   "source": []
  },
  {
   "cell_type": "code",
   "execution_count": null,
   "metadata": {},
   "outputs": [],
   "source": []
  },
  {
   "cell_type": "code",
   "execution_count": null,
   "metadata": {},
   "outputs": [],
   "source": []
  },
  {
   "cell_type": "code",
   "execution_count": null,
   "metadata": {},
   "outputs": [],
   "source": []
  },
  {
   "cell_type": "code",
   "execution_count": null,
   "metadata": {},
   "outputs": [],
   "source": []
  },
  {
   "cell_type": "code",
   "execution_count": null,
   "metadata": {},
   "outputs": [],
   "source": []
  },
  {
   "cell_type": "code",
   "execution_count": null,
   "metadata": {},
   "outputs": [],
   "source": []
  },
  {
   "cell_type": "code",
   "execution_count": null,
   "metadata": {},
   "outputs": [],
   "source": []
  },
  {
   "cell_type": "code",
   "execution_count": null,
   "metadata": {},
   "outputs": [],
   "source": []
  },
  {
   "cell_type": "code",
   "execution_count": null,
   "metadata": {},
   "outputs": [],
   "source": []
  },
  {
   "cell_type": "code",
   "execution_count": null,
   "metadata": {},
   "outputs": [],
   "source": []
  },
  {
   "cell_type": "code",
   "execution_count": null,
   "metadata": {},
   "outputs": [],
   "source": []
  },
  {
   "cell_type": "code",
   "execution_count": null,
   "metadata": {},
   "outputs": [],
   "source": []
  },
  {
   "cell_type": "code",
   "execution_count": null,
   "metadata": {},
   "outputs": [],
   "source": []
  },
  {
   "cell_type": "code",
   "execution_count": null,
   "metadata": {},
   "outputs": [],
   "source": []
  },
  {
   "cell_type": "code",
   "execution_count": null,
   "metadata": {},
   "outputs": [],
   "source": []
  },
  {
   "cell_type": "code",
   "execution_count": null,
   "metadata": {},
   "outputs": [],
   "source": []
  },
  {
   "cell_type": "code",
   "execution_count": null,
   "metadata": {},
   "outputs": [],
   "source": []
  },
  {
   "cell_type": "code",
   "execution_count": null,
   "metadata": {},
   "outputs": [],
   "source": []
  },
  {
   "cell_type": "code",
   "execution_count": null,
   "metadata": {},
   "outputs": [],
   "source": []
  },
  {
   "cell_type": "code",
   "execution_count": null,
   "metadata": {},
   "outputs": [],
   "source": []
  },
  {
   "cell_type": "code",
   "execution_count": null,
   "metadata": {},
   "outputs": [],
   "source": []
  },
  {
   "cell_type": "code",
   "execution_count": null,
   "metadata": {},
   "outputs": [],
   "source": []
  },
  {
   "cell_type": "code",
   "execution_count": null,
   "metadata": {},
   "outputs": [],
   "source": []
  },
  {
   "cell_type": "code",
   "execution_count": null,
   "metadata": {},
   "outputs": [],
   "source": []
  },
  {
   "cell_type": "code",
   "execution_count": null,
   "metadata": {},
   "outputs": [],
   "source": []
  },
  {
   "cell_type": "code",
   "execution_count": null,
   "metadata": {},
   "outputs": [],
   "source": []
  },
  {
   "cell_type": "code",
   "execution_count": null,
   "metadata": {},
   "outputs": [],
   "source": []
  },
  {
   "cell_type": "code",
   "execution_count": null,
   "metadata": {},
   "outputs": [],
   "source": []
  },
  {
   "cell_type": "code",
   "execution_count": null,
   "metadata": {},
   "outputs": [],
   "source": []
  },
  {
   "cell_type": "code",
   "execution_count": null,
   "metadata": {},
   "outputs": [],
   "source": []
  },
  {
   "cell_type": "code",
   "execution_count": null,
   "metadata": {},
   "outputs": [],
   "source": []
  }
 ],
 "metadata": {
  "kernelspec": {
   "display_name": "Python 3",
   "language": "python",
   "name": "python3"
  },
  "language_info": {
   "codemirror_mode": {
    "name": "ipython",
    "version": 3
   },
   "file_extension": ".py",
   "mimetype": "text/x-python",
   "name": "python",
   "nbconvert_exporter": "python",
   "pygments_lexer": "ipython3",
   "version": "3.7.9"
  }
 },
 "nbformat": 4,
 "nbformat_minor": 4
}
