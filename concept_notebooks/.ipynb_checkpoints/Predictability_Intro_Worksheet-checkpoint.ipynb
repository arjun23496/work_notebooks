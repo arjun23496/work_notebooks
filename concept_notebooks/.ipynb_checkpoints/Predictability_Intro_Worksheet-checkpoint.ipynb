{
 "cells": [
  {
   "cell_type": "code",
   "execution_count": 56,
   "metadata": {},
   "outputs": [
    {
     "data": {
      "text/html": [
       "\n",
       "    <div class=\"bk-root\">\n",
       "        <a href=\"https://bokeh.org\" target=\"_blank\" class=\"bk-logo bk-logo-small bk-logo-notebook\"></a>\n",
       "        <span id=\"13157\">Loading BokehJS ...</span>\n",
       "    </div>"
      ]
     },
     "metadata": {},
     "output_type": "display_data"
    },
    {
     "data": {
      "application/javascript": [
       "\n",
       "(function(root) {\n",
       "  function now() {\n",
       "    return new Date();\n",
       "  }\n",
       "\n",
       "  var force = true;\n",
       "\n",
       "  if (typeof root._bokeh_onload_callbacks === \"undefined\" || force === true) {\n",
       "    root._bokeh_onload_callbacks = [];\n",
       "    root._bokeh_is_loading = undefined;\n",
       "  }\n",
       "\n",
       "  var JS_MIME_TYPE = 'application/javascript';\n",
       "  var HTML_MIME_TYPE = 'text/html';\n",
       "  var EXEC_MIME_TYPE = 'application/vnd.bokehjs_exec.v0+json';\n",
       "  var CLASS_NAME = 'output_bokeh rendered_html';\n",
       "\n",
       "  /**\n",
       "   * Render data to the DOM node\n",
       "   */\n",
       "  function render(props, node) {\n",
       "    var script = document.createElement(\"script\");\n",
       "    node.appendChild(script);\n",
       "  }\n",
       "\n",
       "  /**\n",
       "   * Handle when an output is cleared or removed\n",
       "   */\n",
       "  function handleClearOutput(event, handle) {\n",
       "    var cell = handle.cell;\n",
       "\n",
       "    var id = cell.output_area._bokeh_element_id;\n",
       "    var server_id = cell.output_area._bokeh_server_id;\n",
       "    // Clean up Bokeh references\n",
       "    if (id != null && id in Bokeh.index) {\n",
       "      Bokeh.index[id].model.document.clear();\n",
       "      delete Bokeh.index[id];\n",
       "    }\n",
       "\n",
       "    if (server_id !== undefined) {\n",
       "      // Clean up Bokeh references\n",
       "      var cmd = \"from bokeh.io.state import curstate; print(curstate().uuid_to_server['\" + server_id + \"'].get_sessions()[0].document.roots[0]._id)\";\n",
       "      cell.notebook.kernel.execute(cmd, {\n",
       "        iopub: {\n",
       "          output: function(msg) {\n",
       "            var id = msg.content.text.trim();\n",
       "            if (id in Bokeh.index) {\n",
       "              Bokeh.index[id].model.document.clear();\n",
       "              delete Bokeh.index[id];\n",
       "            }\n",
       "          }\n",
       "        }\n",
       "      });\n",
       "      // Destroy server and session\n",
       "      var cmd = \"import bokeh.io.notebook as ion; ion.destroy_server('\" + server_id + \"')\";\n",
       "      cell.notebook.kernel.execute(cmd);\n",
       "    }\n",
       "  }\n",
       "\n",
       "  /**\n",
       "   * Handle when a new output is added\n",
       "   */\n",
       "  function handleAddOutput(event, handle) {\n",
       "    var output_area = handle.output_area;\n",
       "    var output = handle.output;\n",
       "\n",
       "    // limit handleAddOutput to display_data with EXEC_MIME_TYPE content only\n",
       "    if ((output.output_type != \"display_data\") || (!output.data.hasOwnProperty(EXEC_MIME_TYPE))) {\n",
       "      return\n",
       "    }\n",
       "\n",
       "    var toinsert = output_area.element.find(\".\" + CLASS_NAME.split(' ')[0]);\n",
       "\n",
       "    if (output.metadata[EXEC_MIME_TYPE][\"id\"] !== undefined) {\n",
       "      toinsert[toinsert.length - 1].firstChild.textContent = output.data[JS_MIME_TYPE];\n",
       "      // store reference to embed id on output_area\n",
       "      output_area._bokeh_element_id = output.metadata[EXEC_MIME_TYPE][\"id\"];\n",
       "    }\n",
       "    if (output.metadata[EXEC_MIME_TYPE][\"server_id\"] !== undefined) {\n",
       "      var bk_div = document.createElement(\"div\");\n",
       "      bk_div.innerHTML = output.data[HTML_MIME_TYPE];\n",
       "      var script_attrs = bk_div.children[0].attributes;\n",
       "      for (var i = 0; i < script_attrs.length; i++) {\n",
       "        toinsert[toinsert.length - 1].firstChild.setAttribute(script_attrs[i].name, script_attrs[i].value);\n",
       "        toinsert[toinsert.length - 1].firstChild.textContent = bk_div.children[0].textContent\n",
       "      }\n",
       "      // store reference to server id on output_area\n",
       "      output_area._bokeh_server_id = output.metadata[EXEC_MIME_TYPE][\"server_id\"];\n",
       "    }\n",
       "  }\n",
       "\n",
       "  function register_renderer(events, OutputArea) {\n",
       "\n",
       "    function append_mime(data, metadata, element) {\n",
       "      // create a DOM node to render to\n",
       "      var toinsert = this.create_output_subarea(\n",
       "        metadata,\n",
       "        CLASS_NAME,\n",
       "        EXEC_MIME_TYPE\n",
       "      );\n",
       "      this.keyboard_manager.register_events(toinsert);\n",
       "      // Render to node\n",
       "      var props = {data: data, metadata: metadata[EXEC_MIME_TYPE]};\n",
       "      render(props, toinsert[toinsert.length - 1]);\n",
       "      element.append(toinsert);\n",
       "      return toinsert\n",
       "    }\n",
       "\n",
       "    /* Handle when an output is cleared or removed */\n",
       "    events.on('clear_output.CodeCell', handleClearOutput);\n",
       "    events.on('delete.Cell', handleClearOutput);\n",
       "\n",
       "    /* Handle when a new output is added */\n",
       "    events.on('output_added.OutputArea', handleAddOutput);\n",
       "\n",
       "    /**\n",
       "     * Register the mime type and append_mime function with output_area\n",
       "     */\n",
       "    OutputArea.prototype.register_mime_type(EXEC_MIME_TYPE, append_mime, {\n",
       "      /* Is output safe? */\n",
       "      safe: true,\n",
       "      /* Index of renderer in `output_area.display_order` */\n",
       "      index: 0\n",
       "    });\n",
       "  }\n",
       "\n",
       "  // register the mime type if in Jupyter Notebook environment and previously unregistered\n",
       "  if (root.Jupyter !== undefined) {\n",
       "    var events = require('base/js/events');\n",
       "    var OutputArea = require('notebook/js/outputarea').OutputArea;\n",
       "\n",
       "    if (OutputArea.prototype.mime_types().indexOf(EXEC_MIME_TYPE) == -1) {\n",
       "      register_renderer(events, OutputArea);\n",
       "    }\n",
       "  }\n",
       "\n",
       "  \n",
       "  if (typeof (root._bokeh_timeout) === \"undefined\" || force === true) {\n",
       "    root._bokeh_timeout = Date.now() + 5000;\n",
       "    root._bokeh_failed_load = false;\n",
       "  }\n",
       "\n",
       "  var NB_LOAD_WARNING = {'data': {'text/html':\n",
       "     \"<div style='background-color: #fdd'>\\n\"+\n",
       "     \"<p>\\n\"+\n",
       "     \"BokehJS does not appear to have successfully loaded. If loading BokehJS from CDN, this \\n\"+\n",
       "     \"may be due to a slow or bad network connection. Possible fixes:\\n\"+\n",
       "     \"</p>\\n\"+\n",
       "     \"<ul>\\n\"+\n",
       "     \"<li>re-rerun `output_notebook()` to attempt to load from CDN again, or</li>\\n\"+\n",
       "     \"<li>use INLINE resources instead, as so:</li>\\n\"+\n",
       "     \"</ul>\\n\"+\n",
       "     \"<code>\\n\"+\n",
       "     \"from bokeh.resources import INLINE\\n\"+\n",
       "     \"output_notebook(resources=INLINE)\\n\"+\n",
       "     \"</code>\\n\"+\n",
       "     \"</div>\"}};\n",
       "\n",
       "  function display_loaded() {\n",
       "    var el = document.getElementById(\"13157\");\n",
       "    if (el != null) {\n",
       "      el.textContent = \"BokehJS is loading...\";\n",
       "    }\n",
       "    if (root.Bokeh !== undefined) {\n",
       "      if (el != null) {\n",
       "        el.textContent = \"BokehJS \" + root.Bokeh.version + \" successfully loaded.\";\n",
       "      }\n",
       "    } else if (Date.now() < root._bokeh_timeout) {\n",
       "      setTimeout(display_loaded, 100)\n",
       "    }\n",
       "  }\n",
       "\n",
       "\n",
       "  function run_callbacks() {\n",
       "    try {\n",
       "      root._bokeh_onload_callbacks.forEach(function(callback) {\n",
       "        if (callback != null)\n",
       "          callback();\n",
       "      });\n",
       "    } finally {\n",
       "      delete root._bokeh_onload_callbacks\n",
       "    }\n",
       "    console.debug(\"Bokeh: all callbacks have finished\");\n",
       "  }\n",
       "\n",
       "  function load_libs(css_urls, js_urls, callback) {\n",
       "    if (css_urls == null) css_urls = [];\n",
       "    if (js_urls == null) js_urls = [];\n",
       "\n",
       "    root._bokeh_onload_callbacks.push(callback);\n",
       "    if (root._bokeh_is_loading > 0) {\n",
       "      console.debug(\"Bokeh: BokehJS is being loaded, scheduling callback at\", now());\n",
       "      return null;\n",
       "    }\n",
       "    if (js_urls == null || js_urls.length === 0) {\n",
       "      run_callbacks();\n",
       "      return null;\n",
       "    }\n",
       "    console.debug(\"Bokeh: BokehJS not loaded, scheduling load and callback at\", now());\n",
       "    root._bokeh_is_loading = css_urls.length + js_urls.length;\n",
       "\n",
       "    function on_load() {\n",
       "      root._bokeh_is_loading--;\n",
       "      if (root._bokeh_is_loading === 0) {\n",
       "        console.debug(\"Bokeh: all BokehJS libraries/stylesheets loaded\");\n",
       "        run_callbacks()\n",
       "      }\n",
       "    }\n",
       "\n",
       "    function on_error() {\n",
       "      console.error(\"failed to load \" + url);\n",
       "    }\n",
       "\n",
       "    for (var i = 0; i < css_urls.length; i++) {\n",
       "      var url = css_urls[i];\n",
       "      const element = document.createElement(\"link\");\n",
       "      element.onload = on_load;\n",
       "      element.onerror = on_error;\n",
       "      element.rel = \"stylesheet\";\n",
       "      element.type = \"text/css\";\n",
       "      element.href = url;\n",
       "      console.debug(\"Bokeh: injecting link tag for BokehJS stylesheet: \", url);\n",
       "      document.body.appendChild(element);\n",
       "    }\n",
       "\n",
       "    const hashes = {\"https://cdn.bokeh.org/bokeh/release/bokeh-2.2.3.min.js\": \"T2yuo9Oe71Cz/I4X9Ac5+gpEa5a8PpJCDlqKYO0CfAuEszu1JrXLl8YugMqYe3sM\", \"https://cdn.bokeh.org/bokeh/release/bokeh-widgets-2.2.3.min.js\": \"98GDGJ0kOMCUMUePhksaQ/GYgB3+NH9h996V88sh3aOiUNX3N+fLXAtry6xctSZ6\", \"https://cdn.bokeh.org/bokeh/release/bokeh-tables-2.2.3.min.js\": \"89bArO+nlbP3sgakeHjCo1JYxYR5wufVgA3IbUvDY+K7w4zyxJqssu7wVnfeKCq8\"};\n",
       "\n",
       "    for (var i = 0; i < js_urls.length; i++) {\n",
       "      var url = js_urls[i];\n",
       "      var element = document.createElement('script');\n",
       "      element.onload = on_load;\n",
       "      element.onerror = on_error;\n",
       "      element.async = false;\n",
       "      element.src = url;\n",
       "      if (url in hashes) {\n",
       "        element.crossOrigin = \"anonymous\";\n",
       "        element.integrity = \"sha384-\" + hashes[url];\n",
       "      }\n",
       "      console.debug(\"Bokeh: injecting script tag for BokehJS library: \", url);\n",
       "      document.head.appendChild(element);\n",
       "    }\n",
       "  };\n",
       "\n",
       "  function inject_raw_css(css) {\n",
       "    const element = document.createElement(\"style\");\n",
       "    element.appendChild(document.createTextNode(css));\n",
       "    document.body.appendChild(element);\n",
       "  }\n",
       "\n",
       "  \n",
       "  var js_urls = [\"https://cdn.bokeh.org/bokeh/release/bokeh-2.2.3.min.js\", \"https://cdn.bokeh.org/bokeh/release/bokeh-widgets-2.2.3.min.js\", \"https://cdn.bokeh.org/bokeh/release/bokeh-tables-2.2.3.min.js\"];\n",
       "  var css_urls = [];\n",
       "  \n",
       "\n",
       "  var inline_js = [\n",
       "    function(Bokeh) {\n",
       "      Bokeh.set_log_level(\"info\");\n",
       "    },\n",
       "    function(Bokeh) {\n",
       "    \n",
       "    \n",
       "    }\n",
       "  ];\n",
       "\n",
       "  function run_inline_js() {\n",
       "    \n",
       "    if (root.Bokeh !== undefined || force === true) {\n",
       "      \n",
       "    for (var i = 0; i < inline_js.length; i++) {\n",
       "      inline_js[i].call(root, root.Bokeh);\n",
       "    }\n",
       "    if (force === true) {\n",
       "        display_loaded();\n",
       "      }} else if (Date.now() < root._bokeh_timeout) {\n",
       "      setTimeout(run_inline_js, 100);\n",
       "    } else if (!root._bokeh_failed_load) {\n",
       "      console.log(\"Bokeh: BokehJS failed to load within specified timeout.\");\n",
       "      root._bokeh_failed_load = true;\n",
       "    } else if (force !== true) {\n",
       "      var cell = $(document.getElementById(\"13157\")).parents('.cell').data().cell;\n",
       "      cell.output_area.append_execute_result(NB_LOAD_WARNING)\n",
       "    }\n",
       "\n",
       "  }\n",
       "\n",
       "  if (root._bokeh_is_loading === 0) {\n",
       "    console.debug(\"Bokeh: BokehJS loaded, going straight to plotting\");\n",
       "    run_inline_js();\n",
       "  } else {\n",
       "    load_libs(css_urls, js_urls, function() {\n",
       "      console.debug(\"Bokeh: BokehJS plotting callback run at\", now());\n",
       "      run_inline_js();\n",
       "    });\n",
       "  }\n",
       "}(window));"
      ],
      "application/vnd.bokehjs_load.v0+json": "\n(function(root) {\n  function now() {\n    return new Date();\n  }\n\n  var force = true;\n\n  if (typeof root._bokeh_onload_callbacks === \"undefined\" || force === true) {\n    root._bokeh_onload_callbacks = [];\n    root._bokeh_is_loading = undefined;\n  }\n\n  \n\n  \n  if (typeof (root._bokeh_timeout) === \"undefined\" || force === true) {\n    root._bokeh_timeout = Date.now() + 5000;\n    root._bokeh_failed_load = false;\n  }\n\n  var NB_LOAD_WARNING = {'data': {'text/html':\n     \"<div style='background-color: #fdd'>\\n\"+\n     \"<p>\\n\"+\n     \"BokehJS does not appear to have successfully loaded. If loading BokehJS from CDN, this \\n\"+\n     \"may be due to a slow or bad network connection. Possible fixes:\\n\"+\n     \"</p>\\n\"+\n     \"<ul>\\n\"+\n     \"<li>re-rerun `output_notebook()` to attempt to load from CDN again, or</li>\\n\"+\n     \"<li>use INLINE resources instead, as so:</li>\\n\"+\n     \"</ul>\\n\"+\n     \"<code>\\n\"+\n     \"from bokeh.resources import INLINE\\n\"+\n     \"output_notebook(resources=INLINE)\\n\"+\n     \"</code>\\n\"+\n     \"</div>\"}};\n\n  function display_loaded() {\n    var el = document.getElementById(\"13157\");\n    if (el != null) {\n      el.textContent = \"BokehJS is loading...\";\n    }\n    if (root.Bokeh !== undefined) {\n      if (el != null) {\n        el.textContent = \"BokehJS \" + root.Bokeh.version + \" successfully loaded.\";\n      }\n    } else if (Date.now() < root._bokeh_timeout) {\n      setTimeout(display_loaded, 100)\n    }\n  }\n\n\n  function run_callbacks() {\n    try {\n      root._bokeh_onload_callbacks.forEach(function(callback) {\n        if (callback != null)\n          callback();\n      });\n    } finally {\n      delete root._bokeh_onload_callbacks\n    }\n    console.debug(\"Bokeh: all callbacks have finished\");\n  }\n\n  function load_libs(css_urls, js_urls, callback) {\n    if (css_urls == null) css_urls = [];\n    if (js_urls == null) js_urls = [];\n\n    root._bokeh_onload_callbacks.push(callback);\n    if (root._bokeh_is_loading > 0) {\n      console.debug(\"Bokeh: BokehJS is being loaded, scheduling callback at\", now());\n      return null;\n    }\n    if (js_urls == null || js_urls.length === 0) {\n      run_callbacks();\n      return null;\n    }\n    console.debug(\"Bokeh: BokehJS not loaded, scheduling load and callback at\", now());\n    root._bokeh_is_loading = css_urls.length + js_urls.length;\n\n    function on_load() {\n      root._bokeh_is_loading--;\n      if (root._bokeh_is_loading === 0) {\n        console.debug(\"Bokeh: all BokehJS libraries/stylesheets loaded\");\n        run_callbacks()\n      }\n    }\n\n    function on_error() {\n      console.error(\"failed to load \" + url);\n    }\n\n    for (var i = 0; i < css_urls.length; i++) {\n      var url = css_urls[i];\n      const element = document.createElement(\"link\");\n      element.onload = on_load;\n      element.onerror = on_error;\n      element.rel = \"stylesheet\";\n      element.type = \"text/css\";\n      element.href = url;\n      console.debug(\"Bokeh: injecting link tag for BokehJS stylesheet: \", url);\n      document.body.appendChild(element);\n    }\n\n    const hashes = {\"https://cdn.bokeh.org/bokeh/release/bokeh-2.2.3.min.js\": \"T2yuo9Oe71Cz/I4X9Ac5+gpEa5a8PpJCDlqKYO0CfAuEszu1JrXLl8YugMqYe3sM\", \"https://cdn.bokeh.org/bokeh/release/bokeh-widgets-2.2.3.min.js\": \"98GDGJ0kOMCUMUePhksaQ/GYgB3+NH9h996V88sh3aOiUNX3N+fLXAtry6xctSZ6\", \"https://cdn.bokeh.org/bokeh/release/bokeh-tables-2.2.3.min.js\": \"89bArO+nlbP3sgakeHjCo1JYxYR5wufVgA3IbUvDY+K7w4zyxJqssu7wVnfeKCq8\"};\n\n    for (var i = 0; i < js_urls.length; i++) {\n      var url = js_urls[i];\n      var element = document.createElement('script');\n      element.onload = on_load;\n      element.onerror = on_error;\n      element.async = false;\n      element.src = url;\n      if (url in hashes) {\n        element.crossOrigin = \"anonymous\";\n        element.integrity = \"sha384-\" + hashes[url];\n      }\n      console.debug(\"Bokeh: injecting script tag for BokehJS library: \", url);\n      document.head.appendChild(element);\n    }\n  };\n\n  function inject_raw_css(css) {\n    const element = document.createElement(\"style\");\n    element.appendChild(document.createTextNode(css));\n    document.body.appendChild(element);\n  }\n\n  \n  var js_urls = [\"https://cdn.bokeh.org/bokeh/release/bokeh-2.2.3.min.js\", \"https://cdn.bokeh.org/bokeh/release/bokeh-widgets-2.2.3.min.js\", \"https://cdn.bokeh.org/bokeh/release/bokeh-tables-2.2.3.min.js\"];\n  var css_urls = [];\n  \n\n  var inline_js = [\n    function(Bokeh) {\n      Bokeh.set_log_level(\"info\");\n    },\n    function(Bokeh) {\n    \n    \n    }\n  ];\n\n  function run_inline_js() {\n    \n    if (root.Bokeh !== undefined || force === true) {\n      \n    for (var i = 0; i < inline_js.length; i++) {\n      inline_js[i].call(root, root.Bokeh);\n    }\n    if (force === true) {\n        display_loaded();\n      }} else if (Date.now() < root._bokeh_timeout) {\n      setTimeout(run_inline_js, 100);\n    } else if (!root._bokeh_failed_load) {\n      console.log(\"Bokeh: BokehJS failed to load within specified timeout.\");\n      root._bokeh_failed_load = true;\n    } else if (force !== true) {\n      var cell = $(document.getElementById(\"13157\")).parents('.cell').data().cell;\n      cell.output_area.append_execute_result(NB_LOAD_WARNING)\n    }\n\n  }\n\n  if (root._bokeh_is_loading === 0) {\n    console.debug(\"Bokeh: BokehJS loaded, going straight to plotting\");\n    run_inline_js();\n  } else {\n    load_libs(css_urls, js_urls, function() {\n      console.debug(\"Bokeh: BokehJS plotting callback run at\", now());\n      run_inline_js();\n    });\n  }\n}(window));"
     },
     "metadata": {},
     "output_type": "display_data"
    }
   ],
   "source": [
    "import numpy as np\n",
    "import scipy as sp\n",
    "\n",
    "from pybdm import BDM\n",
    "from pybdm import PartitionIgnore\n",
    "from pyinform.blockentropy import block_entropy\n",
    "from compress import Compressor\n",
    "\n",
    "# plotting tools\n",
    "from bokeh.io import output_notebook, show\n",
    "from bokeh.layouts import gridplot\n",
    "from bokeh.plotting import figure\n",
    "from bokeh.models import CustomJS, Slider, ColumnDataSource\n",
    "\n",
    "output_notebook()"
   ]
  },
  {
   "cell_type": "markdown",
   "metadata": {},
   "source": [
    "In this notebook we will try to study the relative mathematical randomness in some strings and relate it to the actual number of parameters required for a machine learning model to produce that string in practice.\n",
    "\n",
    "Useful links:\n",
    "\n",
    "pybdm: [https://pybdm-docs.readthedocs.io/en/latest/index.html](https://pybdm-docs.readthedocs.io/en/latest/index.html)\n",
    "\n",
    "pyinform: [https://elife-asu.github.io/PyInform/index.html](https://elife-asu.github.io/PyInform/index.html)\n",
    "\n",
    "compress: [https://pypi.org/project/compress/](https://pypi.org/project/compress/)\n",
    "\n",
    "bokeh: [https://docs.bokeh.org/en/latest/index.html](https://docs.bokeh.org/en/latest/index.html)\n",
    "\n",
    "\n",
    "For plotting use the following code. Make sure to label all plots properly\n",
    "\n",
    "```\n",
    "plot_options = dict(width=450,\n",
    "                    plot_height=250,\n",
    "                    tools='pan,wheel_zoom,reset,save')\n",
    "\n",
    "bent_plot = figure(**plot_options)\n",
    "bent_plot.line(<x_data>,\n",
    "                <y_data>,\n",
    "                line_width=2)\n",
    "\n",
    "bent_plot.xaxis.axis_label = '<xlabel>'\n",
    "bent_plot.yaxis.axis_label = '<ylabel>'\n",
    "\n",
    "show(bent_plot)\n",
    "\n",
    "```"
   ]
  },
  {
   "cell_type": "code",
   "execution_count": 4,
   "metadata": {},
   "outputs": [],
   "source": [
    "## Set of strings\n",
    "strings = [\n",
    "    [ 1, 0, 1, 0, 1, 0, 1, 0, 1, 0, 1, 0 ], # String 1\n",
    "    [ 1, 0, 1, 0, 1, 0, 0, 1, 0, 1, 0, 1 ], # String 2\n",
    "    [ 0, 0, 0, 0, 0, 0, 1, 1, 1, 1, 1, 1 ], # String 3\n",
    "    [ 1, 1, 0, 1, 0, 0, 0, 1, 0, 0, 1, 1 ], # String 4\n",
    "    [ 1, 1, 0, 1, 0, 1, 0, 0, 0, 0, 1, 1 ], # String 5\n",
    "    [ 1, 1, 1, 0, 0, 0, 0, 0, 1, 0, 1, 1 ], # String 6\n",
    "    [ 1, 1, 1, 0, 1, 1, 0, 0, 1, 0, 0, 0 ], # String 7\n",
    "    [ 0, 0, 0, 1, 0, 0, 1, 1, 0, 1, 1, 1 ]  # String 8\n",
    "]"
   ]
  },
  {
   "cell_type": "code",
   "execution_count": 20,
   "metadata": {},
   "outputs": [],
   "source": [
    "## These are values taken from actual experiments \n",
    "## on the minimum number of parameters required to \n",
    "## obtain the corresponding string as output from a machine learning\n",
    "## model(a sequence generation LSTM)\n",
    "lstm_min_nparams = [ 185, 379, 460, 602, 632, 637, 581, 601 ]"
   ]
  },
  {
   "cell_type": "code",
   "execution_count": 22,
   "metadata": {},
   "outputs": [
    {
     "name": "stderr",
     "output_type": "stream",
     "text": [
      "BokehUserWarning: ColumnDataSource's columns must be of the same length. Current lengths: ('x', 12), ('y', 8)\n"
     ]
    },
    {
     "data": {
      "text/html": [
       "\n",
       "\n",
       "\n",
       "\n",
       "\n",
       "\n",
       "  <div class=\"bk-root\" id=\"4465dde0-93e6-4c5b-a616-2a9a7bb78f1b\" data-root-id=\"8912\"></div>\n"
      ]
     },
     "metadata": {},
     "output_type": "display_data"
    },
    {
     "data": {
      "application/javascript": [
       "(function(root) {\n",
       "  function embed_document(root) {\n",
       "    \n",
       "  var docs_json = {\"aef8e87c-d730-4341-a1ff-42f5903a2da3\":{\"roots\":{\"references\":[{\"attributes\":{\"below\":[{\"id\":\"8921\"}],\"center\":[{\"id\":\"8924\"},{\"id\":\"8928\"}],\"left\":[{\"id\":\"8925\"}],\"plot_height\":250,\"plot_width\":450,\"renderers\":[{\"id\":\"8941\"}],\"title\":{\"id\":\"8943\"},\"toolbar\":{\"id\":\"8933\"},\"x_range\":{\"id\":\"8913\"},\"x_scale\":{\"id\":\"8917\"},\"y_range\":{\"id\":\"8915\"},\"y_scale\":{\"id\":\"8919\"}},\"id\":\"8912\",\"subtype\":\"Figure\",\"type\":\"Plot\"},{\"attributes\":{},\"id\":\"8915\",\"type\":\"DataRange1d\"},{\"attributes\":{},\"id\":\"9239\",\"type\":\"UnionRenderers\"},{\"attributes\":{},\"id\":\"8919\",\"type\":\"LinearScale\"},{\"attributes\":{},\"id\":\"8917\",\"type\":\"LinearScale\"},{\"attributes\":{},\"id\":\"9235\",\"type\":\"BasicTickFormatter\"},{\"attributes\":{},\"id\":\"8913\",\"type\":\"DataRange1d\"},{\"attributes\":{},\"id\":\"8931\",\"type\":\"ResetTool\"},{\"attributes\":{\"axis_label\":\"lstm minimum number of parameters\",\"formatter\":{\"id\":\"9235\"},\"ticker\":{\"id\":\"8926\"}},\"id\":\"8925\",\"type\":\"LinearAxis\"},{\"attributes\":{\"line_alpha\":0.1,\"line_color\":\"#1f77b4\",\"line_width\":2,\"x\":{\"field\":\"x\"},\"y\":{\"field\":\"y\"}},\"id\":\"8940\",\"type\":\"Line\"},{\"attributes\":{},\"id\":\"8930\",\"type\":\"WheelZoomTool\"},{\"attributes\":{\"data\":{\"x\":[0,1,2,3,4,5,6,7,8,9,10,11],\"y\":[185,379,460,602,632,637,581,601]},\"selected\":{\"id\":\"9238\"},\"selection_policy\":{\"id\":\"9239\"}},\"id\":\"8938\",\"type\":\"ColumnDataSource\"},{\"attributes\":{\"line_color\":\"#1f77b4\",\"line_width\":2,\"x\":{\"field\":\"x\"},\"y\":{\"field\":\"y\"}},\"id\":\"8939\",\"type\":\"Line\"},{\"attributes\":{},\"id\":\"8926\",\"type\":\"BasicTicker\"},{\"attributes\":{\"data_source\":{\"id\":\"8938\"},\"glyph\":{\"id\":\"8939\"},\"hover_glyph\":null,\"muted_glyph\":null,\"nonselection_glyph\":{\"id\":\"8940\"},\"selection_glyph\":null,\"view\":{\"id\":\"8942\"}},\"id\":\"8941\",\"type\":\"GlyphRenderer\"},{\"attributes\":{\"active_drag\":\"auto\",\"active_inspect\":\"auto\",\"active_multi\":null,\"active_scroll\":\"auto\",\"active_tap\":\"auto\",\"tools\":[{\"id\":\"8929\"},{\"id\":\"8930\"},{\"id\":\"8931\"},{\"id\":\"8932\"}]},\"id\":\"8933\",\"type\":\"Toolbar\"},{\"attributes\":{\"axis\":{\"id\":\"8921\"},\"ticker\":null},\"id\":\"8924\",\"type\":\"Grid\"},{\"attributes\":{},\"id\":\"8922\",\"type\":\"BasicTicker\"},{\"attributes\":{\"axis\":{\"id\":\"8925\"},\"dimension\":1,\"ticker\":null},\"id\":\"8928\",\"type\":\"Grid\"},{\"attributes\":{\"axis_label\":\"string index\",\"formatter\":{\"id\":\"9237\"},\"ticker\":{\"id\":\"8922\"}},\"id\":\"8921\",\"type\":\"LinearAxis\"},{\"attributes\":{},\"id\":\"8932\",\"type\":\"SaveTool\"},{\"attributes\":{},\"id\":\"8929\",\"type\":\"PanTool\"},{\"attributes\":{},\"id\":\"9238\",\"type\":\"Selection\"},{\"attributes\":{},\"id\":\"9237\",\"type\":\"BasicTickFormatter\"},{\"attributes\":{\"text\":\"LSTM Parameter Trend\"},\"id\":\"8943\",\"type\":\"Title\"},{\"attributes\":{\"source\":{\"id\":\"8938\"}},\"id\":\"8942\",\"type\":\"CDSView\"}],\"root_ids\":[\"8912\"]},\"title\":\"Bokeh Application\",\"version\":\"2.2.3\"}};\n",
       "  var render_items = [{\"docid\":\"aef8e87c-d730-4341-a1ff-42f5903a2da3\",\"root_ids\":[\"8912\"],\"roots\":{\"8912\":\"4465dde0-93e6-4c5b-a616-2a9a7bb78f1b\"}}];\n",
       "  root.Bokeh.embed.embed_items_notebook(docs_json, render_items);\n",
       "\n",
       "  }\n",
       "  if (root.Bokeh !== undefined) {\n",
       "    embed_document(root);\n",
       "  } else {\n",
       "    var attempts = 0;\n",
       "    var timer = setInterval(function(root) {\n",
       "      if (root.Bokeh !== undefined) {\n",
       "        clearInterval(timer);\n",
       "        embed_document(root);\n",
       "      } else {\n",
       "        attempts++;\n",
       "        if (attempts > 100) {\n",
       "          clearInterval(timer);\n",
       "          console.log(\"Bokeh: ERROR: Unable to run BokehJS code because BokehJS library is missing\");\n",
       "        }\n",
       "      }\n",
       "    }, 10, root)\n",
       "  }\n",
       "})(window);"
      ],
      "application/vnd.bokehjs_exec.v0+json": ""
     },
     "metadata": {
      "application/vnd.bokehjs_exec.v0+json": {
       "id": "8912"
      }
     },
     "output_type": "display_data"
    }
   ],
   "source": [
    "plot_options = dict(width=450,\n",
    "                    plot_height=250,\n",
    "                    tools='pan,wheel_zoom,reset,save')\n",
    "\n",
    "lstm_plot = figure(**plot_options)\n",
    "lstm_plot.line(range(len(string)),\n",
    "                lstm_min_nparams,\n",
    "                line_width=2)\n",
    "lstm_plot.title.text = \"LSTM Parameter Trend\"\n",
    "lstm_plot.xaxis.axis_label = 'string index'\n",
    "lstm_plot.yaxis.axis_label = 'lstm minimum number of parameters'\n",
    "show(lstm_plot)"
   ]
  },
  {
   "cell_type": "markdown",
   "metadata": {},
   "source": [
    "## Shannon Principles\n",
    "\n",
    "First we will check what shannon principles of entropy say about the strings. \n",
    "\n",
    "The question will be how well this corresponds to a source that is generating the strings?\n",
    "\n",
    "- **TASK**: compute and plot `block_entropy`(as a function of block_size) for each of the strings "
   ]
  },
  {
   "cell_type": "code",
   "execution_count": 16,
   "metadata": {
    "scrolled": true
   },
   "outputs": [
    {
     "data": {
      "text/html": [
       "\n",
       "\n",
       "\n",
       "\n",
       "\n",
       "\n",
       "  <div class=\"bk-root\" id=\"50449a84-4756-46fe-b6df-02cf4fb93e7d\" data-root-id=\"5403\"></div>\n"
      ]
     },
     "metadata": {},
     "output_type": "display_data"
    },
    {
     "data": {
      "application/javascript": [
       "(function(root) {\n",
       "  function embed_document(root) {\n",
       "    \n",
       "  var docs_json = {\"b36fe6bf-1e53-45f0-be33-9d5c9ebcc56d\":{\"roots\":{\"references\":[{\"attributes\":{\"below\":[{\"id\":\"5412\"}],\"center\":[{\"id\":\"5415\"},{\"id\":\"5419\"}],\"left\":[{\"id\":\"5416\"}],\"plot_height\":250,\"plot_width\":450,\"renderers\":[{\"id\":\"5432\"}],\"title\":{\"id\":\"5634\"},\"toolbar\":{\"id\":\"5424\"},\"x_range\":{\"id\":\"5404\"},\"x_scale\":{\"id\":\"5408\"},\"y_range\":{\"id\":\"5406\"},\"y_scale\":{\"id\":\"5410\"}},\"id\":\"5403\",\"subtype\":\"Figure\",\"type\":\"Plot\"},{\"attributes\":{},\"id\":\"5639\",\"type\":\"BasicTickFormatter\"},{\"attributes\":{},\"id\":\"5413\",\"type\":\"BasicTicker\"},{\"attributes\":{\"source\":{\"id\":\"5429\"}},\"id\":\"5433\",\"type\":\"CDSView\"},{\"attributes\":{\"line_alpha\":0.1,\"line_color\":\"#1f77b4\",\"line_width\":2,\"x\":{\"field\":\"x\"},\"y\":{\"field\":\"y\"}},\"id\":\"5431\",\"type\":\"Line\"},{\"attributes\":{\"axis\":{\"id\":\"5412\"},\"ticker\":null},\"id\":\"5415\",\"type\":\"Grid\"},{\"attributes\":{},\"id\":\"5408\",\"type\":\"LinearScale\"},{\"attributes\":{\"text\":\"\"},\"id\":\"5634\",\"type\":\"Title\"},{\"attributes\":{\"axis\":{\"id\":\"5416\"},\"dimension\":1,\"ticker\":null},\"id\":\"5419\",\"type\":\"Grid\"},{\"attributes\":{},\"id\":\"5406\",\"type\":\"DataRange1d\"},{\"attributes\":{},\"id\":\"5640\",\"type\":\"Selection\"},{\"attributes\":{\"axis_label\":\"block entropy\",\"formatter\":{\"id\":\"5637\"},\"ticker\":{\"id\":\"5417\"}},\"id\":\"5416\",\"type\":\"LinearAxis\"},{\"attributes\":{\"data_source\":{\"id\":\"5429\"},\"glyph\":{\"id\":\"5430\"},\"hover_glyph\":null,\"muted_glyph\":null,\"nonselection_glyph\":{\"id\":\"5431\"},\"selection_glyph\":null,\"view\":{\"id\":\"5433\"}},\"id\":\"5432\",\"type\":\"GlyphRenderer\"},{\"attributes\":{},\"id\":\"5641\",\"type\":\"UnionRenderers\"},{\"attributes\":{\"data\":{\"x\":[0,1,2,3,4,5,6,7,8,9,10],\"y\":[1.0,0.9940302114769565,1.0,0.9910760598382222,1.0,0.9852281360342515,1.0,0.9709505944546686,1.0,0.9182958340544896,1.0]},\"selected\":{\"id\":\"5640\"},\"selection_policy\":{\"id\":\"5641\"}},\"id\":\"5429\",\"type\":\"ColumnDataSource\"},{\"attributes\":{},\"id\":\"5420\",\"type\":\"PanTool\"},{\"attributes\":{\"line_color\":\"#1f77b4\",\"line_width\":2,\"x\":{\"field\":\"x\"},\"y\":{\"field\":\"y\"}},\"id\":\"5430\",\"type\":\"Line\"},{\"attributes\":{},\"id\":\"5421\",\"type\":\"WheelZoomTool\"},{\"attributes\":{},\"id\":\"5422\",\"type\":\"ResetTool\"},{\"attributes\":{},\"id\":\"5423\",\"type\":\"SaveTool\"},{\"attributes\":{},\"id\":\"5637\",\"type\":\"BasicTickFormatter\"},{\"attributes\":{\"active_drag\":\"auto\",\"active_inspect\":\"auto\",\"active_multi\":null,\"active_scroll\":\"auto\",\"active_tap\":\"auto\",\"tools\":[{\"id\":\"5420\"},{\"id\":\"5421\"},{\"id\":\"5422\"},{\"id\":\"5423\"}]},\"id\":\"5424\",\"type\":\"Toolbar\"},{\"attributes\":{},\"id\":\"5417\",\"type\":\"BasicTicker\"},{\"attributes\":{\"axis_label\":\"block size\",\"formatter\":{\"id\":\"5639\"},\"ticker\":{\"id\":\"5413\"}},\"id\":\"5412\",\"type\":\"LinearAxis\"},{\"attributes\":{},\"id\":\"5404\",\"type\":\"DataRange1d\"},{\"attributes\":{},\"id\":\"5410\",\"type\":\"LinearScale\"}],\"root_ids\":[\"5403\"]},\"title\":\"Bokeh Application\",\"version\":\"2.2.3\"}};\n",
       "  var render_items = [{\"docid\":\"b36fe6bf-1e53-45f0-be33-9d5c9ebcc56d\",\"root_ids\":[\"5403\"],\"roots\":{\"5403\":\"50449a84-4756-46fe-b6df-02cf4fb93e7d\"}}];\n",
       "  root.Bokeh.embed.embed_items_notebook(docs_json, render_items);\n",
       "\n",
       "  }\n",
       "  if (root.Bokeh !== undefined) {\n",
       "    embed_document(root);\n",
       "  } else {\n",
       "    var attempts = 0;\n",
       "    var timer = setInterval(function(root) {\n",
       "      if (root.Bokeh !== undefined) {\n",
       "        clearInterval(timer);\n",
       "        embed_document(root);\n",
       "      } else {\n",
       "        attempts++;\n",
       "        if (attempts > 100) {\n",
       "          clearInterval(timer);\n",
       "          console.log(\"Bokeh: ERROR: Unable to run BokehJS code because BokehJS library is missing\");\n",
       "        }\n",
       "      }\n",
       "    }, 10, root)\n",
       "  }\n",
       "})(window);"
      ],
      "application/vnd.bokehjs_exec.v0+json": ""
     },
     "metadata": {
      "application/vnd.bokehjs_exec.v0+json": {
       "id": "5403"
      }
     },
     "output_type": "display_data"
    },
    {
     "data": {
      "text/html": [
       "\n",
       "\n",
       "\n",
       "\n",
       "\n",
       "\n",
       "  <div class=\"bk-root\" id=\"16b14b6c-d3be-4369-b08d-4e0e0ead5c9c\" data-root-id=\"5682\"></div>\n"
      ]
     },
     "metadata": {},
     "output_type": "display_data"
    },
    {
     "data": {
      "application/javascript": [
       "(function(root) {\n",
       "  function embed_document(root) {\n",
       "    \n",
       "  var docs_json = {\"52cf4f64-05ee-463c-a999-7e07033f4083\":{\"roots\":{\"references\":[{\"attributes\":{\"below\":[{\"id\":\"5691\"}],\"center\":[{\"id\":\"5694\"},{\"id\":\"5698\"}],\"left\":[{\"id\":\"5695\"}],\"plot_height\":250,\"plot_width\":450,\"renderers\":[{\"id\":\"5711\"}],\"title\":{\"id\":\"5921\"},\"toolbar\":{\"id\":\"5703\"},\"x_range\":{\"id\":\"5683\"},\"x_scale\":{\"id\":\"5687\"},\"y_range\":{\"id\":\"5685\"},\"y_scale\":{\"id\":\"5689\"}},\"id\":\"5682\",\"subtype\":\"Figure\",\"type\":\"Plot\"},{\"attributes\":{},\"id\":\"5689\",\"type\":\"LinearScale\"},{\"attributes\":{\"line_color\":\"#1f77b4\",\"line_width\":2,\"x\":{\"field\":\"x\"},\"y\":{\"field\":\"y\"}},\"id\":\"5709\",\"type\":\"Line\"},{\"attributes\":{\"data_source\":{\"id\":\"5708\"},\"glyph\":{\"id\":\"5709\"},\"hover_glyph\":null,\"muted_glyph\":null,\"nonselection_glyph\":{\"id\":\"5710\"},\"selection_glyph\":null,\"view\":{\"id\":\"5712\"}},\"id\":\"5711\",\"type\":\"GlyphRenderer\"},{\"attributes\":{\"source\":{\"id\":\"5708\"}},\"id\":\"5712\",\"type\":\"CDSView\"},{\"attributes\":{},\"id\":\"5687\",\"type\":\"LinearScale\"},{\"attributes\":{\"text\":\"\"},\"id\":\"5921\",\"type\":\"Title\"},{\"attributes\":{},\"id\":\"5927\",\"type\":\"Selection\"},{\"attributes\":{\"line_alpha\":0.1,\"line_color\":\"#1f77b4\",\"line_width\":2,\"x\":{\"field\":\"x\"},\"y\":{\"field\":\"y\"}},\"id\":\"5710\",\"type\":\"Line\"},{\"attributes\":{},\"id\":\"5924\",\"type\":\"BasicTickFormatter\"},{\"attributes\":{},\"id\":\"5685\",\"type\":\"DataRange1d\"},{\"attributes\":{},\"id\":\"5928\",\"type\":\"UnionRenderers\"},{\"attributes\":{},\"id\":\"5683\",\"type\":\"DataRange1d\"},{\"attributes\":{},\"id\":\"5926\",\"type\":\"BasicTickFormatter\"},{\"attributes\":{},\"id\":\"5699\",\"type\":\"PanTool\"},{\"attributes\":{},\"id\":\"5700\",\"type\":\"WheelZoomTool\"},{\"attributes\":{},\"id\":\"5701\",\"type\":\"ResetTool\"},{\"attributes\":{\"data\":{\"x\":[0,1,2,3,4,5,6,7,8,9,10],\"y\":[1.0,1.3485878960124222,1.721928094887362,2.113283334294875,2.5,2.807354922057604,2.584962500721156,2.321928094887362,2.0,1.584962500721156,1.0]},\"selected\":{\"id\":\"5927\"},\"selection_policy\":{\"id\":\"5928\"}},\"id\":\"5708\",\"type\":\"ColumnDataSource\"},{\"attributes\":{\"active_drag\":\"auto\",\"active_inspect\":\"auto\",\"active_multi\":null,\"active_scroll\":\"auto\",\"active_tap\":\"auto\",\"tools\":[{\"id\":\"5699\"},{\"id\":\"5700\"},{\"id\":\"5701\"},{\"id\":\"5702\"}]},\"id\":\"5703\",\"type\":\"Toolbar\"},{\"attributes\":{\"axis_label\":\"block entropy\",\"formatter\":{\"id\":\"5924\"},\"ticker\":{\"id\":\"5696\"}},\"id\":\"5695\",\"type\":\"LinearAxis\"},{\"attributes\":{},\"id\":\"5692\",\"type\":\"BasicTicker\"},{\"attributes\":{\"axis\":{\"id\":\"5695\"},\"dimension\":1,\"ticker\":null},\"id\":\"5698\",\"type\":\"Grid\"},{\"attributes\":{\"axis\":{\"id\":\"5691\"},\"ticker\":null},\"id\":\"5694\",\"type\":\"Grid\"},{\"attributes\":{},\"id\":\"5702\",\"type\":\"SaveTool\"},{\"attributes\":{\"axis_label\":\"block size\",\"formatter\":{\"id\":\"5926\"},\"ticker\":{\"id\":\"5692\"}},\"id\":\"5691\",\"type\":\"LinearAxis\"},{\"attributes\":{},\"id\":\"5696\",\"type\":\"BasicTicker\"}],\"root_ids\":[\"5682\"]},\"title\":\"Bokeh Application\",\"version\":\"2.2.3\"}};\n",
       "  var render_items = [{\"docid\":\"52cf4f64-05ee-463c-a999-7e07033f4083\",\"root_ids\":[\"5682\"],\"roots\":{\"5682\":\"16b14b6c-d3be-4369-b08d-4e0e0ead5c9c\"}}];\n",
       "  root.Bokeh.embed.embed_items_notebook(docs_json, render_items);\n",
       "\n",
       "  }\n",
       "  if (root.Bokeh !== undefined) {\n",
       "    embed_document(root);\n",
       "  } else {\n",
       "    var attempts = 0;\n",
       "    var timer = setInterval(function(root) {\n",
       "      if (root.Bokeh !== undefined) {\n",
       "        clearInterval(timer);\n",
       "        embed_document(root);\n",
       "      } else {\n",
       "        attempts++;\n",
       "        if (attempts > 100) {\n",
       "          clearInterval(timer);\n",
       "          console.log(\"Bokeh: ERROR: Unable to run BokehJS code because BokehJS library is missing\");\n",
       "        }\n",
       "      }\n",
       "    }, 10, root)\n",
       "  }\n",
       "})(window);"
      ],
      "application/vnd.bokehjs_exec.v0+json": ""
     },
     "metadata": {
      "application/vnd.bokehjs_exec.v0+json": {
       "id": "5682"
      }
     },
     "output_type": "display_data"
    },
    {
     "data": {
      "text/html": [
       "\n",
       "\n",
       "\n",
       "\n",
       "\n",
       "\n",
       "  <div class=\"bk-root\" id=\"f6b5f736-afcc-49aa-9ffa-c8a4f0bcff75\" data-root-id=\"5969\"></div>\n"
      ]
     },
     "metadata": {},
     "output_type": "display_data"
    },
    {
     "data": {
      "application/javascript": [
       "(function(root) {\n",
       "  function embed_document(root) {\n",
       "    \n",
       "  var docs_json = {\"381e33a9-ee77-474e-b678-7a5bf334e920\":{\"roots\":{\"references\":[{\"attributes\":{\"below\":[{\"id\":\"5978\"}],\"center\":[{\"id\":\"5981\"},{\"id\":\"5985\"}],\"left\":[{\"id\":\"5982\"}],\"plot_height\":250,\"plot_width\":450,\"renderers\":[{\"id\":\"5998\"}],\"title\":{\"id\":\"6216\"},\"toolbar\":{\"id\":\"5990\"},\"x_range\":{\"id\":\"5970\"},\"x_scale\":{\"id\":\"5974\"},\"y_range\":{\"id\":\"5972\"},\"y_scale\":{\"id\":\"5976\"}},\"id\":\"5969\",\"subtype\":\"Figure\",\"type\":\"Plot\"},{\"attributes\":{\"data_source\":{\"id\":\"5995\"},\"glyph\":{\"id\":\"5996\"},\"hover_glyph\":null,\"muted_glyph\":null,\"nonselection_glyph\":{\"id\":\"5997\"},\"selection_glyph\":null,\"view\":{\"id\":\"5999\"}},\"id\":\"5998\",\"type\":\"GlyphRenderer\"},{\"attributes\":{},\"id\":\"6221\",\"type\":\"BasicTickFormatter\"},{\"attributes\":{\"active_drag\":\"auto\",\"active_inspect\":\"auto\",\"active_multi\":null,\"active_scroll\":\"auto\",\"active_tap\":\"auto\",\"tools\":[{\"id\":\"5986\"},{\"id\":\"5987\"},{\"id\":\"5988\"},{\"id\":\"5989\"}]},\"id\":\"5990\",\"type\":\"Toolbar\"},{\"attributes\":{\"source\":{\"id\":\"5995\"}},\"id\":\"5999\",\"type\":\"CDSView\"},{\"attributes\":{},\"id\":\"6222\",\"type\":\"Selection\"},{\"attributes\":{},\"id\":\"5970\",\"type\":\"DataRange1d\"},{\"attributes\":{},\"id\":\"6223\",\"type\":\"UnionRenderers\"},{\"attributes\":{\"line_color\":\"#1f77b4\",\"line_width\":2,\"x\":{\"field\":\"x\"},\"y\":{\"field\":\"y\"}},\"id\":\"5996\",\"type\":\"Line\"},{\"attributes\":{},\"id\":\"5986\",\"type\":\"PanTool\"},{\"attributes\":{},\"id\":\"5974\",\"type\":\"LinearScale\"},{\"attributes\":{},\"id\":\"5989\",\"type\":\"SaveTool\"},{\"attributes\":{\"text\":\"\"},\"id\":\"6216\",\"type\":\"Title\"},{\"attributes\":{},\"id\":\"5987\",\"type\":\"WheelZoomTool\"},{\"attributes\":{\"axis_label\":\"block entropy\",\"formatter\":{\"id\":\"6219\"},\"ticker\":{\"id\":\"5983\"}},\"id\":\"5982\",\"type\":\"LinearAxis\"},{\"attributes\":{},\"id\":\"5988\",\"type\":\"ResetTool\"},{\"attributes\":{\"data\":{\"x\":[0,1,2,3,4,5,6,7,8,9,10],\"y\":[1.0,1.3485878960124222,1.721928094887362,2.113283334294875,2.5,2.807354922057604,2.584962500721156,2.321928094887362,2.0,1.584962500721156,1.0]},\"selected\":{\"id\":\"6222\"},\"selection_policy\":{\"id\":\"6223\"}},\"id\":\"5995\",\"type\":\"ColumnDataSource\"},{\"attributes\":{\"axis\":{\"id\":\"5982\"},\"dimension\":1,\"ticker\":null},\"id\":\"5985\",\"type\":\"Grid\"},{\"attributes\":{},\"id\":\"5979\",\"type\":\"BasicTicker\"},{\"attributes\":{\"axis\":{\"id\":\"5978\"},\"ticker\":null},\"id\":\"5981\",\"type\":\"Grid\"},{\"attributes\":{},\"id\":\"5972\",\"type\":\"DataRange1d\"},{\"attributes\":{},\"id\":\"5983\",\"type\":\"BasicTicker\"},{\"attributes\":{\"axis_label\":\"block size\",\"formatter\":{\"id\":\"6221\"},\"ticker\":{\"id\":\"5979\"}},\"id\":\"5978\",\"type\":\"LinearAxis\"},{\"attributes\":{},\"id\":\"5976\",\"type\":\"LinearScale\"},{\"attributes\":{\"line_alpha\":0.1,\"line_color\":\"#1f77b4\",\"line_width\":2,\"x\":{\"field\":\"x\"},\"y\":{\"field\":\"y\"}},\"id\":\"5997\",\"type\":\"Line\"},{\"attributes\":{},\"id\":\"6219\",\"type\":\"BasicTickFormatter\"}],\"root_ids\":[\"5969\"]},\"title\":\"Bokeh Application\",\"version\":\"2.2.3\"}};\n",
       "  var render_items = [{\"docid\":\"381e33a9-ee77-474e-b678-7a5bf334e920\",\"root_ids\":[\"5969\"],\"roots\":{\"5969\":\"f6b5f736-afcc-49aa-9ffa-c8a4f0bcff75\"}}];\n",
       "  root.Bokeh.embed.embed_items_notebook(docs_json, render_items);\n",
       "\n",
       "  }\n",
       "  if (root.Bokeh !== undefined) {\n",
       "    embed_document(root);\n",
       "  } else {\n",
       "    var attempts = 0;\n",
       "    var timer = setInterval(function(root) {\n",
       "      if (root.Bokeh !== undefined) {\n",
       "        clearInterval(timer);\n",
       "        embed_document(root);\n",
       "      } else {\n",
       "        attempts++;\n",
       "        if (attempts > 100) {\n",
       "          clearInterval(timer);\n",
       "          console.log(\"Bokeh: ERROR: Unable to run BokehJS code because BokehJS library is missing\");\n",
       "        }\n",
       "      }\n",
       "    }, 10, root)\n",
       "  }\n",
       "})(window);"
      ],
      "application/vnd.bokehjs_exec.v0+json": ""
     },
     "metadata": {
      "application/vnd.bokehjs_exec.v0+json": {
       "id": "5969"
      }
     },
     "output_type": "display_data"
    },
    {
     "data": {
      "text/html": [
       "\n",
       "\n",
       "\n",
       "\n",
       "\n",
       "\n",
       "  <div class=\"bk-root\" id=\"7f4fe4aa-2ab9-4c7d-9562-ef641de30406\" data-root-id=\"6264\"></div>\n"
      ]
     },
     "metadata": {},
     "output_type": "display_data"
    },
    {
     "data": {
      "application/javascript": [
       "(function(root) {\n",
       "  function embed_document(root) {\n",
       "    \n",
       "  var docs_json = {\"62240665-5c46-49c3-82d5-774372397a9c\":{\"roots\":{\"references\":[{\"attributes\":{\"below\":[{\"id\":\"6273\"}],\"center\":[{\"id\":\"6276\"},{\"id\":\"6280\"}],\"left\":[{\"id\":\"6277\"}],\"plot_height\":250,\"plot_width\":450,\"renderers\":[{\"id\":\"6293\"}],\"title\":{\"id\":\"6519\"},\"toolbar\":{\"id\":\"6285\"},\"x_range\":{\"id\":\"6265\"},\"x_scale\":{\"id\":\"6269\"},\"y_range\":{\"id\":\"6267\"},\"y_scale\":{\"id\":\"6271\"}},\"id\":\"6264\",\"subtype\":\"Figure\",\"type\":\"Plot\"},{\"attributes\":{},\"id\":\"6271\",\"type\":\"LinearScale\"},{\"attributes\":{},\"id\":\"6265\",\"type\":\"DataRange1d\"},{\"attributes\":{},\"id\":\"6269\",\"type\":\"LinearScale\"},{\"attributes\":{\"text\":\"\"},\"id\":\"6519\",\"type\":\"Title\"},{\"attributes\":{\"source\":{\"id\":\"6290\"}},\"id\":\"6294\",\"type\":\"CDSView\"},{\"attributes\":{},\"id\":\"6526\",\"type\":\"UnionRenderers\"},{\"attributes\":{},\"id\":\"6281\",\"type\":\"PanTool\"},{\"attributes\":{},\"id\":\"6267\",\"type\":\"DataRange1d\"},{\"attributes\":{\"data_source\":{\"id\":\"6290\"},\"glyph\":{\"id\":\"6291\"},\"hover_glyph\":null,\"muted_glyph\":null,\"nonselection_glyph\":{\"id\":\"6292\"},\"selection_glyph\":null,\"view\":{\"id\":\"6294\"}},\"id\":\"6293\",\"type\":\"GlyphRenderer\"},{\"attributes\":{\"line_color\":\"#1f77b4\",\"line_width\":2,\"x\":{\"field\":\"x\"},\"y\":{\"field\":\"y\"}},\"id\":\"6291\",\"type\":\"Line\"},{\"attributes\":{\"axis_label\":\"block size\",\"formatter\":{\"id\":\"6524\"},\"ticker\":{\"id\":\"6274\"}},\"id\":\"6273\",\"type\":\"LinearAxis\"},{\"attributes\":{\"line_alpha\":0.1,\"line_color\":\"#1f77b4\",\"line_width\":2,\"x\":{\"field\":\"x\"},\"y\":{\"field\":\"y\"}},\"id\":\"6292\",\"type\":\"Line\"},{\"attributes\":{},\"id\":\"6284\",\"type\":\"SaveTool\"},{\"attributes\":{\"data\":{\"x\":[0,1,2,3,4,5,6,7,8,9,10],\"y\":[1.0,1.9808259362290785,2.721928094887362,2.94770277922009,3.0,2.807354922057604,2.584962500721156,2.321928094887362,2.0,1.584962500721156,1.0]},\"selected\":{\"id\":\"6525\"},\"selection_policy\":{\"id\":\"6526\"}},\"id\":\"6290\",\"type\":\"ColumnDataSource\"},{\"attributes\":{},\"id\":\"6282\",\"type\":\"WheelZoomTool\"},{\"attributes\":{\"axis\":{\"id\":\"6273\"},\"ticker\":null},\"id\":\"6276\",\"type\":\"Grid\"},{\"attributes\":{\"active_drag\":\"auto\",\"active_inspect\":\"auto\",\"active_multi\":null,\"active_scroll\":\"auto\",\"active_tap\":\"auto\",\"tools\":[{\"id\":\"6281\"},{\"id\":\"6282\"},{\"id\":\"6283\"},{\"id\":\"6284\"}]},\"id\":\"6285\",\"type\":\"Toolbar\"},{\"attributes\":{},\"id\":\"6283\",\"type\":\"ResetTool\"},{\"attributes\":{\"axis_label\":\"block entropy\",\"formatter\":{\"id\":\"6522\"},\"ticker\":{\"id\":\"6278\"}},\"id\":\"6277\",\"type\":\"LinearAxis\"},{\"attributes\":{\"axis\":{\"id\":\"6277\"},\"dimension\":1,\"ticker\":null},\"id\":\"6280\",\"type\":\"Grid\"},{\"attributes\":{},\"id\":\"6524\",\"type\":\"BasicTickFormatter\"},{\"attributes\":{},\"id\":\"6274\",\"type\":\"BasicTicker\"},{\"attributes\":{},\"id\":\"6525\",\"type\":\"Selection\"},{\"attributes\":{},\"id\":\"6278\",\"type\":\"BasicTicker\"},{\"attributes\":{},\"id\":\"6522\",\"type\":\"BasicTickFormatter\"}],\"root_ids\":[\"6264\"]},\"title\":\"Bokeh Application\",\"version\":\"2.2.3\"}};\n",
       "  var render_items = [{\"docid\":\"62240665-5c46-49c3-82d5-774372397a9c\",\"root_ids\":[\"6264\"],\"roots\":{\"6264\":\"7f4fe4aa-2ab9-4c7d-9562-ef641de30406\"}}];\n",
       "  root.Bokeh.embed.embed_items_notebook(docs_json, render_items);\n",
       "\n",
       "  }\n",
       "  if (root.Bokeh !== undefined) {\n",
       "    embed_document(root);\n",
       "  } else {\n",
       "    var attempts = 0;\n",
       "    var timer = setInterval(function(root) {\n",
       "      if (root.Bokeh !== undefined) {\n",
       "        clearInterval(timer);\n",
       "        embed_document(root);\n",
       "      } else {\n",
       "        attempts++;\n",
       "        if (attempts > 100) {\n",
       "          clearInterval(timer);\n",
       "          console.log(\"Bokeh: ERROR: Unable to run BokehJS code because BokehJS library is missing\");\n",
       "        }\n",
       "      }\n",
       "    }, 10, root)\n",
       "  }\n",
       "})(window);"
      ],
      "application/vnd.bokehjs_exec.v0+json": ""
     },
     "metadata": {
      "application/vnd.bokehjs_exec.v0+json": {
       "id": "6264"
      }
     },
     "output_type": "display_data"
    },
    {
     "data": {
      "text/html": [
       "\n",
       "\n",
       "\n",
       "\n",
       "\n",
       "\n",
       "  <div class=\"bk-root\" id=\"e7f874da-beb5-44ad-b758-a3833c3e4003\" data-root-id=\"6567\"></div>\n"
      ]
     },
     "metadata": {},
     "output_type": "display_data"
    },
    {
     "data": {
      "application/javascript": [
       "(function(root) {\n",
       "  function embed_document(root) {\n",
       "    \n",
       "  var docs_json = {\"090cfd39-9704-4b9a-8abd-78ec6ce511fb\":{\"roots\":{\"references\":[{\"attributes\":{\"below\":[{\"id\":\"6576\"}],\"center\":[{\"id\":\"6579\"},{\"id\":\"6583\"}],\"left\":[{\"id\":\"6580\"}],\"plot_height\":250,\"plot_width\":450,\"renderers\":[{\"id\":\"6596\"}],\"title\":{\"id\":\"6830\"},\"toolbar\":{\"id\":\"6588\"},\"x_range\":{\"id\":\"6568\"},\"x_scale\":{\"id\":\"6572\"},\"y_range\":{\"id\":\"6570\"},\"y_scale\":{\"id\":\"6574\"}},\"id\":\"6567\",\"subtype\":\"Figure\",\"type\":\"Plot\"},{\"attributes\":{},\"id\":\"6587\",\"type\":\"SaveTool\"},{\"attributes\":{\"axis_label\":\"block size\",\"formatter\":{\"id\":\"6835\"},\"ticker\":{\"id\":\"6577\"}},\"id\":\"6576\",\"type\":\"LinearAxis\"},{\"attributes\":{},\"id\":\"6577\",\"type\":\"BasicTicker\"},{\"attributes\":{},\"id\":\"6836\",\"type\":\"Selection\"},{\"attributes\":{},\"id\":\"6574\",\"type\":\"LinearScale\"},{\"attributes\":{},\"id\":\"6835\",\"type\":\"BasicTickFormatter\"},{\"attributes\":{\"axis\":{\"id\":\"6580\"},\"dimension\":1,\"ticker\":null},\"id\":\"6583\",\"type\":\"Grid\"},{\"attributes\":{\"line_color\":\"#1f77b4\",\"line_width\":2,\"x\":{\"field\":\"x\"},\"y\":{\"field\":\"y\"}},\"id\":\"6594\",\"type\":\"Line\"},{\"attributes\":{\"data_source\":{\"id\":\"6593\"},\"glyph\":{\"id\":\"6594\"},\"hover_glyph\":null,\"muted_glyph\":null,\"nonselection_glyph\":{\"id\":\"6595\"},\"selection_glyph\":null,\"view\":{\"id\":\"6597\"}},\"id\":\"6596\",\"type\":\"GlyphRenderer\"},{\"attributes\":{},\"id\":\"6581\",\"type\":\"BasicTicker\"},{\"attributes\":{\"axis\":{\"id\":\"6576\"},\"ticker\":null},\"id\":\"6579\",\"type\":\"Grid\"},{\"attributes\":{\"active_drag\":\"auto\",\"active_inspect\":\"auto\",\"active_multi\":null,\"active_scroll\":\"auto\",\"active_tap\":\"auto\",\"tools\":[{\"id\":\"6584\"},{\"id\":\"6585\"},{\"id\":\"6586\"},{\"id\":\"6587\"}]},\"id\":\"6588\",\"type\":\"Toolbar\"},{\"attributes\":{},\"id\":\"6570\",\"type\":\"DataRange1d\"},{\"attributes\":{\"source\":{\"id\":\"6593\"}},\"id\":\"6597\",\"type\":\"CDSView\"},{\"attributes\":{\"line_alpha\":0.1,\"line_color\":\"#1f77b4\",\"line_width\":2,\"x\":{\"field\":\"x\"},\"y\":{\"field\":\"y\"}},\"id\":\"6595\",\"type\":\"Line\"},{\"attributes\":{\"axis_label\":\"block entropy\",\"formatter\":{\"id\":\"6833\"},\"ticker\":{\"id\":\"6581\"}},\"id\":\"6580\",\"type\":\"LinearAxis\"},{\"attributes\":{},\"id\":\"6837\",\"type\":\"UnionRenderers\"},{\"attributes\":{\"text\":\"\"},\"id\":\"6830\",\"type\":\"Title\"},{\"attributes\":{},\"id\":\"6568\",\"type\":\"DataRange1d\"},{\"attributes\":{\"data\":{\"x\":[0,1,2,3,4,5,6,7,8,9,10],\"y\":[1.0,1.9808259362290785,2.7219280948873625,2.9477027792200903,3.0,2.807354922057604,2.584962500721156,2.321928094887362,2.0,1.584962500721156,1.0]},\"selected\":{\"id\":\"6836\"},\"selection_policy\":{\"id\":\"6837\"}},\"id\":\"6593\",\"type\":\"ColumnDataSource\"},{\"attributes\":{},\"id\":\"6586\",\"type\":\"ResetTool\"},{\"attributes\":{},\"id\":\"6833\",\"type\":\"BasicTickFormatter\"},{\"attributes\":{},\"id\":\"6585\",\"type\":\"WheelZoomTool\"},{\"attributes\":{},\"id\":\"6584\",\"type\":\"PanTool\"},{\"attributes\":{},\"id\":\"6572\",\"type\":\"LinearScale\"}],\"root_ids\":[\"6567\"]},\"title\":\"Bokeh Application\",\"version\":\"2.2.3\"}};\n",
       "  var render_items = [{\"docid\":\"090cfd39-9704-4b9a-8abd-78ec6ce511fb\",\"root_ids\":[\"6567\"],\"roots\":{\"6567\":\"e7f874da-beb5-44ad-b758-a3833c3e4003\"}}];\n",
       "  root.Bokeh.embed.embed_items_notebook(docs_json, render_items);\n",
       "\n",
       "  }\n",
       "  if (root.Bokeh !== undefined) {\n",
       "    embed_document(root);\n",
       "  } else {\n",
       "    var attempts = 0;\n",
       "    var timer = setInterval(function(root) {\n",
       "      if (root.Bokeh !== undefined) {\n",
       "        clearInterval(timer);\n",
       "        embed_document(root);\n",
       "      } else {\n",
       "        attempts++;\n",
       "        if (attempts > 100) {\n",
       "          clearInterval(timer);\n",
       "          console.log(\"Bokeh: ERROR: Unable to run BokehJS code because BokehJS library is missing\");\n",
       "        }\n",
       "      }\n",
       "    }, 10, root)\n",
       "  }\n",
       "})(window);"
      ],
      "application/vnd.bokehjs_exec.v0+json": ""
     },
     "metadata": {
      "application/vnd.bokehjs_exec.v0+json": {
       "id": "6567"
      }
     },
     "output_type": "display_data"
    },
    {
     "data": {
      "text/html": [
       "\n",
       "\n",
       "\n",
       "\n",
       "\n",
       "\n",
       "  <div class=\"bk-root\" id=\"83d53633-62ee-4132-994d-105403c8b14f\" data-root-id=\"6878\"></div>\n"
      ]
     },
     "metadata": {},
     "output_type": "display_data"
    },
    {
     "data": {
      "application/javascript": [
       "(function(root) {\n",
       "  function embed_document(root) {\n",
       "    \n",
       "  var docs_json = {\"88f68b6c-490d-403f-9712-afc30dcfe387\":{\"roots\":{\"references\":[{\"attributes\":{\"below\":[{\"id\":\"6887\"}],\"center\":[{\"id\":\"6890\"},{\"id\":\"6894\"}],\"left\":[{\"id\":\"6891\"}],\"plot_height\":250,\"plot_width\":450,\"renderers\":[{\"id\":\"6907\"}],\"title\":{\"id\":\"7149\"},\"toolbar\":{\"id\":\"6899\"},\"x_range\":{\"id\":\"6879\"},\"x_scale\":{\"id\":\"6883\"},\"y_range\":{\"id\":\"6881\"},\"y_scale\":{\"id\":\"6885\"}},\"id\":\"6878\",\"subtype\":\"Figure\",\"type\":\"Plot\"},{\"attributes\":{\"text\":\"\"},\"id\":\"7149\",\"type\":\"Title\"},{\"attributes\":{},\"id\":\"7154\",\"type\":\"BasicTickFormatter\"},{\"attributes\":{},\"id\":\"6896\",\"type\":\"WheelZoomTool\"},{\"attributes\":{\"axis_label\":\"block size\",\"formatter\":{\"id\":\"7154\"},\"ticker\":{\"id\":\"6888\"}},\"id\":\"6887\",\"type\":\"LinearAxis\"},{\"attributes\":{},\"id\":\"6897\",\"type\":\"ResetTool\"},{\"attributes\":{},\"id\":\"6898\",\"type\":\"SaveTool\"},{\"attributes\":{},\"id\":\"7155\",\"type\":\"Selection\"},{\"attributes\":{\"source\":{\"id\":\"6904\"}},\"id\":\"6908\",\"type\":\"CDSView\"},{\"attributes\":{},\"id\":\"6885\",\"type\":\"LinearScale\"},{\"attributes\":{\"line_color\":\"#1f77b4\",\"line_width\":2,\"x\":{\"field\":\"x\"},\"y\":{\"field\":\"y\"}},\"id\":\"6905\",\"type\":\"Line\"},{\"attributes\":{},\"id\":\"7156\",\"type\":\"UnionRenderers\"},{\"attributes\":{},\"id\":\"6879\",\"type\":\"DataRange1d\"},{\"attributes\":{},\"id\":\"6888\",\"type\":\"BasicTicker\"},{\"attributes\":{},\"id\":\"6892\",\"type\":\"BasicTicker\"},{\"attributes\":{\"axis\":{\"id\":\"6887\"},\"ticker\":null},\"id\":\"6890\",\"type\":\"Grid\"},{\"attributes\":{\"axis_label\":\"block entropy\",\"formatter\":{\"id\":\"7152\"},\"ticker\":{\"id\":\"6892\"}},\"id\":\"6891\",\"type\":\"LinearAxis\"},{\"attributes\":{},\"id\":\"6895\",\"type\":\"PanTool\"},{\"attributes\":{\"data_source\":{\"id\":\"6904\"},\"glyph\":{\"id\":\"6905\"},\"hover_glyph\":null,\"muted_glyph\":null,\"nonselection_glyph\":{\"id\":\"6906\"},\"selection_glyph\":null,\"view\":{\"id\":\"6908\"}},\"id\":\"6907\",\"type\":\"GlyphRenderer\"},{\"attributes\":{\"line_alpha\":0.1,\"line_color\":\"#1f77b4\",\"line_width\":2,\"x\":{\"field\":\"x\"},\"y\":{\"field\":\"y\"}},\"id\":\"6906\",\"type\":\"Line\"},{\"attributes\":{\"active_drag\":\"auto\",\"active_inspect\":\"auto\",\"active_multi\":null,\"active_scroll\":\"auto\",\"active_tap\":\"auto\",\"tools\":[{\"id\":\"6895\"},{\"id\":\"6896\"},{\"id\":\"6897\"},{\"id\":\"6898\"}]},\"id\":\"6899\",\"type\":\"Toolbar\"},{\"attributes\":{\"axis\":{\"id\":\"6891\"},\"dimension\":1,\"ticker\":null},\"id\":\"6894\",\"type\":\"Grid\"},{\"attributes\":{\"data\":{\"x\":[0,1,2,3,4,5,6,7,8,9,10],\"y\":[1.0,1.9362600275315274,2.8464393446710154,2.94770277922009,3.0,2.807354922057604,2.584962500721156,2.321928094887362,2.0,1.584962500721156,1.0]},\"selected\":{\"id\":\"7155\"},\"selection_policy\":{\"id\":\"7156\"}},\"id\":\"6904\",\"type\":\"ColumnDataSource\"},{\"attributes\":{},\"id\":\"6883\",\"type\":\"LinearScale\"},{\"attributes\":{},\"id\":\"7152\",\"type\":\"BasicTickFormatter\"},{\"attributes\":{},\"id\":\"6881\",\"type\":\"DataRange1d\"}],\"root_ids\":[\"6878\"]},\"title\":\"Bokeh Application\",\"version\":\"2.2.3\"}};\n",
       "  var render_items = [{\"docid\":\"88f68b6c-490d-403f-9712-afc30dcfe387\",\"root_ids\":[\"6878\"],\"roots\":{\"6878\":\"83d53633-62ee-4132-994d-105403c8b14f\"}}];\n",
       "  root.Bokeh.embed.embed_items_notebook(docs_json, render_items);\n",
       "\n",
       "  }\n",
       "  if (root.Bokeh !== undefined) {\n",
       "    embed_document(root);\n",
       "  } else {\n",
       "    var attempts = 0;\n",
       "    var timer = setInterval(function(root) {\n",
       "      if (root.Bokeh !== undefined) {\n",
       "        clearInterval(timer);\n",
       "        embed_document(root);\n",
       "      } else {\n",
       "        attempts++;\n",
       "        if (attempts > 100) {\n",
       "          clearInterval(timer);\n",
       "          console.log(\"Bokeh: ERROR: Unable to run BokehJS code because BokehJS library is missing\");\n",
       "        }\n",
       "      }\n",
       "    }, 10, root)\n",
       "  }\n",
       "})(window);"
      ],
      "application/vnd.bokehjs_exec.v0+json": ""
     },
     "metadata": {
      "application/vnd.bokehjs_exec.v0+json": {
       "id": "6878"
      }
     },
     "output_type": "display_data"
    },
    {
     "data": {
      "text/html": [
       "\n",
       "\n",
       "\n",
       "\n",
       "\n",
       "\n",
       "  <div class=\"bk-root\" id=\"2b74e9a5-2a7f-4f81-a1c5-369088efa66b\" data-root-id=\"7197\"></div>\n"
      ]
     },
     "metadata": {},
     "output_type": "display_data"
    },
    {
     "data": {
      "application/javascript": [
       "(function(root) {\n",
       "  function embed_document(root) {\n",
       "    \n",
       "  var docs_json = {\"e257296c-5cdb-4ca9-a46d-0ae677bf735d\":{\"roots\":{\"references\":[{\"attributes\":{\"below\":[{\"id\":\"7206\"}],\"center\":[{\"id\":\"7209\"},{\"id\":\"7213\"}],\"left\":[{\"id\":\"7210\"}],\"plot_height\":250,\"plot_width\":450,\"renderers\":[{\"id\":\"7226\"}],\"title\":{\"id\":\"7476\"},\"toolbar\":{\"id\":\"7218\"},\"x_range\":{\"id\":\"7198\"},\"x_scale\":{\"id\":\"7202\"},\"y_range\":{\"id\":\"7200\"},\"y_scale\":{\"id\":\"7204\"}},\"id\":\"7197\",\"subtype\":\"Figure\",\"type\":\"Plot\"},{\"attributes\":{\"data_source\":{\"id\":\"7223\"},\"glyph\":{\"id\":\"7224\"},\"hover_glyph\":null,\"muted_glyph\":null,\"nonselection_glyph\":{\"id\":\"7225\"},\"selection_glyph\":null,\"view\":{\"id\":\"7227\"}},\"id\":\"7226\",\"type\":\"GlyphRenderer\"},{\"attributes\":{\"axis\":{\"id\":\"7210\"},\"dimension\":1,\"ticker\":null},\"id\":\"7213\",\"type\":\"Grid\"},{\"attributes\":{\"axis\":{\"id\":\"7206\"},\"ticker\":null},\"id\":\"7209\",\"type\":\"Grid\"},{\"attributes\":{\"axis_label\":\"block size\",\"formatter\":{\"id\":\"7481\"},\"ticker\":{\"id\":\"7207\"}},\"id\":\"7206\",\"type\":\"LinearAxis\"},{\"attributes\":{\"data\":{\"x\":[0,1,2,3,4,5,6,7,8,9,10],\"y\":[1.0,1.9808259362290785,2.9219280948873623,3.169925001442312,3.0,2.807354922057604,2.584962500721156,2.321928094887362,2.0,1.584962500721156,1.0]},\"selected\":{\"id\":\"7482\"},\"selection_policy\":{\"id\":\"7483\"}},\"id\":\"7223\",\"type\":\"ColumnDataSource\"},{\"attributes\":{},\"id\":\"7211\",\"type\":\"BasicTicker\"},{\"attributes\":{\"text\":\"\"},\"id\":\"7476\",\"type\":\"Title\"},{\"attributes\":{\"axis_label\":\"block entropy\",\"formatter\":{\"id\":\"7479\"},\"ticker\":{\"id\":\"7211\"}},\"id\":\"7210\",\"type\":\"LinearAxis\"},{\"attributes\":{\"source\":{\"id\":\"7223\"}},\"id\":\"7227\",\"type\":\"CDSView\"},{\"attributes\":{\"line_alpha\":0.1,\"line_color\":\"#1f77b4\",\"line_width\":2,\"x\":{\"field\":\"x\"},\"y\":{\"field\":\"y\"}},\"id\":\"7225\",\"type\":\"Line\"},{\"attributes\":{},\"id\":\"7204\",\"type\":\"LinearScale\"},{\"attributes\":{},\"id\":\"7207\",\"type\":\"BasicTicker\"},{\"attributes\":{},\"id\":\"7217\",\"type\":\"SaveTool\"},{\"attributes\":{},\"id\":\"7202\",\"type\":\"LinearScale\"},{\"attributes\":{\"line_color\":\"#1f77b4\",\"line_width\":2,\"x\":{\"field\":\"x\"},\"y\":{\"field\":\"y\"}},\"id\":\"7224\",\"type\":\"Line\"},{\"attributes\":{},\"id\":\"7482\",\"type\":\"Selection\"},{\"attributes\":{},\"id\":\"7481\",\"type\":\"BasicTickFormatter\"},{\"attributes\":{\"active_drag\":\"auto\",\"active_inspect\":\"auto\",\"active_multi\":null,\"active_scroll\":\"auto\",\"active_tap\":\"auto\",\"tools\":[{\"id\":\"7214\"},{\"id\":\"7215\"},{\"id\":\"7216\"},{\"id\":\"7217\"}]},\"id\":\"7218\",\"type\":\"Toolbar\"},{\"attributes\":{},\"id\":\"7479\",\"type\":\"BasicTickFormatter\"},{\"attributes\":{},\"id\":\"7200\",\"type\":\"DataRange1d\"},{\"attributes\":{},\"id\":\"7483\",\"type\":\"UnionRenderers\"},{\"attributes\":{},\"id\":\"7198\",\"type\":\"DataRange1d\"},{\"attributes\":{},\"id\":\"7215\",\"type\":\"WheelZoomTool\"},{\"attributes\":{},\"id\":\"7214\",\"type\":\"PanTool\"},{\"attributes\":{},\"id\":\"7216\",\"type\":\"ResetTool\"}],\"root_ids\":[\"7197\"]},\"title\":\"Bokeh Application\",\"version\":\"2.2.3\"}};\n",
       "  var render_items = [{\"docid\":\"e257296c-5cdb-4ca9-a46d-0ae677bf735d\",\"root_ids\":[\"7197\"],\"roots\":{\"7197\":\"2b74e9a5-2a7f-4f81-a1c5-369088efa66b\"}}];\n",
       "  root.Bokeh.embed.embed_items_notebook(docs_json, render_items);\n",
       "\n",
       "  }\n",
       "  if (root.Bokeh !== undefined) {\n",
       "    embed_document(root);\n",
       "  } else {\n",
       "    var attempts = 0;\n",
       "    var timer = setInterval(function(root) {\n",
       "      if (root.Bokeh !== undefined) {\n",
       "        clearInterval(timer);\n",
       "        embed_document(root);\n",
       "      } else {\n",
       "        attempts++;\n",
       "        if (attempts > 100) {\n",
       "          clearInterval(timer);\n",
       "          console.log(\"Bokeh: ERROR: Unable to run BokehJS code because BokehJS library is missing\");\n",
       "        }\n",
       "      }\n",
       "    }, 10, root)\n",
       "  }\n",
       "})(window);"
      ],
      "application/vnd.bokehjs_exec.v0+json": ""
     },
     "metadata": {
      "application/vnd.bokehjs_exec.v0+json": {
       "id": "7197"
      }
     },
     "output_type": "display_data"
    },
    {
     "data": {
      "text/html": [
       "\n",
       "\n",
       "\n",
       "\n",
       "\n",
       "\n",
       "  <div class=\"bk-root\" id=\"4ed592ee-5d78-4e38-8c6d-3ae6ab8442a4\" data-root-id=\"7524\"></div>\n"
      ]
     },
     "metadata": {},
     "output_type": "display_data"
    },
    {
     "data": {
      "application/javascript": [
       "(function(root) {\n",
       "  function embed_document(root) {\n",
       "    \n",
       "  var docs_json = {\"acf3d12c-52a7-4a9f-851b-ef24d5b690b2\":{\"roots\":{\"references\":[{\"attributes\":{\"below\":[{\"id\":\"7533\"}],\"center\":[{\"id\":\"7536\"},{\"id\":\"7540\"}],\"left\":[{\"id\":\"7537\"}],\"plot_height\":250,\"plot_width\":450,\"renderers\":[{\"id\":\"7553\"}],\"title\":{\"id\":\"7811\"},\"toolbar\":{\"id\":\"7545\"},\"x_range\":{\"id\":\"7525\"},\"x_scale\":{\"id\":\"7529\"},\"y_range\":{\"id\":\"7527\"},\"y_scale\":{\"id\":\"7531\"}},\"id\":\"7524\",\"subtype\":\"Figure\",\"type\":\"Plot\"},{\"attributes\":{\"data_source\":{\"id\":\"7550\"},\"glyph\":{\"id\":\"7551\"},\"hover_glyph\":null,\"muted_glyph\":null,\"nonselection_glyph\":{\"id\":\"7552\"},\"selection_glyph\":null,\"view\":{\"id\":\"7554\"}},\"id\":\"7553\",\"type\":\"GlyphRenderer\"},{\"attributes\":{\"axis_label\":\"block entropy\",\"formatter\":{\"id\":\"7814\"},\"ticker\":{\"id\":\"7538\"}},\"id\":\"7537\",\"type\":\"LinearAxis\"},{\"attributes\":{},\"id\":\"7538\",\"type\":\"BasicTicker\"},{\"attributes\":{\"text\":\"\"},\"id\":\"7811\",\"type\":\"Title\"},{\"attributes\":{},\"id\":\"7534\",\"type\":\"BasicTicker\"},{\"attributes\":{},\"id\":\"7541\",\"type\":\"PanTool\"},{\"attributes\":{\"axis\":{\"id\":\"7537\"},\"dimension\":1,\"ticker\":null},\"id\":\"7540\",\"type\":\"Grid\"},{\"attributes\":{},\"id\":\"7527\",\"type\":\"DataRange1d\"},{\"attributes\":{},\"id\":\"7814\",\"type\":\"BasicTickFormatter\"},{\"attributes\":{\"axis_label\":\"block size\",\"formatter\":{\"id\":\"7816\"},\"ticker\":{\"id\":\"7534\"}},\"id\":\"7533\",\"type\":\"LinearAxis\"},{\"attributes\":{\"data\":{\"x\":[0,1,2,3,4,5,6,7,8,9,10],\"y\":[1.0,1.9808259362290785,2.9219280948873623,3.169925001442312,3.0,2.807354922057604,2.584962500721156,2.321928094887362,2.0,1.584962500721156,1.0]},\"selected\":{\"id\":\"7817\"},\"selection_policy\":{\"id\":\"7818\"}},\"id\":\"7550\",\"type\":\"ColumnDataSource\"},{\"attributes\":{},\"id\":\"7817\",\"type\":\"Selection\"},{\"attributes\":{},\"id\":\"7816\",\"type\":\"BasicTickFormatter\"},{\"attributes\":{\"source\":{\"id\":\"7550\"}},\"id\":\"7554\",\"type\":\"CDSView\"},{\"attributes\":{\"line_alpha\":0.1,\"line_color\":\"#1f77b4\",\"line_width\":2,\"x\":{\"field\":\"x\"},\"y\":{\"field\":\"y\"}},\"id\":\"7552\",\"type\":\"Line\"},{\"attributes\":{},\"id\":\"7818\",\"type\":\"UnionRenderers\"},{\"attributes\":{},\"id\":\"7525\",\"type\":\"DataRange1d\"},{\"attributes\":{},\"id\":\"7531\",\"type\":\"LinearScale\"},{\"attributes\":{\"active_drag\":\"auto\",\"active_inspect\":\"auto\",\"active_multi\":null,\"active_scroll\":\"auto\",\"active_tap\":\"auto\",\"tools\":[{\"id\":\"7541\"},{\"id\":\"7542\"},{\"id\":\"7543\"},{\"id\":\"7544\"}]},\"id\":\"7545\",\"type\":\"Toolbar\"},{\"attributes\":{\"line_color\":\"#1f77b4\",\"line_width\":2,\"x\":{\"field\":\"x\"},\"y\":{\"field\":\"y\"}},\"id\":\"7551\",\"type\":\"Line\"},{\"attributes\":{},\"id\":\"7543\",\"type\":\"ResetTool\"},{\"attributes\":{\"axis\":{\"id\":\"7533\"},\"ticker\":null},\"id\":\"7536\",\"type\":\"Grid\"},{\"attributes\":{},\"id\":\"7544\",\"type\":\"SaveTool\"},{\"attributes\":{},\"id\":\"7529\",\"type\":\"LinearScale\"},{\"attributes\":{},\"id\":\"7542\",\"type\":\"WheelZoomTool\"}],\"root_ids\":[\"7524\"]},\"title\":\"Bokeh Application\",\"version\":\"2.2.3\"}};\n",
       "  var render_items = [{\"docid\":\"acf3d12c-52a7-4a9f-851b-ef24d5b690b2\",\"root_ids\":[\"7524\"],\"roots\":{\"7524\":\"4ed592ee-5d78-4e38-8c6d-3ae6ab8442a4\"}}];\n",
       "  root.Bokeh.embed.embed_items_notebook(docs_json, render_items);\n",
       "\n",
       "  }\n",
       "  if (root.Bokeh !== undefined) {\n",
       "    embed_document(root);\n",
       "  } else {\n",
       "    var attempts = 0;\n",
       "    var timer = setInterval(function(root) {\n",
       "      if (root.Bokeh !== undefined) {\n",
       "        clearInterval(timer);\n",
       "        embed_document(root);\n",
       "      } else {\n",
       "        attempts++;\n",
       "        if (attempts > 100) {\n",
       "          clearInterval(timer);\n",
       "          console.log(\"Bokeh: ERROR: Unable to run BokehJS code because BokehJS library is missing\");\n",
       "        }\n",
       "      }\n",
       "    }, 10, root)\n",
       "  }\n",
       "})(window);"
      ],
      "application/vnd.bokehjs_exec.v0+json": ""
     },
     "metadata": {
      "application/vnd.bokehjs_exec.v0+json": {
       "id": "7524"
      }
     },
     "output_type": "display_data"
    }
   ],
   "source": [
    "## INSERT CODE HERE"
   ]
  },
  {
   "cell_type": "markdown",
   "metadata": {},
   "source": [
    "Did you notice something informative in the actual values of entropy calculated?\n",
    "\n",
    "```If you notice, the strings are chosen in such a way that they have consistently high entropy/block entropy except for the first string```"
   ]
  },
  {
   "cell_type": "markdown",
   "metadata": {},
   "source": [
    "**TASK** We now have block entropy as a function of block size - choose the block size that gives minimum block entropy as the block entropy of a string, plot the obtained minimum against the index of the string in the same order."
   ]
  },
  {
   "cell_type": "code",
   "execution_count": 18,
   "metadata": {},
   "outputs": [
    {
     "data": {
      "text/html": [
       "\n",
       "\n",
       "\n",
       "\n",
       "\n",
       "\n",
       "  <div class=\"bk-root\" id=\"7561c318-53e9-49d8-b6d0-c9e876a5cdb7\" data-root-id=\"8202\"></div>\n"
      ]
     },
     "metadata": {},
     "output_type": "display_data"
    },
    {
     "data": {
      "application/javascript": [
       "(function(root) {\n",
       "  function embed_document(root) {\n",
       "    \n",
       "  var docs_json = {\"ffc4cec3-5f1a-4b08-a95e-9975f331dec3\":{\"roots\":{\"references\":[{\"attributes\":{\"below\":[{\"id\":\"8211\"}],\"center\":[{\"id\":\"8214\"},{\"id\":\"8218\"}],\"left\":[{\"id\":\"8215\"}],\"plot_height\":250,\"plot_width\":450,\"renderers\":[{\"id\":\"8231\"}],\"title\":{\"id\":\"8505\"},\"toolbar\":{\"id\":\"8223\"},\"x_range\":{\"id\":\"8203\"},\"x_scale\":{\"id\":\"8207\"},\"y_range\":{\"id\":\"8205\"},\"y_scale\":{\"id\":\"8209\"}},\"id\":\"8202\",\"subtype\":\"Figure\",\"type\":\"Plot\"},{\"attributes\":{\"active_drag\":\"auto\",\"active_inspect\":\"auto\",\"active_multi\":null,\"active_scroll\":\"auto\",\"active_tap\":\"auto\",\"tools\":[{\"id\":\"8219\"},{\"id\":\"8220\"},{\"id\":\"8221\"},{\"id\":\"8222\"}]},\"id\":\"8223\",\"type\":\"Toolbar\"},{\"attributes\":{\"data_source\":{\"id\":\"8228\"},\"glyph\":{\"id\":\"8229\"},\"hover_glyph\":null,\"muted_glyph\":null,\"nonselection_glyph\":{\"id\":\"8230\"},\"selection_glyph\":null,\"view\":{\"id\":\"8232\"}},\"id\":\"8231\",\"type\":\"GlyphRenderer\"},{\"attributes\":{\"data\":{\"x\":[0,1,2,3,4,5,6,7],\"y\":[0.9182958340544896,1.0,1.0,1.0,1.0,1.0,1.0,1.0]},\"selected\":{\"id\":\"8511\"},\"selection_policy\":{\"id\":\"8512\"}},\"id\":\"8228\",\"type\":\"ColumnDataSource\"},{\"attributes\":{\"source\":{\"id\":\"8228\"}},\"id\":\"8232\",\"type\":\"CDSView\"},{\"attributes\":{\"text\":\"\"},\"id\":\"8505\",\"type\":\"Title\"},{\"attributes\":{},\"id\":\"8219\",\"type\":\"PanTool\"},{\"attributes\":{},\"id\":\"8203\",\"type\":\"DataRange1d\"},{\"attributes\":{},\"id\":\"8512\",\"type\":\"UnionRenderers\"},{\"attributes\":{\"line_alpha\":0.1,\"line_color\":\"#1f77b4\",\"line_width\":2,\"x\":{\"field\":\"x\"},\"y\":{\"field\":\"y\"}},\"id\":\"8230\",\"type\":\"Line\"},{\"attributes\":{},\"id\":\"8220\",\"type\":\"WheelZoomTool\"},{\"attributes\":{},\"id\":\"8221\",\"type\":\"ResetTool\"},{\"attributes\":{\"axis_label\":\"entropy\",\"formatter\":{\"id\":\"8508\"},\"ticker\":{\"id\":\"8216\"}},\"id\":\"8215\",\"type\":\"LinearAxis\"},{\"attributes\":{},\"id\":\"8222\",\"type\":\"SaveTool\"},{\"attributes\":{\"axis\":{\"id\":\"8211\"},\"ticker\":null},\"id\":\"8214\",\"type\":\"Grid\"},{\"attributes\":{},\"id\":\"8212\",\"type\":\"BasicTicker\"},{\"attributes\":{\"line_color\":\"#1f77b4\",\"line_width\":2,\"x\":{\"field\":\"x\"},\"y\":{\"field\":\"y\"}},\"id\":\"8229\",\"type\":\"Line\"},{\"attributes\":{\"axis_label\":\"string_index\",\"formatter\":{\"id\":\"8510\"},\"ticker\":{\"id\":\"8212\"}},\"id\":\"8211\",\"type\":\"LinearAxis\"},{\"attributes\":{},\"id\":\"8511\",\"type\":\"Selection\"},{\"attributes\":{},\"id\":\"8205\",\"type\":\"DataRange1d\"},{\"attributes\":{},\"id\":\"8510\",\"type\":\"BasicTickFormatter\"},{\"attributes\":{},\"id\":\"8216\",\"type\":\"BasicTicker\"},{\"attributes\":{},\"id\":\"8508\",\"type\":\"BasicTickFormatter\"},{\"attributes\":{},\"id\":\"8207\",\"type\":\"LinearScale\"},{\"attributes\":{\"axis\":{\"id\":\"8215\"},\"dimension\":1,\"ticker\":null},\"id\":\"8218\",\"type\":\"Grid\"},{\"attributes\":{},\"id\":\"8209\",\"type\":\"LinearScale\"}],\"root_ids\":[\"8202\"]},\"title\":\"Bokeh Application\",\"version\":\"2.2.3\"}};\n",
       "  var render_items = [{\"docid\":\"ffc4cec3-5f1a-4b08-a95e-9975f331dec3\",\"root_ids\":[\"8202\"],\"roots\":{\"8202\":\"7561c318-53e9-49d8-b6d0-c9e876a5cdb7\"}}];\n",
       "  root.Bokeh.embed.embed_items_notebook(docs_json, render_items);\n",
       "\n",
       "  }\n",
       "  if (root.Bokeh !== undefined) {\n",
       "    embed_document(root);\n",
       "  } else {\n",
       "    var attempts = 0;\n",
       "    var timer = setInterval(function(root) {\n",
       "      if (root.Bokeh !== undefined) {\n",
       "        clearInterval(timer);\n",
       "        embed_document(root);\n",
       "      } else {\n",
       "        attempts++;\n",
       "        if (attempts > 100) {\n",
       "          clearInterval(timer);\n",
       "          console.log(\"Bokeh: ERROR: Unable to run BokehJS code because BokehJS library is missing\");\n",
       "        }\n",
       "      }\n",
       "    }, 10, root)\n",
       "  }\n",
       "})(window);"
      ],
      "application/vnd.bokehjs_exec.v0+json": ""
     },
     "metadata": {
      "application/vnd.bokehjs_exec.v0+json": {
       "id": "8202"
      }
     },
     "output_type": "display_data"
    }
   ],
   "source": [
    "bent_plot = figure(**plot_options)\n",
    "bent_plot.line(range(len(strings)),\n",
    "                min_b_ent,\n",
    "                line_width=2)\n",
    "\n",
    "bent_plot.xaxis.axis_label = 'string_index'\n",
    "bent_plot.yaxis.axis_label = 'entropy'\n",
    "show(bent_plot)"
   ]
  },
  {
   "cell_type": "markdown",
   "metadata": {},
   "source": [
    "What do you observe in the trend? what do you think it says about the relative randomness among strings? which strings are the least and most random? How well does this correlate to `LSTM Parameter Trend` plot\n",
    "\n",
    "```Except the first string, all the other strings have high entropy and hence shannon block entropy is saying that except first string all the other strings have the same entropy(high). The string with the least amount of information is the first string. This is in contrast to the parameter trend plot of the LSTM which we precomputed, when Shannon entropy says that the strings 1-8 have the same randomness, LSTM does not follow that trend```"
   ]
  },
  {
   "cell_type": "markdown",
   "metadata": {},
   "source": [
    "## Compression schemes\n",
    "\n",
    "There is an alternate way to measure randomness in strings - which is by using compression algorithms on the strings, the size after compression tells something about the regularities present in the input"
   ]
  },
  {
   "cell_type": "code",
   "execution_count": 54,
   "metadata": {},
   "outputs": [
    {
     "data": {
      "text/html": [
       "\n",
       "\n",
       "\n",
       "\n",
       "\n",
       "\n",
       "  <div class=\"bk-root\" id=\"084b10de-4dc9-47f4-9328-f80229a8ea4b\" data-root-id=\"12189\"></div>\n"
      ]
     },
     "metadata": {},
     "output_type": "display_data"
    },
    {
     "data": {
      "application/javascript": [
       "(function(root) {\n",
       "  function embed_document(root) {\n",
       "    \n",
       "  var docs_json = {\"c92464b5-e8ed-4076-b2e3-67af01f6f06b\":{\"roots\":{\"references\":[{\"attributes\":{\"below\":[{\"id\":\"12198\"}],\"center\":[{\"id\":\"12201\"},{\"id\":\"12205\"},{\"id\":\"12228\"}],\"left\":[{\"id\":\"12202\"}],\"plot_height\":250,\"plot_width\":450,\"renderers\":[{\"id\":\"12218\"},{\"id\":\"12233\"},{\"id\":\"12249\"}],\"title\":{\"id\":\"12220\"},\"toolbar\":{\"id\":\"12210\"},\"x_range\":{\"id\":\"12190\"},\"x_scale\":{\"id\":\"12194\"},\"y_range\":{\"id\":\"12192\"},\"y_scale\":{\"id\":\"12196\"}},\"id\":\"12189\",\"subtype\":\"Figure\",\"type\":\"Plot\"},{\"attributes\":{\"label\":{\"value\":\"bz2\"},\"renderers\":[{\"id\":\"12233\"}]},\"id\":\"12245\",\"type\":\"LegendItem\"},{\"attributes\":{},\"id\":\"12244\",\"type\":\"UnionRenderers\"},{\"attributes\":{\"source\":{\"id\":\"12215\"}},\"id\":\"12219\",\"type\":\"CDSView\"},{\"attributes\":{\"data\":{\"x\":[0,1,2,3,4,5,6,7],\"y\":[68,72,68,68,68,68,68,68]},\"selected\":{\"id\":\"12261\"},\"selection_policy\":{\"id\":\"12262\"}},\"id\":\"12246\",\"type\":\"ColumnDataSource\"},{\"attributes\":{\"text\":\"\"},\"id\":\"12220\",\"type\":\"Title\"},{\"attributes\":{},\"id\":\"12206\",\"type\":\"PanTool\"},{\"attributes\":{\"data_source\":{\"id\":\"12215\"},\"glyph\":{\"id\":\"12216\"},\"hover_glyph\":null,\"muted_glyph\":null,\"nonselection_glyph\":{\"id\":\"12217\"},\"selection_glyph\":null,\"view\":{\"id\":\"12219\"}},\"id\":\"12218\",\"type\":\"GlyphRenderer\"},{\"attributes\":{},\"id\":\"12190\",\"type\":\"DataRange1d\"},{\"attributes\":{},\"id\":\"12196\",\"type\":\"LinearScale\"},{\"attributes\":{\"click_policy\":\"hide\",\"items\":[{\"id\":\"12229\"},{\"id\":\"12245\"},{\"id\":\"12263\"}]},\"id\":\"12228\",\"type\":\"Legend\"},{\"attributes\":{},\"id\":\"12203\",\"type\":\"BasicTicker\"},{\"attributes\":{\"source\":{\"id\":\"12246\"}},\"id\":\"12250\",\"type\":\"CDSView\"},{\"attributes\":{},\"id\":\"12223\",\"type\":\"BasicTickFormatter\"},{\"attributes\":{},\"id\":\"12261\",\"type\":\"Selection\"},{\"attributes\":{},\"id\":\"12207\",\"type\":\"WheelZoomTool\"},{\"attributes\":{},\"id\":\"12226\",\"type\":\"Selection\"},{\"attributes\":{},\"id\":\"12208\",\"type\":\"ResetTool\"},{\"attributes\":{},\"id\":\"12243\",\"type\":\"Selection\"},{\"attributes\":{\"data_source\":{\"id\":\"12246\"},\"glyph\":{\"id\":\"12247\"},\"hover_glyph\":null,\"muted_glyph\":null,\"nonselection_glyph\":{\"id\":\"12248\"},\"selection_glyph\":null,\"view\":{\"id\":\"12250\"}},\"id\":\"12249\",\"type\":\"GlyphRenderer\"},{\"attributes\":{},\"id\":\"12194\",\"type\":\"LinearScale\"},{\"attributes\":{\"line_color\":\"green\",\"line_width\":2,\"x\":{\"field\":\"x\"},\"y\":{\"field\":\"y\"}},\"id\":\"12231\",\"type\":\"Line\"},{\"attributes\":{},\"id\":\"12209\",\"type\":\"SaveTool\"},{\"attributes\":{},\"id\":\"12225\",\"type\":\"BasicTickFormatter\"},{\"attributes\":{\"line_alpha\":0.1,\"line_color\":\"red\",\"line_width\":2,\"x\":{\"field\":\"x\"},\"y\":{\"field\":\"y\"}},\"id\":\"12217\",\"type\":\"Line\"},{\"attributes\":{\"line_alpha\":0.1,\"line_color\":\"blue\",\"line_width\":2,\"x\":{\"field\":\"x\"},\"y\":{\"field\":\"y\"}},\"id\":\"12248\",\"type\":\"Line\"},{\"attributes\":{\"label\":{\"value\":\"lzma\"},\"renderers\":[{\"id\":\"12249\"}]},\"id\":\"12263\",\"type\":\"LegendItem\"},{\"attributes\":{},\"id\":\"12227\",\"type\":\"UnionRenderers\"},{\"attributes\":{\"active_drag\":\"auto\",\"active_inspect\":\"auto\",\"active_multi\":null,\"active_scroll\":\"auto\",\"active_tap\":\"auto\",\"tools\":[{\"id\":\"12206\"},{\"id\":\"12207\"},{\"id\":\"12208\"},{\"id\":\"12209\"}]},\"id\":\"12210\",\"type\":\"Toolbar\"},{\"attributes\":{\"line_color\":\"blue\",\"line_width\":2,\"x\":{\"field\":\"x\"},\"y\":{\"field\":\"y\"}},\"id\":\"12247\",\"type\":\"Line\"},{\"attributes\":{},\"id\":\"12262\",\"type\":\"UnionRenderers\"},{\"attributes\":{\"label\":{\"value\":\"zlib\"},\"renderers\":[{\"id\":\"12218\"}]},\"id\":\"12229\",\"type\":\"LegendItem\"},{\"attributes\":{\"axis\":{\"id\":\"12202\"},\"dimension\":1,\"ticker\":null},\"id\":\"12205\",\"type\":\"Grid\"},{\"attributes\":{\"line_alpha\":0.1,\"line_color\":\"green\",\"line_width\":2,\"x\":{\"field\":\"x\"},\"y\":{\"field\":\"y\"}},\"id\":\"12232\",\"type\":\"Line\"},{\"attributes\":{\"axis_label\":\"compressed length\",\"formatter\":{\"id\":\"12223\"},\"ticker\":{\"id\":\"12203\"}},\"id\":\"12202\",\"type\":\"LinearAxis\"},{\"attributes\":{\"data\":{\"x\":[0,1,2,3,4,5,6,7],\"y\":[38,40,42,40,43,42,40,40]},\"selected\":{\"id\":\"12243\"},\"selection_policy\":{\"id\":\"12244\"}},\"id\":\"12230\",\"type\":\"ColumnDataSource\"},{\"attributes\":{\"source\":{\"id\":\"12230\"}},\"id\":\"12234\",\"type\":\"CDSView\"},{\"attributes\":{\"axis\":{\"id\":\"12198\"},\"ticker\":null},\"id\":\"12201\",\"type\":\"Grid\"},{\"attributes\":{\"line_color\":\"red\",\"line_width\":2,\"x\":{\"field\":\"x\"},\"y\":{\"field\":\"y\"}},\"id\":\"12216\",\"type\":\"Line\"},{\"attributes\":{\"data_source\":{\"id\":\"12230\"},\"glyph\":{\"id\":\"12231\"},\"hover_glyph\":null,\"muted_glyph\":null,\"nonselection_glyph\":{\"id\":\"12232\"},\"selection_glyph\":null,\"view\":{\"id\":\"12234\"}},\"id\":\"12233\",\"type\":\"GlyphRenderer\"},{\"attributes\":{},\"id\":\"12199\",\"type\":\"BasicTicker\"},{\"attributes\":{\"data\":{\"x\":[0,1,2,3,4,5,6,7],\"y\":[12,15,14,17,16,17,17,17]},\"selected\":{\"id\":\"12226\"},\"selection_policy\":{\"id\":\"12227\"}},\"id\":\"12215\",\"type\":\"ColumnDataSource\"},{\"attributes\":{},\"id\":\"12192\",\"type\":\"DataRange1d\"},{\"attributes\":{\"axis_label\":\"string_index\",\"formatter\":{\"id\":\"12225\"},\"ticker\":{\"id\":\"12199\"}},\"id\":\"12198\",\"type\":\"LinearAxis\"}],\"root_ids\":[\"12189\"]},\"title\":\"Bokeh Application\",\"version\":\"2.2.3\"}};\n",
       "  var render_items = [{\"docid\":\"c92464b5-e8ed-4076-b2e3-67af01f6f06b\",\"root_ids\":[\"12189\"],\"roots\":{\"12189\":\"084b10de-4dc9-47f4-9328-f80229a8ea4b\"}}];\n",
       "  root.Bokeh.embed.embed_items_notebook(docs_json, render_items);\n",
       "\n",
       "  }\n",
       "  if (root.Bokeh !== undefined) {\n",
       "    embed_document(root);\n",
       "  } else {\n",
       "    var attempts = 0;\n",
       "    var timer = setInterval(function(root) {\n",
       "      if (root.Bokeh !== undefined) {\n",
       "        clearInterval(timer);\n",
       "        embed_document(root);\n",
       "      } else {\n",
       "        attempts++;\n",
       "        if (attempts > 100) {\n",
       "          clearInterval(timer);\n",
       "          console.log(\"Bokeh: ERROR: Unable to run BokehJS code because BokehJS library is missing\");\n",
       "        }\n",
       "      }\n",
       "    }, 10, root)\n",
       "  }\n",
       "})(window);"
      ],
      "application/vnd.bokehjs_exec.v0+json": ""
     },
     "metadata": {
      "application/vnd.bokehjs_exec.v0+json": {
       "id": "12189"
      }
     },
     "output_type": "display_data"
    }
   ],
   "source": [
    "## Use the compression module create one plot with each of the following compressors\n",
    "## zlib, bz2, lzma\n",
    "## Each line should be distinguished by different colors\n",
    "## TASK: string vs compressed length plot\n",
    "\n",
    "z_lib = []\n",
    "bz2 = []\n",
    "lzma = []\n",
    "\n",
    "def bitstring_to_bytes(s):\n",
    "    return int(s).to_bytes(len(s) // 8, byteorder='big')\n",
    "\n",
    "c = Compressor()\n",
    "\n",
    "for string in strings:\n",
    "    string = [ str(val) for val in string ]\n",
    "    string = ''.join(string)\n",
    "    \n",
    "    c.use_zlib()\n",
    "    z_lib.append(len(c.compress(string.encode('utf-8'))))\n",
    "    \n",
    "    c.use_bz2()\n",
    "    bz2.append(len(c.compress(string.encode('utf-8'))))\n",
    "    \n",
    "    c.use_lzma()\n",
    "    lzma.append(len(c.compress(string.encode('utf-8'))))\n",
    "\n",
    "comp_plot = figure(**plot_options)\n",
    "comp_plot.line(range(len(strings)),\n",
    "                z_lib,\n",
    "                legend_label=\"zlib\",\n",
    "                line_color='red',\n",
    "                line_width=2)\n",
    "comp_plot.line(range(len(strings)),\n",
    "                bz2,\n",
    "                legend_label=\"bz2\",\n",
    "                line_color='green',\n",
    "                line_width=2)\n",
    "comp_plot.line(range(len(strings)),\n",
    "                lzma,\n",
    "                legend_label=\"lzma\",\n",
    "                line_color='blue',\n",
    "                line_width=2)\n",
    "\n",
    "comp_plot.legend.click_policy=\"hide\"\n",
    "comp_plot.xaxis.axis_label = 'string_index'\n",
    "comp_plot.yaxis.axis_label = 'compressed length'\n",
    "show(comp_plot)"
   ]
  },
  {
   "cell_type": "code",
   "execution_count": 55,
   "metadata": {},
   "outputs": [
    {
     "data": {
      "text/html": [
       "\n",
       "\n",
       "\n",
       "\n",
       "\n",
       "\n",
       "  <div class=\"bk-root\" id=\"f543d8b5-7495-4417-a57f-1e8171c47031\" data-root-id=\"12696\"></div>\n"
      ]
     },
     "metadata": {},
     "output_type": "display_data"
    },
    {
     "data": {
      "application/javascript": [
       "(function(root) {\n",
       "  function embed_document(root) {\n",
       "    \n",
       "  var docs_json = {\"a8b9b87c-9c8c-4bc5-9575-17feab3a9531\":{\"roots\":{\"references\":[{\"attributes\":{\"below\":[{\"id\":\"12705\"}],\"center\":[{\"id\":\"12708\"},{\"id\":\"12712\"},{\"id\":\"12735\"}],\"left\":[{\"id\":\"12709\"}],\"plot_height\":250,\"plot_width\":450,\"renderers\":[{\"id\":\"12725\"}],\"title\":{\"id\":\"12727\"},\"toolbar\":{\"id\":\"12717\"},\"x_range\":{\"id\":\"12697\"},\"x_scale\":{\"id\":\"12701\"},\"y_range\":{\"id\":\"12699\"},\"y_scale\":{\"id\":\"12703\"}},\"id\":\"12696\",\"subtype\":\"Figure\",\"type\":\"Plot\"},{\"attributes\":{},\"id\":\"12715\",\"type\":\"ResetTool\"},{\"attributes\":{\"axis_label\":\"compressed length\",\"formatter\":{\"id\":\"12730\"},\"ticker\":{\"id\":\"12710\"}},\"id\":\"12709\",\"type\":\"LinearAxis\"},{\"attributes\":{},\"id\":\"12710\",\"type\":\"BasicTicker\"},{\"attributes\":{},\"id\":\"12716\",\"type\":\"SaveTool\"},{\"attributes\":{\"line_color\":\"red\",\"line_width\":2,\"x\":{\"field\":\"x\"},\"y\":{\"field\":\"y\"}},\"id\":\"12723\",\"type\":\"Line\"},{\"attributes\":{\"axis\":{\"id\":\"12705\"},\"ticker\":null},\"id\":\"12708\",\"type\":\"Grid\"},{\"attributes\":{\"axis_label\":\"string_index\",\"formatter\":{\"id\":\"12732\"},\"ticker\":{\"id\":\"12706\"}},\"id\":\"12705\",\"type\":\"LinearAxis\"},{\"attributes\":{},\"id\":\"12697\",\"type\":\"DataRange1d\"},{\"attributes\":{},\"id\":\"12699\",\"type\":\"DataRange1d\"},{\"attributes\":{\"source\":{\"id\":\"12722\"}},\"id\":\"12726\",\"type\":\"CDSView\"},{\"attributes\":{\"text\":\"\"},\"id\":\"12727\",\"type\":\"Title\"},{\"attributes\":{},\"id\":\"12734\",\"type\":\"UnionRenderers\"},{\"attributes\":{\"data_source\":{\"id\":\"12722\"},\"glyph\":{\"id\":\"12723\"},\"hover_glyph\":null,\"muted_glyph\":null,\"nonselection_glyph\":{\"id\":\"12724\"},\"selection_glyph\":null,\"view\":{\"id\":\"12726\"}},\"id\":\"12725\",\"type\":\"GlyphRenderer\"},{\"attributes\":{\"click_policy\":\"hide\",\"items\":[{\"id\":\"12736\"}]},\"id\":\"12735\",\"type\":\"Legend\"},{\"attributes\":{},\"id\":\"12701\",\"type\":\"LinearScale\"},{\"attributes\":{\"label\":{\"value\":\"zlib\"},\"renderers\":[{\"id\":\"12725\"}]},\"id\":\"12736\",\"type\":\"LegendItem\"},{\"attributes\":{},\"id\":\"12714\",\"type\":\"WheelZoomTool\"},{\"attributes\":{},\"id\":\"12730\",\"type\":\"BasicTickFormatter\"},{\"attributes\":{},\"id\":\"12713\",\"type\":\"PanTool\"},{\"attributes\":{\"axis\":{\"id\":\"12709\"},\"dimension\":1,\"ticker\":null},\"id\":\"12712\",\"type\":\"Grid\"},{\"attributes\":{},\"id\":\"12733\",\"type\":\"Selection\"},{\"attributes\":{},\"id\":\"12706\",\"type\":\"BasicTicker\"},{\"attributes\":{\"data\":{\"x\":[0,1,2,3,4,5,6,7],\"y\":[12,15,14,17,16,17,17,17]},\"selected\":{\"id\":\"12733\"},\"selection_policy\":{\"id\":\"12734\"}},\"id\":\"12722\",\"type\":\"ColumnDataSource\"},{\"attributes\":{},\"id\":\"12703\",\"type\":\"LinearScale\"},{\"attributes\":{},\"id\":\"12732\",\"type\":\"BasicTickFormatter\"},{\"attributes\":{\"line_alpha\":0.1,\"line_color\":\"red\",\"line_width\":2,\"x\":{\"field\":\"x\"},\"y\":{\"field\":\"y\"}},\"id\":\"12724\",\"type\":\"Line\"},{\"attributes\":{\"active_drag\":\"auto\",\"active_inspect\":\"auto\",\"active_multi\":null,\"active_scroll\":\"auto\",\"active_tap\":\"auto\",\"tools\":[{\"id\":\"12713\"},{\"id\":\"12714\"},{\"id\":\"12715\"},{\"id\":\"12716\"}]},\"id\":\"12717\",\"type\":\"Toolbar\"}],\"root_ids\":[\"12696\"]},\"title\":\"Bokeh Application\",\"version\":\"2.2.3\"}};\n",
       "  var render_items = [{\"docid\":\"a8b9b87c-9c8c-4bc5-9575-17feab3a9531\",\"root_ids\":[\"12696\"],\"roots\":{\"12696\":\"f543d8b5-7495-4417-a57f-1e8171c47031\"}}];\n",
       "  root.Bokeh.embed.embed_items_notebook(docs_json, render_items);\n",
       "\n",
       "  }\n",
       "  if (root.Bokeh !== undefined) {\n",
       "    embed_document(root);\n",
       "  } else {\n",
       "    var attempts = 0;\n",
       "    var timer = setInterval(function(root) {\n",
       "      if (root.Bokeh !== undefined) {\n",
       "        clearInterval(timer);\n",
       "        embed_document(root);\n",
       "      } else {\n",
       "        attempts++;\n",
       "        if (attempts > 100) {\n",
       "          clearInterval(timer);\n",
       "          console.log(\"Bokeh: ERROR: Unable to run BokehJS code because BokehJS library is missing\");\n",
       "        }\n",
       "      }\n",
       "    }, 10, root)\n",
       "  }\n",
       "})(window);"
      ],
      "application/vnd.bokehjs_exec.v0+json": ""
     },
     "metadata": {
      "application/vnd.bokehjs_exec.v0+json": {
       "id": "12696"
      }
     },
     "output_type": "display_data"
    }
   ],
   "source": [
    "## Plot **only** the best compression algorithm here\n",
    "comp_plot = figure(**plot_options)\n",
    "comp_plot.line(range(len(strings)),\n",
    "                z_lib,\n",
    "                legend_label=\"zlib\",\n",
    "                line_color='red',\n",
    "                line_width=2)\n",
    "\n",
    "comp_plot.legend.click_policy=\"hide\"\n",
    "comp_plot.xaxis.axis_label = 'string_index'\n",
    "comp_plot.yaxis.axis_label = 'compressed length'\n",
    "show(comp_plot)"
   ]
  },
  {
   "cell_type": "markdown",
   "metadata": {},
   "source": [
    "Which compression scheme performs the best? What do you observe in the trend? what do you think it says about the relative randomness among strings? which strings are the least and most random? How well does this correlate to `LSTM Parameter Trend` plot\n",
    "\n",
    "```The increase in the size needed to encode is not regular but exhibit patterns although in general the average can be thought of as going up. The compression scheme zlib which gave the minimum compression says that string 2 is less random than string 1. There are some irregularities in the overall trend.```\n",
    "\n",
    "Now that you have seen statistical randomness prediction techniques, what do you think about using these to tell something about the predictability of strings? What advantages/disadvantages do you observe in them?"
   ]
  },
  {
   "cell_type": "markdown",
   "metadata": {},
   "source": [
    "## CTM\n",
    "\n",
    "Now let us see another alternate definition to randomness in string which is connected to Kolmogorov Algorithmic information theory. This theory is founded on the grounds of Turing machines hence it is universal-in the sense that I do not need to make any assumptions on the data in order get these values. Such a powerful theory obviously has some drawbacks in terms of practical usability. The Kolmgorov Complexity values are even theoretically proved to be uncomputable in general - But for small strings we can find pretty tight upper bounds. That is something nice to have in a very general theory.\n",
    "\n",
    "The method used to compute this is called CTM(Coding Theorem Method). The papers are a nice read about how exactly this is calculated but on a high level the upper bound is found by enumerating all possible Turing machines and finding if it produces the string or not."
   ]
  },
  {
   "cell_type": "markdown",
   "metadata": {},
   "source": [
    "**TASK**: Compute and plot the CTM values of the strings similar to what we have been doing. You can use the `BDM`(Block Decomposition Method) class from `pybdm` module to do this. `BDM` is a generalization of `CTM` method - when you set the `ndim=12` CTM is activated. "
   ]
  },
  {
   "cell_type": "code",
   "execution_count": 62,
   "metadata": {},
   "outputs": [
    {
     "data": {
      "text/html": [
       "\n",
       "\n",
       "\n",
       "\n",
       "\n",
       "\n",
       "  <div class=\"bk-root\" id=\"8815b4e7-1846-4c06-82e4-58eea79c2af8\" data-root-id=\"14084\"></div>\n"
      ]
     },
     "metadata": {},
     "output_type": "display_data"
    },
    {
     "data": {
      "application/javascript": [
       "(function(root) {\n",
       "  function embed_document(root) {\n",
       "    \n",
       "  var docs_json = {\"9f7c2943-4380-4818-99c3-1759e11a0326\":{\"roots\":{\"references\":[{\"attributes\":{\"below\":[{\"id\":\"14093\"}],\"center\":[{\"id\":\"14096\"},{\"id\":\"14100\"}],\"left\":[{\"id\":\"14097\"}],\"plot_height\":250,\"plot_width\":450,\"renderers\":[{\"id\":\"14113\"}],\"title\":{\"id\":\"14511\"},\"toolbar\":{\"id\":\"14105\"},\"x_range\":{\"id\":\"14085\"},\"x_scale\":{\"id\":\"14089\"},\"y_range\":{\"id\":\"14087\"},\"y_scale\":{\"id\":\"14091\"}},\"id\":\"14084\",\"subtype\":\"Figure\",\"type\":\"Plot\"},{\"attributes\":{\"text\":\"\"},\"id\":\"14511\",\"type\":\"Title\"},{\"attributes\":{\"data_source\":{\"id\":\"14110\"},\"glyph\":{\"id\":\"14111\"},\"hover_glyph\":null,\"muted_glyph\":null,\"nonselection_glyph\":{\"id\":\"14112\"},\"selection_glyph\":null,\"view\":{\"id\":\"14114\"}},\"id\":\"14113\",\"type\":\"GlyphRenderer\"},{\"attributes\":{\"axis_label\":\"block size\",\"formatter\":{\"id\":\"14516\"},\"ticker\":{\"id\":\"14094\"}},\"id\":\"14093\",\"type\":\"LinearAxis\"},{\"attributes\":{\"data\":{\"x\":[0,1,2,3,4,5,6,7],\"y\":[26.99072664916141,29.0926552491871,31.420342613363147,33.3093113009744,33.5723457068082,34.157308207529354,36.06419880313787,36.06419880313787]},\"selected\":{\"id\":\"14517\"},\"selection_policy\":{\"id\":\"14518\"}},\"id\":\"14110\",\"type\":\"ColumnDataSource\"},{\"attributes\":{},\"id\":\"14091\",\"type\":\"LinearScale\"},{\"attributes\":{\"source\":{\"id\":\"14110\"}},\"id\":\"14114\",\"type\":\"CDSView\"},{\"attributes\":{\"line_color\":\"#1f77b4\",\"line_width\":2,\"x\":{\"field\":\"x\"},\"y\":{\"field\":\"y\"}},\"id\":\"14111\",\"type\":\"Line\"},{\"attributes\":{},\"id\":\"14102\",\"type\":\"WheelZoomTool\"},{\"attributes\":{},\"id\":\"14517\",\"type\":\"Selection\"},{\"attributes\":{},\"id\":\"14514\",\"type\":\"BasicTickFormatter\"},{\"attributes\":{},\"id\":\"14516\",\"type\":\"BasicTickFormatter\"},{\"attributes\":{},\"id\":\"14104\",\"type\":\"SaveTool\"},{\"attributes\":{},\"id\":\"14085\",\"type\":\"DataRange1d\"},{\"attributes\":{},\"id\":\"14103\",\"type\":\"ResetTool\"},{\"attributes\":{},\"id\":\"14098\",\"type\":\"BasicTicker\"},{\"attributes\":{},\"id\":\"14518\",\"type\":\"UnionRenderers\"},{\"attributes\":{\"axis\":{\"id\":\"14093\"},\"ticker\":null},\"id\":\"14096\",\"type\":\"Grid\"},{\"attributes\":{},\"id\":\"14089\",\"type\":\"LinearScale\"},{\"attributes\":{\"line_alpha\":0.1,\"line_color\":\"#1f77b4\",\"line_width\":2,\"x\":{\"field\":\"x\"},\"y\":{\"field\":\"y\"}},\"id\":\"14112\",\"type\":\"Line\"},{\"attributes\":{},\"id\":\"14094\",\"type\":\"BasicTicker\"},{\"attributes\":{},\"id\":\"14087\",\"type\":\"DataRange1d\"},{\"attributes\":{\"active_drag\":\"auto\",\"active_inspect\":\"auto\",\"active_multi\":null,\"active_scroll\":\"auto\",\"active_tap\":\"auto\",\"tools\":[{\"id\":\"14101\"},{\"id\":\"14102\"},{\"id\":\"14103\"},{\"id\":\"14104\"}]},\"id\":\"14105\",\"type\":\"Toolbar\"},{\"attributes\":{},\"id\":\"14101\",\"type\":\"PanTool\"},{\"attributes\":{\"axis_label\":\"Kolmogorov Complexity(bits)\",\"formatter\":{\"id\":\"14514\"},\"ticker\":{\"id\":\"14098\"}},\"id\":\"14097\",\"type\":\"LinearAxis\"},{\"attributes\":{\"axis\":{\"id\":\"14097\"},\"dimension\":1,\"ticker\":null},\"id\":\"14100\",\"type\":\"Grid\"}],\"root_ids\":[\"14084\"]},\"title\":\"Bokeh Application\",\"version\":\"2.2.3\"}};\n",
       "  var render_items = [{\"docid\":\"9f7c2943-4380-4818-99c3-1759e11a0326\",\"root_ids\":[\"14084\"],\"roots\":{\"14084\":\"8815b4e7-1846-4c06-82e4-58eea79c2af8\"}}];\n",
       "  root.Bokeh.embed.embed_items_notebook(docs_json, render_items);\n",
       "\n",
       "  }\n",
       "  if (root.Bokeh !== undefined) {\n",
       "    embed_document(root);\n",
       "  } else {\n",
       "    var attempts = 0;\n",
       "    var timer = setInterval(function(root) {\n",
       "      if (root.Bokeh !== undefined) {\n",
       "        clearInterval(timer);\n",
       "        embed_document(root);\n",
       "      } else {\n",
       "        attempts++;\n",
       "        if (attempts > 100) {\n",
       "          clearInterval(timer);\n",
       "          console.log(\"Bokeh: ERROR: Unable to run BokehJS code because BokehJS library is missing\");\n",
       "        }\n",
       "      }\n",
       "    }, 10, root)\n",
       "  }\n",
       "})(window);"
      ],
      "application/vnd.bokehjs_exec.v0+json": ""
     },
     "metadata": {
      "application/vnd.bokehjs_exec.v0+json": {
       "id": "14084"
      }
     },
     "output_type": "display_data"
    }
   ],
   "source": [
    "plot_options = dict(width=450,\n",
    "                    plot_height=250,\n",
    "                    tools='pan,wheel_zoom,reset,save')\n",
    "ctm = []\n",
    "\n",
    "bdm = BDM(ndim=1, partition=PartitionIgnore)\n",
    "for string in strings:\n",
    "    b_ent = []\n",
    "    ctm.append(bdm.bdm(np.array(string)))\n",
    "    \n",
    "ctm_plot = figure(**plot_options)\n",
    "ctm_plot.line(range(len(strings)),\n",
    "                ctm,\n",
    "                line_width=2)\n",
    "ctm_plot.xaxis.axis_label = 'block size'\n",
    "ctm_plot.yaxis.axis_label = 'Kolmogorov Complexity(bits)'\n",
    "show(ctm_plot)"
   ]
  },
  {
   "cell_type": "markdown",
   "metadata": {},
   "source": [
    "What do you observe in the trend? what do you think it says about the relative randomness among strings? which strings are the least and most random? How well does this correlate to `LSTM Parameter Trend` plot?\n",
    "\n",
    "```CTM plot shows an increasing trend in the amount of mathematical randomness in the strings. The randomness seems to be correlated with the number of parameters in the LSTM model. At this point it is unsure what this means but this warrants further exploration.```"
   ]
  },
  {
   "cell_type": "markdown",
   "metadata": {},
   "source": [
    "Now that we explored 3 different methods, it is time to compare them. Plot all the three(block entropy, compression technique, kolmogorov complexity) in the same plot(Note that the actual values are different for each method - you will need to normalize the values to get the relative randomness in range \\[0, 1\\])"
   ]
  },
  {
   "cell_type": "code",
   "execution_count": 65,
   "metadata": {},
   "outputs": [
    {
     "data": {
      "text/html": [
       "\n",
       "\n",
       "\n",
       "\n",
       "\n",
       "\n",
       "  <div class=\"bk-root\" id=\"a179e0bf-bd2b-47a2-abcd-00e52f48906b\" data-root-id=\"15739\"></div>\n"
      ]
     },
     "metadata": {},
     "output_type": "display_data"
    },
    {
     "data": {
      "application/javascript": [
       "(function(root) {\n",
       "  function embed_document(root) {\n",
       "    \n",
       "  var docs_json = {\"7b23114a-1eea-43ee-9c82-f6e12a77d498\":{\"roots\":{\"references\":[{\"attributes\":{\"below\":[{\"id\":\"15748\"}],\"center\":[{\"id\":\"15751\"},{\"id\":\"15755\"},{\"id\":\"15778\"}],\"left\":[{\"id\":\"15752\"}],\"plot_height\":300,\"plot_width\":550,\"renderers\":[{\"id\":\"15768\"},{\"id\":\"15783\"},{\"id\":\"15799\"},{\"id\":\"15817\"}],\"title\":{\"id\":\"15770\"},\"toolbar\":{\"id\":\"15760\"},\"x_range\":{\"id\":\"15740\"},\"x_scale\":{\"id\":\"15744\"},\"y_range\":{\"id\":\"15742\"},\"y_scale\":{\"id\":\"15746\"}},\"id\":\"15739\",\"subtype\":\"Figure\",\"type\":\"Plot\"},{\"attributes\":{\"source\":{\"id\":\"15765\"}},\"id\":\"15769\",\"type\":\"CDSView\"},{\"attributes\":{\"data_source\":{\"id\":\"15765\"},\"glyph\":{\"id\":\"15766\"},\"hover_glyph\":null,\"muted_glyph\":null,\"nonselection_glyph\":{\"id\":\"15767\"},\"selection_glyph\":null,\"view\":{\"id\":\"15769\"}},\"id\":\"15768\",\"type\":\"GlyphRenderer\"},{\"attributes\":{\"data\":{\"x\":[0,1,2,3,4,5,6,7],\"y\":{\"__ndarray__\":\"AAAAAAAAAAAzMzMzMzPjP5qZmZmZmdk/AAAAAAAA8D+amZmZmZnpPwAAAAAAAPA/AAAAAAAA8D8AAAAAAADwPw==\",\"dtype\":\"float64\",\"order\":\"little\",\"shape\":[8]}},\"selected\":{\"id\":\"15793\"},\"selection_policy\":{\"id\":\"15794\"}},\"id\":\"15780\",\"type\":\"ColumnDataSource\"},{\"attributes\":{\"data_source\":{\"id\":\"15780\"},\"glyph\":{\"id\":\"15781\"},\"hover_glyph\":null,\"muted_glyph\":null,\"nonselection_glyph\":{\"id\":\"15782\"},\"selection_glyph\":null,\"view\":{\"id\":\"15784\"}},\"id\":\"15783\",\"type\":\"GlyphRenderer\"},{\"attributes\":{},\"id\":\"15753\",\"type\":\"BasicTicker\"},{\"attributes\":{},\"id\":\"15756\",\"type\":\"PanTool\"},{\"attributes\":{\"line_alpha\":0.1,\"line_color\":\"green\",\"line_width\":2,\"x\":{\"field\":\"x\"},\"y\":{\"field\":\"y\"}},\"id\":\"15782\",\"type\":\"Line\"},{\"attributes\":{\"data\":{\"x\":[0,1,2,3,4,5,6,7],\"y\":{\"__ndarray__\":\"AAAAAAAAAAAigbcfEnjbPyKBtx8SeOM/n1pY6amF7T8XVnpqYaXvPwAAAAAAAPA//pDA2w8J7D+jONcxinPtPw==\",\"dtype\":\"float64\",\"order\":\"little\",\"shape\":[8]}},\"selected\":{\"id\":\"15831\"},\"selection_policy\":{\"id\":\"15832\"}},\"id\":\"15814\",\"type\":\"ColumnDataSource\"},{\"attributes\":{\"label\":{\"value\":\"ctm\"},\"renderers\":[{\"id\":\"15768\"}]},\"id\":\"15779\",\"type\":\"LegendItem\"},{\"attributes\":{\"line_alpha\":0.1,\"line_color\":\"blue\",\"line_width\":2,\"x\":{\"field\":\"x\"},\"y\":{\"field\":\"y\"}},\"id\":\"15798\",\"type\":\"Line\"},{\"attributes\":{},\"id\":\"15757\",\"type\":\"WheelZoomTool\"},{\"attributes\":{},\"id\":\"15793\",\"type\":\"Selection\"},{\"attributes\":{\"label\":{\"value\":\"zlib\"},\"renderers\":[{\"id\":\"15783\"}]},\"id\":\"15795\",\"type\":\"LegendItem\"},{\"attributes\":{},\"id\":\"15812\",\"type\":\"UnionRenderers\"},{\"attributes\":{\"data\":{\"x\":[0,1,2,3,4,5,6,7],\"y\":{\"__ndarray__\":\"AAAAAAAAAAAAAAAAAADwPwAAAAAAAPA/AAAAAAAA8D8AAAAAAADwPwAAAAAAAPA/AAAAAAAA8D8AAAAAAADwPw==\",\"dtype\":\"float64\",\"order\":\"little\",\"shape\":[8]}},\"selected\":{\"id\":\"15811\"},\"selection_policy\":{\"id\":\"15812\"}},\"id\":\"15796\",\"type\":\"ColumnDataSource\"},{\"attributes\":{},\"id\":\"15758\",\"type\":\"ResetTool\"},{\"attributes\":{\"axis\":{\"id\":\"15748\"},\"ticker\":null},\"id\":\"15751\",\"type\":\"Grid\"},{\"attributes\":{\"line_alpha\":0.1,\"line_color\":\"orange\",\"line_width\":2,\"x\":{\"field\":\"x\"},\"y\":{\"field\":\"y\"}},\"id\":\"15816\",\"type\":\"Line\"},{\"attributes\":{},\"id\":\"15759\",\"type\":\"SaveTool\"},{\"attributes\":{},\"id\":\"15811\",\"type\":\"Selection\"},{\"attributes\":{},\"id\":\"15794\",\"type\":\"UnionRenderers\"},{\"attributes\":{\"data_source\":{\"id\":\"15814\"},\"glyph\":{\"id\":\"15815\"},\"hover_glyph\":null,\"muted_glyph\":null,\"nonselection_glyph\":{\"id\":\"15816\"},\"selection_glyph\":null,\"view\":{\"id\":\"15818\"}},\"id\":\"15817\",\"type\":\"GlyphRenderer\"},{\"attributes\":{\"line_alpha\":0.1,\"line_color\":\"red\",\"line_width\":2,\"x\":{\"field\":\"x\"},\"y\":{\"field\":\"y\"}},\"id\":\"15767\",\"type\":\"Line\"},{\"attributes\":{},\"id\":\"15777\",\"type\":\"UnionRenderers\"},{\"attributes\":{},\"id\":\"15775\",\"type\":\"BasicTickFormatter\"},{\"attributes\":{\"line_color\":\"red\",\"line_width\":2,\"x\":{\"field\":\"x\"},\"y\":{\"field\":\"y\"}},\"id\":\"15766\",\"type\":\"Line\"},{\"attributes\":{\"source\":{\"id\":\"15814\"}},\"id\":\"15818\",\"type\":\"CDSView\"},{\"attributes\":{\"label\":{\"value\":\"block entropy\"},\"renderers\":[{\"id\":\"15799\"}]},\"id\":\"15813\",\"type\":\"LegendItem\"},{\"attributes\":{},\"id\":\"15831\",\"type\":\"Selection\"},{\"attributes\":{\"data_source\":{\"id\":\"15796\"},\"glyph\":{\"id\":\"15797\"},\"hover_glyph\":null,\"muted_glyph\":null,\"nonselection_glyph\":{\"id\":\"15798\"},\"selection_glyph\":null,\"view\":{\"id\":\"15800\"}},\"id\":\"15799\",\"type\":\"GlyphRenderer\"},{\"attributes\":{},\"id\":\"15776\",\"type\":\"Selection\"},{\"attributes\":{\"data\":{\"x\":[0,1,2,3,4,5,6,7],\"y\":{\"__ndarray__\":\"AAAAAAAAAADpK+Rh66bNPwdxzaWSPt8/v+plvL5I5j8vaaLjOTbnP3IE60tcRuk/AAAAAAAA8D8AAAAAAADwPw==\",\"dtype\":\"float64\",\"order\":\"little\",\"shape\":[8]}},\"selected\":{\"id\":\"15776\"},\"selection_policy\":{\"id\":\"15777\"}},\"id\":\"15765\",\"type\":\"ColumnDataSource\"},{\"attributes\":{},\"id\":\"15740\",\"type\":\"DataRange1d\"},{\"attributes\":{\"line_color\":\"blue\",\"line_width\":2,\"x\":{\"field\":\"x\"},\"y\":{\"field\":\"y\"}},\"id\":\"15797\",\"type\":\"Line\"},{\"attributes\":{},\"id\":\"15832\",\"type\":\"UnionRenderers\"},{\"attributes\":{\"items\":[{\"id\":\"15779\"},{\"id\":\"15795\"},{\"id\":\"15813\"},{\"id\":\"15833\"}],\"location\":\"bottom_right\"},\"id\":\"15778\",\"type\":\"Legend\"},{\"attributes\":{},\"id\":\"15742\",\"type\":\"DataRange1d\"},{\"attributes\":{\"line_color\":\"orange\",\"line_width\":2,\"x\":{\"field\":\"x\"},\"y\":{\"field\":\"y\"}},\"id\":\"15815\",\"type\":\"Line\"},{\"attributes\":{\"axis_label\":\"string index\",\"formatter\":{\"id\":\"15775\"},\"ticker\":{\"id\":\"15749\"}},\"id\":\"15748\",\"type\":\"LinearAxis\"},{\"attributes\":{},\"id\":\"15773\",\"type\":\"BasicTickFormatter\"},{\"attributes\":{\"axis_label\":\"Randomness Estimation\",\"formatter\":{\"id\":\"15773\"},\"ticker\":{\"id\":\"15753\"}},\"id\":\"15752\",\"type\":\"LinearAxis\"},{\"attributes\":{\"source\":{\"id\":\"15796\"}},\"id\":\"15800\",\"type\":\"CDSView\"},{\"attributes\":{},\"id\":\"15749\",\"type\":\"BasicTicker\"},{\"attributes\":{\"line_color\":\"green\",\"line_width\":2,\"x\":{\"field\":\"x\"},\"y\":{\"field\":\"y\"}},\"id\":\"15781\",\"type\":\"Line\"},{\"attributes\":{},\"id\":\"15746\",\"type\":\"LinearScale\"},{\"attributes\":{\"label\":{\"value\":\"LSTM\"},\"renderers\":[{\"id\":\"15817\"}]},\"id\":\"15833\",\"type\":\"LegendItem\"},{\"attributes\":{\"axis\":{\"id\":\"15752\"},\"dimension\":1,\"ticker\":null},\"id\":\"15755\",\"type\":\"Grid\"},{\"attributes\":{\"source\":{\"id\":\"15780\"}},\"id\":\"15784\",\"type\":\"CDSView\"},{\"attributes\":{\"active_drag\":\"auto\",\"active_inspect\":\"auto\",\"active_multi\":null,\"active_scroll\":\"auto\",\"active_tap\":\"auto\",\"tools\":[{\"id\":\"15756\"},{\"id\":\"15757\"},{\"id\":\"15758\"},{\"id\":\"15759\"}]},\"id\":\"15760\",\"type\":\"Toolbar\"},{\"attributes\":{\"text\":\"\"},\"id\":\"15770\",\"type\":\"Title\"},{\"attributes\":{},\"id\":\"15744\",\"type\":\"LinearScale\"}],\"root_ids\":[\"15739\"]},\"title\":\"Bokeh Application\",\"version\":\"2.2.3\"}};\n",
       "  var render_items = [{\"docid\":\"7b23114a-1eea-43ee-9c82-f6e12a77d498\",\"root_ids\":[\"15739\"],\"roots\":{\"15739\":\"a179e0bf-bd2b-47a2-abcd-00e52f48906b\"}}];\n",
       "  root.Bokeh.embed.embed_items_notebook(docs_json, render_items);\n",
       "\n",
       "  }\n",
       "  if (root.Bokeh !== undefined) {\n",
       "    embed_document(root);\n",
       "  } else {\n",
       "    var attempts = 0;\n",
       "    var timer = setInterval(function(root) {\n",
       "      if (root.Bokeh !== undefined) {\n",
       "        clearInterval(timer);\n",
       "        embed_document(root);\n",
       "      } else {\n",
       "        attempts++;\n",
       "        if (attempts > 100) {\n",
       "          clearInterval(timer);\n",
       "          console.log(\"Bokeh: ERROR: Unable to run BokehJS code because BokehJS library is missing\");\n",
       "        }\n",
       "      }\n",
       "    }, 10, root)\n",
       "  }\n",
       "})(window);"
      ],
      "application/vnd.bokehjs_exec.v0+json": ""
     },
     "metadata": {
      "application/vnd.bokehjs_exec.v0+json": {
       "id": "15739"
      }
     },
     "output_type": "display_data"
    }
   ],
   "source": [
    "def normalize(a):\n",
    "    a = np.array(a)\n",
    "    return (a - np.min(a))/(np.max(a) - np.min(a))\n",
    "\n",
    "ctm = normalize(ctm)\n",
    "z_lib = normalize(z_lib)\n",
    "min_b_ent = normalize(min_b_ent)\n",
    "lstm_min_nparams = normalize(lstm_min_nparams)\n",
    "\n",
    "plot_options = dict(width=550,\n",
    "                    plot_height=300,\n",
    "                    tools='pan,wheel_zoom,reset,save')\n",
    "\n",
    "ctm_plot = figure(**plot_options)\n",
    "ctm_plot.line(range(len(strings)),\n",
    "              ctm,\n",
    "              line_color=\"red\",\n",
    "              line_width=2,\n",
    "              legend_label=\"ctm\")\n",
    "ctm_plot.line(range(len(strings)),\n",
    "              z_lib,\n",
    "              line_color=\"green\",\n",
    "              line_width=2,\n",
    "              legend_label=\"zlib\")\n",
    "ctm_plot.line(range(len(strings)),\n",
    "              min_b_ent,\n",
    "              line_color=\"blue\",\n",
    "              line_width=2,\n",
    "              legend_label=\"block entropy\")\n",
    "ctm_plot.line(range(len(strings)),\n",
    "              lstm_min_nparams,\n",
    "              line_color=\"orange\",\n",
    "              line_width=2,\n",
    "              legend_label=\"LSTM\")\n",
    "ctm_plot.xaxis.axis_label = 'string index'\n",
    "ctm_plot.legend.location = 'bottom_right'\n",
    "ctm_plot.yaxis.axis_label = 'Randomness Estimation'\n",
    "show(ctm_plot)"
   ]
  },
  {
   "cell_type": "markdown",
   "metadata": {},
   "source": [
    "Which plot do you think approximates relative randomness computed by ctm method well?\n",
    "\n",
    "`LSTM` was able to capture the relative trends in randomness.\n",
    "\n",
    "(BONUS) Create a sequence generation model - with `L0 regularization` and find the minimum number of parameters in the model. Run the model on the given strings and try to obtain our LSTM n_params list."
   ]
  }
 ],
 "metadata": {
  "kernelspec": {
   "display_name": "Python 3",
   "language": "python",
   "name": "python3"
  },
  "language_info": {
   "codemirror_mode": {
    "name": "ipython",
    "version": 3
   },
   "file_extension": ".py",
   "mimetype": "text/x-python",
   "name": "python",
   "nbconvert_exporter": "python",
   "pygments_lexer": "ipython3",
   "version": "3.7.9"
  }
 },
 "nbformat": 4,
 "nbformat_minor": 4
}
