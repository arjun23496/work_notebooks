{
 "cells": [
  {
   "cell_type": "code",
   "execution_count": 90,
   "metadata": {},
   "outputs": [],
   "source": [
    "import numpy as np\n",
    "import matplotlib.pyplot as plt\n",
    "import pickle as pkl\n",
    "import seaborn as sns\n",
    "import pandas as pd\n",
    "\n",
    "from scipy import stats\n",
    "\n",
    "import sys\n",
    "\n",
    "import utils.trace_metric as trace_metric"
   ]
  },
  {
   "cell_type": "code",
   "execution_count": 91,
   "metadata": {},
   "outputs": [],
   "source": [
    "with open('test_configs/results/trace_length_dict.pkl', 'rb') as f:\n",
    "    trace_length_dict = pkl.load(f)"
   ]
  },
  {
   "cell_type": "markdown",
   "metadata": {},
   "source": [
    "# Observations\n",
    "\n",
    "- `pmd` exhibits jikes > j9 > hotspot for kl-divergence\n",
    "- `pmd` exhibits same for negative log likelihood but the difference is small(look back into the graph of error analysis)\n",
    "- MSE exhibits jikes > hotspot > j9"
   ]
  },
  {
   "cell_type": "markdown",
   "metadata": {},
   "source": [
    "# PMD"
   ]
  },
  {
   "cell_type": "code",
   "execution_count": 92,
   "metadata": {},
   "outputs": [],
   "source": [
    "seeds = [1, 3, 6, 9]\n",
    "\n",
    "result = {}\n",
    "\n",
    "with open('test_configs/results/result_5472916.pkl', 'rb') as f:\n",
    "    result = pkl.load(f)\n",
    "    \n",
    "trace_list = result.keys()"
   ]
  },
  {
   "cell_type": "code",
   "execution_count": 93,
   "metadata": {},
   "outputs": [
    {
     "data": {
      "image/png": "[encoded data removed]",
      "text/plain": [
       "<Figure size 432x288 with 1 Axes>"
      ]
     },
     "metadata": {
      "needs_background": "light"
     },
     "output_type": "display_data"
    }
   ],
   "source": [
    "for seed in seeds:\n",
    "    length_list = []\n",
    "    avgkl_list = []\n",
    "#     print(\"Seed: {}\".format(seed))\n",
    "    for trace in trace_list:\n",
    "#         print(\"Trace: {}\".format(trace))\n",
    "        \n",
    "        test_kldiv = []\n",
    "        \n",
    "#         print(result[trace][trace][seed].keys())\n",
    "        \n",
    "        for key in result[trace][trace][seed].keys():\n",
    "#             print(\"key: {}\".format(key))\n",
    "#             print(result[trace][trace][seed][key][\"average_kldivergence\"])\n",
    "            try:\n",
    "                test_kldiv.append(-result[trace][trace][seed][key][\"average_loglikelihood\"])\n",
    "            except IndexError:\n",
    "                continue\n",
    "        \n",
    "        average_kldiv = np.mean(test_kldiv)\n",
    "#         print(\"Kl divergence: {}\".format(average_kldiv))\n",
    "        \n",
    "        length_list.append(trace_length_dict[trace.split('.p')[0]][0])\n",
    "        avgkl_list.append(average_kldiv)\n",
    "    \n",
    "    sort_ids = np.argsort(length_list)\n",
    "#     print(sort_ids)\n",
    "    \n",
    "    plt.plot(np.array(length_list)[sort_ids], \n",
    "                np.array(avgkl_list)[sort_ids], \n",
    "                label=\"seed: {}\".format(seed))\n",
    "\n",
    "plt.legend()\n",
    "plt.xlabel(\"length(log scale)\")\n",
    "plt.xscale(\"log\")\n",
    "plt.ylabel(\"average log likelihood\")\n",
    "plt.title(\"Dependence of trace length on self predictability of traces\")\n",
    "# plt.show()\n",
    "plt.savefig(\"trace_correlation.png\")"
   ]
  },
  {
   "cell_type": "markdown",
   "metadata": {},
   "source": [
    "## pmd-default only"
   ]
  },
  {
   "cell_type": "code",
   "execution_count": null,
   "metadata": {},
   "outputs": [],
   "source": []
  },
  {
   "cell_type": "code",
   "execution_count": 94,
   "metadata": {},
   "outputs": [
    {
     "data": {
      "text/plain": [
       "['pmd-default-JikesRVM-d-l64-p4096-w100000i.analyzed-1.pkl',\n",
       " 'pmd-default-J9-d-l64-p4096-w100000i.analyzed-1.pkl',\n",
       " 'pmd-default-HotSpot-d-l64-p4096-w100000i.analyzed-1.pkl']"
      ]
     },
     "execution_count": 94,
     "metadata": {},
     "output_type": "execute_result"
    }
   ],
   "source": [
    "trace_list_default = [ trace for trace in trace_list if trace.find('default') != -1 ]\n",
    "\n",
    "trace_list_default"
   ]
  },
  {
   "cell_type": "code",
   "execution_count": 95,
   "metadata": {},
   "outputs": [],
   "source": [
    "trace_metric.get_metrics(result, trace_list_default, seeds, filename='kldiv_pmd_default.csv', \n",
    "                         compute_heatmap=False)\n",
    "trace_metric.get_metrics(result, trace_list_default, seeds, filename='nll_pmd_default.csv', \n",
    "            compute_heatmap=False, metric=\"avg_trace_loglikelihood\")"
   ]
  },
  {
   "cell_type": "markdown",
   "metadata": {},
   "source": [
    "### Kl Divergence"
   ]
  },
  {
   "cell_type": "code",
   "execution_count": 137,
   "metadata": {},
   "outputs": [
    {
     "name": "stdout",
     "output_type": "stream",
     "text": [
      "['jython-default-JikesRVM-d-l64-p4096-w100000i.analyzed-1.pkl'\n",
      " 'jython-default-HotSpot-d-l64-p4096-w100000i.analyzed-1.pkl'\n",
      " 'jython-default-J9-d-l64-p4096-w100000i.analyzed-1.pkl']\n",
      "[ 734705  749053 1289061]\n"
     ]
    },
    {
     "data": {
      "text/html": [
       "<div>\n",
       "<style scoped>\n",
       "    .dataframe tbody tr th:only-of-type {\n",
       "        vertical-align: middle;\n",
       "    }\n",
       "\n",
       "    .dataframe tbody tr th {\n",
       "        vertical-align: top;\n",
       "    }\n",
       "\n",
       "    .dataframe thead th {\n",
       "        text-align: right;\n",
       "    }\n",
       "</style>\n",
       "<table border=\"1\" class=\"dataframe\">\n",
       "  <thead>\n",
       "    <tr style=\"text-align: right;\">\n",
       "      <th></th>\n",
       "      <th>train|test</th>\n",
       "      <th>jython-default-J9</th>\n",
       "      <th>jython-default-HotSpot</th>\n",
       "      <th>jython-default-JikesRVM</th>\n",
       "    </tr>\n",
       "  </thead>\n",
       "  <tbody>\n",
       "    <tr>\n",
       "      <th>0</th>\n",
       "      <td>jython-default-J9</td>\n",
       "      <td>nan | nan</td>\n",
       "      <td>0.4226 | 0.0283</td>\n",
       "      <td>0.3077 | 0.0353</td>\n",
       "    </tr>\n",
       "    <tr>\n",
       "      <th>1</th>\n",
       "      <td>jython-default-HotSpot</td>\n",
       "      <td>0.2492 | 0.0295</td>\n",
       "      <td>nan | nan</td>\n",
       "      <td>0.3157 | 0.0306</td>\n",
       "    </tr>\n",
       "    <tr>\n",
       "      <th>2</th>\n",
       "      <td>jython-default-JikesRVM</td>\n",
       "      <td>0.2690 | 0.0253</td>\n",
       "      <td>0.4479 | 0.0307</td>\n",
       "      <td>nan | nan</td>\n",
       "    </tr>\n",
       "  </tbody>\n",
       "</table>\n",
       "</div>"
      ],
      "text/plain": [
       "                train|test  jython-default-J9  jython-default-HotSpot  \\\n",
       "0        jython-default-J9          nan | nan         0.4226 | 0.0283   \n",
       "1   jython-default-HotSpot    0.2492 | 0.0295               nan | nan   \n",
       "2  jython-default-JikesRVM    0.2690 | 0.0253         0.4479 | 0.0307   \n",
       "\n",
       "   jython-default-JikesRVM  \n",
       "0          0.3077 | 0.0353  \n",
       "1          0.3157 | 0.0306  \n",
       "2                nan | nan  "
      ]
     },
     "execution_count": 137,
     "metadata": {},
     "output_type": "execute_result"
    }
   ],
   "source": [
    "df = pd.read_csv('test_configs/results/kldiv_pmd_default.csv')\n",
    "\n",
    "trace_list = []\n",
    "len_list = []\n",
    "\n",
    "for trace in trace_list_default:\n",
    "    trace_list.append(trace)\n",
    "    len_list.append(trace_length_dict[trace.split('.p')[0]][0])\n",
    "\n",
    "indices = np.argsort(len_list)\n",
    "print(np.array(trace_list)[indices])\n",
    "print(np.array(len_list)[indices])\n",
    "\n",
    "df"
   ]
  },
  {
   "cell_type": "markdown",
   "metadata": {},
   "source": [
    "### negative Log likelihood"
   ]
  },
  {
   "cell_type": "code",
   "execution_count": 97,
   "metadata": {},
   "outputs": [
    {
     "data": {
      "text/html": [
       "<div>\n",
       "<style scoped>\n",
       "    .dataframe tbody tr th:only-of-type {\n",
       "        vertical-align: middle;\n",
       "    }\n",
       "\n",
       "    .dataframe tbody tr th {\n",
       "        vertical-align: top;\n",
       "    }\n",
       "\n",
       "    .dataframe thead th {\n",
       "        text-align: right;\n",
       "    }\n",
       "</style>\n",
       "<table border=\"1\" class=\"dataframe\">\n",
       "  <thead>\n",
       "    <tr style=\"text-align: right;\">\n",
       "      <th></th>\n",
       "      <th>train|test</th>\n",
       "      <th>pmd-default-JikesRVM</th>\n",
       "      <th>pmd-default-J9</th>\n",
       "      <th>pmd-default-HotSpot</th>\n",
       "    </tr>\n",
       "  </thead>\n",
       "  <tbody>\n",
       "    <tr>\n",
       "      <th>0</th>\n",
       "      <td>pmd-default-JikesRVM</td>\n",
       "      <td>nan | nan</td>\n",
       "      <td>2.8001 | 0.0415</td>\n",
       "      <td>2.7763 | 0.0124</td>\n",
       "    </tr>\n",
       "    <tr>\n",
       "      <th>1</th>\n",
       "      <td>pmd-default-J9</td>\n",
       "      <td>2.9062 | 0.0355</td>\n",
       "      <td>nan | nan</td>\n",
       "      <td>2.6909 | 0.0169</td>\n",
       "    </tr>\n",
       "    <tr>\n",
       "      <th>2</th>\n",
       "      <td>pmd-default-HotSpot</td>\n",
       "      <td>3.0684 | 0.0887</td>\n",
       "      <td>2.7437 | 0.0558</td>\n",
       "      <td>nan | nan</td>\n",
       "    </tr>\n",
       "  </tbody>\n",
       "</table>\n",
       "</div>"
      ],
      "text/plain": [
       "             train|test  pmd-default-JikesRVM    pmd-default-J9  \\\n",
       "0  pmd-default-JikesRVM             nan | nan   2.8001 | 0.0415   \n",
       "1        pmd-default-J9       2.9062 | 0.0355         nan | nan   \n",
       "2   pmd-default-HotSpot       3.0684 | 0.0887   2.7437 | 0.0558   \n",
       "\n",
       "   pmd-default-HotSpot  \n",
       "0      2.7763 | 0.0124  \n",
       "1      2.6909 | 0.0169  \n",
       "2            nan | nan  "
      ]
     },
     "execution_count": 97,
     "metadata": {},
     "output_type": "execute_result"
    }
   ],
   "source": [
    "df = pd.read_csv('test_configs/results/nll_pmd_default.csv')\n",
    "\n",
    "df"
   ]
  },
  {
   "cell_type": "markdown",
   "metadata": {},
   "source": [
    "### NLL"
   ]
  },
  {
   "cell_type": "code",
   "execution_count": 98,
   "metadata": {},
   "outputs": [
    {
     "data": {
      "text/html": [
       "<div>\n",
       "<style scoped>\n",
       "    .dataframe tbody tr th:only-of-type {\n",
       "        vertical-align: middle;\n",
       "    }\n",
       "\n",
       "    .dataframe tbody tr th {\n",
       "        vertical-align: top;\n",
       "    }\n",
       "\n",
       "    .dataframe thead th {\n",
       "        text-align: right;\n",
       "    }\n",
       "</style>\n",
       "<table border=\"1\" class=\"dataframe\">\n",
       "  <thead>\n",
       "    <tr style=\"text-align: right;\">\n",
       "      <th></th>\n",
       "      <th>train|test</th>\n",
       "      <th>pmd-default-JikesRVM</th>\n",
       "      <th>pmd-default-J9</th>\n",
       "      <th>pmd-default-HotSpot</th>\n",
       "    </tr>\n",
       "  </thead>\n",
       "  <tbody>\n",
       "    <tr>\n",
       "      <th>0</th>\n",
       "      <td>pmd-default-JikesRVM</td>\n",
       "      <td>0.0004 | 0.0001</td>\n",
       "      <td>0.0025 | 0.0008</td>\n",
       "      <td>0.0031 | 0.0002</td>\n",
       "    </tr>\n",
       "    <tr>\n",
       "      <th>1</th>\n",
       "      <td>pmd-default-J9</td>\n",
       "      <td>0.0004 | 0.0001</td>\n",
       "      <td>0.0023 | 0.0007</td>\n",
       "      <td>0.0028 | 0.0002</td>\n",
       "    </tr>\n",
       "    <tr>\n",
       "      <th>2</th>\n",
       "      <td>pmd-default-HotSpot</td>\n",
       "      <td>0.0004 | 0.0001</td>\n",
       "      <td>0.0024 | 0.0007</td>\n",
       "      <td>0.0029 | 0.0001</td>\n",
       "    </tr>\n",
       "  </tbody>\n",
       "</table>\n",
       "</div>"
      ],
      "text/plain": [
       "             train|test  pmd-default-JikesRVM    pmd-default-J9  \\\n",
       "0  pmd-default-JikesRVM       0.0004 | 0.0001   0.0025 | 0.0008   \n",
       "1        pmd-default-J9       0.0004 | 0.0001   0.0023 | 0.0007   \n",
       "2   pmd-default-HotSpot       0.0004 | 0.0001   0.0024 | 0.0007   \n",
       "\n",
       "   pmd-default-HotSpot  \n",
       "0      0.0031 | 0.0002  \n",
       "1      0.0028 | 0.0002  \n",
       "2      0.0029 | 0.0001  "
      ]
     },
     "execution_count": 98,
     "metadata": {},
     "output_type": "execute_result"
    }
   ],
   "source": [
    "df = pd.read_csv('test_configs/results/mse_pmd_default.csv')\n",
    "\n",
    "df"
   ]
  },
  {
   "cell_type": "markdown",
   "metadata": {},
   "source": [
    "## pmd-small"
   ]
  },
  {
   "cell_type": "code",
   "execution_count": 99,
   "metadata": {},
   "outputs": [
    {
     "data": {
      "text/plain": [
       "['pmd-small-HotSpot-d-l64-p4096-w100000i.analyzed-1.pkl',\n",
       " 'pmd-small-JikesRVM-d-l64-p4096-w100000i.analyzed-1.pkl',\n",
       " 'pmd-small-J9-d-l64-p4096-w100000i.analyzed-1.pkl']"
      ]
     },
     "execution_count": 99,
     "metadata": {},
     "output_type": "execute_result"
    }
   ],
   "source": [
    "trace_list_small = [ trace for trace in trace_list if trace.find('small') != -1 ]\n",
    "\n",
    "trace_list_small"
   ]
  },
  {
   "cell_type": "code",
   "execution_count": 100,
   "metadata": {},
   "outputs": [],
   "source": [
    "trace_metric.get_metrics(result, trace_list_small, seeds, filename='kldiv_pmd_small.csv', \n",
    "                         compute_heatmap=False)"
   ]
  },
  {
   "cell_type": "code",
   "execution_count": 138,
   "metadata": {},
   "outputs": [
    {
     "name": "stdout",
     "output_type": "stream",
     "text": [
      "['jython-small-JikesRVM-d-l64-p4096-w100000i.analyzed-1.pkl'\n",
      " 'jython-small-HotSpot-d-l64-p4096-w100000i.analyzed-1.pkl'\n",
      " 'jython-small-J9-d-l64-p4096-w100000i.analyzed-1.pkl']\n",
      "[171048 216840 544092]\n"
     ]
    },
    {
     "data": {
      "text/html": [
       "<div>\n",
       "<style scoped>\n",
       "    .dataframe tbody tr th:only-of-type {\n",
       "        vertical-align: middle;\n",
       "    }\n",
       "\n",
       "    .dataframe tbody tr th {\n",
       "        vertical-align: top;\n",
       "    }\n",
       "\n",
       "    .dataframe thead th {\n",
       "        text-align: right;\n",
       "    }\n",
       "</style>\n",
       "<table border=\"1\" class=\"dataframe\">\n",
       "  <thead>\n",
       "    <tr style=\"text-align: right;\">\n",
       "      <th></th>\n",
       "      <th>train|test</th>\n",
       "      <th>jython-small-J9</th>\n",
       "      <th>jython-small-HotSpot</th>\n",
       "      <th>jython-small-JikesRVM</th>\n",
       "    </tr>\n",
       "  </thead>\n",
       "  <tbody>\n",
       "    <tr>\n",
       "      <th>0</th>\n",
       "      <td>jython-small-J9</td>\n",
       "      <td>nan | nan</td>\n",
       "      <td>0.3656 | 0.0314</td>\n",
       "      <td>0.9804 | 0.0922</td>\n",
       "    </tr>\n",
       "    <tr>\n",
       "      <th>1</th>\n",
       "      <td>jython-small-HotSpot</td>\n",
       "      <td>0.2558 | 0.0305</td>\n",
       "      <td>nan | nan</td>\n",
       "      <td>0.8592 | 0.1183</td>\n",
       "    </tr>\n",
       "    <tr>\n",
       "      <th>2</th>\n",
       "      <td>jython-small-JikesRVM</td>\n",
       "      <td>0.2920 | 0.0378</td>\n",
       "      <td>0.4086 | 0.0274</td>\n",
       "      <td>nan | nan</td>\n",
       "    </tr>\n",
       "  </tbody>\n",
       "</table>\n",
       "</div>"
      ],
      "text/plain": [
       "              train|test   jython-small-J9  jython-small-HotSpot  \\\n",
       "0        jython-small-J9         nan | nan       0.3656 | 0.0314   \n",
       "1   jython-small-HotSpot   0.2558 | 0.0305             nan | nan   \n",
       "2  jython-small-JikesRVM   0.2920 | 0.0378       0.4086 | 0.0274   \n",
       "\n",
       "   jython-small-JikesRVM  \n",
       "0        0.9804 | 0.0922  \n",
       "1        0.8592 | 0.1183  \n",
       "2              nan | nan  "
      ]
     },
     "execution_count": 138,
     "metadata": {},
     "output_type": "execute_result"
    }
   ],
   "source": [
    "df = pd.read_csv('test_configs/results/kldiv_pmd_small.csv')\n",
    "\n",
    "trace_list = []\n",
    "len_list = []\n",
    "\n",
    "for trace in trace_list_small:\n",
    "    trace_list.append(trace)\n",
    "    len_list.append(trace_length_dict[trace.split('.p')[0]][0])\n",
    "\n",
    "indices = np.argsort(len_list)\n",
    "print(np.array(trace_list)[indices])\n",
    "print(np.array(len_list)[indices])\n",
    "\n",
    "df"
   ]
  },
  {
   "cell_type": "markdown",
   "metadata": {},
   "source": [
    "## pmd with Hotspot only"
   ]
  },
  {
   "cell_type": "code",
   "execution_count": 102,
   "metadata": {},
   "outputs": [
    {
     "data": {
      "text/plain": [
       "['pmd-small-HotSpot-d-l64-p4096-w100000i.analyzed-1.pkl',\n",
       " 'pmd-default-HotSpot-d-l64-p4096-w100000i.analyzed-1.pkl']"
      ]
     },
     "execution_count": 102,
     "metadata": {},
     "output_type": "execute_result"
    }
   ],
   "source": [
    "trace_list_hotspot = [ trace for trace in trace_list if trace.find('HotSpot') != -1 ]\n",
    "\n",
    "trace_list_hotspot"
   ]
  },
  {
   "cell_type": "code",
   "execution_count": 103,
   "metadata": {},
   "outputs": [],
   "source": [
    "trace_metric.get_metrics(result, trace_list_hotspot, seeds, filename='kldiv_pmd_Hotspot.csv', \n",
    "                         compute_heatmap=False)\n",
    "trace_metric.get_metrics(result, trace_list_hotspot, seeds, filename='nll_pmd_Hotspot.csv',\n",
    "           metric=\"avg_trace_loglikelihood\", compute_heatmap=False)"
   ]
  },
  {
   "cell_type": "markdown",
   "metadata": {},
   "source": [
    "### KL Divergence"
   ]
  },
  {
   "cell_type": "code",
   "execution_count": 139,
   "metadata": {},
   "outputs": [
    {
     "name": "stdout",
     "output_type": "stream",
     "text": [
      "['jython-small-HotSpot-d-l64-p4096-w100000i.analyzed-1.pkl'\n",
      " 'jython-default-HotSpot-d-l64-p4096-w100000i.analyzed-1.pkl']\n",
      "[216840 749053]\n"
     ]
    },
    {
     "data": {
      "text/html": [
       "<div>\n",
       "<style scoped>\n",
       "    .dataframe tbody tr th:only-of-type {\n",
       "        vertical-align: middle;\n",
       "    }\n",
       "\n",
       "    .dataframe tbody tr th {\n",
       "        vertical-align: top;\n",
       "    }\n",
       "\n",
       "    .dataframe thead th {\n",
       "        text-align: right;\n",
       "    }\n",
       "</style>\n",
       "<table border=\"1\" class=\"dataframe\">\n",
       "  <thead>\n",
       "    <tr style=\"text-align: right;\">\n",
       "      <th></th>\n",
       "      <th>train|test</th>\n",
       "      <th>jython-default-HotSpot</th>\n",
       "      <th>jython-small-HotSpot</th>\n",
       "    </tr>\n",
       "  </thead>\n",
       "  <tbody>\n",
       "    <tr>\n",
       "      <th>0</th>\n",
       "      <td>jython-default-HotSpot</td>\n",
       "      <td>nan | nan</td>\n",
       "      <td>0.3490 | 0.0320</td>\n",
       "    </tr>\n",
       "    <tr>\n",
       "      <th>1</th>\n",
       "      <td>jython-small-HotSpot</td>\n",
       "      <td>0.3973 | 0.0309</td>\n",
       "      <td>nan | nan</td>\n",
       "    </tr>\n",
       "  </tbody>\n",
       "</table>\n",
       "</div>"
      ],
      "text/plain": [
       "               train|test  jython-default-HotSpot  jython-small-HotSpot\n",
       "0  jython-default-HotSpot               nan | nan       0.3490 | 0.0320\n",
       "1    jython-small-HotSpot         0.3973 | 0.0309             nan | nan"
      ]
     },
     "execution_count": 139,
     "metadata": {},
     "output_type": "execute_result"
    }
   ],
   "source": [
    "df = pd.read_csv('test_configs/results/kldiv_pmd_Hotspot.csv')\n",
    "\n",
    "trace_list = []\n",
    "len_list = []\n",
    "\n",
    "for trace in trace_list_hotspot:\n",
    "    trace_list.append(trace)\n",
    "    len_list.append(trace_length_dict[trace.split('.p')[0]][0])\n",
    "\n",
    "indices = np.argsort(len_list)\n",
    "print(np.array(trace_list)[indices])\n",
    "print(np.array(len_list)[indices])\n",
    "\n",
    "df"
   ]
  },
  {
   "cell_type": "markdown",
   "metadata": {},
   "source": [
    "### MSE"
   ]
  },
  {
   "cell_type": "code",
   "execution_count": 105,
   "metadata": {},
   "outputs": [
    {
     "data": {
      "text/html": [
       "<div>\n",
       "<style scoped>\n",
       "    .dataframe tbody tr th:only-of-type {\n",
       "        vertical-align: middle;\n",
       "    }\n",
       "\n",
       "    .dataframe tbody tr th {\n",
       "        vertical-align: top;\n",
       "    }\n",
       "\n",
       "    .dataframe thead th {\n",
       "        text-align: right;\n",
       "    }\n",
       "</style>\n",
       "<table border=\"1\" class=\"dataframe\">\n",
       "  <thead>\n",
       "    <tr style=\"text-align: right;\">\n",
       "      <th></th>\n",
       "      <th>train|test</th>\n",
       "      <th>pmd-small-HotSpot</th>\n",
       "      <th>pmd-default-HotSpot</th>\n",
       "    </tr>\n",
       "  </thead>\n",
       "  <tbody>\n",
       "    <tr>\n",
       "      <th>0</th>\n",
       "      <td>pmd-small-HotSpot</td>\n",
       "      <td>nan | nan</td>\n",
       "      <td>2.6821 | 0.0168</td>\n",
       "    </tr>\n",
       "    <tr>\n",
       "      <th>1</th>\n",
       "      <td>pmd-default-HotSpot</td>\n",
       "      <td>3.0346 | 0.3963</td>\n",
       "      <td>nan | nan</td>\n",
       "    </tr>\n",
       "  </tbody>\n",
       "</table>\n",
       "</div>"
      ],
      "text/plain": [
       "            train|test  pmd-small-HotSpot  pmd-default-HotSpot\n",
       "0    pmd-small-HotSpot          nan | nan      2.6821 | 0.0168\n",
       "1  pmd-default-HotSpot    3.0346 | 0.3963            nan | nan"
      ]
     },
     "execution_count": 105,
     "metadata": {},
     "output_type": "execute_result"
    }
   ],
   "source": [
    "df = pd.read_csv('test_configs/results/nll_pmd_Hotspot.csv')\n",
    "\n",
    "df"
   ]
  },
  {
   "cell_type": "code",
   "execution_count": null,
   "metadata": {},
   "outputs": [],
   "source": []
  },
  {
   "cell_type": "markdown",
   "metadata": {},
   "source": [
    "## pmd with J9"
   ]
  },
  {
   "cell_type": "code",
   "execution_count": 106,
   "metadata": {},
   "outputs": [
    {
     "data": {
      "text/plain": [
       "['pmd-small-J9-d-l64-p4096-w100000i.analyzed-1.pkl',\n",
       " 'pmd-default-J9-d-l64-p4096-w100000i.analyzed-1.pkl']"
      ]
     },
     "execution_count": 106,
     "metadata": {},
     "output_type": "execute_result"
    }
   ],
   "source": [
    "trace_list_j9 = [ trace for trace in trace_list if trace.find('J9') != -1 ]\n",
    "\n",
    "trace_list_j9"
   ]
  },
  {
   "cell_type": "code",
   "execution_count": 107,
   "metadata": {},
   "outputs": [],
   "source": [
    "trace_metric.get_metrics(result, trace_list_j9, seeds, filename='kldiv_pmd_j9.csv',\n",
    "                         compute_heatmap=False)"
   ]
  },
  {
   "cell_type": "code",
   "execution_count": 108,
   "metadata": {},
   "outputs": [
    {
     "data": {
      "text/html": [
       "<div>\n",
       "<style scoped>\n",
       "    .dataframe tbody tr th:only-of-type {\n",
       "        vertical-align: middle;\n",
       "    }\n",
       "\n",
       "    .dataframe tbody tr th {\n",
       "        vertical-align: top;\n",
       "    }\n",
       "\n",
       "    .dataframe thead th {\n",
       "        text-align: right;\n",
       "    }\n",
       "</style>\n",
       "<table border=\"1\" class=\"dataframe\">\n",
       "  <thead>\n",
       "    <tr style=\"text-align: right;\">\n",
       "      <th></th>\n",
       "      <th>train|test</th>\n",
       "      <th>pmd-small-J9</th>\n",
       "      <th>pmd-default-J9</th>\n",
       "    </tr>\n",
       "  </thead>\n",
       "  <tbody>\n",
       "    <tr>\n",
       "      <th>0</th>\n",
       "      <td>pmd-small-J9</td>\n",
       "      <td>nan | nan</td>\n",
       "      <td>0.2989 | 0.0731</td>\n",
       "    </tr>\n",
       "    <tr>\n",
       "      <th>1</th>\n",
       "      <td>pmd-default-J9</td>\n",
       "      <td>0.3921 | 0.0520</td>\n",
       "      <td>nan | nan</td>\n",
       "    </tr>\n",
       "  </tbody>\n",
       "</table>\n",
       "</div>"
      ],
      "text/plain": [
       "       train|test      pmd-small-J9    pmd-default-J9\n",
       "0    pmd-small-J9         nan | nan   0.2989 | 0.0731\n",
       "1  pmd-default-J9   0.3921 | 0.0520         nan | nan"
      ]
     },
     "execution_count": 108,
     "metadata": {},
     "output_type": "execute_result"
    }
   ],
   "source": [
    "df = pd.read_csv('test_configs/results/kldiv_pmd_j9.csv')\n",
    "\n",
    "df"
   ]
  },
  {
   "cell_type": "markdown",
   "metadata": {},
   "source": [
    "## pmd with JikesRVM"
   ]
  },
  {
   "cell_type": "code",
   "execution_count": 109,
   "metadata": {
    "scrolled": true
   },
   "outputs": [
    {
     "data": {
      "text/plain": [
       "['pmd-default-JikesRVM-d-l64-p4096-w100000i.analyzed-1.pkl',\n",
       " 'pmd-small-JikesRVM-d-l64-p4096-w100000i.analyzed-1.pkl']"
      ]
     },
     "execution_count": 109,
     "metadata": {},
     "output_type": "execute_result"
    }
   ],
   "source": [
    "trace_list_jikes = [ trace for trace in trace_list if trace.find('JikesRVM') != -1 ]\n",
    "\n",
    "trace_list_jikes"
   ]
  },
  {
   "cell_type": "code",
   "execution_count": 110,
   "metadata": {},
   "outputs": [],
   "source": [
    "trace_metric.get_metrics(result, trace_list_jikes, seeds, filename='kldiv_pmd_jikes.csv', compute_heatmap=False)"
   ]
  },
  {
   "cell_type": "code",
   "execution_count": 111,
   "metadata": {},
   "outputs": [
    {
     "data": {
      "text/html": [
       "<div>\n",
       "<style scoped>\n",
       "    .dataframe tbody tr th:only-of-type {\n",
       "        vertical-align: middle;\n",
       "    }\n",
       "\n",
       "    .dataframe tbody tr th {\n",
       "        vertical-align: top;\n",
       "    }\n",
       "\n",
       "    .dataframe thead th {\n",
       "        text-align: right;\n",
       "    }\n",
       "</style>\n",
       "<table border=\"1\" class=\"dataframe\">\n",
       "  <thead>\n",
       "    <tr style=\"text-align: right;\">\n",
       "      <th></th>\n",
       "      <th>train|test</th>\n",
       "      <th>pmd-default-JikesRVM</th>\n",
       "      <th>pmd-small-JikesRVM</th>\n",
       "    </tr>\n",
       "  </thead>\n",
       "  <tbody>\n",
       "    <tr>\n",
       "      <th>0</th>\n",
       "      <td>pmd-default-JikesRVM</td>\n",
       "      <td>nan | nan</td>\n",
       "      <td>1.5755 | 0.1453</td>\n",
       "    </tr>\n",
       "    <tr>\n",
       "      <th>1</th>\n",
       "      <td>pmd-small-JikesRVM</td>\n",
       "      <td>0.4239 | 0.0321</td>\n",
       "      <td>nan | nan</td>\n",
       "    </tr>\n",
       "  </tbody>\n",
       "</table>\n",
       "</div>"
      ],
      "text/plain": [
       "             train|test  pmd-default-JikesRVM  pmd-small-JikesRVM\n",
       "0  pmd-default-JikesRVM             nan | nan     1.5755 | 0.1453\n",
       "1    pmd-small-JikesRVM       0.4239 | 0.0321           nan | nan"
      ]
     },
     "execution_count": 111,
     "metadata": {},
     "output_type": "execute_result"
    }
   ],
   "source": [
    "df = pd.read_csv('test_configs/results/kldiv_pmd_jikes.csv')\n",
    "\n",
    "df"
   ]
  },
  {
   "cell_type": "markdown",
   "metadata": {},
   "source": [
    "# LUINDEX"
   ]
  },
  {
   "cell_type": "code",
   "execution_count": 140,
   "metadata": {},
   "outputs": [],
   "source": [
    "seeds = [1, 3, 6, 9]\n",
    "\n",
    "result = {}\n",
    "\n",
    "with open('test_configs/results/result_5811256.pkl', 'rb') as f:\n",
    "    result = pkl.load(f)\n",
    "    \n",
    "trace_list = result.keys()"
   ]
  },
  {
   "cell_type": "code",
   "execution_count": 141,
   "metadata": {},
   "outputs": [
    {
     "data": {
      "image/png": "[encoded data removed]",
      "text/plain": [
       "<Figure size 432x288 with 1 Axes>"
      ]
     },
     "metadata": {
      "needs_background": "light"
     },
     "output_type": "display_data"
    }
   ],
   "source": [
    "for seed in seeds:\n",
    "    length_list = []\n",
    "    avgkl_list = []\n",
    "#     print(\"Seed: {}\".format(seed))\n",
    "    for trace in trace_list:\n",
    "#         print(\"Trace: {}\".format(trace))\n",
    "        \n",
    "        test_kldiv = []\n",
    "        \n",
    "#         print(result[trace][trace][seed].keys())\n",
    "        \n",
    "        for key in result[trace][trace][seed].keys():\n",
    "#             print(\"key: {}\".format(key))\n",
    "#             print(result[trace][trace][seed][key][\"average_kldivergence\"])\n",
    "            try:\n",
    "                test_kldiv.append(-result[trace][trace][seed][key][\"average_loglikelihood\"])\n",
    "            except IndexError:\n",
    "                continue\n",
    "        \n",
    "        average_kldiv = np.mean(test_kldiv)\n",
    "#         print(\"Kl divergence: {}\".format(average_kldiv))\n",
    "        \n",
    "        length_list.append(trace_length_dict[trace.split('.p')[0]][0])\n",
    "        avgkl_list.append(average_kldiv)\n",
    "    \n",
    "    sort_ids = np.argsort(length_list)\n",
    "#     print(sort_ids)\n",
    "    \n",
    "    plt.plot(np.array(length_list)[sort_ids], \n",
    "                np.array(avgkl_list)[sort_ids], \n",
    "                label=\"seed: {}\".format(seed))\n",
    "\n",
    "plt.legend()\n",
    "plt.xlabel(\"length(log scale)\")\n",
    "plt.xscale(\"log\")\n",
    "plt.ylabel(\"average log likelihood\")\n",
    "plt.title(\"Dependence of trace length on self predictability of traces\")\n",
    "# plt.show()\n",
    "plt.savefig(\"trace_correlation.png\")"
   ]
  },
  {
   "cell_type": "markdown",
   "metadata": {},
   "source": [
    "## luindex-default only"
   ]
  },
  {
   "cell_type": "code",
   "execution_count": null,
   "metadata": {},
   "outputs": [],
   "source": []
  },
  {
   "cell_type": "code",
   "execution_count": 142,
   "metadata": {},
   "outputs": [
    {
     "data": {
      "text/plain": [
       "['jython-default-J9-d-l64-p4096-w100000i.analyzed-1.pkl',\n",
       " 'jython-default-HotSpot-d-l64-p4096-w100000i.analyzed-1.pkl',\n",
       " 'jython-default-JikesRVM-d-l64-p4096-w100000i.analyzed-1.pkl']"
      ]
     },
     "execution_count": 142,
     "metadata": {},
     "output_type": "execute_result"
    }
   ],
   "source": [
    "trace_list_default = [ trace for trace in trace_list if trace.find('default') != -1 ]\n",
    "\n",
    "trace_list_default"
   ]
  },
  {
   "cell_type": "code",
   "execution_count": 143,
   "metadata": {},
   "outputs": [
    {
     "name": "stderr",
     "output_type": "stream",
     "text": [
      "/home/arjun/anaconda2/envs/cache_analysis/lib/python3.7/site-packages/numpy/core/fromnumeric.py:3118: RuntimeWarning: Mean of empty slice.\n",
      "  out=out, **kwargs)\n",
      "/home/arjun/anaconda2/envs/cache_analysis/lib/python3.7/site-packages/numpy/core/_methods.py:85: RuntimeWarning: invalid value encountered in double_scalars\n",
      "  ret = ret.dtype.type(ret / rcount)\n",
      "/home/arjun/anaconda2/envs/cache_analysis/lib/python3.7/site-packages/numpy/core/_methods.py:140: RuntimeWarning: Degrees of freedom <= 0 for slice\n",
      "  keepdims=keepdims)\n",
      "/home/arjun/anaconda2/envs/cache_analysis/lib/python3.7/site-packages/numpy/core/_methods.py:110: RuntimeWarning: invalid value encountered in true_divide\n",
      "  arrmean, rcount, out=arrmean, casting='unsafe', subok=False)\n",
      "/home/arjun/anaconda2/envs/cache_analysis/lib/python3.7/site-packages/numpy/core/_methods.py:132: RuntimeWarning: invalid value encountered in double_scalars\n",
      "  ret = ret.dtype.type(ret / rcount)\n"
     ]
    }
   ],
   "source": [
    "trace_metric.get_metrics(result, trace_list_default, seeds, filename='kldiv_pmd_default.csv', \n",
    "                         compute_heatmap=False)\n",
    "trace_metric.get_metrics(result, trace_list_default, seeds, filename='nll_pmd_default.csv', \n",
    "            compute_heatmap=False, metric=\"avg_trace_loglikelihood\")"
   ]
  },
  {
   "cell_type": "markdown",
   "metadata": {},
   "source": [
    "### Kl Divergence"
   ]
  },
  {
   "cell_type": "code",
   "execution_count": 144,
   "metadata": {},
   "outputs": [
    {
     "name": "stdout",
     "output_type": "stream",
     "text": [
      "['jython-default-JikesRVM-d-l64-p4096-w100000i.analyzed-1.pkl'\n",
      " 'jython-default-HotSpot-d-l64-p4096-w100000i.analyzed-1.pkl'\n",
      " 'jython-default-J9-d-l64-p4096-w100000i.analyzed-1.pkl']\n",
      "[ 734705  749053 1289061]\n"
     ]
    },
    {
     "data": {
      "text/html": [
       "<div>\n",
       "<style scoped>\n",
       "    .dataframe tbody tr th:only-of-type {\n",
       "        vertical-align: middle;\n",
       "    }\n",
       "\n",
       "    .dataframe tbody tr th {\n",
       "        vertical-align: top;\n",
       "    }\n",
       "\n",
       "    .dataframe thead th {\n",
       "        text-align: right;\n",
       "    }\n",
       "</style>\n",
       "<table border=\"1\" class=\"dataframe\">\n",
       "  <thead>\n",
       "    <tr style=\"text-align: right;\">\n",
       "      <th></th>\n",
       "      <th>train|test</th>\n",
       "      <th>jython-default-J9</th>\n",
       "      <th>jython-default-HotSpot</th>\n",
       "      <th>jython-default-JikesRVM</th>\n",
       "    </tr>\n",
       "  </thead>\n",
       "  <tbody>\n",
       "    <tr>\n",
       "      <th>0</th>\n",
       "      <td>jython-default-J9</td>\n",
       "      <td>nan | nan</td>\n",
       "      <td>0.4226 | 0.0283</td>\n",
       "      <td>0.3077 | 0.0353</td>\n",
       "    </tr>\n",
       "    <tr>\n",
       "      <th>1</th>\n",
       "      <td>jython-default-HotSpot</td>\n",
       "      <td>0.2492 | 0.0295</td>\n",
       "      <td>nan | nan</td>\n",
       "      <td>0.3157 | 0.0306</td>\n",
       "    </tr>\n",
       "    <tr>\n",
       "      <th>2</th>\n",
       "      <td>jython-default-JikesRVM</td>\n",
       "      <td>0.2690 | 0.0253</td>\n",
       "      <td>0.4479 | 0.0307</td>\n",
       "      <td>nan | nan</td>\n",
       "    </tr>\n",
       "  </tbody>\n",
       "</table>\n",
       "</div>"
      ],
      "text/plain": [
       "                train|test  jython-default-J9  jython-default-HotSpot  \\\n",
       "0        jython-default-J9          nan | nan         0.4226 | 0.0283   \n",
       "1   jython-default-HotSpot    0.2492 | 0.0295               nan | nan   \n",
       "2  jython-default-JikesRVM    0.2690 | 0.0253         0.4479 | 0.0307   \n",
       "\n",
       "   jython-default-JikesRVM  \n",
       "0          0.3077 | 0.0353  \n",
       "1          0.3157 | 0.0306  \n",
       "2                nan | nan  "
      ]
     },
     "execution_count": 144,
     "metadata": {},
     "output_type": "execute_result"
    }
   ],
   "source": [
    "df = pd.read_csv('test_configs/results/kldiv_pmd_default.csv')\n",
    "\n",
    "trace_list = []\n",
    "len_list = []\n",
    "\n",
    "for trace in trace_list_default:\n",
    "    trace_list.append(trace)\n",
    "    len_list.append(trace_length_dict[trace.split('.p')[0]][0])\n",
    "\n",
    "indices = np.argsort(len_list)\n",
    "print(np.array(trace_list)[indices])\n",
    "print(np.array(len_list)[indices])\n",
    "\n",
    "df"
   ]
  },
  {
   "cell_type": "markdown",
   "metadata": {},
   "source": [
    "### negative Log likelihood"
   ]
  },
  {
   "cell_type": "code",
   "execution_count": 145,
   "metadata": {},
   "outputs": [
    {
     "data": {
      "text/html": [
       "<div>\n",
       "<style scoped>\n",
       "    .dataframe tbody tr th:only-of-type {\n",
       "        vertical-align: middle;\n",
       "    }\n",
       "\n",
       "    .dataframe tbody tr th {\n",
       "        vertical-align: top;\n",
       "    }\n",
       "\n",
       "    .dataframe thead th {\n",
       "        text-align: right;\n",
       "    }\n",
       "</style>\n",
       "<table border=\"1\" class=\"dataframe\">\n",
       "  <thead>\n",
       "    <tr style=\"text-align: right;\">\n",
       "      <th></th>\n",
       "      <th>train|test</th>\n",
       "      <th>jython-default-J9</th>\n",
       "      <th>jython-default-HotSpot</th>\n",
       "      <th>jython-default-JikesRVM</th>\n",
       "    </tr>\n",
       "  </thead>\n",
       "  <tbody>\n",
       "    <tr>\n",
       "      <th>0</th>\n",
       "      <td>jython-default-J9</td>\n",
       "      <td>nan | nan</td>\n",
       "      <td>2.8811 | 0.0268</td>\n",
       "      <td>2.8142 | 0.0492</td>\n",
       "    </tr>\n",
       "    <tr>\n",
       "      <th>1</th>\n",
       "      <td>jython-default-HotSpot</td>\n",
       "      <td>2.7302 | 0.0311</td>\n",
       "      <td>nan | nan</td>\n",
       "      <td>2.8018 | 0.0305</td>\n",
       "    </tr>\n",
       "    <tr>\n",
       "      <th>2</th>\n",
       "      <td>jython-default-JikesRVM</td>\n",
       "      <td>2.7576 | 0.0292</td>\n",
       "      <td>2.9272 | 0.0290</td>\n",
       "      <td>nan | nan</td>\n",
       "    </tr>\n",
       "  </tbody>\n",
       "</table>\n",
       "</div>"
      ],
      "text/plain": [
       "                train|test  jython-default-J9  jython-default-HotSpot  \\\n",
       "0        jython-default-J9          nan | nan         2.8811 | 0.0268   \n",
       "1   jython-default-HotSpot    2.7302 | 0.0311               nan | nan   \n",
       "2  jython-default-JikesRVM    2.7576 | 0.0292         2.9272 | 0.0290   \n",
       "\n",
       "   jython-default-JikesRVM  \n",
       "0          2.8142 | 0.0492  \n",
       "1          2.8018 | 0.0305  \n",
       "2                nan | nan  "
      ]
     },
     "execution_count": 145,
     "metadata": {},
     "output_type": "execute_result"
    }
   ],
   "source": [
    "df = pd.read_csv('test_configs/results/nll_pmd_default.csv')\n",
    "\n",
    "df"
   ]
  },
  {
   "cell_type": "markdown",
   "metadata": {},
   "source": [
    "### NLL"
   ]
  },
  {
   "cell_type": "code",
   "execution_count": 146,
   "metadata": {},
   "outputs": [
    {
     "data": {
      "text/html": [
       "<div>\n",
       "<style scoped>\n",
       "    .dataframe tbody tr th:only-of-type {\n",
       "        vertical-align: middle;\n",
       "    }\n",
       "\n",
       "    .dataframe tbody tr th {\n",
       "        vertical-align: top;\n",
       "    }\n",
       "\n",
       "    .dataframe thead th {\n",
       "        text-align: right;\n",
       "    }\n",
       "</style>\n",
       "<table border=\"1\" class=\"dataframe\">\n",
       "  <thead>\n",
       "    <tr style=\"text-align: right;\">\n",
       "      <th></th>\n",
       "      <th>train|test</th>\n",
       "      <th>pmd-default-JikesRVM</th>\n",
       "      <th>pmd-default-J9</th>\n",
       "      <th>pmd-default-HotSpot</th>\n",
       "    </tr>\n",
       "  </thead>\n",
       "  <tbody>\n",
       "    <tr>\n",
       "      <th>0</th>\n",
       "      <td>pmd-default-JikesRVM</td>\n",
       "      <td>0.0004 | 0.0001</td>\n",
       "      <td>0.0025 | 0.0008</td>\n",
       "      <td>0.0031 | 0.0002</td>\n",
       "    </tr>\n",
       "    <tr>\n",
       "      <th>1</th>\n",
       "      <td>pmd-default-J9</td>\n",
       "      <td>0.0004 | 0.0001</td>\n",
       "      <td>0.0023 | 0.0007</td>\n",
       "      <td>0.0028 | 0.0002</td>\n",
       "    </tr>\n",
       "    <tr>\n",
       "      <th>2</th>\n",
       "      <td>pmd-default-HotSpot</td>\n",
       "      <td>0.0004 | 0.0001</td>\n",
       "      <td>0.0024 | 0.0007</td>\n",
       "      <td>0.0029 | 0.0001</td>\n",
       "    </tr>\n",
       "  </tbody>\n",
       "</table>\n",
       "</div>"
      ],
      "text/plain": [
       "             train|test  pmd-default-JikesRVM    pmd-default-J9  \\\n",
       "0  pmd-default-JikesRVM       0.0004 | 0.0001   0.0025 | 0.0008   \n",
       "1        pmd-default-J9       0.0004 | 0.0001   0.0023 | 0.0007   \n",
       "2   pmd-default-HotSpot       0.0004 | 0.0001   0.0024 | 0.0007   \n",
       "\n",
       "   pmd-default-HotSpot  \n",
       "0      0.0031 | 0.0002  \n",
       "1      0.0028 | 0.0002  \n",
       "2      0.0029 | 0.0001  "
      ]
     },
     "execution_count": 146,
     "metadata": {},
     "output_type": "execute_result"
    }
   ],
   "source": [
    "df = pd.read_csv('test_configs/results/mse_pmd_default.csv')\n",
    "\n",
    "df"
   ]
  },
  {
   "cell_type": "markdown",
   "metadata": {},
   "source": [
    "## luindex-small"
   ]
  },
  {
   "cell_type": "code",
   "execution_count": 147,
   "metadata": {},
   "outputs": [
    {
     "data": {
      "text/plain": [
       "[]"
      ]
     },
     "execution_count": 147,
     "metadata": {},
     "output_type": "execute_result"
    }
   ],
   "source": [
    "trace_list_small = [ trace for trace in trace_list if trace.find('small') != -1 ]\n",
    "\n",
    "trace_list_small"
   ]
  },
  {
   "cell_type": "code",
   "execution_count": 148,
   "metadata": {},
   "outputs": [],
   "source": [
    "trace_metric.get_metrics(result, trace_list_small, seeds, filename='kldiv_pmd_small.csv', \n",
    "                         compute_heatmap=False)"
   ]
  },
  {
   "cell_type": "code",
   "execution_count": 149,
   "metadata": {},
   "outputs": [
    {
     "data": {
      "text/html": [
       "<div>\n",
       "<style scoped>\n",
       "    .dataframe tbody tr th:only-of-type {\n",
       "        vertical-align: middle;\n",
       "    }\n",
       "\n",
       "    .dataframe tbody tr th {\n",
       "        vertical-align: top;\n",
       "    }\n",
       "\n",
       "    .dataframe thead th {\n",
       "        text-align: right;\n",
       "    }\n",
       "</style>\n",
       "<table border=\"1\" class=\"dataframe\">\n",
       "  <thead>\n",
       "    <tr style=\"text-align: right;\">\n",
       "      <th></th>\n",
       "      <th>train|test</th>\n",
       "      <th>jython-small-J9</th>\n",
       "      <th>jython-small-HotSpot</th>\n",
       "      <th>jython-small-JikesRVM</th>\n",
       "    </tr>\n",
       "  </thead>\n",
       "  <tbody>\n",
       "    <tr>\n",
       "      <th>0</th>\n",
       "      <td>jython-small-J9</td>\n",
       "      <td>nan | nan</td>\n",
       "      <td>0.3656 | 0.0314</td>\n",
       "      <td>0.9804 | 0.0922</td>\n",
       "    </tr>\n",
       "    <tr>\n",
       "      <th>1</th>\n",
       "      <td>jython-small-HotSpot</td>\n",
       "      <td>0.2558 | 0.0305</td>\n",
       "      <td>nan | nan</td>\n",
       "      <td>0.8592 | 0.1183</td>\n",
       "    </tr>\n",
       "    <tr>\n",
       "      <th>2</th>\n",
       "      <td>jython-small-JikesRVM</td>\n",
       "      <td>0.2920 | 0.0378</td>\n",
       "      <td>0.4086 | 0.0274</td>\n",
       "      <td>nan | nan</td>\n",
       "    </tr>\n",
       "  </tbody>\n",
       "</table>\n",
       "</div>"
      ],
      "text/plain": [
       "              train|test   jython-small-J9  jython-small-HotSpot  \\\n",
       "0        jython-small-J9         nan | nan       0.3656 | 0.0314   \n",
       "1   jython-small-HotSpot   0.2558 | 0.0305             nan | nan   \n",
       "2  jython-small-JikesRVM   0.2920 | 0.0378       0.4086 | 0.0274   \n",
       "\n",
       "   jython-small-JikesRVM  \n",
       "0        0.9804 | 0.0922  \n",
       "1        0.8592 | 0.1183  \n",
       "2              nan | nan  "
      ]
     },
     "execution_count": 149,
     "metadata": {},
     "output_type": "execute_result"
    }
   ],
   "source": [
    "df = pd.read_csv('test_configs/results/kldiv_pmd_small.csv')\n",
    "\n",
    "df"
   ]
  },
  {
   "cell_type": "markdown",
   "metadata": {},
   "source": [
    "## luindex with Hotspot only"
   ]
  },
  {
   "cell_type": "code",
   "execution_count": 150,
   "metadata": {},
   "outputs": [
    {
     "data": {
      "text/plain": [
       "['jython-default-HotSpot-d-l64-p4096-w100000i.analyzed-1.pkl']"
      ]
     },
     "execution_count": 150,
     "metadata": {},
     "output_type": "execute_result"
    }
   ],
   "source": [
    "trace_list_hotspot = [ trace for trace in trace_list if trace.find('HotSpot') != -1 ]\n",
    "\n",
    "trace_list_hotspot"
   ]
  },
  {
   "cell_type": "code",
   "execution_count": 151,
   "metadata": {},
   "outputs": [],
   "source": [
    "trace_metric.get_metrics(result, trace_list_hotspot, seeds, filename='kldiv_pmd_Hotspot.csv', \n",
    "                         compute_heatmap=False)\n",
    "trace_metric.get_metrics(result, trace_list_hotspot, seeds, filename='nll_pmd_Hotspot.csv',\n",
    "           metric=\"avg_trace_loglikelihood\", compute_heatmap=False)"
   ]
  },
  {
   "cell_type": "markdown",
   "metadata": {},
   "source": [
    "### KL Divergence"
   ]
  },
  {
   "cell_type": "code",
   "execution_count": 152,
   "metadata": {},
   "outputs": [
    {
     "data": {
      "text/html": [
       "<div>\n",
       "<style scoped>\n",
       "    .dataframe tbody tr th:only-of-type {\n",
       "        vertical-align: middle;\n",
       "    }\n",
       "\n",
       "    .dataframe tbody tr th {\n",
       "        vertical-align: top;\n",
       "    }\n",
       "\n",
       "    .dataframe thead th {\n",
       "        text-align: right;\n",
       "    }\n",
       "</style>\n",
       "<table border=\"1\" class=\"dataframe\">\n",
       "  <thead>\n",
       "    <tr style=\"text-align: right;\">\n",
       "      <th></th>\n",
       "      <th>train|test</th>\n",
       "      <th>jython-default-HotSpot</th>\n",
       "    </tr>\n",
       "  </thead>\n",
       "  <tbody>\n",
       "    <tr>\n",
       "      <th>0</th>\n",
       "      <td>jython-default-HotSpot</td>\n",
       "      <td>nan | nan</td>\n",
       "    </tr>\n",
       "  </tbody>\n",
       "</table>\n",
       "</div>"
      ],
      "text/plain": [
       "               train|test  jython-default-HotSpot\n",
       "0  jython-default-HotSpot               nan | nan"
      ]
     },
     "execution_count": 152,
     "metadata": {},
     "output_type": "execute_result"
    }
   ],
   "source": [
    "df = pd.read_csv('test_configs/results/kldiv_pmd_Hotspot.csv')\n",
    "\n",
    "df"
   ]
  },
  {
   "cell_type": "markdown",
   "metadata": {},
   "source": [
    "### MSE"
   ]
  },
  {
   "cell_type": "code",
   "execution_count": 153,
   "metadata": {},
   "outputs": [
    {
     "data": {
      "text/html": [
       "<div>\n",
       "<style scoped>\n",
       "    .dataframe tbody tr th:only-of-type {\n",
       "        vertical-align: middle;\n",
       "    }\n",
       "\n",
       "    .dataframe tbody tr th {\n",
       "        vertical-align: top;\n",
       "    }\n",
       "\n",
       "    .dataframe thead th {\n",
       "        text-align: right;\n",
       "    }\n",
       "</style>\n",
       "<table border=\"1\" class=\"dataframe\">\n",
       "  <thead>\n",
       "    <tr style=\"text-align: right;\">\n",
       "      <th></th>\n",
       "      <th>train|test</th>\n",
       "      <th>jython-default-HotSpot</th>\n",
       "    </tr>\n",
       "  </thead>\n",
       "  <tbody>\n",
       "    <tr>\n",
       "      <th>0</th>\n",
       "      <td>jython-default-HotSpot</td>\n",
       "      <td>nan | nan</td>\n",
       "    </tr>\n",
       "  </tbody>\n",
       "</table>\n",
       "</div>"
      ],
      "text/plain": [
       "               train|test  jython-default-HotSpot\n",
       "0  jython-default-HotSpot               nan | nan"
      ]
     },
     "execution_count": 153,
     "metadata": {},
     "output_type": "execute_result"
    }
   ],
   "source": [
    "df = pd.read_csv('test_configs/results/nll_pmd_Hotspot.csv')\n",
    "\n",
    "df"
   ]
  },
  {
   "cell_type": "code",
   "execution_count": null,
   "metadata": {},
   "outputs": [],
   "source": []
  },
  {
   "cell_type": "markdown",
   "metadata": {},
   "source": [
    "## luindex with J9"
   ]
  },
  {
   "cell_type": "code",
   "execution_count": 154,
   "metadata": {},
   "outputs": [
    {
     "data": {
      "text/plain": [
       "['jython-default-J9-d-l64-p4096-w100000i.analyzed-1.pkl']"
      ]
     },
     "execution_count": 154,
     "metadata": {},
     "output_type": "execute_result"
    }
   ],
   "source": [
    "trace_list_j9 = [ trace for trace in trace_list if trace.find('J9') != -1 ]\n",
    "\n",
    "trace_list_j9"
   ]
  },
  {
   "cell_type": "code",
   "execution_count": 155,
   "metadata": {},
   "outputs": [],
   "source": [
    "trace_metric.get_metrics(result, trace_list_j9, seeds, filename='kldiv_pmd_j9.csv',\n",
    "                         compute_heatmap=False)"
   ]
  },
  {
   "cell_type": "code",
   "execution_count": 156,
   "metadata": {},
   "outputs": [
    {
     "data": {
      "text/html": [
       "<div>\n",
       "<style scoped>\n",
       "    .dataframe tbody tr th:only-of-type {\n",
       "        vertical-align: middle;\n",
       "    }\n",
       "\n",
       "    .dataframe tbody tr th {\n",
       "        vertical-align: top;\n",
       "    }\n",
       "\n",
       "    .dataframe thead th {\n",
       "        text-align: right;\n",
       "    }\n",
       "</style>\n",
       "<table border=\"1\" class=\"dataframe\">\n",
       "  <thead>\n",
       "    <tr style=\"text-align: right;\">\n",
       "      <th></th>\n",
       "      <th>train|test</th>\n",
       "      <th>jython-default-J9</th>\n",
       "    </tr>\n",
       "  </thead>\n",
       "  <tbody>\n",
       "    <tr>\n",
       "      <th>0</th>\n",
       "      <td>jython-default-J9</td>\n",
       "      <td>nan | nan</td>\n",
       "    </tr>\n",
       "  </tbody>\n",
       "</table>\n",
       "</div>"
      ],
      "text/plain": [
       "          train|test  jython-default-J9\n",
       "0  jython-default-J9          nan | nan"
      ]
     },
     "execution_count": 156,
     "metadata": {},
     "output_type": "execute_result"
    }
   ],
   "source": [
    "df = pd.read_csv('test_configs/results/kldiv_pmd_j9.csv')\n",
    "\n",
    "df"
   ]
  },
  {
   "cell_type": "markdown",
   "metadata": {},
   "source": [
    "## luindex with JikesRVM"
   ]
  },
  {
   "cell_type": "code",
   "execution_count": 157,
   "metadata": {
    "scrolled": true
   },
   "outputs": [
    {
     "data": {
      "text/plain": [
       "['jython-default-JikesRVM-d-l64-p4096-w100000i.analyzed-1.pkl']"
      ]
     },
     "execution_count": 157,
     "metadata": {},
     "output_type": "execute_result"
    }
   ],
   "source": [
    "trace_list_jikes = [ trace for trace in trace_list if trace.find('JikesRVM') != -1 ]\n",
    "\n",
    "trace_list_jikes"
   ]
  },
  {
   "cell_type": "code",
   "execution_count": 158,
   "metadata": {},
   "outputs": [],
   "source": [
    "trace_metric.get_metrics(result, trace_list_jikes, seeds, filename='kldiv_pmd_jikes.csv', compute_heatmap=False)"
   ]
  },
  {
   "cell_type": "code",
   "execution_count": 159,
   "metadata": {},
   "outputs": [
    {
     "data": {
      "text/html": [
       "<div>\n",
       "<style scoped>\n",
       "    .dataframe tbody tr th:only-of-type {\n",
       "        vertical-align: middle;\n",
       "    }\n",
       "\n",
       "    .dataframe tbody tr th {\n",
       "        vertical-align: top;\n",
       "    }\n",
       "\n",
       "    .dataframe thead th {\n",
       "        text-align: right;\n",
       "    }\n",
       "</style>\n",
       "<table border=\"1\" class=\"dataframe\">\n",
       "  <thead>\n",
       "    <tr style=\"text-align: right;\">\n",
       "      <th></th>\n",
       "      <th>train|test</th>\n",
       "      <th>jython-default-JikesRVM</th>\n",
       "    </tr>\n",
       "  </thead>\n",
       "  <tbody>\n",
       "    <tr>\n",
       "      <th>0</th>\n",
       "      <td>jython-default-JikesRVM</td>\n",
       "      <td>nan | nan</td>\n",
       "    </tr>\n",
       "  </tbody>\n",
       "</table>\n",
       "</div>"
      ],
      "text/plain": [
       "                train|test  jython-default-JikesRVM\n",
       "0  jython-default-JikesRVM                nan | nan"
      ]
     },
     "execution_count": 159,
     "metadata": {},
     "output_type": "execute_result"
    }
   ],
   "source": [
    "df = pd.read_csv('test_configs/results/kldiv_pmd_jikes.csv')\n",
    "\n",
    "df"
   ]
  }
 ],
 "metadata": {
  "kernelspec": {
   "display_name": "Python 3",
   "language": "python",
   "name": "python3"
  },
  "language_info": {
   "codemirror_mode": {
    "name": "ipython",
    "version": 3
   },
   "file_extension": ".py",
   "mimetype": "text/x-python",
   "name": "python",
   "nbconvert_exporter": "python",
   "pygments_lexer": "ipython3",
   "version": "3.7.3"
  }
 },
 "nbformat": 4,
 "nbformat_minor": 2
}
