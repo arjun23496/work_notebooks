{
 "cells": [
  {
   "cell_type": "code",
   "execution_count": 2,
   "metadata": {},
   "outputs": [],
   "source": [
    "import numpy as np\n",
    "import matplotlib.pyplot as plt\n",
    "import pickle as pkl\n",
    "import seaborn as sns\n",
    "import pandas as pd\n",
    "\n",
    "from scipy import stats\n",
    "\n",
    "import sys\n",
    "\n",
    "import utils.trace_metric as trace_metric"
   ]
  },
  {
   "cell_type": "code",
   "execution_count": 3,
   "metadata": {},
   "outputs": [],
   "source": [
    "with open('test_configs/results/trace_length_dict.pkl', 'rb') as f:\n",
    "    trace_length_dict = pkl.load(f)"
   ]
  },
  {
   "cell_type": "code",
   "execution_count": 4,
   "metadata": {
    "scrolled": true
   },
   "outputs": [
    {
     "data": {
      "text/plain": [
       "dict_keys(['wupwise-ref-wupwise-d-l64-p4096-w100000i.analyzed-1', 'xalan-default-J9-d-l64-p4096-w100000i.analyzed-1', 'fop-small-HotSpot-d-l64-p4096-w100000i.analyzed-1', 'xalan-small-JikesRVM-d-l64-p4096-w100000i.analyzed-1', 'mcf-ref-mcf-d-l64-p4096-w100000i.analyzed-1', 'xalan-default-HotSpot-d-l64-p4096-w100000i.analyzed-1', 'luindex-small-JikesRVM-d-l64-p4096-w100000i.analyzed-1', 'lucas-ref-lucas-d-l64-p4096-w100000i.analyzed-1', 'equake-ref-equake-d-l64-p4096-w100000i.analyzed-1', 'jython-default-HotSpot-d-l64-p4096-w100000i.analyzed-1', 'fop-default-J9-d-l64-p4096-w100000i.analyzed-1', 'pmd-small-2-JikesRVM-d-l64-p4096-w100000i.analyzed-1', 'apsi-ref-apsi-d-l64-p4096-w100000i.analyzed-1', 'eclipse-default-JikesRVM-d-l64-p4096-w100000i.analyzed-1', 'lusearch-small-HotSpot-d-l64-p4096-w100000i.analyzed-1', 'eclipse-small-HotSpot-d-l64-p4096-w100000i.analyzed-1', 'lusearch-default-HotSpot-d-l64-p4096-w100000i.analyzed-1', 'fop-small-J9-d-l64-p4096-w100000i.analyzed-1', 'avrora-small-J9-d-l64-p4096-w100000i.analyzed-1', 'vortex-ref-vortex3-d-l64-p4096-w100000i.analyzed-1', 'facerec-ref-facerec-d-l64-p4096-w100000i.analyzed-1', 'sunflow-small-J9-d-l64-p4096-w100000i.analyzed-1', 'crafty-ref-crafty-d-l64-p4096-w100000i.analyzed-1', 'vortex-ref-vortex2-d-l64-p4096-w100000i.analyzed-1', 'pmd-small-J9-d-l64-p4096-w100000i.analyzed-1', 'jython-small-JikesRVM-d-l64-p4096-w100000i.analyzed-1', 'avrora-default-JikesRVM-d-l64-p4096-w100000i.analyzed-1', 'pmd-small-1-JikesRVM-d-l64-p4096-w100000i.analyzed-1', 'art-ref-art2-d-l64-p4096-w100000i.analyzed-1', 'pmd-small-JikesRVM-d-l64-p4096-w100000i.analyzed-1', 'mgrid-ref-mgrid-d-l64-p4096-w100000i.analyzed-1', 'eclipse-default-J9-d-l64-p4096-w100000i.analyzed-1', 'h2-default-JikesRVM-d-l64-p4096-w100000i.analyzed-1', 'h2-small-HotSpot-d-l64-p4096-w100000i.analyzed-1', 'h2-tiny-J9-d-l64-p4096-w100000i.analyzed-1', 'pmd-small-4-JikesRVM-d-l64-p4096-w100000i.analyzed-1', 'jython-small-HotSpot-d-l64-p4096-w100000i.analyzed-1', 'h2-small-J9-d-l64-p4096-w100000i.analyzed-1', 'luindex-small-J9-d-l64-p4096-w100000i.analyzed-1', 'batik-small-HotSpot-d-l64-p4096-w100000i.analyzed-1', 'avrora-small-JikesRVM-d-l64-p4096-w100000i.analyzed-1', 'luindex-default-J9-d-l64-p4096-w100000i.analyzed-1', 'luindex-default-JikesRVM-d-l64-p4096-w100000i.analyzed-1', 'lusearch-default-J9-d-l64-p4096-w100000i.analyzed-1', 'mesa-ref-mesa-d-l64-p4096-w100000i.analyzed-1', 'pmd-small-9-JikesRVM-d-l64-p4096-w100000i.analyzed-1', 'lusearch-small-JikesRVM-d-l64-p4096-w100000i.analyzed-1', 'pmd-small-7-JikesRVM-d-l64-p4096-w100000i.analyzed-1', 'xalan-small-J9-d-l64-p4096-w100000i.analyzed-1', 'sunflow-default-HotSpot-d-l64-p4096-w100000i.analyzed-1', 'tomcat-default-JikesRVM-d-l64-p4096-w100000i.analyzed-1', 'avrora-default-HotSpot-d-l64-p4096-w100000i.analyzed-1', 'xalan-default-JikesRVM-d-l64-p4096-w100000i.analyzed-1', 'twolf-ref-twolf-d-l64-p4096-w100000i.analyzed-1', 'sunflow-default-J9-d-l64-p4096-w100000i.analyzed-1', 'gap-ref-gap-d-l64-p4096-w100000i.analyzed-1', 'avrora-small-HotSpot-d-l64-p4096-w100000i.analyzed-1', 'sixtrack-ref-sixtrack-d-l64-p4096-w100000i.analyzed-1', 'jython-small-J9-d-l64-p4096-w100000i.analyzed-1', 'luindex-default-HotSpot-d-l64-p4096-w100000i.analyzed-1', 'galgel-ref-galgel-d-l64-p4096-w100000i.analyzed-1', 'pmd-small-3-JikesRVM-d-l64-p4096-w100000i.analyzed-1', 'art-ref-art-d-l64-p4096-w100000i.analyzed-1', 'perlbmk-ref-perlbmk7-d-l64-p4096-w100000i.analyzed-1', 'batik-default-J9-d-l64-p4096-w100000i.analyzed-1', 'xalan-small-HotSpot-d-l64-p4096-w100000i.analyzed-1', 'jython-default-JikesRVM-d-l64-p4096-w100000i.analyzed-1', 'batik-default-HotSpot-d-l64-p4096-w100000i.analyzed-1', 'h2-default-J9-d-l64-p4096-w100000i.analyzed-1', 'gcc-ref-cc13-d-l64-p4096-w100000i.analyzed-1', 'bzip2-ref-bzip23-d-l64-p4096-w100000i.analyzed-1', 'eclipse-default-HotSpot-d-l64-p4096-w100000i.analyzed-1', 'eclipse-small-J9-d-l64-p4096-w100000i.analyzed-1', 'bzip2-ref-bzip22-d-l64-p4096-w100000i.analyzed-1', 'gcc-ref-cc12-d-l64-p4096-w100000i.analyzed-1', 'fma3d-ref-fma3d-d-l64-p4096-w100000i.analyzed-1', 'perlbmk-ref-perlbmk6-d-l64-p4096-w100000i.analyzed-1', 'h2-tiny-HotSpot-d-l64-p4096-w100000i.analyzed-1', 'pmd-small-HotSpot-d-l64-p4096-w100000i.analyzed-1', 'perlbmk-ref-perlbmk4-d-l64-p4096-w100000i.analyzed-1', 'batik-small-J9-d-l64-p4096-w100000i.analyzed-1', 'pmd-default-JikesRVM-d-l64-p4096-w100000i.analyzed-1', 'pmd-small-0-JikesRVM-d-l64-p4096-w100000i.analyzed-1', 'lusearch-small-J9-d-l64-p4096-w100000i.analyzed-1', 'avrora-default-J9-d-l64-p4096-w100000i.analyzed-1', 'bzip2-ref-bzip21-d-l64-p4096-w100000i.analyzed-1', 'gcc-ref-cc11-d-l64-p4096-w100000i.analyzed-1', 'perlbmk-ref-perlbmk5-d-l64-p4096-w100000i.analyzed-1', 'sunflow-small-JikesRVM-d-l64-p4096-w100000i.analyzed-1', 'perlbmk-ref-perlbmk1-d-l64-p4096-w100000i.analyzed-1', 'pmd-default-J9-d-l64-p4096-w100000i.analyzed-1', 'eon-ref-eon1-d-l64-p4096-w100000i.analyzed-1', 'lusearch-default-JikesRVM-d-l64-p4096-w100000i.analyzed-1', 'gcc-ref-cc15-d-l64-p4096-w100000i.analyzed-1', 'jython-default-J9-d-l64-p4096-w100000i.analyzed-1', 'gcc-ref-cc14-d-l64-p4096-w100000i.analyzed-1', 'sunflow-small-HotSpot-d-l64-p4096-w100000i.analyzed-1', 'pmd-small-5-JikesRVM-d-l64-p4096-w100000i.analyzed-1', 'swim-ref-swim-d-l64-p4096-w100000i.analyzed-1', 'perlbmk-ref-perlbmk2-d-l64-p4096-w100000i.analyzed-1', 'eon-ref-eon2-d-l64-p4096-w100000i.analyzed-1', 'pmd-small-6-JikesRVM-d-l64-p4096-w100000i.analyzed-1', 'parser-ref-parser-d-l64-p4096-w100000i.analyzed-1', 'luindex-small-HotSpot-d-l64-p4096-w100000i.analyzed-1', 'ammp-ref-ammp-d-l64-p4096-w100000i.analyzed-1', 'vortex-ref-vortex-d-l64-p4096-w100000i.analyzed-1', 'h2-default-HotSpot-d-l64-p4096-w100000i.analyzed-1', 'pmd-small-8-JikesRVM-d-l64-p4096-w100000i.analyzed-1', 'fop-default-HotSpot-d-l64-p4096-w100000i.analyzed-1', 'tomcat-small-JikesRVM-d-l64-p4096-w100000i.analyzed-1', 'pmd-default-HotSpot-d-l64-p4096-w100000i.analyzed-1', 'sunflow-default-JikesRVM-d-l64-p4096-w100000i.analyzed-1', 'perlbmk-ref-perlbmk3-d-l64-p4096-w100000i.analyzed-1'])"
      ]
     },
     "execution_count": 4,
     "metadata": {},
     "output_type": "execute_result"
    }
   ],
   "source": [
    "trace_length_dict.keys()"
   ]
  },
  {
   "cell_type": "code",
   "execution_count": 5,
   "metadata": {},
   "outputs": [],
   "source": [
    "with open('test_configs/results/result_6002384.pkl', 'rb') as f:\n",
    "    result = pkl.load(f)"
   ]
  },
  {
   "cell_type": "code",
   "execution_count": 6,
   "metadata": {},
   "outputs": [
    {
     "name": "stdout",
     "output_type": "stream",
     "text": [
      "dict_keys(['5999369', '5999368', '5999367', '5999366', '5999362', '5999358', '5999354', '5999350', '5999346'])\n"
     ]
    },
    {
     "data": {
      "text/plain": [
       "dict_keys(['pmd-small-0-JikesRVM-d-l64-p4096-w100000i.analyzed-1.pkl', 'pmd-small-1-JikesRVM-d-l64-p4096-w100000i.analyzed-1.pkl', 'pmd-small-3-JikesRVM-d-l64-p4096-w100000i.analyzed-1.pkl', 'pmd-small-6-JikesRVM-d-l64-p4096-w100000i.analyzed-1.pkl', 'ammp-ref-ammp-d-l64-p4096-w100000i.analyzed-1.pkl', 'avrora-default-J9-d-l64-p4096-w100000i.analyzed-1.pkl', 'avrora-default-JikesRVM-d-l64-p4096-w100000i.analyzed-1.pkl', 'avrora-small-HotSpot-d-l64-p4096-w100000i.analyzed-1.pkl', 'avrora-small-J9-d-l64-p4096-w100000i.analyzed-1.pkl', 'avrora-small-JikesRVM-d-l64-p4096-w100000i.analyzed-1.pkl', 'gcc-ref-cc11-d-l64-p4096-w100000i.analyzed-1.pkl'])"
      ]
     },
     "execution_count": 6,
     "metadata": {},
     "output_type": "execute_result"
    }
   ],
   "source": [
    "print(result.keys())\n",
    "result['5999369'].keys()"
   ]
  },
  {
   "cell_type": "code",
   "execution_count": 7,
   "metadata": {},
   "outputs": [],
   "source": [
    "seeds = [ 1, 3, 6, 9 ]\n",
    "model_hsize = [ 10, 20, 30, 40, 50, 60, 80, 90, 100 ]\n",
    "test_trace = 'pmd-small-6-JikesRVM-d-l64-p4096-w100000i.analyzed-1.pkl'\n",
    "capacity_plot = []"
   ]
  },
  {
   "cell_type": "code",
   "execution_count": 8,
   "metadata": {},
   "outputs": [],
   "source": [
    "for job_idx, job in enumerate(['5999369', '5999368', '5999367', '5999366', \n",
    "            '5999362', '5999358', '5999354', '5999350', '5999346']):\n",
    "    hsize = model_hsize[job_idx]\n",
    "    for seed in seeds:\n",
    "        for trace_point in list(result[job][test_trace][seed].keys()):\n",
    "            try:\n",
    "                avgll = result[job][test_trace][seed][trace_point]['average_loglikelihood']\n",
    "            except IndexError:\n",
    "                pass\n",
    "#             print(avgll)\n",
    "            capacity_plot.append( (hsize, avgll) )"
   ]
  },
  {
   "cell_type": "code",
   "execution_count": 11,
   "metadata": {},
   "outputs": [
    {
     "data": {
      "text/plain": [
       "<ErrorbarContainer object of 3 artists>"
      ]
     },
     "execution_count": 11,
     "metadata": {},
     "output_type": "execute_result"
    },
    {
     "data": {
      "image/png": "[encoded data removed]",
      "text/plain": [
       "<Figure size 432x288 with 1 Axes>"
      ]
     },
     "metadata": {
      "needs_background": "light"
     },
     "output_type": "display_data"
    }
   ],
   "source": [
    "x_list = [ tup[0] for tup in capacity_plot ]\n",
    "y_list = [ tup[1] for tup in capacity_plot ]\n",
    "\n",
    "plt.errorbar(x_list, y_list)\n",
    "# plt.ylim([0, 4])"
   ]
  },
  {
   "cell_type": "code",
   "execution_count": 37,
   "metadata": {},
   "outputs": [],
   "source": [
    "seeds = [ 1, 3, 6, 9 ]\n",
    "model_hsize = [ 10, 20, 30, 40, 50, 60, 80, 90, 100 ]\n",
    "test_trace = 'ammp-ref-ammp-d-l64-p4096-w100000i.analyzed-1.pkl'\n",
    "capacity_plot = []"
   ]
  },
  {
   "cell_type": "code",
   "execution_count": 38,
   "metadata": {},
   "outputs": [],
   "source": [
    "for job_idx, job in enumerate(['5999369', '5999368', '5999367', '5999366', \n",
    "            '5999362', '5999358', '5999354', '5999350', '5999346']):\n",
    "    hsize = model_hsize[job_idx]\n",
    "    for seed in seeds:\n",
    "        for trace_point in list(result[job][test_trace][seed].keys()):\n",
    "            try:\n",
    "                avgll = result[job][test_trace][seed][trace_point]['average_loglikelihood']\n",
    "            except IndexError:\n",
    "                pass\n",
    "#             print(avgll)\n",
    "            capacity_plot.append( (hsize, avgll) )"
   ]
  },
  {
   "cell_type": "code",
   "execution_count": 40,
   "metadata": {},
   "outputs": [
    {
     "data": {
      "text/plain": [
       "<ErrorbarContainer object of 3 artists>"
      ]
     },
     "execution_count": 40,
     "metadata": {},
     "output_type": "execute_result"
    },
    {
     "data": {
      "image/png": "[encoded data removed]",
      "text/plain": [
       "<Figure size 432x288 with 1 Axes>"
      ]
     },
     "metadata": {
      "needs_background": "light"
     },
     "output_type": "display_data"
    }
   ],
   "source": [
    "x_list = [ tup[0] for tup in capacity_plot ]\n",
    "y_list = [ tup[1] for tup in capacity_plot ]\n",
    "\n",
    "plt.errorbar(x_list, y_list)"
   ]
  },
  {
   "cell_type": "code",
   "execution_count": 41,
   "metadata": {},
   "outputs": [],
   "source": [
    "seeds = [ 1, 3, 6, 9 ]\n",
    "model_hsize = [ 10, 20, 30, 40, 50, 60, 80, 90, 100 ]\n",
    "test_trace = 'avrora-default-J9-d-l64-p4096-w100000i.analyzed-1.pkl'\n",
    "capacity_plot = []"
   ]
  },
  {
   "cell_type": "code",
   "execution_count": 42,
   "metadata": {},
   "outputs": [],
   "source": [
    "for job_idx, job in enumerate(['5999369', '5999368', '5999367', '5999366', \n",
    "            '5999362', '5999358', '5999354', '5999350', '5999346']):\n",
    "    hsize = model_hsize[job_idx]\n",
    "    for seed in seeds:\n",
    "        for trace_point in list(result[job][test_trace][seed].keys()):\n",
    "            try:\n",
    "                avgll = result[job][test_trace][seed][trace_point]['average_loglikelihood']\n",
    "            except IndexError:\n",
    "                pass\n",
    "#             print(avgll)\n",
    "            capacity_plot.append( (hsize, avgll) )"
   ]
  },
  {
   "cell_type": "code",
   "execution_count": 43,
   "metadata": {},
   "outputs": [
    {
     "data": {
      "text/plain": [
       "<ErrorbarContainer object of 3 artists>"
      ]
     },
     "execution_count": 43,
     "metadata": {},
     "output_type": "execute_result"
    },
    {
     "data": {
      "image/png": "[encoded data removed]",
      "text/plain": [
       "<Figure size 432x288 with 1 Axes>"
      ]
     },
     "metadata": {
      "needs_background": "light"
     },
     "output_type": "display_data"
    }
   ],
   "source": [
    "x_list = [ tup[0] for tup in capacity_plot ]\n",
    "y_list = [ tup[1] for tup in capacity_plot ]\n",
    "\n",
    "plt.errorbar(x_list, y_list)"
   ]
  },
  {
   "cell_type": "code",
   "execution_count": 44,
   "metadata": {},
   "outputs": [],
   "source": [
    "seeds = [ 1, 3, 6, 9 ]\n",
    "model_hsize = [ 10, 20, 30, 40, 50, 60, 80, 90, 100 ]\n",
    "test_trace = 'avrora-default-JikesRVM-d-l64-p4096-w100000i.analyzed-1.pkl'\n",
    "capacity_plot = []"
   ]
  },
  {
   "cell_type": "code",
   "execution_count": 46,
   "metadata": {},
   "outputs": [],
   "source": [
    "for job_idx, job in enumerate(['5999369', '5999368', '5999367', '5999366', \n",
    "            '5999362', '5999358', '5999354', '5999350', '5999346']):\n",
    "    hsize = model_hsize[job_idx]\n",
    "    for seed in seeds:\n",
    "        for trace_point in list(result[job][test_trace][seed].keys()):\n",
    "            try:\n",
    "                avgll = result[job][test_trace][seed][trace_point]['average_loglikelihood']\n",
    "            except IndexError:\n",
    "                pass\n",
    "#             print(avgll)\n",
    "            capacity_plot.append( (hsize, avgll) )"
   ]
  },
  {
   "cell_type": "code",
   "execution_count": 47,
   "metadata": {},
   "outputs": [
    {
     "data": {
      "text/plain": [
       "<ErrorbarContainer object of 3 artists>"
      ]
     },
     "execution_count": 47,
     "metadata": {},
     "output_type": "execute_result"
    },
    {
     "data": {
      "image/png": "[encoded data removed]",
      "text/plain": [
       "<Figure size 432x288 with 1 Axes>"
      ]
     },
     "metadata": {
      "needs_background": "light"
     },
     "output_type": "display_data"
    }
   ],
   "source": [
    "x_list = [ tup[0] for tup in capacity_plot ]\n",
    "y_list = [ tup[1] for tup in capacity_plot ]\n",
    "\n",
    "plt.errorbar(x_list, y_list)"
   ]
  },
  {
   "cell_type": "code",
   "execution_count": 48,
   "metadata": {},
   "outputs": [],
   "source": [
    "seeds = [ 1, 3, 6, 9 ]\n",
    "model_hsize = [ 10, 20, 30, 40, 50, 60, 80, 90, 100 ]\n",
    "test_trace = 'avrora-default-JikesRVM-d-l64-p4096-w100000i.analyzed-1.pkl'\n",
    "capacity_plot = []"
   ]
  },
  {
   "cell_type": "code",
   "execution_count": 49,
   "metadata": {},
   "outputs": [],
   "source": [
    "for job_idx, job in enumerate(['5999369', '5999368', '5999367', '5999366', \n",
    "            '5999362', '5999358', '5999354', '5999350', '5999346']):\n",
    "    hsize = model_hsize[job_idx]\n",
    "    for seed in seeds:\n",
    "        for trace_point in list(result[job][test_trace][seed].keys()):\n",
    "            try:\n",
    "                avgll = result[job][test_trace][seed][trace_point]['average_loglikelihood']\n",
    "            except IndexError:\n",
    "                pass\n",
    "#             print(avgll)\n",
    "            capacity_plot.append( (hsize, avgll) )"
   ]
  },
  {
   "cell_type": "code",
   "execution_count": 50,
   "metadata": {},
   "outputs": [
    {
     "data": {
      "text/plain": [
       "<ErrorbarContainer object of 3 artists>"
      ]
     },
     "execution_count": 50,
     "metadata": {},
     "output_type": "execute_result"
    },
    {
     "data": {
      "image/png": "[encoded data removed]",
      "text/plain": [
       "<Figure size 432x288 with 1 Axes>"
      ]
     },
     "metadata": {
      "needs_background": "light"
     },
     "output_type": "display_data"
    }
   ],
   "source": [
    "x_list = [ tup[0] for tup in capacity_plot ]\n",
    "y_list = [ tup[1] for tup in capacity_plot ]\n",
    "\n",
    "plt.errorbar(x_list, y_list)"
   ]
  }
 ],
 "metadata": {
  "kernelspec": {
   "display_name": "Python 3",
   "language": "python",
   "name": "python3"
  },
  "language_info": {
   "codemirror_mode": {
    "name": "ipython",
    "version": 3
   },
   "file_extension": ".py",
   "mimetype": "text/x-python",
   "name": "python",
   "nbconvert_exporter": "python",
   "pygments_lexer": "ipython3",
   "version": "3.7.3"
  }
 },
 "nbformat": 4,
 "nbformat_minor": 2
}
