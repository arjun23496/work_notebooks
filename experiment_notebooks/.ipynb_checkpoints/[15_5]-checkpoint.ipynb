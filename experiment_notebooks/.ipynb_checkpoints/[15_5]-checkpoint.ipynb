{
 "cells": [
  {
   "cell_type": "code",
   "execution_count": 143,
   "metadata": {},
   "outputs": [],
   "source": [
    "import numpy as np\n",
    "import matplotlib.pyplot as plt\n",
    "from mpl_toolkits.mplot3d import Axes3D\n",
    "import pandas as pd\n",
    "import pickle as pkl\n",
    "import statsmodels.api as sm\n",
    "from scipy.stats import norm\n",
    "from scipy.optimize import curve_fit\n",
    "import pylab\n",
    "import os\n",
    "from kneed import DataGenerator, KneeLocator\n",
    "from prediction_model import utils\n",
    "from scipy import stats\n",
    "import itertools\n",
    "import math\n",
    "\n",
    "from sklearn.linear_model import LogisticRegression"
   ]
  },
  {
   "cell_type": "code",
   "execution_count": 144,
   "metadata": {},
   "outputs": [],
   "source": [
    "result_location = \"/media/arjun/Shared/chaos/output_files_v2\"\n",
    "experiment_id = 0\n",
    "\n",
    "directory = os.path.join(result_location, \"rademacher_test_{}\".format(experiment_id))"
   ]
  },
  {
   "cell_type": "code",
   "execution_count": 145,
   "metadata": {},
   "outputs": [
    {
     "name": "stdout",
     "output_type": "stream",
     "text": [
      "['avrora-small-JikesRVM-d-l64-p4096-w100000i.analyzed-1']\n"
     ]
    }
   ],
   "source": [
    "file_list = os.listdir(directory)\n",
    "file_list = [ '.'.join(file.split('.')[:2]) for file in file_list if 'info.pkl' in file ]\n",
    "print(file_list)"
   ]
  },
  {
   "cell_type": "code",
   "execution_count": 147,
   "metadata": {
    "scrolled": false
   },
   "outputs": [
    {
     "name": "stdout",
     "output_type": "stream",
     "text": [
      "Program: avrora-small-JikesRVM-d-l64-p4096-w100000i.analyzed-1\n"
     ]
    },
    {
     "ename": "NameError",
     "evalue": "name 'data_min_ce_bound' is not defined",
     "output_type": "error",
     "traceback": [
      "\u001b[0;31m---------------------------------------------------------------------------\u001b[0m",
      "\u001b[0;31mNameError\u001b[0m                                 Traceback (most recent call last)",
      "\u001b[0;32m<ipython-input-147-ff511cc54e42>\u001b[0m in \u001b[0;36m<module>\u001b[0;34m\u001b[0m\n\u001b[1;32m     32\u001b[0m         \u001b[0mdata_ce_rad\u001b[0m\u001b[0;34m.\u001b[0m\u001b[0mappend\u001b[0m\u001b[0;34m(\u001b[0m\u001b[0mce_rad_list\u001b[0m\u001b[0;34m)\u001b[0m\u001b[0;34m\u001b[0m\u001b[0;34m\u001b[0m\u001b[0m\n\u001b[1;32m     33\u001b[0m \u001b[0;34m\u001b[0m\u001b[0m\n\u001b[0;32m---> 34\u001b[0;31m     \u001b[0mdata_min_ce_bound\u001b[0m \u001b[0;34m=\u001b[0m \u001b[0;34m[\u001b[0m \u001b[0mnp\u001b[0m\u001b[0;34m.\u001b[0m\u001b[0mmin\u001b[0m\u001b[0;34m(\u001b[0m\u001b[0mdata_min_ce_bound\u001b[0m\u001b[0;34m[\u001b[0m\u001b[0;34m:\u001b[0m\u001b[0mval\u001b[0m\u001b[0;34m]\u001b[0m\u001b[0;34m)\u001b[0m \u001b[0;32mfor\u001b[0m \u001b[0mval\u001b[0m \u001b[0;32min\u001b[0m \u001b[0mrange\u001b[0m\u001b[0;34m(\u001b[0m\u001b[0;36m1\u001b[0m\u001b[0;34m,\u001b[0m \u001b[0mlen\u001b[0m\u001b[0;34m(\u001b[0m\u001b[0mdata_min_ce_bound\u001b[0m\u001b[0;34m)\u001b[0m\u001b[0;34m+\u001b[0m\u001b[0;36m1\u001b[0m\u001b[0;34m)\u001b[0m \u001b[0;34m]\u001b[0m\u001b[0;34m\u001b[0m\u001b[0;34m\u001b[0m\u001b[0m\n\u001b[0m\u001b[1;32m     35\u001b[0m \u001b[0;34m\u001b[0m\u001b[0m\n\u001b[1;32m     36\u001b[0m     \u001b[0mparam_limit\u001b[0m \u001b[0;34m=\u001b[0m \u001b[0;36m1e4\u001b[0m\u001b[0;34m\u001b[0m\u001b[0;34m\u001b[0m\u001b[0m\n",
      "\u001b[0;31mNameError\u001b[0m: name 'data_min_ce_bound' is not defined"
     ]
    }
   ],
   "source": [
    "estimated_info = {}\n",
    "\n",
    "for program in file_list:\n",
    "    print(\"Program: {}\".format(program))\n",
    "    \n",
    "    with open(os.path.join(directory, \"{}.params.pkl\".format(program)), 'rb') as f:\n",
    "        param_list = pkl.load(f)\n",
    "\n",
    "    with open(os.path.join(directory, \"{}.ce.pkl\".format(program)), 'rb') as f:\n",
    "        ce_list = pkl.load(f)\n",
    "\n",
    "    with open(os.path.join(directory, \"{}.ceBound.pkl\".format(program)), 'rb') as f:\n",
    "        ce_bound_list = pkl.load(f)\n",
    "    \n",
    "    with open(os.path.join(directory, \"{}.ceRad.pkl\".format(program)), 'rb') as f:\n",
    "        ce_rad_list = pkl.load(f)\n",
    "    \n",
    "    data_ce = []\n",
    "    data_ce_bound = []\n",
    "    data_min_ce_bound = []\n",
    "    data_ce_rad = []\n",
    "    data_x = []\n",
    "    \n",
    "    for idx, key in enumerate(range(len(param_list))):\n",
    "        loss_array = ce_list[key].flatten()\n",
    "        data_ce.extend(loss_array.tolist())\n",
    "        data_x.extend([param_list[key]]*loss_array.shape[0])\n",
    "        \n",
    "        loss_array = ce_bound_list[key].flatten()\n",
    "        data_ce_bound.extend(loss_array.tolist())\n",
    "        \n",
    "        \n",
    "        loss_array = ce_rad_list[key].flatten()\n",
    "        data_ce_rad.append(ce_rad_list)\n",
    "        \n",
    "    data_min_ce_bound = [ np.min(data[:val]) for val in range(1, len(data_min_ce_bound)+1) ]\n",
    "    \n",
    "    param_limit = 1e4\n",
    "    \n",
    "    plt.xlabel(\"number of parameters\")\n",
    "    plt.ylabel(\"cross entropy\")\n",
    "    plt.scatter(data_x, data_ce, label=\"cross entropy\")\n",
    "    plt.xlim((0, param_limit))\n",
    "    plt.title(\"kl divergence\")\n",
    "    plt.legend()\n",
    "    plt.show()"
   ]
  },
  {
   "cell_type": "code",
   "execution_count": null,
   "metadata": {},
   "outputs": [],
   "source": [
    "programs = np.unique([ val.split('-')[0] for val in list(estimated_info.keys()) ])\n",
    "jvms = [ 'JikesRVM', 'J9', 'HotSpot' ]"
   ]
  },
  {
   "cell_type": "code",
   "execution_count": null,
   "metadata": {},
   "outputs": [],
   "source": [
    "for program in programs:\n",
    "    info_list = []\n",
    "    for jvm in jvms:\n",
    "        info_list.append(estimated_info['-'.join([program, 'small', jvm])])\n",
    "    print(\"{}: {}, {}\".format(program,\n",
    "                              np.array(jvms)[np.argsort(info_list)], \n",
    "                              np.array(info_list)[np.argsort(info_list)]))"
   ]
  }
 ],
 "metadata": {
  "kernelspec": {
   "display_name": "Python 3",
   "language": "python",
   "name": "python3"
  },
  "language_info": {
   "codemirror_mode": {
    "name": "ipython",
    "version": 3
   },
   "file_extension": ".py",
   "mimetype": "text/x-python",
   "name": "python",
   "nbconvert_exporter": "python",
   "pygments_lexer": "ipython3",
   "version": "3.7.3"
  }
 },
 "nbformat": 4,
 "nbformat_minor": 2
}
