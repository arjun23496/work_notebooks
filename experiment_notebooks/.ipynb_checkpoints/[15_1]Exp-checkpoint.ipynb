{
 "cells": [
  {
   "cell_type": "code",
   "execution_count": 3,
   "metadata": {},
   "outputs": [],
   "source": [
    "import numpy as np\n",
    "import matplotlib.pyplot as plt\n",
    "from mpl_toolkits.mplot3d import Axes3D\n",
    "import pandas as pd\n",
    "import pickle as pkl\n",
    "import statsmodels.api as sm\n",
    "from scipy.stats import norm\n",
    "from scipy.optimize import curve_fit\n",
    "import pylab\n",
    "import os\n",
    "from kneed import DataGenerator, KneeLocator\n",
    "from prediction_model import utils"
   ]
  },
  {
   "cell_type": "code",
   "execution_count": 4,
   "metadata": {},
   "outputs": [],
   "source": [
    "result_location = \"/media/arjun/Shared/chaos/output_files_v2\"\n",
    "experiment_id = 6760938\n",
    "\n",
    "directory = os.path.join(result_location, \"rademacher_test_{}\".format(experiment_id))"
   ]
  },
  {
   "cell_type": "code",
   "execution_count": 6,
   "metadata": {},
   "outputs": [
    {
     "name": "stdout",
     "output_type": "stream",
     "text": [
      "['avrora-small-HotSpot-d-l64-p4096-w100000i.analyzed-1', 'avrora-small-J9-d-l64-p4096-w100000i.analyzed-1', 'avrora-small-JikesRVM-d-l64-p4096-w100000i.analyzed-1', 'pmd-small-HotSpot-d-l64-p4096-w100000i.analyzed-1', 'pmd-small-J9-d-l64-p4096-w100000i.analyzed-1', 'pmd-small-JikesRVM-d-l64-p4096-w100000i.analyzed-1', 'sunflow-small-HotSpot-d-l64-p4096-w100000i.analyzed-1', 'luindex-small-HotSpot-d-l64-p4096-w100000i.analyzed-1', 'luindex-small-J9-d-l64-p4096-w100000i.analyzed-1', 'luindex-small-JikesRVM-d-l64-p4096-w100000i.analyzed-1', 'jython-small-HotSpot-d-l64-p4096-w100000i.analyzed-1', 'sunflow-small-J9-d-l64-p4096-w100000i.analyzed-1', 'sunflow-small-JikesRVM-d-l64-p4096-w100000i.analyzed-1', 'xalan-small-HotSpot-d-l64-p4096-w100000i.analyzed-1', 'xalan-small-J9-d-l64-p4096-w100000i.analyzed-1', 'xalan-small-JikesRVM-d-l64-p4096-w100000i.analyzed-1', 'jython-small-J9-d-l64-p4096-w100000i.analyzed-1', 'jython-small-JikesRVM-d-l64-p4096-w100000i.analyzed-1', 'lusearch-small-HotSpot-d-l64-p4096-w100000i.analyzed-1', 'lusearch-small-J9-d-l64-p4096-w100000i.analyzed-1', 'lusearch-small-JikesRVM-d-l64-p4096-w100000i.analyzed-1']\n"
     ]
    }
   ],
   "source": [
    "file_list = os.listdir(directory)\n",
    "file_list = [ '.'.join(file.split('.')[:2]) for file in file_list if 'rademacher.pkl' in file ]\n",
    "print(file_list)"
   ]
  },
  {
   "cell_type": "code",
   "execution_count": null,
   "metadata": {},
   "outputs": [],
   "source": [
    "for trace in file_list:\n",
    "    rademacher_list = []\n",
    "    with open(os.path.join(directory, \"{}.rademacher.pkl\".format(program)), 'rb') as f:\n",
    "        pkl.load(f)"
   ]
  }
 ],
 "metadata": {
  "kernelspec": {
   "display_name": "Python 3",
   "language": "python",
   "name": "python3"
  },
  "language_info": {
   "codemirror_mode": {
    "name": "ipython",
    "version": 3
   },
   "file_extension": ".py",
   "mimetype": "text/x-python",
   "name": "python",
   "nbconvert_exporter": "python",
   "pygments_lexer": "ipython3",
   "version": "3.7.3"
  }
 },
 "nbformat": 4,
 "nbformat_minor": 2
}
